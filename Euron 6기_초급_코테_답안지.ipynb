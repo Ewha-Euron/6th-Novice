{
  "nbformat": 4,
  "nbformat_minor": 0,
  "metadata": {
    "colab": {
      "provenance": []
    },
    "kernelspec": {
      "name": "python3",
      "display_name": "Python 3"
    },
    "language_info": {
      "name": "python"
    }
  },
  "cells": [
    {
      "cell_type": "markdown",
      "source": [
        "# **📌 Notice**\n",
        "- 문항은 각 파트별로 3~4문제씩 총 **12문제**입니다.\n",
        "- 답안 영역에 답을 작성한 후 ```.ipynb``` 파일로 제출 해주세요.\n",
        "   - 제출 기한: 내일(2024/02/25) <U>오후 8시</U>까지  \n",
        "     (이후에 보내시는 파일은 채점하지 않습니다. 시간 엄수 부탁드립니다.)\n",
        "   - Euron 공식 메일 주소: [ewhaeuron@gmail.com](ewhaeuron@gmail.com)\n",
        "   - 제출 이메일/파일 제목: **예비6기_이름(초급)**    \n",
        "     (고급팀과의 파일 구분을 위함입니다. 제목 양식 꼭 지켜주세요.)\n",
        "- 코랩 사용법 가이드라인을 꼭 정독해 주세요: [코랩 사용법 가이드라인](https://euron6th.notion.site/Colab-78776fe58d1e45f2acd336f2070dec8c?pvs=4)\n",
        "  - 답안과 함께 반드시 **❗실행 결과❗**가 포함되어 있어야 합니다.\n",
        "  - 제출 오류에 대한 책임은 모두 지원자 본인에게 있음을 알려드립니다.\n",
        "- 초급팀에서 배우기 위해 지원하셨다는 것을 충분히 인지하고 있기에, 마지막 문제(**4-3번**)의 점수가 1차 통과의 당락을 결정하진 않습니다.\n",
        "  - 교재, 구글링, ChatGPT, 지인 찬스 등을 통해 최대한 풀어 제출해 주시면 됩니다.  \n",
        "- 문제 파일에 대한 소유권은 Euron 6기 운영진에게 있습니다. 따라서, 해당 문제를 무단 도용/배포하시는 경우 지원 자격이 박탈됨을 유의해 주시기 바랍니다"
      ],
      "metadata": {
        "id": "_6XMS8d5zDct"
      }
    },
    {
      "cell_type": "code",
      "source": [],
      "metadata": {
        "id": "yu3K4BvDXrCD"
      },
      "execution_count": null,
      "outputs": []
    },
    {
      "cell_type": "markdown",
      "metadata": {
        "id": "ATjyH2NXLGjg"
      },
      "source": [
        "# **1️⃣ 문제 1**\n",
        "- 출제 의도\n",
        "  - 리스트와 튜플의 개념을 이해하고, 이를 적절히 활용할 수 있는가\n",
        "- 평가 기준\n",
        "  - 1-1번. 리스트 인덱싱, 반복 및 합계 계산, 조건에 맞는 필터링\n",
        "  - 1-2번. 사용자 입력, 리스트 인덱싱, 리스트 메소드 및 문자열 메소드 활용\n",
        "  - 1-3번. 이차원 리스트 활용\n",
        "\n"
      ]
    },
    {
      "cell_type": "markdown",
      "source": [
        "## **1-1. 튜플 (10점)**  \n",
        "다음은 학생들의 성적을 튜플로 표현한 데이터입니다.  \n",
        "각 튜플의 첫 번째 요소는 학생의 이름이고, 두 번째 요소는 해당 학생의 성적입니다.\n"
      ],
      "metadata": {
        "id": "HK8G3uDc9kke"
      }
    },
    {
      "cell_type": "code",
      "source": [
        "### 실행해 주세요.\n",
        "\n",
        "students = [(\"Minji\", 85), (\"Hanni\", 90), (\"Danielle\", 75), (\"Haerin\", 95), (\"Hyein\", 80)]"
      ],
      "metadata": {
        "id": "sEHo4wXP7uEA"
      },
      "execution_count": null,
      "outputs": []
    },
    {
      "cell_type": "markdown",
      "source": [
        "### **step 1)**\n",
        "학생들의 성적 중 최고 성적을 가진 학생의 이름과 성적을 출력하는 코드를 작성하세요. (4점)\n",
        "\n",
        "**❗ 조건>**  \n",
        "다음과 같이 출력되게 해주세요.\n",
        "\n",
        "```\n",
        "최고 성적을 가진 학생: Haerin 95\n",
        "```"
      ],
      "metadata": {
        "id": "AIj20RKj7UbY"
      }
    },
    {
      "cell_type": "code",
      "execution_count": null,
      "metadata": {
        "colab": {
          "base_uri": "https://localhost:8080/"
        },
        "id": "rPUUsgiQ9kkm",
        "outputId": "0b6220ad-3014-4268-ca67-2701041f1bcb"
      },
      "outputs": [
        {
          "output_type": "stream",
          "name": "stdout",
          "text": [
            "최고 성적을 가진 학생: Haerin 95\n"
          ]
        }
      ],
      "source": [
        "### 예시답안\n",
        "\n",
        "best_student = max(students, key=lambda x: x[1])\n",
        "print(\"최고 성적을 가진 학생:\", best_student[0], best_student[1])"
      ]
    },
    {
      "cell_type": "markdown",
      "source": [
        "### **step 2)**\n",
        "학생들의 성적 평균을 계산하여 출력하는 코드를 작성하세요. (4점)\n",
        "\n",
        "**❗ 조건>**  \n",
        "다음과 같이 출력되게 해주세요.\n",
        "```\n",
        "학생들의 성적 평균: 85.0\n",
        "```\n"
      ],
      "metadata": {
        "id": "0Rx1Albe7jxF"
      }
    },
    {
      "cell_type": "code",
      "source": [
        "### 예시답안\n",
        "\n",
        "total_score = sum(score for score, score in students)\n",
        "average_score = total_score / len(students)\n",
        "print(\"학생들의 성적 평균:\", average_score)"
      ],
      "metadata": {
        "id": "RTYxI2SZ7nVi",
        "colab": {
          "base_uri": "https://localhost:8080/"
        },
        "outputId": "956ff0fb-3b2d-4f58-d3ea-a54021ffea6a"
      },
      "execution_count": null,
      "outputs": [
        {
          "output_type": "stream",
          "name": "stdout",
          "text": [
            "학생들의 성적 평균: 85.0\n"
          ]
        }
      ]
    },
    {
      "cell_type": "markdown",
      "source": [
        "### **step 3)**\n",
        "성적이 85점 이상인 학생들의 이름을 모두 출력하는 코드를 작성하세요. (2점)\n",
        "\n",
        "**❗ 조건>**  \n",
        "다음과 같이 출력되게 해주세요.\n",
        "```\n",
        "성적이 85점 이상인 학생들: ['Minji', 'Hanni', 'Haerin']\n",
        "```"
      ],
      "metadata": {
        "id": "3bseuuBJ7nkX"
      }
    },
    {
      "cell_type": "code",
      "source": [
        "### 예시답안\n",
        "\n",
        "high_score_students = [name for name, score in students if score >= 85]\n",
        "print(\"성적이 85점 이상인 학생들:\", high_score_students)"
      ],
      "metadata": {
        "id": "m0meq1VZ8_0b",
        "colab": {
          "base_uri": "https://localhost:8080/"
        },
        "outputId": "4894d036-2b98-4cbc-e228-8cee6f4c4be2"
      },
      "execution_count": null,
      "outputs": [
        {
          "output_type": "stream",
          "name": "stdout",
          "text": [
            "성적이 85점 이상인 학생들: ['Minji', 'Hanni', 'Haerin']\n"
          ]
        }
      ]
    },
    {
      "cell_type": "markdown",
      "metadata": {
        "id": "LSYu_I1oLGjm"
      },
      "source": [
        "## **1-2. 리스트 (10점)**\n",
        "- 주어진 제시문에 따라 문제를 단계적으로 해결해 주세요."
      ]
    },
    {
      "cell_type": "markdown",
      "source": [
        "### **step 1)**\n",
        "사용자로부터 <U>3보다 큰</U> 정수 하나를 입력받아 `n`에 저장하고, 사용자에게 n개의 문장를 입력받습니다.  \n",
        "이후 각 문장에서 가장 긴 단어를 `longest_words` 리스트에 저장하고 `longest_words` 리스트를 출력해 주세요. (6점)\n",
        "\n",
        "**⏺ 입력 예시>**\n",
        "```\n",
        "정수를 입력하세요: 4\n",
        "문장을 입력하세요: Sun sets mountains glow\n",
        "문장을 입력하세요: She smiles eyes sparkle\n",
        "문장을 입력하세요: What your name\n",
        "문장을 입력하세요: My name is Euron\n",
        "```\n",
        "\n",
        "**⏺ 출력 예시>**  \n",
        "\n",
        "```\n",
        "['mountains', 'sparkle', 'What', 'Euron']\n",
        "```\n",
        "\n",
        "**❗ 조건>**\n",
        "-  '.', '!', '?' 등의 문장부호는 쓰지 않는다고 가정합니다.  \n",
        "(예외처리 부분은 구현하지 않으셔도 됩니다.)\n",
        "- 만약 가장 긴 단어가 여러 개라면, 처음 위치한 단어를 저장합니다.\n"
      ],
      "metadata": {
        "id": "vakDckkj-jGW"
      }
    },
    {
      "cell_type": "code",
      "source": [
        "### 예시답안\n",
        "\n",
        "# 사용자로부터 정수를 입력받는 부분\n",
        "n = int(input(\"정수를 입력하세요: \"))\n",
        "\n",
        "# n개의 문장을 입력받아 각 문장에서 가장 긴 단어를 longest_words 리스트에 저장\n",
        "longest_words = []\n",
        "#문제지에서 longest_wors라는 오타가 있었습니다. 이에 따른 감점은 없습니다.\n",
        "for i in range(n):\n",
        "    sentence = input(\"문장을 입력하세요: \")\n",
        "    words = sentence.split()\n",
        "    longest_word = max(words, key = len)\n",
        "    longest_words.append(longest_word)\n",
        "print(longest_words)"
      ],
      "metadata": {
        "id": "Av3MdpvXAG5P",
        "colab": {
          "base_uri": "https://localhost:8080/"
        },
        "outputId": "9e6bdfa5-e8d2-4c28-e7ed-dbf3923bcbc6"
      },
      "execution_count": null,
      "outputs": [
        {
          "output_type": "stream",
          "name": "stdout",
          "text": [
            "정수를 입력하세요: 4\n",
            "문장을 입력하세요: Sun sets mountains glow\n",
            "문장을 입력하세요: She smiles eyes sparkle\n",
            "문장을 입력하세요: What your name\n",
            "문장을 입력하세요: My name is Euron\n",
            "['mountains', 'sparkle', 'What', 'Euron']\n"
          ]
        }
      ]
    },
    {
      "cell_type": "markdown",
      "source": [
        "### **step 2)**\n",
        "`longest_words` 리스트의 순서를 역순으로 정렬하고, 3번째 단어의 모음의 개수를 출력하세요. (4점)\n",
        "\n",
        "**⏺ 출력 예시>**\n",
        "```\n",
        "2\n",
        "```"
      ],
      "metadata": {
        "id": "gRhxLrx3-ZXc"
      }
    },
    {
      "cell_type": "code",
      "execution_count": null,
      "metadata": {
        "colab": {
          "base_uri": "https://localhost:8080/"
        },
        "id": "zYCCoaTwAwpl",
        "outputId": "b4675086-3c54-4652-908d-fd72f1ea7139"
      },
      "outputs": [
        {
          "output_type": "stream",
          "name": "stdout",
          "text": [
            "2\n"
          ]
        }
      ],
      "source": [
        "### 예시답안\n",
        "\n",
        "# 리스트의 순서를 역순으로 변경\n",
        "longest_words.reverse()\n",
        "\n",
        "# 3번째 단어의 모음의 개수를 계산하여 출력\n",
        "vowel_count = sum(1 for char in longest_words[2] if char in 'aeiouAEIOU')\n",
        "print(vowel_count)"
      ]
    },
    {
      "cell_type": "markdown",
      "metadata": {
        "id": "WYK0cxofLGjp"
      },
      "source": [
        "## **1-3. 이차원 리스트 (10점)**\n",
        "\n",
        "명함 지갑을 만드는 회사에 다니는 김이화는 지갑의 크기를 정하려고 합니다. 다양한 모양과 크기의 명함들을 모두 수납할 수 있으면서, 작아서 들고 다니기 편한 지갑을 만들고 싶어요.  \n",
        "이러한 조건을 만족하는 지갑을 만들기 위해 김이화는 모든 명함의 가로 길이와 세로 길이를 조사했어요. 아래 표는 4가지 명함의 가로 길이와 세로 길이입니다.\n",
        "\n",
        "|명함 번호|가로|세로|\n",
        "|---|---|---|\n",
        "|1|60|50|\n",
        "|2|30|70|\n",
        "|3|60|30|\n",
        "|4|80|40|\n",
        "\n",
        "\n",
        "가장 긴 가로 길이와 세로 길이가 각각 80, 70이기 때문에 80(가로) x 70(세로) 크기의 지갑을 만들면 모든 명함들을 수납할 수 있을 것 같아요!\n"
      ]
    },
    {
      "cell_type": "markdown",
      "source": [
        "### **step 1>**\n",
        "사용자에게 명함의 개수를 입력받아 정수 n에 저장하고, 명함 n개의 가로와 세로를 저장한 이차원 리스트 cards를 출력하세요. (5점)\n",
        "\n",
        "**⏺ 입력 예시>**\n",
        "```\n",
        "명함의 개수를 입력하세요: 4\n",
        "명함 1의 가로와 세로를 입력하세요: 60 50\n",
        "명함 2의 가로와 세로를 입력하세요: 30 70\n",
        "명함 3의 가로와 세로를 입력하세요: 60 30\n",
        "명함 4의 가로와 세로를 입력하세요: 80 40\n",
        "```\n",
        "\n",
        "**⏺ 출력 예시>**\n",
        "```\n",
        "[[60, 50], [30, 70], [60, 30], [80, 40]]\n",
        "```"
      ],
      "metadata": {
        "id": "pQUxX--8EzV5"
      }
    },
    {
      "cell_type": "code",
      "execution_count": null,
      "metadata": {
        "id": "D5lP7KBnLGjr",
        "colab": {
          "base_uri": "https://localhost:8080/"
        },
        "outputId": "2dcc2b8b-8e64-4a4c-83b3-a5a575f10a98"
      },
      "outputs": [
        {
          "output_type": "stream",
          "name": "stdout",
          "text": [
            "명함의 개수를 입력하세요: 4\n",
            "명함 1의 가로와 세로를 입력하세요: 60 50\n",
            "명함 2의 가로와 세로를 입력하세요: 30 70\n",
            "명함 3의 가로와 세로를 입력하세요: 60 30\n",
            "명함 4의 가로와 세로를 입력하세요: 80 40\n",
            "[[60, 50], [30, 70], [60, 30], [80, 40]]\n"
          ]
        }
      ],
      "source": [
        "### 예시답안\n",
        "\n",
        "n = int(input(\"명함의 개수를 입력하세요: \"))\n",
        "cards = []\n",
        "\n",
        "for i in range(n):\n",
        "    width, height = map(int, input(f\"명함 {i+1}의 가로와 세로를 입력하세요: \").split())\n",
        "    cards.append([width, height])\n",
        "\n",
        "print(cards)"
      ]
    },
    {
      "cell_type": "markdown",
      "source": [
        "### **step 2>**\n",
        "모든 명함을 수납할 수 있는 가장 작은 지갑의 크기를 구하세요. (5점)"
      ],
      "metadata": {
        "id": "BH_TSJIIF0uO"
      }
    },
    {
      "cell_type": "code",
      "source": [
        "max_width = max(card[0] for card in cards)\n",
        "max_height = max(card[1] for card in cards)\n",
        "smallest_size = max_width * max_height\n",
        "\n",
        "# 모든 명함을 수납할 수 있는 가장 작은 지갑의 크기 출력\n",
        "# 5600, 80(가로)X70(세로) 등 다양한 출력 양식 모두 정답 처리하였습니다.\n",
        "print(smallest_size)"
      ],
      "metadata": {
        "colab": {
          "base_uri": "https://localhost:8080/"
        },
        "id": "jjPNLmIfFJHx",
        "outputId": "561b98a6-11bf-4b17-f3d0-401272416a10"
      },
      "execution_count": null,
      "outputs": [
        {
          "output_type": "stream",
          "name": "stdout",
          "text": [
            "5600\n"
          ]
        }
      ]
    },
    {
      "cell_type": "markdown",
      "metadata": {
        "id": "FW9-6Bs8LGjr"
      },
      "source": [
        "# **2️⃣ 문제 2**\n",
        "- 출제 의도\n",
        "  - 조건문, 반복문 문제를 해결할 수 있는가\n",
        "  - 주어진 조건에 정확히 부합하는 코드를 스스로 작성하고 설명할 수 있는가\n",
        "- 평가 기준\n",
        "  - 2-1번. 조건문\n",
        "  - 2-2번. 반복문\n",
        "  - 2-3번. 조건문+반복문 활용\n"
      ]
    },
    {
      "cell_type": "markdown",
      "metadata": {
        "id": "Mjc-G-11MD7w"
      },
      "source": [
        "## **2-1. 조건문(5점)**\n",
        "사용자에게 몸무게를 입력 받아 과체중인지 정상 체중인지 출력하는 프로그램을 만드세요.  \n",
        "(과체중: 100kg 초과)\n",
        "\n",
        "**⏺ 예시 1>**\n",
        "- 입력: 105\n",
        "- 출력: '귀하는 과체중입니다.'\n",
        "\n",
        "**⏺ 예시 2>**\n",
        "- 입력: 90\n",
        "- 출력: '귀하는 정상체중입니다.'\n",
        "\n",
        "**❗ 조건>**\n",
        "- 몸무게 입력은 `input()` 함수를 사용하여 입력 받으세요.\n",
        "- 반드시 **삼항연산자**를 활용하세요."
      ]
    },
    {
      "cell_type": "code",
      "execution_count": null,
      "metadata": {
        "id": "3DBlJvnhLGju",
        "colab": {
          "base_uri": "https://localhost:8080/",
          "height": 53
        },
        "outputId": "752e1a21-2e2d-4cf8-aecf-f3db31f4028f"
      },
      "outputs": [
        {
          "name": "stdout",
          "output_type": "stream",
          "text": [
            "몸무게를 입력해 주세요: 98\n"
          ]
        },
        {
          "output_type": "execute_result",
          "data": {
            "text/plain": [
              "'귀하는 정상체중입니다.'"
            ],
            "application/vnd.google.colaboratory.intrinsic+json": {
              "type": "string"
            }
          },
          "metadata": {},
          "execution_count": 3
        }
      ],
      "source": [
        "### 예시답안 1\n",
        "\n",
        "# 몸무게를 입력받는 부분(입력)\n",
        "weight = input('몸무게를 입력해 주세요: ')\n",
        "\n",
        "# 출력\n",
        "\"귀하는 과체중입니다.\" if int(weight) > 100 else \"귀하는 정상체중입니다.\""
      ]
    },
    {
      "cell_type": "code",
      "source": [
        "### 예시답안 2\n",
        "\n",
        "# 몸무게를 입력받는 부분(입력)\n",
        "weight = input('몸무게를 입력해 주세요: ')\n",
        "\n",
        "# 출력\n",
        "\"귀하는 과체중입니다.\" if int(weight) > 100 else \"귀하는 정상체중입니다.\""
      ],
      "metadata": {
        "colab": {
          "base_uri": "https://localhost:8080/",
          "height": 53
        },
        "id": "mT_FJ_GEMyRX",
        "outputId": "b650a8fd-76a4-4f3f-d693-a220c8ab45f1"
      },
      "execution_count": null,
      "outputs": [
        {
          "name": "stdout",
          "output_type": "stream",
          "text": [
            "몸무게를 입력해 주세요: 110\n"
          ]
        },
        {
          "output_type": "execute_result",
          "data": {
            "text/plain": [
              "'귀하는 과체중입니다.'"
            ],
            "application/vnd.google.colaboratory.intrinsic+json": {
              "type": "string"
            }
          },
          "metadata": {},
          "execution_count": 4
        }
      ]
    },
    {
      "cell_type": "markdown",
      "metadata": {
        "id": "DkdREbCePAIE"
      },
      "source": [
        "## **2-2. 반복문 (5점)**\n",
        "♪ 구구단을 외자~ 구구단을 외자~ ♪  \n",
        "구구단을 반복문을 사용하여 만들어 보세요.\n",
        "\n",
        "**❗ 조건>**  \n",
        "- 2단부터 9단까지 만들어 주세요.\n",
        "- 아래와 같이 출력되게 해주세요.  \n",
        "(출력 형식 주의, 단 사이 한 줄 띄우기)\n",
        "\n",
        "\n",
        "```\n",
        "=== 2단 ===\n",
        "2 X 1 = 2\n",
        "2 X 2 = 4\n",
        "2 X 3 = 6\n",
        "2 X 4 = 8\n",
        "2 X 5 = 10\n",
        "2 X 6 = 12\n",
        "2 X 7 = 14\n",
        "2 X 8 = 16\n",
        "2 X 9 = 18\n",
        "\n",
        "=== 3단 ===\n",
        "3 X 1 = 3\n",
        "3 X 2 = 6\n",
        "3 X 3 = 9\n",
        "3 X 4 = 12\n",
        "3 X 5 = 15\n",
        "3 X 6 = 18\n",
        "3 X 7 = 21\n",
        "3 X 8 = 24\n",
        "3 X 9 = 27\n",
        "\n",
        "(중략)\n",
        "\n",
        "=== 9단 ===\n",
        "9 X 1 = 9\n",
        "9 X 2 = 18\n",
        "9 X 3 = 27\n",
        "9 X 4 = 36\n",
        "9 X 5 = 45\n",
        "9 X 6 = 54\n",
        "9 X 7 = 63\n",
        "9 X 8 = 72\n",
        "9 X 9 = 81\n",
        "```\n",
        "\n"
      ]
    },
    {
      "cell_type": "code",
      "execution_count": null,
      "metadata": {
        "id": "dW3vsPirLGjv",
        "colab": {
          "base_uri": "https://localhost:8080/"
        },
        "outputId": "6e387ebc-f90a-4947-9f54-67613ec58450"
      },
      "outputs": [
        {
          "output_type": "stream",
          "name": "stdout",
          "text": [
            "=== 2단 ===\n",
            "2 X 1 = 2\n",
            "2 X 2 = 4\n",
            "2 X 3 = 6\n",
            "2 X 4 = 8\n",
            "2 X 5 = 10\n",
            "2 X 6 = 12\n",
            "2 X 7 = 14\n",
            "2 X 8 = 16\n",
            "2 X 9 = 18\n",
            "\n",
            "=== 3단 ===\n",
            "3 X 1 = 3\n",
            "3 X 2 = 6\n",
            "3 X 3 = 9\n",
            "3 X 4 = 12\n",
            "3 X 5 = 15\n",
            "3 X 6 = 18\n",
            "3 X 7 = 21\n",
            "3 X 8 = 24\n",
            "3 X 9 = 27\n",
            "\n",
            "=== 4단 ===\n",
            "4 X 1 = 4\n",
            "4 X 2 = 8\n",
            "4 X 3 = 12\n",
            "4 X 4 = 16\n",
            "4 X 5 = 20\n",
            "4 X 6 = 24\n",
            "4 X 7 = 28\n",
            "4 X 8 = 32\n",
            "4 X 9 = 36\n",
            "\n",
            "=== 5단 ===\n",
            "5 X 1 = 5\n",
            "5 X 2 = 10\n",
            "5 X 3 = 15\n",
            "5 X 4 = 20\n",
            "5 X 5 = 25\n",
            "5 X 6 = 30\n",
            "5 X 7 = 35\n",
            "5 X 8 = 40\n",
            "5 X 9 = 45\n",
            "\n",
            "=== 6단 ===\n",
            "6 X 1 = 6\n",
            "6 X 2 = 12\n",
            "6 X 3 = 18\n",
            "6 X 4 = 24\n",
            "6 X 5 = 30\n",
            "6 X 6 = 36\n",
            "6 X 7 = 42\n",
            "6 X 8 = 48\n",
            "6 X 9 = 54\n",
            "\n",
            "=== 7단 ===\n",
            "7 X 1 = 7\n",
            "7 X 2 = 14\n",
            "7 X 3 = 21\n",
            "7 X 4 = 28\n",
            "7 X 5 = 35\n",
            "7 X 6 = 42\n",
            "7 X 7 = 49\n",
            "7 X 8 = 56\n",
            "7 X 9 = 63\n",
            "\n",
            "=== 8단 ===\n",
            "8 X 1 = 8\n",
            "8 X 2 = 16\n",
            "8 X 3 = 24\n",
            "8 X 4 = 32\n",
            "8 X 5 = 40\n",
            "8 X 6 = 48\n",
            "8 X 7 = 56\n",
            "8 X 8 = 64\n",
            "8 X 9 = 72\n",
            "\n",
            "=== 9단 ===\n",
            "9 X 1 = 9\n",
            "9 X 2 = 18\n",
            "9 X 3 = 27\n",
            "9 X 4 = 36\n",
            "9 X 5 = 45\n",
            "9 X 6 = 54\n",
            "9 X 7 = 63\n",
            "9 X 8 = 72\n",
            "9 X 9 = 81\n",
            "\n"
          ]
        }
      ],
      "source": [
        "### 예시답안\n",
        "\n",
        "# 코드를 입력해 주세요\n",
        "for i in range(2, 10):\n",
        "  print(f'=== {i}단 ===')\n",
        "  for j in range(1, 10):\n",
        "    print(f'{i} X {j} = {i*j}')\n",
        "  print()"
      ]
    },
    {
      "cell_type": "markdown",
      "source": [
        "## **2-3. 조건문 + 반복문 (10점)**\n",
        "평행사변형의 높이(h)와 밑변(k), 공백의 방향(d)을 입력받아 평행사변형을 출력하는 코드를 작성해 주세요.\n",
        "\n",
        "**❗ 조건>**  \n",
        "- 높이(h)와 밑변(k), 방향 정보(d)가 한줄로 공백으로 분리되어 순서대로 입력됩니다.\n",
        "- 입력은 다음과 같이 제한된다고 가정합니다.  \n",
        "(예외처리 부분은 구현하지 않으셔도 됩니다.)  \n",
        "  - 1 <= h <= 10\n",
        "  - 2 <= k <= 10\n",
        "  - d = L(왼쪽) 또는 R(오른쪽)\n",
        "\n",
        "**⏺ 예시 1>**  \n",
        "- 입력: 5 4 L\n",
        "- 출력  \n",
        "(공백 단위는 모두 '스페이스 1칸'입니다.)\n",
        "\n",
        "```\n",
        "####\n",
        " ####\n",
        "  ####\n",
        "   ####\n",
        "    ####\n",
        "```\n",
        "\n",
        "**⏺ 예시 2>**  \n",
        "- 입력: 3 2 R\n",
        "- 출력  \n",
        "(공백 단위는 모두 '스페이스 1칸'입니다.)\n",
        "\n",
        "```\n",
        "  ##\n",
        " ##\n",
        "##\n",
        "```\n",
        "\n",
        "\n"
      ],
      "metadata": {
        "id": "4hIPay3GjtVr"
      }
    },
    {
      "cell_type": "code",
      "source": [
        "### 예시답안\n",
        "## 코드를 작성하고 예시 1로 테스트 해주세요.\n",
        "\n",
        "# 입력\n",
        "input_data = input().split()\n",
        "h = int(input_data[0])\n",
        "k = int(input_data[1])\n",
        "d = input_data[2]\n",
        "\n",
        "# 평행사변형 출력\n",
        "for i in range(h):\n",
        "  if d == 'L':\n",
        "    spaces = i\n",
        "  else:\n",
        "    spaces = h - i - 1\n",
        "\n",
        "  # 최종 출력\n",
        "  sharp = '#' * k\n",
        "  print(\" \" * spaces + sharp)"
      ],
      "metadata": {
        "id": "1Olh60OTtZnm",
        "colab": {
          "base_uri": "https://localhost:8080/"
        },
        "outputId": "e78dad03-f7fc-495c-8f1f-aebec1971c9e"
      },
      "execution_count": null,
      "outputs": [
        {
          "output_type": "stream",
          "name": "stdout",
          "text": [
            "5 4 L\n",
            "####\n",
            " ####\n",
            "  ####\n",
            "   ####\n",
            "    ####\n"
          ]
        }
      ]
    },
    {
      "cell_type": "code",
      "source": [
        "### 예시답안\n",
        "## 코드를 작성하고 예시 2로 테스트 해주세요.\n",
        "\n",
        "# 입력\n",
        "input_data = input().split()\n",
        "h = int(input_data[0])\n",
        "k = int(input_data[1])\n",
        "d = input_data[2]\n",
        "\n",
        "# 평행사변형 출력\n",
        "for i in range(h):\n",
        "  if d == 'L':\n",
        "    spaces = i\n",
        "  else:\n",
        "    spaces = h - i - 1\n",
        "\n",
        "  # 최종 출력\n",
        "  sharp = '#' * k\n",
        "  print(\" \" * spaces + sharp)"
      ],
      "metadata": {
        "colab": {
          "base_uri": "https://localhost:8080/"
        },
        "id": "U7x9g5XeZSwP",
        "outputId": "620e296b-2698-4c29-d0ac-6b919cab2fc4"
      },
      "execution_count": null,
      "outputs": [
        {
          "output_type": "stream",
          "name": "stdout",
          "text": [
            "3 2 R\n",
            "  ##\n",
            " ##\n",
            "##\n"
          ]
        }
      ]
    },
    {
      "cell_type": "markdown",
      "metadata": {
        "id": "jncrC8tEYWP0"
      },
      "source": [
        "# **3️⃣ 문제 3**"
      ]
    },
    {
      "cell_type": "markdown",
      "metadata": {
        "id": "pHVN4rwY_Yww"
      },
      "source": [
        "- 출제 의도 :\n",
        "  - 조건에 맞게 함수를 정의할 수 있는가\n",
        "  - 함수를 활용하여 문제를 해결할 수 있는가\n",
        "- 평가 기준\n",
        "  - 3-1번. 간단한 함수의 정의\n",
        "  - 3-2번. 조금 복잡한 함수의 정의\n",
        "  - 3-3번. 함수의 활용"
      ]
    },
    {
      "cell_type": "markdown",
      "metadata": {
        "id": "bRRapf8mYte0"
      },
      "source": [
        "## **3-1번 (5점)**\n",
        "두 개의 숫자를 입력받아 그 합을 출력하는 `print_sum()` 함수를 정의해 주세요.\n",
        "\n",
        "**⏺ 예시 >**  \n",
        "다음과 같은 동작을 하는 함수이면 됩니다.\n",
        "- 입력: 5 4\n",
        "- 출력: 9\n"
      ]
    },
    {
      "cell_type": "code",
      "source": [
        "### 예시답안\n",
        "\n",
        "def print_sum(a, b):\n",
        "  return a+b"
      ],
      "metadata": {
        "id": "fMT3q7FScICy"
      },
      "execution_count": null,
      "outputs": []
    },
    {
      "cell_type": "markdown",
      "metadata": {
        "id": "eg8OObBNYvcz"
      },
      "source": [
        "## **3-2번 (5점)**\n",
        "네 개의 숫자를 입력받아 그 중 가장 큰 수를 출력하는 `print_max()` 함수를 정의해 주세요.\n",
        "\n",
        "**❗ 조건>**  \n",
        "- <U>if문</U>을 사용해서 나타내 주세요.\n",
        "\n",
        "**⏺ 예시 1>**  \n",
        "다음과 같은 동작을 하는 함수이면 됩니다.\n",
        "- 입력: 5 4 3 2\n",
        "- 출력: 5"
      ]
    },
    {
      "cell_type": "code",
      "source": [
        "### 예시답안\n",
        "\n",
        "def print_max(a, b, c, d):\n",
        "  max_value = a\n",
        "\n",
        "  if b > max_value:\n",
        "    max_value = b\n",
        "  if c > max_value:\n",
        "    max_value = c\n",
        "  if d > max_value:\n",
        "    max_value = d\n",
        "\n",
        "  return max_value"
      ],
      "metadata": {
        "id": "JNdoTpEtt38F"
      },
      "execution_count": null,
      "outputs": []
    },
    {
      "cell_type": "markdown",
      "metadata": {
        "id": "pCNhpIMjEu0U"
      },
      "source": [
        "## **3-3번 (20점)**\n",
        "- 학생들의 성적 정보가 주어져 있습니다. 학생들의 평균 성적을 계산하고, 가장 많은 학생이 속한 등급과 가장 적은 학생이 속한 등급을 출력하는 함수를 작성해주세요.\n",
        "\n",
        "**❗ 조건>**  \n",
        "- 등급 구분 - A: 90점 이상, B: 80점 이상, C: 70점 이상, D: 60점 이상, F: 60점 미만\n",
        "- 최소/최대를 구할 때, 내장함수를 사용하지 마세요.\n",
        "(내장함수 사용 시, 해당부분 0점)"
      ]
    },
    {
      "cell_type": "markdown",
      "source": [
        "### **step 1)**\n",
        "등급 구분 함수 `calculate_grade()`를 작성하세요.  (8점)"
      ],
      "metadata": {
        "id": "90Fl64SoUdMa"
      }
    },
    {
      "cell_type": "code",
      "source": [
        "### 등급 구분 함수 예시답안\n",
        "\n",
        "def calculate_grade(score):\n",
        "    if score >= 90:\n",
        "        return \"A\"\n",
        "    elif score >= 80:\n",
        "        return \"B\"\n",
        "    elif score >= 70:\n",
        "        return \"C\"\n",
        "    elif score >= 60:\n",
        "        return \"D\"\n",
        "    else:\n",
        "        return \"F\""
      ],
      "metadata": {
        "id": "9LUNvFjNuA9X"
      },
      "execution_count": null,
      "outputs": []
    },
    {
      "cell_type": "markdown",
      "source": [
        "### **step 2)**  \n",
        "빈칸에 들어갈 코드를 작성하여 `analyze_scores()` 함수를 완성해 주세요. (10점)"
      ],
      "metadata": {
        "id": "TNwQ-ae2UfZ7"
      }
    },
    {
      "cell_type": "code",
      "source": [
        "### 함수 완성 문제 예시답안\n",
        "\n",
        "def analyze_scores(*scores):\n",
        "    grade_counts = {\"A\": 0, \"B\": 0, \"C\": 0, \"D\": 0, \"F\": 0}\n",
        "    total_score = 0\n",
        "\n",
        "    for score in scores:\n",
        "        grade = calculate_grade(score)\n",
        "        grade_counts[grade] += 1\n",
        "        total_score += score\n",
        "\n",
        "    max_grade = \"A\"\n",
        "    min_grade = \"F\"\n",
        "\n",
        "    for grade in grade_counts:\n",
        "        if grade_counts[grade] > grade_counts[max_grade]:\n",
        "            max_grade = grade\n",
        "        if grade_counts[grade] < grade_counts[min_grade]:\n",
        "            min_grade = grade\n",
        "\n",
        "    average_score = total_score / len(scores)\n",
        "\n",
        "    return max_grade, min_grade, average_score"
      ],
      "metadata": {
        "id": "ckDgZdsWUErj"
      },
      "execution_count": null,
      "outputs": []
    },
    {
      "cell_type": "markdown",
      "source": [
        "### **step 3)**  \n",
        "다음과 같은 데이터들로 위에서 정의한 함수가 잘 작성되었나 확인해 보세요. (2점)"
      ],
      "metadata": {
        "id": "TNCR1SpFUmAC"
      }
    },
    {
      "cell_type": "code",
      "source": [
        "### 테스트 코드\n",
        "\n",
        "scores = [85, 90, 78, 92, 88, 72, 66, 98, 54]\n",
        "\n",
        "max_grade, min_grade, average_score = analyze_scores(*scores)\n",
        "print(\"가장 많은 학생이 속한 등급:\", max_grade)\n",
        "print(\"가장 적은 학생이 속한 등급:\", min_grade)\n",
        "print(\"전체 성적 평균:\", average_score)"
      ],
      "metadata": {
        "id": "1rcuqQnAUJ6j"
      },
      "execution_count": null,
      "outputs": []
    },
    {
      "cell_type": "markdown",
      "metadata": {
        "id": "b5RKQ9pICBjm"
      },
      "source": [
        "# **4️⃣ 문제 4**"
      ]
    },
    {
      "cell_type": "markdown",
      "metadata": {
        "id": "MKunVp8BCGcN"
      },
      "source": [
        "- 출제 의도\n",
        "  - 넘파이, 판다스, 머신러닝 어디까지 알고 있나요?\n",
        "- 평가 기준\n",
        "  - 4-1번. `numpy.ndarray`에 대한 이해, 인덱싱\n",
        "  - 4-2번. 머신러닝에 필요한 기초적인 판다스 지식(데이터 전처리)\n",
        "  - 4-3번. 사이킷런 맛보기\n"
      ]
    },
    {
      "cell_type": "markdown",
      "metadata": {
        "id": "jpsr_c8UDGxA"
      },
      "source": [
        "## **4-1. 넘파이 (10점)**\n",
        "- 주어진 제시문에 따라 문제를 단계적으로 해결해 주세요."
      ]
    },
    {
      "cell_type": "code",
      "source": [
        "import numpy as np"
      ],
      "metadata": {
        "id": "sJWHHr3O3qOu"
      },
      "execution_count": null,
      "outputs": []
    },
    {
      "cell_type": "markdown",
      "source": [
        "### **Step 1)**\n",
        "1부터 10까지의 숫자가 저장된 1차원 넘파이 배열을 만들어 주세요.  (3점)  \n",
        "**🔑힌트>**  \n",
        "넘파이에도 '범위'와 관련된 함수가 있어요."
      ],
      "metadata": {
        "id": "-vBcorBA3yUC"
      }
    },
    {
      "cell_type": "code",
      "execution_count": null,
      "metadata": {
        "id": "Y6Tu5kVCGBDZ",
        "colab": {
          "base_uri": "https://localhost:8080/"
        },
        "outputId": "ae3a6fca-a9cf-4e28-e8f2-ed3c372b421b"
      },
      "outputs": [
        {
          "output_type": "execute_result",
          "data": {
            "text/plain": [
              "array([ 1,  2,  3,  4,  5,  6,  7,  8,  9, 10])"
            ]
          },
          "metadata": {},
          "execution_count": 2
        }
      ],
      "source": [
        "### 예시답안\n",
        "\n",
        "arr = np.arange(1,11)\n",
        "arr"
      ]
    },
    {
      "cell_type": "markdown",
      "source": [
        "### **Step 2)**\n",
        "해당 배열에서 **짝수**만을 선택해 주세요. (3점)    \n",
        "**❗ 조건>**   \n",
        "<U>Fancy 인덱싱</U>을 활용하여 문제를 해결해 주세요."
      ],
      "metadata": {
        "id": "ZtAVbxYa2W92"
      }
    },
    {
      "cell_type": "markdown",
      "source": [
        "- Fancy 인덱싱: 일정한 인덱싱 집합을 리스트 또는 ndarray 형태로 지정해 해당 위치에 있는 데이터의 ndarray를 반환\n",
        "- Boolean 인덱싱: 특정 조건에 해당하는지 여부인 True/False 값 인덱싱 집합을 기반으로 True에 해당하는 인덱스 위치에 있는 데이터의 ndarray를 반환"
      ],
      "metadata": {
        "id": "1QMtmLbCIf6c"
      }
    },
    {
      "cell_type": "code",
      "source": [
        "### 예시답안\n",
        "\n",
        "idx = range(1, 10, 2)\n",
        "arr[idx]"
      ],
      "metadata": {
        "colab": {
          "base_uri": "https://localhost:8080/"
        },
        "id": "4xwbr-Fx4QI8",
        "outputId": "bc18160a-4ca0-465c-adb2-338ae6ff099d"
      },
      "execution_count": null,
      "outputs": [
        {
          "output_type": "execute_result",
          "data": {
            "text/plain": [
              "array([ 2,  4,  6,  8, 10])"
            ]
          },
          "metadata": {},
          "execution_count": 4
        }
      ]
    },
    {
      "cell_type": "markdown",
      "source": [
        "### **Step 3)**\n",
        "주어진 상황을 잘 읽고, 해당 문제가 발생한 이유를 설명해 주세요.😊\n"
      ],
      "metadata": {
        "id": "g5WQXlRR5cF-"
      }
    },
    {
      "cell_type": "markdown",
      "source": [
        "> 김이화는 배열을 역순으로 정렬하고 싶었어요. 그래서 다음과 같이 정렬을 했어요."
      ],
      "metadata": {
        "id": "iMYHApb664rR"
      }
    },
    {
      "cell_type": "code",
      "source": [
        "# 재실행 금지!\n",
        "np.sort(arr)[::-1]"
      ],
      "metadata": {
        "colab": {
          "base_uri": "https://localhost:8080/"
        },
        "id": "huOCiruE7Znk",
        "outputId": "d8f712ff-3d29-4656-c59c-ec6301b6ebb3"
      },
      "execution_count": null,
      "outputs": [
        {
          "output_type": "execute_result",
          "data": {
            "text/plain": [
              "array([10,  9,  8,  7,  6,  5,  4,  3,  2,  1])"
            ]
          },
          "metadata": {},
          "execution_count": 4
        }
      ]
    },
    {
      "cell_type": "markdown",
      "source": [
        "> 그런데, 배열을 다시 확인해보니.. 어라라.. 정렬된 결과가 저장되지 않았네요.😭"
      ],
      "metadata": {
        "id": "mHAC6AEW7uPT"
      }
    },
    {
      "cell_type": "code",
      "source": [
        "# 재실행 금지!\n",
        "arr"
      ],
      "metadata": {
        "colab": {
          "base_uri": "https://localhost:8080/"
        },
        "id": "spQC1p9m8CZJ",
        "outputId": "8cb24151-8af4-46db-edc2-65f26452a097"
      },
      "execution_count": null,
      "outputs": [
        {
          "output_type": "execute_result",
          "data": {
            "text/plain": [
              "array([ 1,  2,  3,  4,  5,  6,  7,  8,  9, 10])"
            ]
          },
          "metadata": {},
          "execution_count": 5
        }
      ]
    },
    {
      "cell_type": "markdown",
      "source": [
        "**문제>**\n",
        "왜 정렬된 결과가 배열에 저장되지 않았을까요? (4점)    \n",
        "**예시답안>**  \n",
        "np.sort(arr)는 주어진 배열의 정렬된 형태의 복사본을 리턴한다. 따라서, 원본 배열 자체를 변경하지는 못한다.  \n",
        "![image.png](data:image/png;base64,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)\n",
        "\n",
        "---\n",
        "(+) 원본 배열에 해당 정렬 결과를 반영하려면 재할당이 필요하다.\n",
        "```\n",
        "arr = np.sort(arr)[::-1]\n",
        "```"
      ],
      "metadata": {
        "id": "nzp_8MYT9D1f"
      }
    },
    {
      "cell_type": "markdown",
      "source": [
        "---\n",
        "\n",
        "### **데이터 준비**\n",
        "- 4-2번, 4-3번 문제는 제공된 데이터를 활용하여 문제를 해결하는 과제입니다.\n",
        "  - 문제지와 함께 제공된 `basic_data.csv` 파일을 다운로드 받은 후 풀이를 진행해 주세요.\n",
        "\n"
      ],
      "metadata": {
        "id": "REkW_WGnCKst"
      }
    },
    {
      "cell_type": "code",
      "source": [
        "### 파일 업로드\n",
        "## Colab으로 문제 풀이를 하시는 분들만 실행해 주시면 됩니다.\n",
        "## 아래 코드를 실행한 후 파일을 업로드 해주세요.\n",
        "\n",
        "from google.colab import files\n",
        "myfile = files.upload()"
      ],
      "metadata": {
        "id": "Zq7rh6AgBh7k",
        "colab": {
          "base_uri": "https://localhost:8080/",
          "height": 75
        },
        "outputId": "5bc6cafd-ff60-404d-f397-172fad96344e"
      },
      "execution_count": null,
      "outputs": [
        {
          "output_type": "display_data",
          "data": {
            "text/plain": [
              "<IPython.core.display.HTML object>"
            ],
            "text/html": [
              "\n",
              "     <input type=\"file\" id=\"files-0f3b793d-a892-403c-9032-3843f76f79d2\" name=\"files[]\" multiple disabled\n",
              "        style=\"border:none\" />\n",
              "     <output id=\"result-0f3b793d-a892-403c-9032-3843f76f79d2\">\n",
              "      Upload widget is only available when the cell has been executed in the\n",
              "      current browser session. Please rerun this cell to enable.\n",
              "      </output>\n",
              "      <script>// Copyright 2017 Google LLC\n",
              "//\n",
              "// Licensed under the Apache License, Version 2.0 (the \"License\");\n",
              "// you may not use this file except in compliance with the License.\n",
              "// You may obtain a copy of the License at\n",
              "//\n",
              "//      http://www.apache.org/licenses/LICENSE-2.0\n",
              "//\n",
              "// Unless required by applicable law or agreed to in writing, software\n",
              "// distributed under the License is distributed on an \"AS IS\" BASIS,\n",
              "// WITHOUT WARRANTIES OR CONDITIONS OF ANY KIND, either express or implied.\n",
              "// See the License for the specific language governing permissions and\n",
              "// limitations under the License.\n",
              "\n",
              "/**\n",
              " * @fileoverview Helpers for google.colab Python module.\n",
              " */\n",
              "(function(scope) {\n",
              "function span(text, styleAttributes = {}) {\n",
              "  const element = document.createElement('span');\n",
              "  element.textContent = text;\n",
              "  for (const key of Object.keys(styleAttributes)) {\n",
              "    element.style[key] = styleAttributes[key];\n",
              "  }\n",
              "  return element;\n",
              "}\n",
              "\n",
              "// Max number of bytes which will be uploaded at a time.\n",
              "const MAX_PAYLOAD_SIZE = 100 * 1024;\n",
              "\n",
              "function _uploadFiles(inputId, outputId) {\n",
              "  const steps = uploadFilesStep(inputId, outputId);\n",
              "  const outputElement = document.getElementById(outputId);\n",
              "  // Cache steps on the outputElement to make it available for the next call\n",
              "  // to uploadFilesContinue from Python.\n",
              "  outputElement.steps = steps;\n",
              "\n",
              "  return _uploadFilesContinue(outputId);\n",
              "}\n",
              "\n",
              "// This is roughly an async generator (not supported in the browser yet),\n",
              "// where there are multiple asynchronous steps and the Python side is going\n",
              "// to poll for completion of each step.\n",
              "// This uses a Promise to block the python side on completion of each step,\n",
              "// then passes the result of the previous step as the input to the next step.\n",
              "function _uploadFilesContinue(outputId) {\n",
              "  const outputElement = document.getElementById(outputId);\n",
              "  const steps = outputElement.steps;\n",
              "\n",
              "  const next = steps.next(outputElement.lastPromiseValue);\n",
              "  return Promise.resolve(next.value.promise).then((value) => {\n",
              "    // Cache the last promise value to make it available to the next\n",
              "    // step of the generator.\n",
              "    outputElement.lastPromiseValue = value;\n",
              "    return next.value.response;\n",
              "  });\n",
              "}\n",
              "\n",
              "/**\n",
              " * Generator function which is called between each async step of the upload\n",
              " * process.\n",
              " * @param {string} inputId Element ID of the input file picker element.\n",
              " * @param {string} outputId Element ID of the output display.\n",
              " * @return {!Iterable<!Object>} Iterable of next steps.\n",
              " */\n",
              "function* uploadFilesStep(inputId, outputId) {\n",
              "  const inputElement = document.getElementById(inputId);\n",
              "  inputElement.disabled = false;\n",
              "\n",
              "  const outputElement = document.getElementById(outputId);\n",
              "  outputElement.innerHTML = '';\n",
              "\n",
              "  const pickedPromise = new Promise((resolve) => {\n",
              "    inputElement.addEventListener('change', (e) => {\n",
              "      resolve(e.target.files);\n",
              "    });\n",
              "  });\n",
              "\n",
              "  const cancel = document.createElement('button');\n",
              "  inputElement.parentElement.appendChild(cancel);\n",
              "  cancel.textContent = 'Cancel upload';\n",
              "  const cancelPromise = new Promise((resolve) => {\n",
              "    cancel.onclick = () => {\n",
              "      resolve(null);\n",
              "    };\n",
              "  });\n",
              "\n",
              "  // Wait for the user to pick the files.\n",
              "  const files = yield {\n",
              "    promise: Promise.race([pickedPromise, cancelPromise]),\n",
              "    response: {\n",
              "      action: 'starting',\n",
              "    }\n",
              "  };\n",
              "\n",
              "  cancel.remove();\n",
              "\n",
              "  // Disable the input element since further picks are not allowed.\n",
              "  inputElement.disabled = true;\n",
              "\n",
              "  if (!files) {\n",
              "    return {\n",
              "      response: {\n",
              "        action: 'complete',\n",
              "      }\n",
              "    };\n",
              "  }\n",
              "\n",
              "  for (const file of files) {\n",
              "    const li = document.createElement('li');\n",
              "    li.append(span(file.name, {fontWeight: 'bold'}));\n",
              "    li.append(span(\n",
              "        `(${file.type || 'n/a'}) - ${file.size} bytes, ` +\n",
              "        `last modified: ${\n",
              "            file.lastModifiedDate ? file.lastModifiedDate.toLocaleDateString() :\n",
              "                                    'n/a'} - `));\n",
              "    const percent = span('0% done');\n",
              "    li.appendChild(percent);\n",
              "\n",
              "    outputElement.appendChild(li);\n",
              "\n",
              "    const fileDataPromise = new Promise((resolve) => {\n",
              "      const reader = new FileReader();\n",
              "      reader.onload = (e) => {\n",
              "        resolve(e.target.result);\n",
              "      };\n",
              "      reader.readAsArrayBuffer(file);\n",
              "    });\n",
              "    // Wait for the data to be ready.\n",
              "    let fileData = yield {\n",
              "      promise: fileDataPromise,\n",
              "      response: {\n",
              "        action: 'continue',\n",
              "      }\n",
              "    };\n",
              "\n",
              "    // Use a chunked sending to avoid message size limits. See b/62115660.\n",
              "    let position = 0;\n",
              "    do {\n",
              "      const length = Math.min(fileData.byteLength - position, MAX_PAYLOAD_SIZE);\n",
              "      const chunk = new Uint8Array(fileData, position, length);\n",
              "      position += length;\n",
              "\n",
              "      const base64 = btoa(String.fromCharCode.apply(null, chunk));\n",
              "      yield {\n",
              "        response: {\n",
              "          action: 'append',\n",
              "          file: file.name,\n",
              "          data: base64,\n",
              "        },\n",
              "      };\n",
              "\n",
              "      let percentDone = fileData.byteLength === 0 ?\n",
              "          100 :\n",
              "          Math.round((position / fileData.byteLength) * 100);\n",
              "      percent.textContent = `${percentDone}% done`;\n",
              "\n",
              "    } while (position < fileData.byteLength);\n",
              "  }\n",
              "\n",
              "  // All done.\n",
              "  yield {\n",
              "    response: {\n",
              "      action: 'complete',\n",
              "    }\n",
              "  };\n",
              "}\n",
              "\n",
              "scope.google = scope.google || {};\n",
              "scope.google.colab = scope.google.colab || {};\n",
              "scope.google.colab._files = {\n",
              "  _uploadFiles,\n",
              "  _uploadFilesContinue,\n",
              "};\n",
              "})(self);\n",
              "</script> "
            ]
          },
          "metadata": {}
        },
        {
          "output_type": "stream",
          "name": "stdout",
          "text": [
            "Saving basic_data.csv to basic_data.csv\n"
          ]
        }
      ]
    },
    {
      "cell_type": "code",
      "source": [
        "### 아래 코드를 실행시켜 주세요.\n",
        "## Colab이 아닌 다른 IDE를 사용하는 경우 csv 파일 경로를 알맞게 수정해 주세요.\n",
        "\n",
        "import pandas as pd\n",
        "\n",
        "df = pd.read_csv('./basic_data.csv', sep = ',') # csv: Comma Seperated Vector"
      ],
      "metadata": {
        "id": "G3Alx--4B9JR"
      },
      "execution_count": null,
      "outputs": []
    },
    {
      "cell_type": "markdown",
      "source": [
        "**📌 Description**\n",
        "- 주어진 데이터는 여러 평가 기준으로 차량을 평가한 데이터입니다.\n",
        "\n",
        "|**변수**|**설명**|\n",
        "|-----|----------|  \n",
        "|buying|차량 구매 가격|\n",
        "|maint|차량 유지에 필요한 비용|\n",
        "|doors|차량의 문 개수|\n",
        "|persons|몇인승인지|\n",
        "|lug_boot|짐칸(트렁크)의 사이즈|\n",
        "|safety|차량의 안전도|\n",
        "|class|차량 평가 등급|"
      ],
      "metadata": {
        "id": "vOavfwdyDwIC"
      }
    },
    {
      "cell_type": "markdown",
      "metadata": {
        "id": "3OI9246QvThF"
      },
      "source": [
        "## **4-2. 판다스 (10점)**"
      ]
    },
    {
      "cell_type": "markdown",
      "source": [
        "### **Step 1)**\n",
        "현재 데이터는 `df`라는 이름의 데이터프레임에 저장되어 있습니다.   \n",
        "`df`의 상위 5개 행을 확인해 주세요.\n",
        "(2점)"
      ],
      "metadata": {
        "id": "Kq-R2iIxFhaE"
      }
    },
    {
      "cell_type": "code",
      "execution_count": null,
      "metadata": {
        "id": "yd2LmK03vThM",
        "colab": {
          "base_uri": "https://localhost:8080/",
          "height": 206
        },
        "outputId": "2083af5b-f1c9-4178-fe98-8ed4114cf451"
      },
      "outputs": [
        {
          "output_type": "execute_result",
          "data": {
            "text/plain": [
              "  buying  maint doors persons lug_boot safety  class\n",
              "0  vhigh  vhigh     2       2    small    med  unacc\n",
              "1  vhigh  vhigh     2       2    small   high  unacc\n",
              "2  vhigh  vhigh     2       2      med    low  unacc\n",
              "3  vhigh  vhigh     2       2      med    med  unacc\n",
              "4  vhigh  vhigh     2       2      med   high  unacc"
            ],
            "text/html": [
              "\n",
              "  <div id=\"df-98bf1ed2-7198-45bf-80b7-fc9b69c3f2fa\" class=\"colab-df-container\">\n",
              "    <div>\n",
              "<style scoped>\n",
              "    .dataframe tbody tr th:only-of-type {\n",
              "        vertical-align: middle;\n",
              "    }\n",
              "\n",
              "    .dataframe tbody tr th {\n",
              "        vertical-align: top;\n",
              "    }\n",
              "\n",
              "    .dataframe thead th {\n",
              "        text-align: right;\n",
              "    }\n",
              "</style>\n",
              "<table border=\"1\" class=\"dataframe\">\n",
              "  <thead>\n",
              "    <tr style=\"text-align: right;\">\n",
              "      <th></th>\n",
              "      <th>buying</th>\n",
              "      <th>maint</th>\n",
              "      <th>doors</th>\n",
              "      <th>persons</th>\n",
              "      <th>lug_boot</th>\n",
              "      <th>safety</th>\n",
              "      <th>class</th>\n",
              "    </tr>\n",
              "  </thead>\n",
              "  <tbody>\n",
              "    <tr>\n",
              "      <th>0</th>\n",
              "      <td>vhigh</td>\n",
              "      <td>vhigh</td>\n",
              "      <td>2</td>\n",
              "      <td>2</td>\n",
              "      <td>small</td>\n",
              "      <td>med</td>\n",
              "      <td>unacc</td>\n",
              "    </tr>\n",
              "    <tr>\n",
              "      <th>1</th>\n",
              "      <td>vhigh</td>\n",
              "      <td>vhigh</td>\n",
              "      <td>2</td>\n",
              "      <td>2</td>\n",
              "      <td>small</td>\n",
              "      <td>high</td>\n",
              "      <td>unacc</td>\n",
              "    </tr>\n",
              "    <tr>\n",
              "      <th>2</th>\n",
              "      <td>vhigh</td>\n",
              "      <td>vhigh</td>\n",
              "      <td>2</td>\n",
              "      <td>2</td>\n",
              "      <td>med</td>\n",
              "      <td>low</td>\n",
              "      <td>unacc</td>\n",
              "    </tr>\n",
              "    <tr>\n",
              "      <th>3</th>\n",
              "      <td>vhigh</td>\n",
              "      <td>vhigh</td>\n",
              "      <td>2</td>\n",
              "      <td>2</td>\n",
              "      <td>med</td>\n",
              "      <td>med</td>\n",
              "      <td>unacc</td>\n",
              "    </tr>\n",
              "    <tr>\n",
              "      <th>4</th>\n",
              "      <td>vhigh</td>\n",
              "      <td>vhigh</td>\n",
              "      <td>2</td>\n",
              "      <td>2</td>\n",
              "      <td>med</td>\n",
              "      <td>high</td>\n",
              "      <td>unacc</td>\n",
              "    </tr>\n",
              "  </tbody>\n",
              "</table>\n",
              "</div>\n",
              "    <div class=\"colab-df-buttons\">\n",
              "\n",
              "  <div class=\"colab-df-container\">\n",
              "    <button class=\"colab-df-convert\" onclick=\"convertToInteractive('df-98bf1ed2-7198-45bf-80b7-fc9b69c3f2fa')\"\n",
              "            title=\"Convert this dataframe to an interactive table.\"\n",
              "            style=\"display:none;\">\n",
              "\n",
              "  <svg xmlns=\"http://www.w3.org/2000/svg\" height=\"24px\" viewBox=\"0 -960 960 960\">\n",
              "    <path d=\"M120-120v-720h720v720H120Zm60-500h600v-160H180v160Zm220 220h160v-160H400v160Zm0 220h160v-160H400v160ZM180-400h160v-160H180v160Zm440 0h160v-160H620v160ZM180-180h160v-160H180v160Zm440 0h160v-160H620v160Z\"/>\n",
              "  </svg>\n",
              "    </button>\n",
              "\n",
              "  <style>\n",
              "    .colab-df-container {\n",
              "      display:flex;\n",
              "      gap: 12px;\n",
              "    }\n",
              "\n",
              "    .colab-df-convert {\n",
              "      background-color: #E8F0FE;\n",
              "      border: none;\n",
              "      border-radius: 50%;\n",
              "      cursor: pointer;\n",
              "      display: none;\n",
              "      fill: #1967D2;\n",
              "      height: 32px;\n",
              "      padding: 0 0 0 0;\n",
              "      width: 32px;\n",
              "    }\n",
              "\n",
              "    .colab-df-convert:hover {\n",
              "      background-color: #E2EBFA;\n",
              "      box-shadow: 0px 1px 2px rgba(60, 64, 67, 0.3), 0px 1px 3px 1px rgba(60, 64, 67, 0.15);\n",
              "      fill: #174EA6;\n",
              "    }\n",
              "\n",
              "    .colab-df-buttons div {\n",
              "      margin-bottom: 4px;\n",
              "    }\n",
              "\n",
              "    [theme=dark] .colab-df-convert {\n",
              "      background-color: #3B4455;\n",
              "      fill: #D2E3FC;\n",
              "    }\n",
              "\n",
              "    [theme=dark] .colab-df-convert:hover {\n",
              "      background-color: #434B5C;\n",
              "      box-shadow: 0px 1px 3px 1px rgba(0, 0, 0, 0.15);\n",
              "      filter: drop-shadow(0px 1px 2px rgba(0, 0, 0, 0.3));\n",
              "      fill: #FFFFFF;\n",
              "    }\n",
              "  </style>\n",
              "\n",
              "    <script>\n",
              "      const buttonEl =\n",
              "        document.querySelector('#df-98bf1ed2-7198-45bf-80b7-fc9b69c3f2fa button.colab-df-convert');\n",
              "      buttonEl.style.display =\n",
              "        google.colab.kernel.accessAllowed ? 'block' : 'none';\n",
              "\n",
              "      async function convertToInteractive(key) {\n",
              "        const element = document.querySelector('#df-98bf1ed2-7198-45bf-80b7-fc9b69c3f2fa');\n",
              "        const dataTable =\n",
              "          await google.colab.kernel.invokeFunction('convertToInteractive',\n",
              "                                                    [key], {});\n",
              "        if (!dataTable) return;\n",
              "\n",
              "        const docLinkHtml = 'Like what you see? Visit the ' +\n",
              "          '<a target=\"_blank\" href=https://colab.research.google.com/notebooks/data_table.ipynb>data table notebook</a>'\n",
              "          + ' to learn more about interactive tables.';\n",
              "        element.innerHTML = '';\n",
              "        dataTable['output_type'] = 'display_data';\n",
              "        await google.colab.output.renderOutput(dataTable, element);\n",
              "        const docLink = document.createElement('div');\n",
              "        docLink.innerHTML = docLinkHtml;\n",
              "        element.appendChild(docLink);\n",
              "      }\n",
              "    </script>\n",
              "  </div>\n",
              "\n",
              "\n",
              "<div id=\"df-d446655a-aad0-406b-9048-aed0e7dd6e0b\">\n",
              "  <button class=\"colab-df-quickchart\" onclick=\"quickchart('df-d446655a-aad0-406b-9048-aed0e7dd6e0b')\"\n",
              "            title=\"Suggest charts\"\n",
              "            style=\"display:none;\">\n",
              "\n",
              "<svg xmlns=\"http://www.w3.org/2000/svg\" height=\"24px\"viewBox=\"0 0 24 24\"\n",
              "     width=\"24px\">\n",
              "    <g>\n",
              "        <path d=\"M19 3H5c-1.1 0-2 .9-2 2v14c0 1.1.9 2 2 2h14c1.1 0 2-.9 2-2V5c0-1.1-.9-2-2-2zM9 17H7v-7h2v7zm4 0h-2V7h2v10zm4 0h-2v-4h2v4z\"/>\n",
              "    </g>\n",
              "</svg>\n",
              "  </button>\n",
              "\n",
              "<style>\n",
              "  .colab-df-quickchart {\n",
              "      --bg-color: #E8F0FE;\n",
              "      --fill-color: #1967D2;\n",
              "      --hover-bg-color: #E2EBFA;\n",
              "      --hover-fill-color: #174EA6;\n",
              "      --disabled-fill-color: #AAA;\n",
              "      --disabled-bg-color: #DDD;\n",
              "  }\n",
              "\n",
              "  [theme=dark] .colab-df-quickchart {\n",
              "      --bg-color: #3B4455;\n",
              "      --fill-color: #D2E3FC;\n",
              "      --hover-bg-color: #434B5C;\n",
              "      --hover-fill-color: #FFFFFF;\n",
              "      --disabled-bg-color: #3B4455;\n",
              "      --disabled-fill-color: #666;\n",
              "  }\n",
              "\n",
              "  .colab-df-quickchart {\n",
              "    background-color: var(--bg-color);\n",
              "    border: none;\n",
              "    border-radius: 50%;\n",
              "    cursor: pointer;\n",
              "    display: none;\n",
              "    fill: var(--fill-color);\n",
              "    height: 32px;\n",
              "    padding: 0;\n",
              "    width: 32px;\n",
              "  }\n",
              "\n",
              "  .colab-df-quickchart:hover {\n",
              "    background-color: var(--hover-bg-color);\n",
              "    box-shadow: 0 1px 2px rgba(60, 64, 67, 0.3), 0 1px 3px 1px rgba(60, 64, 67, 0.15);\n",
              "    fill: var(--button-hover-fill-color);\n",
              "  }\n",
              "\n",
              "  .colab-df-quickchart-complete:disabled,\n",
              "  .colab-df-quickchart-complete:disabled:hover {\n",
              "    background-color: var(--disabled-bg-color);\n",
              "    fill: var(--disabled-fill-color);\n",
              "    box-shadow: none;\n",
              "  }\n",
              "\n",
              "  .colab-df-spinner {\n",
              "    border: 2px solid var(--fill-color);\n",
              "    border-color: transparent;\n",
              "    border-bottom-color: var(--fill-color);\n",
              "    animation:\n",
              "      spin 1s steps(1) infinite;\n",
              "  }\n",
              "\n",
              "  @keyframes spin {\n",
              "    0% {\n",
              "      border-color: transparent;\n",
              "      border-bottom-color: var(--fill-color);\n",
              "      border-left-color: var(--fill-color);\n",
              "    }\n",
              "    20% {\n",
              "      border-color: transparent;\n",
              "      border-left-color: var(--fill-color);\n",
              "      border-top-color: var(--fill-color);\n",
              "    }\n",
              "    30% {\n",
              "      border-color: transparent;\n",
              "      border-left-color: var(--fill-color);\n",
              "      border-top-color: var(--fill-color);\n",
              "      border-right-color: var(--fill-color);\n",
              "    }\n",
              "    40% {\n",
              "      border-color: transparent;\n",
              "      border-right-color: var(--fill-color);\n",
              "      border-top-color: var(--fill-color);\n",
              "    }\n",
              "    60% {\n",
              "      border-color: transparent;\n",
              "      border-right-color: var(--fill-color);\n",
              "    }\n",
              "    80% {\n",
              "      border-color: transparent;\n",
              "      border-right-color: var(--fill-color);\n",
              "      border-bottom-color: var(--fill-color);\n",
              "    }\n",
              "    90% {\n",
              "      border-color: transparent;\n",
              "      border-bottom-color: var(--fill-color);\n",
              "    }\n",
              "  }\n",
              "</style>\n",
              "\n",
              "  <script>\n",
              "    async function quickchart(key) {\n",
              "      const quickchartButtonEl =\n",
              "        document.querySelector('#' + key + ' button');\n",
              "      quickchartButtonEl.disabled = true;  // To prevent multiple clicks.\n",
              "      quickchartButtonEl.classList.add('colab-df-spinner');\n",
              "      try {\n",
              "        const charts = await google.colab.kernel.invokeFunction(\n",
              "            'suggestCharts', [key], {});\n",
              "      } catch (error) {\n",
              "        console.error('Error during call to suggestCharts:', error);\n",
              "      }\n",
              "      quickchartButtonEl.classList.remove('colab-df-spinner');\n",
              "      quickchartButtonEl.classList.add('colab-df-quickchart-complete');\n",
              "    }\n",
              "    (() => {\n",
              "      let quickchartButtonEl =\n",
              "        document.querySelector('#df-d446655a-aad0-406b-9048-aed0e7dd6e0b button');\n",
              "      quickchartButtonEl.style.display =\n",
              "        google.colab.kernel.accessAllowed ? 'block' : 'none';\n",
              "    })();\n",
              "  </script>\n",
              "</div>\n",
              "    </div>\n",
              "  </div>\n"
            ],
            "application/vnd.google.colaboratory.intrinsic+json": {
              "type": "dataframe",
              "variable_name": "df",
              "summary": "{\n  \"name\": \"df\",\n  \"rows\": 1727,\n  \"fields\": [\n    {\n      \"column\": \"buying\",\n      \"properties\": {\n        \"dtype\": \"category\",\n        \"samples\": [\n          \"high\",\n          \"low\",\n          \"vhigh\"\n        ],\n        \"num_unique_values\": 4,\n        \"semantic_type\": \"\",\n        \"description\": \"\"\n      }\n    },\n    {\n      \"column\": \"maint\",\n      \"properties\": {\n        \"dtype\": \"category\",\n        \"samples\": [\n          \"high\",\n          \"low\",\n          \"vhigh\"\n        ],\n        \"num_unique_values\": 4,\n        \"semantic_type\": \"\",\n        \"description\": \"\"\n      }\n    },\n    {\n      \"column\": \"doors\",\n      \"properties\": {\n        \"dtype\": \"category\",\n        \"samples\": [\n          \"3\",\n          \"5more\",\n          \"2\"\n        ],\n        \"num_unique_values\": 4,\n        \"semantic_type\": \"\",\n        \"description\": \"\"\n      }\n    },\n    {\n      \"column\": \"persons\",\n      \"properties\": {\n        \"dtype\": \"category\",\n        \"samples\": [\n          \"2\",\n          \"4\",\n          \"more\"\n        ],\n        \"num_unique_values\": 3,\n        \"semantic_type\": \"\",\n        \"description\": \"\"\n      }\n    },\n    {\n      \"column\": \"lug_boot\",\n      \"properties\": {\n        \"dtype\": \"category\",\n        \"samples\": [\n          \"small\",\n          \"med\",\n          \"big\"\n        ],\n        \"num_unique_values\": 3,\n        \"semantic_type\": \"\",\n        \"description\": \"\"\n      }\n    },\n    {\n      \"column\": \"safety\",\n      \"properties\": {\n        \"dtype\": \"category\",\n        \"samples\": [\n          \"med\",\n          \"high\",\n          \"low\"\n        ],\n        \"num_unique_values\": 3,\n        \"semantic_type\": \"\",\n        \"description\": \"\"\n      }\n    },\n    {\n      \"column\": \"class\",\n      \"properties\": {\n        \"dtype\": \"category\",\n        \"samples\": [\n          \"acc\",\n          \"good\",\n          \"unacc\"\n        ],\n        \"num_unique_values\": 4,\n        \"semantic_type\": \"\",\n        \"description\": \"\"\n      }\n    }\n  ]\n}"
            }
          },
          "metadata": {},
          "execution_count": 8
        }
      ],
      "source": [
        "### 예시답안\n",
        "\n",
        "df.head()"
      ]
    },
    {
      "cell_type": "markdown",
      "source": [
        "### **Step 2)**\n",
        "데이터 정보를 확인해 주세요. (3점)  \n",
        "**🔑 힌트** 판다스에는 데이터프레임의 데이터 정보를 확인할 수 있는 함수가 있어요."
      ],
      "metadata": {
        "id": "T37qZ6TZF3H8"
      }
    },
    {
      "cell_type": "code",
      "source": [
        "### 예시답안\n",
        "\n",
        "df.info()"
      ],
      "metadata": {
        "id": "KmqdmuM4HWBb",
        "colab": {
          "base_uri": "https://localhost:8080/"
        },
        "outputId": "1c16f966-f11e-4196-f4d8-30cd595290d7"
      },
      "execution_count": null,
      "outputs": [
        {
          "output_type": "stream",
          "name": "stdout",
          "text": [
            "<class 'pandas.core.frame.DataFrame'>\n",
            "RangeIndex: 1727 entries, 0 to 1726\n",
            "Data columns (total 7 columns):\n",
            " #   Column    Non-Null Count  Dtype \n",
            "---  ------    --------------  ----- \n",
            " 0   buying    1727 non-null   object\n",
            " 1   maint     1727 non-null   object\n",
            " 2   doors     1727 non-null   object\n",
            " 3   persons   1727 non-null   object\n",
            " 4   lug_boot  1727 non-null   object\n",
            " 5   safety    1727 non-null   object\n",
            " 6   class     1727 non-null   object\n",
            "dtypes: object(7)\n",
            "memory usage: 94.6+ KB\n"
          ]
        }
      ]
    },
    {
      "cell_type": "markdown",
      "source": [
        "### **Step 3)**\n",
        "- 각 변수별(컬럼별)로 고유값의 종류와 개수를 파악해 주세요. (5점)  \n",
        "- **예시>**\n",
        "```\n",
        "=== buying ===\n",
        "high     432\n",
        "med      432\n",
        "low      432\n",
        "vhigh    431\n",
        "```\n",
        "\n"
      ],
      "metadata": {
        "id": "vCxGjpiSMx38"
      }
    },
    {
      "cell_type": "code",
      "source": [
        "### 예시답안\n",
        "\n",
        "for col in df.columns:\n",
        "  print(f\"=== {col} ===\")\n",
        "  print(df[col].value_counts())\n",
        "  print()"
      ],
      "metadata": {
        "colab": {
          "base_uri": "https://localhost:8080/"
        },
        "id": "DJ5yOzHyLbKg",
        "outputId": "95e6d12a-1e75-43b0-f9c1-b36cb1a0e69c"
      },
      "execution_count": null,
      "outputs": [
        {
          "output_type": "stream",
          "name": "stdout",
          "text": [
            "=== buying ===\n",
            "high     432\n",
            "med      432\n",
            "low      432\n",
            "vhigh    431\n",
            "Name: buying, dtype: int64\n",
            "\n",
            "=== maint ===\n",
            "high     432\n",
            "med      432\n",
            "low      432\n",
            "vhigh    431\n",
            "Name: maint, dtype: int64\n",
            "\n",
            "=== doors ===\n",
            "3        432\n",
            "4        432\n",
            "5more    432\n",
            "2        431\n",
            "Name: doors, dtype: int64\n",
            "\n",
            "=== persons ===\n",
            "4       576\n",
            "more    576\n",
            "2       575\n",
            "Name: persons, dtype: int64\n",
            "\n",
            "=== lug_boot ===\n",
            "med      576\n",
            "big      576\n",
            "small    575\n",
            "Name: lug_boot, dtype: int64\n",
            "\n",
            "=== safety ===\n",
            "med     576\n",
            "high    576\n",
            "low     575\n",
            "Name: safety, dtype: int64\n",
            "\n",
            "=== class ===\n",
            "unacc    1209\n",
            "acc       384\n",
            "good       69\n",
            "vgood      65\n",
            "Name: class, dtype: int64\n",
            "\n"
          ]
        }
      ]
    },
    {
      "cell_type": "markdown",
      "metadata": {
        "id": "Cq2aR08AvY5K"
      },
      "source": [
        "## **4-3. Scikit-learn (15점)**\n",
        "- 위에서 정의한 `df` 데이터프레임을 계속 활용할 예정입니다.\n",
        "\n",
        "**🔑 힌트>**    \n",
        "- [사이킷런 공식 API](https://scikit-learn.org/stable/modules/classes.html)\n",
        "- [사이킷런 tutorial](https://scikit-learn.org/stable/tutorial/basic/tutorial.html)\n"
      ]
    },
    {
      "cell_type": "markdown",
      "source": [
        "### **Step 1)**\n",
        "범주형 변수는 컴퓨터가 이해할 수 있도록 숫자형 변수로 변경해 주는 인코딩 작업이 필요합니다.  \n",
        "범주형 변수에 대해 **Label Encoding**을 수행해 주세요. (4점)  "
      ],
      "metadata": {
        "id": "DkbwBicVGcOR"
      }
    },
    {
      "cell_type": "code",
      "source": [
        "### 예시답안\n",
        "\n",
        "from sklearn.preprocessing import LabelEncoder\n",
        "\n",
        "# LabelEncoder 객체 생성\n",
        "enc = LabelEncoder()\n",
        "\n",
        "# 범주형 변수에 대해 레이블 인코딩 수행\n",
        "for col in df.columns:\n",
        "  df[col] = enc.fit_transform(df[col])"
      ],
      "metadata": {
        "id": "EWEHZmxsGbPy"
      },
      "execution_count": null,
      "outputs": []
    },
    {
      "cell_type": "code",
      "source": [
        "### 예시답안 2\n",
        "\n",
        "from sklearn.preprocessing import LabelEncoder\n",
        "\n",
        "# LabelEncoder 객체 생성\n",
        "enc = LabelEncoder()\n",
        "\n",
        "# 범주형 변수에 대해 레이블 인코딩 수행\n",
        "df = df.apply(enc.fit_transform)"
      ],
      "metadata": {
        "id": "eLUNV2hNxGjB"
      },
      "execution_count": null,
      "outputs": []
    },
    {
      "cell_type": "code",
      "source": [
        "## 제대로 라벨 인코딩이 되었는지 확인해 주세요.\n",
        "# 상위 5개 행을 확인해 주세요.\n",
        "\n",
        "df.head()"
      ],
      "metadata": {
        "id": "Egtbqn7jIGrv",
        "colab": {
          "base_uri": "https://localhost:8080/",
          "height": 206
        },
        "outputId": "8fea729a-132d-4a6e-d0f4-183146acef4a"
      },
      "execution_count": null,
      "outputs": [
        {
          "output_type": "execute_result",
          "data": {
            "text/plain": [
              "   buying  maint  doors  persons  lug_boot  safety  class\n",
              "0       3      3      0        0         2       2      2\n",
              "1       3      3      0        0         2       0      2\n",
              "2       3      3      0        0         1       1      2\n",
              "3       3      3      0        0         1       2      2\n",
              "4       3      3      0        0         1       0      2"
            ],
            "text/html": [
              "\n",
              "  <div id=\"df-9813a874-379d-436f-b681-2211c83e0c35\" class=\"colab-df-container\">\n",
              "    <div>\n",
              "<style scoped>\n",
              "    .dataframe tbody tr th:only-of-type {\n",
              "        vertical-align: middle;\n",
              "    }\n",
              "\n",
              "    .dataframe tbody tr th {\n",
              "        vertical-align: top;\n",
              "    }\n",
              "\n",
              "    .dataframe thead th {\n",
              "        text-align: right;\n",
              "    }\n",
              "</style>\n",
              "<table border=\"1\" class=\"dataframe\">\n",
              "  <thead>\n",
              "    <tr style=\"text-align: right;\">\n",
              "      <th></th>\n",
              "      <th>buying</th>\n",
              "      <th>maint</th>\n",
              "      <th>doors</th>\n",
              "      <th>persons</th>\n",
              "      <th>lug_boot</th>\n",
              "      <th>safety</th>\n",
              "      <th>class</th>\n",
              "    </tr>\n",
              "  </thead>\n",
              "  <tbody>\n",
              "    <tr>\n",
              "      <th>0</th>\n",
              "      <td>3</td>\n",
              "      <td>3</td>\n",
              "      <td>0</td>\n",
              "      <td>0</td>\n",
              "      <td>2</td>\n",
              "      <td>2</td>\n",
              "      <td>2</td>\n",
              "    </tr>\n",
              "    <tr>\n",
              "      <th>1</th>\n",
              "      <td>3</td>\n",
              "      <td>3</td>\n",
              "      <td>0</td>\n",
              "      <td>0</td>\n",
              "      <td>2</td>\n",
              "      <td>0</td>\n",
              "      <td>2</td>\n",
              "    </tr>\n",
              "    <tr>\n",
              "      <th>2</th>\n",
              "      <td>3</td>\n",
              "      <td>3</td>\n",
              "      <td>0</td>\n",
              "      <td>0</td>\n",
              "      <td>1</td>\n",
              "      <td>1</td>\n",
              "      <td>2</td>\n",
              "    </tr>\n",
              "    <tr>\n",
              "      <th>3</th>\n",
              "      <td>3</td>\n",
              "      <td>3</td>\n",
              "      <td>0</td>\n",
              "      <td>0</td>\n",
              "      <td>1</td>\n",
              "      <td>2</td>\n",
              "      <td>2</td>\n",
              "    </tr>\n",
              "    <tr>\n",
              "      <th>4</th>\n",
              "      <td>3</td>\n",
              "      <td>3</td>\n",
              "      <td>0</td>\n",
              "      <td>0</td>\n",
              "      <td>1</td>\n",
              "      <td>0</td>\n",
              "      <td>2</td>\n",
              "    </tr>\n",
              "  </tbody>\n",
              "</table>\n",
              "</div>\n",
              "    <div class=\"colab-df-buttons\">\n",
              "\n",
              "  <div class=\"colab-df-container\">\n",
              "    <button class=\"colab-df-convert\" onclick=\"convertToInteractive('df-9813a874-379d-436f-b681-2211c83e0c35')\"\n",
              "            title=\"Convert this dataframe to an interactive table.\"\n",
              "            style=\"display:none;\">\n",
              "\n",
              "  <svg xmlns=\"http://www.w3.org/2000/svg\" height=\"24px\" viewBox=\"0 -960 960 960\">\n",
              "    <path d=\"M120-120v-720h720v720H120Zm60-500h600v-160H180v160Zm220 220h160v-160H400v160Zm0 220h160v-160H400v160ZM180-400h160v-160H180v160Zm440 0h160v-160H620v160ZM180-180h160v-160H180v160Zm440 0h160v-160H620v160Z\"/>\n",
              "  </svg>\n",
              "    </button>\n",
              "\n",
              "  <style>\n",
              "    .colab-df-container {\n",
              "      display:flex;\n",
              "      gap: 12px;\n",
              "    }\n",
              "\n",
              "    .colab-df-convert {\n",
              "      background-color: #E8F0FE;\n",
              "      border: none;\n",
              "      border-radius: 50%;\n",
              "      cursor: pointer;\n",
              "      display: none;\n",
              "      fill: #1967D2;\n",
              "      height: 32px;\n",
              "      padding: 0 0 0 0;\n",
              "      width: 32px;\n",
              "    }\n",
              "\n",
              "    .colab-df-convert:hover {\n",
              "      background-color: #E2EBFA;\n",
              "      box-shadow: 0px 1px 2px rgba(60, 64, 67, 0.3), 0px 1px 3px 1px rgba(60, 64, 67, 0.15);\n",
              "      fill: #174EA6;\n",
              "    }\n",
              "\n",
              "    .colab-df-buttons div {\n",
              "      margin-bottom: 4px;\n",
              "    }\n",
              "\n",
              "    [theme=dark] .colab-df-convert {\n",
              "      background-color: #3B4455;\n",
              "      fill: #D2E3FC;\n",
              "    }\n",
              "\n",
              "    [theme=dark] .colab-df-convert:hover {\n",
              "      background-color: #434B5C;\n",
              "      box-shadow: 0px 1px 3px 1px rgba(0, 0, 0, 0.15);\n",
              "      filter: drop-shadow(0px 1px 2px rgba(0, 0, 0, 0.3));\n",
              "      fill: #FFFFFF;\n",
              "    }\n",
              "  </style>\n",
              "\n",
              "    <script>\n",
              "      const buttonEl =\n",
              "        document.querySelector('#df-9813a874-379d-436f-b681-2211c83e0c35 button.colab-df-convert');\n",
              "      buttonEl.style.display =\n",
              "        google.colab.kernel.accessAllowed ? 'block' : 'none';\n",
              "\n",
              "      async function convertToInteractive(key) {\n",
              "        const element = document.querySelector('#df-9813a874-379d-436f-b681-2211c83e0c35');\n",
              "        const dataTable =\n",
              "          await google.colab.kernel.invokeFunction('convertToInteractive',\n",
              "                                                    [key], {});\n",
              "        if (!dataTable) return;\n",
              "\n",
              "        const docLinkHtml = 'Like what you see? Visit the ' +\n",
              "          '<a target=\"_blank\" href=https://colab.research.google.com/notebooks/data_table.ipynb>data table notebook</a>'\n",
              "          + ' to learn more about interactive tables.';\n",
              "        element.innerHTML = '';\n",
              "        dataTable['output_type'] = 'display_data';\n",
              "        await google.colab.output.renderOutput(dataTable, element);\n",
              "        const docLink = document.createElement('div');\n",
              "        docLink.innerHTML = docLinkHtml;\n",
              "        element.appendChild(docLink);\n",
              "      }\n",
              "    </script>\n",
              "  </div>\n",
              "\n",
              "\n",
              "<div id=\"df-3d9d3f5a-ed36-445d-9756-92d67fe01ac7\">\n",
              "  <button class=\"colab-df-quickchart\" onclick=\"quickchart('df-3d9d3f5a-ed36-445d-9756-92d67fe01ac7')\"\n",
              "            title=\"Suggest charts\"\n",
              "            style=\"display:none;\">\n",
              "\n",
              "<svg xmlns=\"http://www.w3.org/2000/svg\" height=\"24px\"viewBox=\"0 0 24 24\"\n",
              "     width=\"24px\">\n",
              "    <g>\n",
              "        <path d=\"M19 3H5c-1.1 0-2 .9-2 2v14c0 1.1.9 2 2 2h14c1.1 0 2-.9 2-2V5c0-1.1-.9-2-2-2zM9 17H7v-7h2v7zm4 0h-2V7h2v10zm4 0h-2v-4h2v4z\"/>\n",
              "    </g>\n",
              "</svg>\n",
              "  </button>\n",
              "\n",
              "<style>\n",
              "  .colab-df-quickchart {\n",
              "      --bg-color: #E8F0FE;\n",
              "      --fill-color: #1967D2;\n",
              "      --hover-bg-color: #E2EBFA;\n",
              "      --hover-fill-color: #174EA6;\n",
              "      --disabled-fill-color: #AAA;\n",
              "      --disabled-bg-color: #DDD;\n",
              "  }\n",
              "\n",
              "  [theme=dark] .colab-df-quickchart {\n",
              "      --bg-color: #3B4455;\n",
              "      --fill-color: #D2E3FC;\n",
              "      --hover-bg-color: #434B5C;\n",
              "      --hover-fill-color: #FFFFFF;\n",
              "      --disabled-bg-color: #3B4455;\n",
              "      --disabled-fill-color: #666;\n",
              "  }\n",
              "\n",
              "  .colab-df-quickchart {\n",
              "    background-color: var(--bg-color);\n",
              "    border: none;\n",
              "    border-radius: 50%;\n",
              "    cursor: pointer;\n",
              "    display: none;\n",
              "    fill: var(--fill-color);\n",
              "    height: 32px;\n",
              "    padding: 0;\n",
              "    width: 32px;\n",
              "  }\n",
              "\n",
              "  .colab-df-quickchart:hover {\n",
              "    background-color: var(--hover-bg-color);\n",
              "    box-shadow: 0 1px 2px rgba(60, 64, 67, 0.3), 0 1px 3px 1px rgba(60, 64, 67, 0.15);\n",
              "    fill: var(--button-hover-fill-color);\n",
              "  }\n",
              "\n",
              "  .colab-df-quickchart-complete:disabled,\n",
              "  .colab-df-quickchart-complete:disabled:hover {\n",
              "    background-color: var(--disabled-bg-color);\n",
              "    fill: var(--disabled-fill-color);\n",
              "    box-shadow: none;\n",
              "  }\n",
              "\n",
              "  .colab-df-spinner {\n",
              "    border: 2px solid var(--fill-color);\n",
              "    border-color: transparent;\n",
              "    border-bottom-color: var(--fill-color);\n",
              "    animation:\n",
              "      spin 1s steps(1) infinite;\n",
              "  }\n",
              "\n",
              "  @keyframes spin {\n",
              "    0% {\n",
              "      border-color: transparent;\n",
              "      border-bottom-color: var(--fill-color);\n",
              "      border-left-color: var(--fill-color);\n",
              "    }\n",
              "    20% {\n",
              "      border-color: transparent;\n",
              "      border-left-color: var(--fill-color);\n",
              "      border-top-color: var(--fill-color);\n",
              "    }\n",
              "    30% {\n",
              "      border-color: transparent;\n",
              "      border-left-color: var(--fill-color);\n",
              "      border-top-color: var(--fill-color);\n",
              "      border-right-color: var(--fill-color);\n",
              "    }\n",
              "    40% {\n",
              "      border-color: transparent;\n",
              "      border-right-color: var(--fill-color);\n",
              "      border-top-color: var(--fill-color);\n",
              "    }\n",
              "    60% {\n",
              "      border-color: transparent;\n",
              "      border-right-color: var(--fill-color);\n",
              "    }\n",
              "    80% {\n",
              "      border-color: transparent;\n",
              "      border-right-color: var(--fill-color);\n",
              "      border-bottom-color: var(--fill-color);\n",
              "    }\n",
              "    90% {\n",
              "      border-color: transparent;\n",
              "      border-bottom-color: var(--fill-color);\n",
              "    }\n",
              "  }\n",
              "</style>\n",
              "\n",
              "  <script>\n",
              "    async function quickchart(key) {\n",
              "      const quickchartButtonEl =\n",
              "        document.querySelector('#' + key + ' button');\n",
              "      quickchartButtonEl.disabled = true;  // To prevent multiple clicks.\n",
              "      quickchartButtonEl.classList.add('colab-df-spinner');\n",
              "      try {\n",
              "        const charts = await google.colab.kernel.invokeFunction(\n",
              "            'suggestCharts', [key], {});\n",
              "      } catch (error) {\n",
              "        console.error('Error during call to suggestCharts:', error);\n",
              "      }\n",
              "      quickchartButtonEl.classList.remove('colab-df-spinner');\n",
              "      quickchartButtonEl.classList.add('colab-df-quickchart-complete');\n",
              "    }\n",
              "    (() => {\n",
              "      let quickchartButtonEl =\n",
              "        document.querySelector('#df-3d9d3f5a-ed36-445d-9756-92d67fe01ac7 button');\n",
              "      quickchartButtonEl.style.display =\n",
              "        google.colab.kernel.accessAllowed ? 'block' : 'none';\n",
              "    })();\n",
              "  </script>\n",
              "</div>\n",
              "    </div>\n",
              "  </div>\n"
            ],
            "application/vnd.google.colaboratory.intrinsic+json": {
              "type": "dataframe",
              "variable_name": "df",
              "summary": "{\n  \"name\": \"df\",\n  \"rows\": 1727,\n  \"fields\": [\n    {\n      \"column\": \"buying\",\n      \"properties\": {\n        \"dtype\": \"number\",\n        \"std\": 1,\n        \"min\": 0,\n        \"max\": 3,\n        \"samples\": [\n          0,\n          1,\n          3\n        ],\n        \"num_unique_values\": 4,\n        \"semantic_type\": \"\",\n        \"description\": \"\"\n      }\n    },\n    {\n      \"column\": \"maint\",\n      \"properties\": {\n        \"dtype\": \"number\",\n        \"std\": 1,\n        \"min\": 0,\n        \"max\": 3,\n        \"samples\": [\n          0,\n          1,\n          3\n        ],\n        \"num_unique_values\": 4,\n        \"semantic_type\": \"\",\n        \"description\": \"\"\n      }\n    },\n    {\n      \"column\": \"doors\",\n      \"properties\": {\n        \"dtype\": \"number\",\n        \"std\": 1,\n        \"min\": 0,\n        \"max\": 3,\n        \"samples\": [\n          1,\n          3,\n          0\n        ],\n        \"num_unique_values\": 4,\n        \"semantic_type\": \"\",\n        \"description\": \"\"\n      }\n    },\n    {\n      \"column\": \"persons\",\n      \"properties\": {\n        \"dtype\": \"number\",\n        \"std\": 0,\n        \"min\": 0,\n        \"max\": 2,\n        \"samples\": [\n          0,\n          1,\n          2\n        ],\n        \"num_unique_values\": 3,\n        \"semantic_type\": \"\",\n        \"description\": \"\"\n      }\n    },\n    {\n      \"column\": \"lug_boot\",\n      \"properties\": {\n        \"dtype\": \"number\",\n        \"std\": 0,\n        \"min\": 0,\n        \"max\": 2,\n        \"samples\": [\n          2,\n          1,\n          0\n        ],\n        \"num_unique_values\": 3,\n        \"semantic_type\": \"\",\n        \"description\": \"\"\n      }\n    },\n    {\n      \"column\": \"safety\",\n      \"properties\": {\n        \"dtype\": \"number\",\n        \"std\": 0,\n        \"min\": 0,\n        \"max\": 2,\n        \"samples\": [\n          2,\n          0,\n          1\n        ],\n        \"num_unique_values\": 3,\n        \"semantic_type\": \"\",\n        \"description\": \"\"\n      }\n    },\n    {\n      \"column\": \"class\",\n      \"properties\": {\n        \"dtype\": \"number\",\n        \"std\": 0,\n        \"min\": 0,\n        \"max\": 3,\n        \"samples\": [\n          0,\n          1,\n          2\n        ],\n        \"num_unique_values\": 4,\n        \"semantic_type\": \"\",\n        \"description\": \"\"\n      }\n    }\n  ]\n}"
            }
          },
          "metadata": {},
          "execution_count": 18
        }
      ]
    },
    {
      "cell_type": "markdown",
      "source": [
        "### **Step 2)**\n",
        "Feature(X)와 Target(y)를 분리해 주세요. (2점)\n",
        "> target(y) 변수: `class`"
      ],
      "metadata": {
        "id": "zvC8fa7ASV5K"
      }
    },
    {
      "cell_type": "code",
      "source": [
        "### 예시답안\n",
        "\n",
        "X = df.drop(['class'], axis = 1)\n",
        "y = df['class']"
      ],
      "metadata": {
        "id": "lijZO8OIHz6A"
      },
      "execution_count": null,
      "outputs": []
    },
    {
      "cell_type": "markdown",
      "source": [
        "### **Step 3)**\n",
        "```train_test_split()```을 사용하여 훈련 세트와 테스트 세트로 나눠주세요.  (3점)\n",
        "\n",
        "**❗ 조건>**  \n",
        "- random_state = 42\n",
        "- train: test = 8:2"
      ],
      "metadata": {
        "id": "NFlbIONiWFS9"
      }
    },
    {
      "cell_type": "code",
      "execution_count": null,
      "metadata": {
        "id": "qAu5Bqz1vY5S"
      },
      "outputs": [],
      "source": [
        "### 답안\n",
        "\n",
        "from sklearn.model_selection import train_test_split\n",
        "\n",
        "X_train, X_test, y_train, y_test = train_test_split(X, y, test_size = 0.2, random_state = 42)"
      ]
    },
    {
      "cell_type": "markdown",
      "source": [
        "### **Step 4)**  \n",
        "`RandomForestClassifier` 모델을 훈련 세트로 학습시키고, 테스트 세트로 예측을 수행한 후 예측 정확도를 구해주세요.  (6점)  \n",
        "\n",
        "**❗ 조건>**\n",
        "- random_state = 42\n",
        "- max_depth = 8\n",
        "\n",
        "**🔑 힌트>**  \n",
        "조건으로 제시된 'library import' 과정을 주목해 주세요!  "
      ],
      "metadata": {
        "id": "sajz7h1USz4T"
      }
    },
    {
      "cell_type": "code",
      "source": [
        "from sklearn.ensemble import RandomForestClassifier\n",
        "from sklearn.metrics import accuracy_score\n",
        "import pandas as pd\n",
        "import warnings\n",
        "warnings.filterwarnings(\"ignore\")"
      ],
      "metadata": {
        "id": "l6ckzQWaTXPg"
      },
      "execution_count": null,
      "outputs": []
    },
    {
      "cell_type": "code",
      "source": [
        "### 답안\n",
        "\n",
        "# 모델 생성\n",
        "rf_clf = RandomForestClassifier(random_state = 42, max_depth = 8)\n",
        "\n",
        "# 학습 데이터로 모델 학습\n",
        "rf_clf.fit(X_train, y_train)\n",
        "\n",
        "# 테스트 데이터로 예측 수행\n",
        "pred = rf_clf.predict(X_test)\n",
        "\n",
        "# 정확도 구하기\n",
        "accuracy = accuracy_score(y_test, pred)\n",
        "\n",
        "print(\"랜덤 포레스트 정확도 : {0:.4f}\".format(accuracy))"
      ],
      "metadata": {
        "id": "-seBxOwMTZ-e",
        "colab": {
          "base_uri": "https://localhost:8080/"
        },
        "outputId": "82a3eb15-f43c-454a-89bf-3dc81e7a8fc8"
      },
      "execution_count": null,
      "outputs": [
        {
          "output_type": "stream",
          "name": "stdout",
          "text": [
            "랜덤 포레스트 정확도 : 0.9422\n"
          ]
        }
      ]
    }
  ]
}