{
 "cells": [
  {
   "cell_type": "markdown",
   "metadata": {
    "id": "jlWAJzy4OBVG"
   },
   "source": [
    "# **1. 결정 트리(Decision Tree)**\n",
    "- 붓꽃 데이터를 활용할 예정입니다."
   ]
  },
  {
   "cell_type": "code",
   "execution_count": 1,
   "metadata": {
    "id": "PSAmpJpFOpI6"
   },
   "outputs": [],
   "source": [
    "### 데이터 준비\n",
    "\n",
    "# Import Libraries\n",
    "from sklearn import datasets\n",
    "from sklearn.datasets import load_iris\n",
    "from sklearn.model_selection import train_test_split\n",
    "import warnings\n",
    "warnings.filterwarnings('ignore')\n",
    "\n",
    "# 붓꽃 데이터를 로딩하고, 학습과 테스트 데이터 세트로 분리\n",
    "iris_data = load_iris()\n",
    "X_train, X_test, y_train, y_test = train_test_split(iris_data.data, iris_data.target, test_size=0.2, random_state=11)"
   ]
  },
  {
   "cell_type": "markdown",
   "metadata": {
    "id": "G8M-s48UVUZ8"
   },
   "source": [
    "## **1-1. 결정 트리 모델을 생성하고, 모델을 학습시켜 주세요.**\n",
    "- 아래 코드의 빈칸을 채워주세요."
   ]
  },
  {
   "cell_type": "code",
   "execution_count": 2,
   "metadata": {
    "id": "3sjc0W4XMQMM"
   },
   "outputs": [
    {
     "data": {
      "text/html": [
       "<style>#sk-container-id-1 {color: black;background-color: white;}#sk-container-id-1 pre{padding: 0;}#sk-container-id-1 div.sk-toggleable {background-color: white;}#sk-container-id-1 label.sk-toggleable__label {cursor: pointer;display: block;width: 100%;margin-bottom: 0;padding: 0.3em;box-sizing: border-box;text-align: center;}#sk-container-id-1 label.sk-toggleable__label-arrow:before {content: \"▸\";float: left;margin-right: 0.25em;color: #696969;}#sk-container-id-1 label.sk-toggleable__label-arrow:hover:before {color: black;}#sk-container-id-1 div.sk-estimator:hover label.sk-toggleable__label-arrow:before {color: black;}#sk-container-id-1 div.sk-toggleable__content {max-height: 0;max-width: 0;overflow: hidden;text-align: left;background-color: #f0f8ff;}#sk-container-id-1 div.sk-toggleable__content pre {margin: 0.2em;color: black;border-radius: 0.25em;background-color: #f0f8ff;}#sk-container-id-1 input.sk-toggleable__control:checked~div.sk-toggleable__content {max-height: 200px;max-width: 100%;overflow: auto;}#sk-container-id-1 input.sk-toggleable__control:checked~label.sk-toggleable__label-arrow:before {content: \"▾\";}#sk-container-id-1 div.sk-estimator input.sk-toggleable__control:checked~label.sk-toggleable__label {background-color: #d4ebff;}#sk-container-id-1 div.sk-label input.sk-toggleable__control:checked~label.sk-toggleable__label {background-color: #d4ebff;}#sk-container-id-1 input.sk-hidden--visually {border: 0;clip: rect(1px 1px 1px 1px);clip: rect(1px, 1px, 1px, 1px);height: 1px;margin: -1px;overflow: hidden;padding: 0;position: absolute;width: 1px;}#sk-container-id-1 div.sk-estimator {font-family: monospace;background-color: #f0f8ff;border: 1px dotted black;border-radius: 0.25em;box-sizing: border-box;margin-bottom: 0.5em;}#sk-container-id-1 div.sk-estimator:hover {background-color: #d4ebff;}#sk-container-id-1 div.sk-parallel-item::after {content: \"\";width: 100%;border-bottom: 1px solid gray;flex-grow: 1;}#sk-container-id-1 div.sk-label:hover label.sk-toggleable__label {background-color: #d4ebff;}#sk-container-id-1 div.sk-serial::before {content: \"\";position: absolute;border-left: 1px solid gray;box-sizing: border-box;top: 0;bottom: 0;left: 50%;z-index: 0;}#sk-container-id-1 div.sk-serial {display: flex;flex-direction: column;align-items: center;background-color: white;padding-right: 0.2em;padding-left: 0.2em;position: relative;}#sk-container-id-1 div.sk-item {position: relative;z-index: 1;}#sk-container-id-1 div.sk-parallel {display: flex;align-items: stretch;justify-content: center;background-color: white;position: relative;}#sk-container-id-1 div.sk-item::before, #sk-container-id-1 div.sk-parallel-item::before {content: \"\";position: absolute;border-left: 1px solid gray;box-sizing: border-box;top: 0;bottom: 0;left: 50%;z-index: -1;}#sk-container-id-1 div.sk-parallel-item {display: flex;flex-direction: column;z-index: 1;position: relative;background-color: white;}#sk-container-id-1 div.sk-parallel-item:first-child::after {align-self: flex-end;width: 50%;}#sk-container-id-1 div.sk-parallel-item:last-child::after {align-self: flex-start;width: 50%;}#sk-container-id-1 div.sk-parallel-item:only-child::after {width: 0;}#sk-container-id-1 div.sk-dashed-wrapped {border: 1px dashed gray;margin: 0 0.4em 0.5em 0.4em;box-sizing: border-box;padding-bottom: 0.4em;background-color: white;}#sk-container-id-1 div.sk-label label {font-family: monospace;font-weight: bold;display: inline-block;line-height: 1.2em;}#sk-container-id-1 div.sk-label-container {text-align: center;}#sk-container-id-1 div.sk-container {/* jupyter's `normalize.less` sets `[hidden] { display: none; }` but bootstrap.min.css set `[hidden] { display: none !important; }` so we also need the `!important` here to be able to override the default hidden behavior on the sphinx rendered scikit-learn.org. See: https://github.com/scikit-learn/scikit-learn/issues/21755 */display: inline-block !important;position: relative;}#sk-container-id-1 div.sk-text-repr-fallback {display: none;}</style><div id=\"sk-container-id-1\" class=\"sk-top-container\"><div class=\"sk-text-repr-fallback\"><pre>DecisionTreeClassifier()</pre><b>In a Jupyter environment, please rerun this cell to show the HTML representation or trust the notebook. <br />On GitHub, the HTML representation is unable to render, please try loading this page with nbviewer.org.</b></div><div class=\"sk-container\" hidden><div class=\"sk-item\"><div class=\"sk-estimator sk-toggleable\"><input class=\"sk-toggleable__control sk-hidden--visually\" id=\"sk-estimator-id-1\" type=\"checkbox\" checked><label for=\"sk-estimator-id-1\" class=\"sk-toggleable__label sk-toggleable__label-arrow\">DecisionTreeClassifier</label><div class=\"sk-toggleable__content\"><pre>DecisionTreeClassifier()</pre></div></div></div></div></div>"
      ],
      "text/plain": [
       "DecisionTreeClassifier()"
      ]
     },
     "execution_count": 2,
     "metadata": {},
     "output_type": "execute_result"
    }
   ],
   "source": [
    "from sklearn.tree import DecisionTreeClassifier\n",
    "\n",
    "# DecisionTreeClassifier 생성\n",
    "dt_clf = DecisionTreeClassifier()\n",
    "\n",
    "# DecisionTreeClassifer 학습\n",
    "dt_clf.fit(X_train, y_train)"
   ]
  },
  {
   "cell_type": "markdown",
   "metadata": {
    "id": "0PYHjLcSP3_r"
   },
   "source": [
    "## **1-2. 결정 트리 모델의 시각화 결과를 보고 아래의 질문에 답해 주세요.**"
   ]
  },
  {
   "cell_type": "code",
   "execution_count": 3,
   "metadata": {
    "id": "6ylCsP6-Qr6A"
   },
   "outputs": [],
   "source": [
    "### 결정 트리 시각화\n",
    "\n",
    "from sklearn.tree import export_graphviz\n",
    "\n",
    "# export_graphviz()의 호출 결과로 out_file로 지정된 tree.dot 파일을 생성\n",
    "export_graphviz(dt_clf, out_file=\"tree.dot\", class_names=iris_data.target_names,\n",
    "                feature_names = iris_data.feature_names, impurity = True, filled = True)"
   ]
  },
  {
   "cell_type": "code",
   "execution_count": 4,
   "metadata": {
    "colab": {
     "base_uri": "https://localhost:8080/",
     "height": 935
    },
    "executionInfo": {
     "elapsed": 506,
     "status": "ok",
     "timestamp": 1711431503863,
     "user": {
      "displayName": "차수빈",
      "userId": "16979887891359732529"
     },
     "user_tz": -540
    },
    "id": "QfH_T4p8OAyf",
    "outputId": "9102eb87-d34e-495e-dab9-bcb67f70f955"
   },
   "outputs": [
    {
     "data": {
      "image/svg+xml": [
       "<?xml version=\"1.0\" encoding=\"UTF-8\" standalone=\"no\"?>\n",
       "<!DOCTYPE svg PUBLIC \"-//W3C//DTD SVG 1.1//EN\"\n",
       " \"http://www.w3.org/Graphics/SVG/1.1/DTD/svg11.dtd\">\n",
       "<!-- Generated by graphviz version 2.50.0 (0)\n",
       " -->\n",
       "<!-- Title: Tree Pages: 1 -->\n",
       "<svg width=\"782pt\" height=\"671pt\"\n",
       " viewBox=\"0.00 0.00 782.00 671.00\" xmlns=\"http://www.w3.org/2000/svg\" xmlns:xlink=\"http://www.w3.org/1999/xlink\">\n",
       "<g id=\"graph0\" class=\"graph\" transform=\"scale(1 1) rotate(0) translate(4 667)\">\n",
       "<title>Tree</title>\n",
       "<polygon fill=\"white\" stroke=\"transparent\" points=\"-4,4 -4,-667 778,-667 778,4 -4,4\"/>\n",
       "<!-- 0 -->\n",
       "<g id=\"node1\" class=\"node\">\n",
       "<title>0</title>\n",
       "<polygon fill=\"#fffdfd\" stroke=\"black\" points=\"284.5,-663 116.5,-663 116.5,-580 284.5,-580 284.5,-663\"/>\n",
       "<text text-anchor=\"middle\" x=\"200.5\" y=\"-647.8\" font-family=\"Helvetica,sans-Serif\" font-size=\"14.00\">petal length (cm) &lt;= 2.45</text>\n",
       "<text text-anchor=\"middle\" x=\"200.5\" y=\"-632.8\" font-family=\"Helvetica,sans-Serif\" font-size=\"14.00\">gini = 0.667</text>\n",
       "<text text-anchor=\"middle\" x=\"200.5\" y=\"-617.8\" font-family=\"Helvetica,sans-Serif\" font-size=\"14.00\">samples = 120</text>\n",
       "<text text-anchor=\"middle\" x=\"200.5\" y=\"-602.8\" font-family=\"Helvetica,sans-Serif\" font-size=\"14.00\">value = [41, 40, 39]</text>\n",
       "<text text-anchor=\"middle\" x=\"200.5\" y=\"-587.8\" font-family=\"Helvetica,sans-Serif\" font-size=\"14.00\">class = setosa</text>\n",
       "</g>\n",
       "<!-- 1 -->\n",
       "<g id=\"node2\" class=\"node\">\n",
       "<title>1</title>\n",
       "<polygon fill=\"#e58139\" stroke=\"black\" points=\"180,-536.5 63,-536.5 63,-468.5 180,-468.5 180,-536.5\"/>\n",
       "<text text-anchor=\"middle\" x=\"121.5\" y=\"-521.3\" font-family=\"Helvetica,sans-Serif\" font-size=\"14.00\">gini = 0.0</text>\n",
       "<text text-anchor=\"middle\" x=\"121.5\" y=\"-506.3\" font-family=\"Helvetica,sans-Serif\" font-size=\"14.00\">samples = 41</text>\n",
       "<text text-anchor=\"middle\" x=\"121.5\" y=\"-491.3\" font-family=\"Helvetica,sans-Serif\" font-size=\"14.00\">value = [41, 0, 0]</text>\n",
       "<text text-anchor=\"middle\" x=\"121.5\" y=\"-476.3\" font-family=\"Helvetica,sans-Serif\" font-size=\"14.00\">class = setosa</text>\n",
       "</g>\n",
       "<!-- 0&#45;&gt;1 -->\n",
       "<g id=\"edge1\" class=\"edge\">\n",
       "<title>0&#45;&gt;1</title>\n",
       "<path fill=\"none\" stroke=\"black\" d=\"M173.09,-579.91C165.49,-568.65 157.23,-556.42 149.59,-545.11\"/>\n",
       "<polygon fill=\"black\" stroke=\"black\" points=\"152.39,-543 143.89,-536.67 146.59,-546.91 152.39,-543\"/>\n",
       "<text text-anchor=\"middle\" x=\"139.14\" y=\"-557.51\" font-family=\"Helvetica,sans-Serif\" font-size=\"14.00\">True</text>\n",
       "</g>\n",
       "<!-- 2 -->\n",
       "<g id=\"node3\" class=\"node\">\n",
       "<title>2</title>\n",
       "<polygon fill=\"#fafefc\" stroke=\"black\" points=\"361,-544 198,-544 198,-461 361,-461 361,-544\"/>\n",
       "<text text-anchor=\"middle\" x=\"279.5\" y=\"-528.8\" font-family=\"Helvetica,sans-Serif\" font-size=\"14.00\">petal width (cm) &lt;= 1.55</text>\n",
       "<text text-anchor=\"middle\" x=\"279.5\" y=\"-513.8\" font-family=\"Helvetica,sans-Serif\" font-size=\"14.00\">gini = 0.5</text>\n",
       "<text text-anchor=\"middle\" x=\"279.5\" y=\"-498.8\" font-family=\"Helvetica,sans-Serif\" font-size=\"14.00\">samples = 79</text>\n",
       "<text text-anchor=\"middle\" x=\"279.5\" y=\"-483.8\" font-family=\"Helvetica,sans-Serif\" font-size=\"14.00\">value = [0, 40, 39]</text>\n",
       "<text text-anchor=\"middle\" x=\"279.5\" y=\"-468.8\" font-family=\"Helvetica,sans-Serif\" font-size=\"14.00\">class = versicolor</text>\n",
       "</g>\n",
       "<!-- 0&#45;&gt;2 -->\n",
       "<g id=\"edge2\" class=\"edge\">\n",
       "<title>0&#45;&gt;2</title>\n",
       "<path fill=\"none\" stroke=\"black\" d=\"M227.91,-579.91C233.91,-571.01 240.33,-561.51 246.53,-552.33\"/>\n",
       "<polygon fill=\"black\" stroke=\"black\" points=\"249.44,-554.27 252.14,-544.02 243.64,-550.35 249.44,-554.27\"/>\n",
       "<text text-anchor=\"middle\" x=\"256.9\" y=\"-564.86\" font-family=\"Helvetica,sans-Serif\" font-size=\"14.00\">False</text>\n",
       "</g>\n",
       "<!-- 3 -->\n",
       "<g id=\"node4\" class=\"node\">\n",
       "<title>3</title>\n",
       "<polygon fill=\"#3ee684\" stroke=\"black\" points=\"271.5,-425 103.5,-425 103.5,-342 271.5,-342 271.5,-425\"/>\n",
       "<text text-anchor=\"middle\" x=\"187.5\" y=\"-409.8\" font-family=\"Helvetica,sans-Serif\" font-size=\"14.00\">petal length (cm) &lt;= 5.25</text>\n",
       "<text text-anchor=\"middle\" x=\"187.5\" y=\"-394.8\" font-family=\"Helvetica,sans-Serif\" font-size=\"14.00\">gini = 0.051</text>\n",
       "<text text-anchor=\"middle\" x=\"187.5\" y=\"-379.8\" font-family=\"Helvetica,sans-Serif\" font-size=\"14.00\">samples = 38</text>\n",
       "<text text-anchor=\"middle\" x=\"187.5\" y=\"-364.8\" font-family=\"Helvetica,sans-Serif\" font-size=\"14.00\">value = [0, 37, 1]</text>\n",
       "<text text-anchor=\"middle\" x=\"187.5\" y=\"-349.8\" font-family=\"Helvetica,sans-Serif\" font-size=\"14.00\">class = versicolor</text>\n",
       "</g>\n",
       "<!-- 2&#45;&gt;3 -->\n",
       "<g id=\"edge3\" class=\"edge\">\n",
       "<title>2&#45;&gt;3</title>\n",
       "<path fill=\"none\" stroke=\"black\" d=\"M247.58,-460.91C240.52,-451.92 232.96,-442.32 225.68,-433.05\"/>\n",
       "<polygon fill=\"black\" stroke=\"black\" points=\"228.3,-430.72 219.36,-425.02 222.79,-435.05 228.3,-430.72\"/>\n",
       "</g>\n",
       "<!-- 6 -->\n",
       "<g id=\"node7\" class=\"node\">\n",
       "<title>6</title>\n",
       "<polygon fill=\"#8b49e7\" stroke=\"black\" points=\"453,-425 290,-425 290,-342 453,-342 453,-425\"/>\n",
       "<text text-anchor=\"middle\" x=\"371.5\" y=\"-409.8\" font-family=\"Helvetica,sans-Serif\" font-size=\"14.00\">petal width (cm) &lt;= 1.75</text>\n",
       "<text text-anchor=\"middle\" x=\"371.5\" y=\"-394.8\" font-family=\"Helvetica,sans-Serif\" font-size=\"14.00\">gini = 0.136</text>\n",
       "<text text-anchor=\"middle\" x=\"371.5\" y=\"-379.8\" font-family=\"Helvetica,sans-Serif\" font-size=\"14.00\">samples = 41</text>\n",
       "<text text-anchor=\"middle\" x=\"371.5\" y=\"-364.8\" font-family=\"Helvetica,sans-Serif\" font-size=\"14.00\">value = [0, 3, 38]</text>\n",
       "<text text-anchor=\"middle\" x=\"371.5\" y=\"-349.8\" font-family=\"Helvetica,sans-Serif\" font-size=\"14.00\">class = virginica</text>\n",
       "</g>\n",
       "<!-- 2&#45;&gt;6 -->\n",
       "<g id=\"edge6\" class=\"edge\">\n",
       "<title>2&#45;&gt;6</title>\n",
       "<path fill=\"none\" stroke=\"black\" d=\"M311.42,-460.91C318.48,-451.92 326.04,-442.32 333.32,-433.05\"/>\n",
       "<polygon fill=\"black\" stroke=\"black\" points=\"336.21,-435.05 339.64,-425.02 330.7,-430.72 336.21,-435.05\"/>\n",
       "</g>\n",
       "<!-- 4 -->\n",
       "<g id=\"node5\" class=\"node\">\n",
       "<title>4</title>\n",
       "<polygon fill=\"#39e581\" stroke=\"black\" points=\"121,-298.5 0,-298.5 0,-230.5 121,-230.5 121,-298.5\"/>\n",
       "<text text-anchor=\"middle\" x=\"60.5\" y=\"-283.3\" font-family=\"Helvetica,sans-Serif\" font-size=\"14.00\">gini = 0.0</text>\n",
       "<text text-anchor=\"middle\" x=\"60.5\" y=\"-268.3\" font-family=\"Helvetica,sans-Serif\" font-size=\"14.00\">samples = 37</text>\n",
       "<text text-anchor=\"middle\" x=\"60.5\" y=\"-253.3\" font-family=\"Helvetica,sans-Serif\" font-size=\"14.00\">value = [0, 37, 0]</text>\n",
       "<text text-anchor=\"middle\" x=\"60.5\" y=\"-238.3\" font-family=\"Helvetica,sans-Serif\" font-size=\"14.00\">class = versicolor</text>\n",
       "</g>\n",
       "<!-- 3&#45;&gt;4 -->\n",
       "<g id=\"edge4\" class=\"edge\">\n",
       "<title>3&#45;&gt;4</title>\n",
       "<path fill=\"none\" stroke=\"black\" d=\"M143.44,-341.91C130.62,-330.1 116.64,-317.22 103.86,-305.45\"/>\n",
       "<polygon fill=\"black\" stroke=\"black\" points=\"106.23,-302.87 96.5,-298.67 101.48,-308.02 106.23,-302.87\"/>\n",
       "</g>\n",
       "<!-- 5 -->\n",
       "<g id=\"node6\" class=\"node\">\n",
       "<title>5</title>\n",
       "<polygon fill=\"#8139e5\" stroke=\"black\" points=\"252,-298.5 139,-298.5 139,-230.5 252,-230.5 252,-298.5\"/>\n",
       "<text text-anchor=\"middle\" x=\"195.5\" y=\"-283.3\" font-family=\"Helvetica,sans-Serif\" font-size=\"14.00\">gini = 0.0</text>\n",
       "<text text-anchor=\"middle\" x=\"195.5\" y=\"-268.3\" font-family=\"Helvetica,sans-Serif\" font-size=\"14.00\">samples = 1</text>\n",
       "<text text-anchor=\"middle\" x=\"195.5\" y=\"-253.3\" font-family=\"Helvetica,sans-Serif\" font-size=\"14.00\">value = [0, 0, 1]</text>\n",
       "<text text-anchor=\"middle\" x=\"195.5\" y=\"-238.3\" font-family=\"Helvetica,sans-Serif\" font-size=\"14.00\">class = virginica</text>\n",
       "</g>\n",
       "<!-- 3&#45;&gt;5 -->\n",
       "<g id=\"edge5\" class=\"edge\">\n",
       "<title>3&#45;&gt;5</title>\n",
       "<path fill=\"none\" stroke=\"black\" d=\"M190.28,-341.91C191.01,-331.2 191.8,-319.62 192.54,-308.78\"/>\n",
       "<polygon fill=\"black\" stroke=\"black\" points=\"196.04,-308.88 193.23,-298.67 189.06,-308.4 196.04,-308.88\"/>\n",
       "</g>\n",
       "<!-- 7 -->\n",
       "<g id=\"node8\" class=\"node\">\n",
       "<title>7</title>\n",
       "<polygon fill=\"#ffffff\" stroke=\"black\" points=\"443.5,-306 285.5,-306 285.5,-223 443.5,-223 443.5,-306\"/>\n",
       "<text text-anchor=\"middle\" x=\"364.5\" y=\"-290.8\" font-family=\"Helvetica,sans-Serif\" font-size=\"14.00\">sepal width (cm) &lt;= 2.6</text>\n",
       "<text text-anchor=\"middle\" x=\"364.5\" y=\"-275.8\" font-family=\"Helvetica,sans-Serif\" font-size=\"14.00\">gini = 0.5</text>\n",
       "<text text-anchor=\"middle\" x=\"364.5\" y=\"-260.8\" font-family=\"Helvetica,sans-Serif\" font-size=\"14.00\">samples = 4</text>\n",
       "<text text-anchor=\"middle\" x=\"364.5\" y=\"-245.8\" font-family=\"Helvetica,sans-Serif\" font-size=\"14.00\">value = [0, 2, 2]</text>\n",
       "<text text-anchor=\"middle\" x=\"364.5\" y=\"-230.8\" font-family=\"Helvetica,sans-Serif\" font-size=\"14.00\">class = versicolor</text>\n",
       "</g>\n",
       "<!-- 6&#45;&gt;7 -->\n",
       "<g id=\"edge7\" class=\"edge\">\n",
       "<title>6&#45;&gt;7</title>\n",
       "<path fill=\"none\" stroke=\"black\" d=\"M369.07,-341.91C368.57,-333.56 368.04,-324.67 367.52,-316.02\"/>\n",
       "<polygon fill=\"black\" stroke=\"black\" points=\"371.02,-315.79 366.92,-306.02 364.03,-316.21 371.02,-315.79\"/>\n",
       "</g>\n",
       "<!-- 12 -->\n",
       "<g id=\"node13\" class=\"node\">\n",
       "<title>12</title>\n",
       "<polygon fill=\"#843ee6\" stroke=\"black\" points=\"637.5,-306 469.5,-306 469.5,-223 637.5,-223 637.5,-306\"/>\n",
       "<text text-anchor=\"middle\" x=\"553.5\" y=\"-290.8\" font-family=\"Helvetica,sans-Serif\" font-size=\"14.00\">petal length (cm) &lt;= 4.85</text>\n",
       "<text text-anchor=\"middle\" x=\"553.5\" y=\"-275.8\" font-family=\"Helvetica,sans-Serif\" font-size=\"14.00\">gini = 0.053</text>\n",
       "<text text-anchor=\"middle\" x=\"553.5\" y=\"-260.8\" font-family=\"Helvetica,sans-Serif\" font-size=\"14.00\">samples = 37</text>\n",
       "<text text-anchor=\"middle\" x=\"553.5\" y=\"-245.8\" font-family=\"Helvetica,sans-Serif\" font-size=\"14.00\">value = [0, 1, 36]</text>\n",
       "<text text-anchor=\"middle\" x=\"553.5\" y=\"-230.8\" font-family=\"Helvetica,sans-Serif\" font-size=\"14.00\">class = virginica</text>\n",
       "</g>\n",
       "<!-- 6&#45;&gt;12 -->\n",
       "<g id=\"edge12\" class=\"edge\">\n",
       "<title>6&#45;&gt;12</title>\n",
       "<path fill=\"none\" stroke=\"black\" d=\"M434.64,-341.91C449.89,-332.11 466.29,-321.56 481.89,-311.53\"/>\n",
       "<polygon fill=\"black\" stroke=\"black\" points=\"483.95,-314.37 490.47,-306.02 480.16,-308.48 483.95,-314.37\"/>\n",
       "</g>\n",
       "<!-- 8 -->\n",
       "<g id=\"node9\" class=\"node\">\n",
       "<title>8</title>\n",
       "<polygon fill=\"#8139e5\" stroke=\"black\" points=\"261,-179.5 148,-179.5 148,-111.5 261,-111.5 261,-179.5\"/>\n",
       "<text text-anchor=\"middle\" x=\"204.5\" y=\"-164.3\" font-family=\"Helvetica,sans-Serif\" font-size=\"14.00\">gini = 0.0</text>\n",
       "<text text-anchor=\"middle\" x=\"204.5\" y=\"-149.3\" font-family=\"Helvetica,sans-Serif\" font-size=\"14.00\">samples = 1</text>\n",
       "<text text-anchor=\"middle\" x=\"204.5\" y=\"-134.3\" font-family=\"Helvetica,sans-Serif\" font-size=\"14.00\">value = [0, 0, 1]</text>\n",
       "<text text-anchor=\"middle\" x=\"204.5\" y=\"-119.3\" font-family=\"Helvetica,sans-Serif\" font-size=\"14.00\">class = virginica</text>\n",
       "</g>\n",
       "<!-- 7&#45;&gt;8 -->\n",
       "<g id=\"edge8\" class=\"edge\">\n",
       "<title>7&#45;&gt;8</title>\n",
       "<path fill=\"none\" stroke=\"black\" d=\"M308.99,-222.91C292.54,-210.88 274.56,-197.73 258.23,-185.79\"/>\n",
       "<polygon fill=\"black\" stroke=\"black\" points=\"259.99,-182.74 249.86,-179.67 255.86,-188.39 259.99,-182.74\"/>\n",
       "</g>\n",
       "<!-- 9 -->\n",
       "<g id=\"node10\" class=\"node\">\n",
       "<title>9</title>\n",
       "<polygon fill=\"#9cf2c0\" stroke=\"black\" points=\"450,-187 279,-187 279,-104 450,-104 450,-187\"/>\n",
       "<text text-anchor=\"middle\" x=\"364.5\" y=\"-171.8\" font-family=\"Helvetica,sans-Serif\" font-size=\"14.00\">sepal length (cm) &lt;= 6.95</text>\n",
       "<text text-anchor=\"middle\" x=\"364.5\" y=\"-156.8\" font-family=\"Helvetica,sans-Serif\" font-size=\"14.00\">gini = 0.444</text>\n",
       "<text text-anchor=\"middle\" x=\"364.5\" y=\"-141.8\" font-family=\"Helvetica,sans-Serif\" font-size=\"14.00\">samples = 3</text>\n",
       "<text text-anchor=\"middle\" x=\"364.5\" y=\"-126.8\" font-family=\"Helvetica,sans-Serif\" font-size=\"14.00\">value = [0, 2, 1]</text>\n",
       "<text text-anchor=\"middle\" x=\"364.5\" y=\"-111.8\" font-family=\"Helvetica,sans-Serif\" font-size=\"14.00\">class = versicolor</text>\n",
       "</g>\n",
       "<!-- 7&#45;&gt;9 -->\n",
       "<g id=\"edge9\" class=\"edge\">\n",
       "<title>7&#45;&gt;9</title>\n",
       "<path fill=\"none\" stroke=\"black\" d=\"M364.5,-222.91C364.5,-214.65 364.5,-205.86 364.5,-197.3\"/>\n",
       "<polygon fill=\"black\" stroke=\"black\" points=\"368,-197.02 364.5,-187.02 361,-197.02 368,-197.02\"/>\n",
       "</g>\n",
       "<!-- 10 -->\n",
       "<g id=\"node11\" class=\"node\">\n",
       "<title>10</title>\n",
       "<polygon fill=\"#39e581\" stroke=\"black\" points=\"303,-68 182,-68 182,0 303,0 303,-68\"/>\n",
       "<text text-anchor=\"middle\" x=\"242.5\" y=\"-52.8\" font-family=\"Helvetica,sans-Serif\" font-size=\"14.00\">gini = 0.0</text>\n",
       "<text text-anchor=\"middle\" x=\"242.5\" y=\"-37.8\" font-family=\"Helvetica,sans-Serif\" font-size=\"14.00\">samples = 2</text>\n",
       "<text text-anchor=\"middle\" x=\"242.5\" y=\"-22.8\" font-family=\"Helvetica,sans-Serif\" font-size=\"14.00\">value = [0, 2, 0]</text>\n",
       "<text text-anchor=\"middle\" x=\"242.5\" y=\"-7.8\" font-family=\"Helvetica,sans-Serif\" font-size=\"14.00\">class = versicolor</text>\n",
       "</g>\n",
       "<!-- 9&#45;&gt;10 -->\n",
       "<g id=\"edge10\" class=\"edge\">\n",
       "<title>9&#45;&gt;10</title>\n",
       "<path fill=\"none\" stroke=\"black\" d=\"M319.07,-103.73C308.6,-94.33 297.48,-84.35 287.05,-74.99\"/>\n",
       "<polygon fill=\"black\" stroke=\"black\" points=\"289.38,-72.37 279.6,-68.3 284.71,-77.58 289.38,-72.37\"/>\n",
       "</g>\n",
       "<!-- 11 -->\n",
       "<g id=\"node12\" class=\"node\">\n",
       "<title>11</title>\n",
       "<polygon fill=\"#8139e5\" stroke=\"black\" points=\"434,-68 321,-68 321,0 434,0 434,-68\"/>\n",
       "<text text-anchor=\"middle\" x=\"377.5\" y=\"-52.8\" font-family=\"Helvetica,sans-Serif\" font-size=\"14.00\">gini = 0.0</text>\n",
       "<text text-anchor=\"middle\" x=\"377.5\" y=\"-37.8\" font-family=\"Helvetica,sans-Serif\" font-size=\"14.00\">samples = 1</text>\n",
       "<text text-anchor=\"middle\" x=\"377.5\" y=\"-22.8\" font-family=\"Helvetica,sans-Serif\" font-size=\"14.00\">value = [0, 0, 1]</text>\n",
       "<text text-anchor=\"middle\" x=\"377.5\" y=\"-7.8\" font-family=\"Helvetica,sans-Serif\" font-size=\"14.00\">class = virginica</text>\n",
       "</g>\n",
       "<!-- 9&#45;&gt;11 -->\n",
       "<g id=\"edge11\" class=\"edge\">\n",
       "<title>9&#45;&gt;11</title>\n",
       "<path fill=\"none\" stroke=\"black\" d=\"M369.34,-103.73C370.33,-95.43 371.37,-86.67 372.36,-78.28\"/>\n",
       "<polygon fill=\"black\" stroke=\"black\" points=\"375.84,-78.64 373.55,-68.3 368.89,-77.82 375.84,-78.64\"/>\n",
       "</g>\n",
       "<!-- 13 -->\n",
       "<g id=\"node14\" class=\"node\">\n",
       "<title>13</title>\n",
       "<polygon fill=\"#c09cf2\" stroke=\"black\" points=\"639,-187 468,-187 468,-104 639,-104 639,-187\"/>\n",
       "<text text-anchor=\"middle\" x=\"553.5\" y=\"-171.8\" font-family=\"Helvetica,sans-Serif\" font-size=\"14.00\">sepal length (cm) &lt;= 5.95</text>\n",
       "<text text-anchor=\"middle\" x=\"553.5\" y=\"-156.8\" font-family=\"Helvetica,sans-Serif\" font-size=\"14.00\">gini = 0.444</text>\n",
       "<text text-anchor=\"middle\" x=\"553.5\" y=\"-141.8\" font-family=\"Helvetica,sans-Serif\" font-size=\"14.00\">samples = 3</text>\n",
       "<text text-anchor=\"middle\" x=\"553.5\" y=\"-126.8\" font-family=\"Helvetica,sans-Serif\" font-size=\"14.00\">value = [0, 1, 2]</text>\n",
       "<text text-anchor=\"middle\" x=\"553.5\" y=\"-111.8\" font-family=\"Helvetica,sans-Serif\" font-size=\"14.00\">class = virginica</text>\n",
       "</g>\n",
       "<!-- 12&#45;&gt;13 -->\n",
       "<g id=\"edge13\" class=\"edge\">\n",
       "<title>12&#45;&gt;13</title>\n",
       "<path fill=\"none\" stroke=\"black\" d=\"M553.5,-222.91C553.5,-214.65 553.5,-205.86 553.5,-197.3\"/>\n",
       "<polygon fill=\"black\" stroke=\"black\" points=\"557,-197.02 553.5,-187.02 550,-197.02 557,-197.02\"/>\n",
       "</g>\n",
       "<!-- 16 -->\n",
       "<g id=\"node17\" class=\"node\">\n",
       "<title>16</title>\n",
       "<polygon fill=\"#8139e5\" stroke=\"black\" points=\"774,-179.5 657,-179.5 657,-111.5 774,-111.5 774,-179.5\"/>\n",
       "<text text-anchor=\"middle\" x=\"715.5\" y=\"-164.3\" font-family=\"Helvetica,sans-Serif\" font-size=\"14.00\">gini = 0.0</text>\n",
       "<text text-anchor=\"middle\" x=\"715.5\" y=\"-149.3\" font-family=\"Helvetica,sans-Serif\" font-size=\"14.00\">samples = 34</text>\n",
       "<text text-anchor=\"middle\" x=\"715.5\" y=\"-134.3\" font-family=\"Helvetica,sans-Serif\" font-size=\"14.00\">value = [0, 0, 34]</text>\n",
       "<text text-anchor=\"middle\" x=\"715.5\" y=\"-119.3\" font-family=\"Helvetica,sans-Serif\" font-size=\"14.00\">class = virginica</text>\n",
       "</g>\n",
       "<!-- 12&#45;&gt;16 -->\n",
       "<g id=\"edge16\" class=\"edge\">\n",
       "<title>12&#45;&gt;16</title>\n",
       "<path fill=\"none\" stroke=\"black\" d=\"M609.71,-222.91C626.36,-210.88 644.56,-197.73 661.1,-185.79\"/>\n",
       "<polygon fill=\"black\" stroke=\"black\" points=\"663.52,-188.36 669.58,-179.67 659.42,-182.68 663.52,-188.36\"/>\n",
       "</g>\n",
       "<!-- 14 -->\n",
       "<g id=\"node15\" class=\"node\">\n",
       "<title>14</title>\n",
       "<polygon fill=\"#39e581\" stroke=\"black\" points=\"600,-68 479,-68 479,0 600,0 600,-68\"/>\n",
       "<text text-anchor=\"middle\" x=\"539.5\" y=\"-52.8\" font-family=\"Helvetica,sans-Serif\" font-size=\"14.00\">gini = 0.0</text>\n",
       "<text text-anchor=\"middle\" x=\"539.5\" y=\"-37.8\" font-family=\"Helvetica,sans-Serif\" font-size=\"14.00\">samples = 1</text>\n",
       "<text text-anchor=\"middle\" x=\"539.5\" y=\"-22.8\" font-family=\"Helvetica,sans-Serif\" font-size=\"14.00\">value = [0, 1, 0]</text>\n",
       "<text text-anchor=\"middle\" x=\"539.5\" y=\"-7.8\" font-family=\"Helvetica,sans-Serif\" font-size=\"14.00\">class = versicolor</text>\n",
       "</g>\n",
       "<!-- 13&#45;&gt;14 -->\n",
       "<g id=\"edge14\" class=\"edge\">\n",
       "<title>13&#45;&gt;14</title>\n",
       "<path fill=\"none\" stroke=\"black\" d=\"M548.29,-103.73C547.23,-95.43 546.11,-86.67 545.03,-78.28\"/>\n",
       "<polygon fill=\"black\" stroke=\"black\" points=\"548.5,-77.77 543.76,-68.3 541.55,-78.66 548.5,-77.77\"/>\n",
       "</g>\n",
       "<!-- 15 -->\n",
       "<g id=\"node16\" class=\"node\">\n",
       "<title>15</title>\n",
       "<polygon fill=\"#8139e5\" stroke=\"black\" points=\"731,-68 618,-68 618,0 731,0 731,-68\"/>\n",
       "<text text-anchor=\"middle\" x=\"674.5\" y=\"-52.8\" font-family=\"Helvetica,sans-Serif\" font-size=\"14.00\">gini = 0.0</text>\n",
       "<text text-anchor=\"middle\" x=\"674.5\" y=\"-37.8\" font-family=\"Helvetica,sans-Serif\" font-size=\"14.00\">samples = 2</text>\n",
       "<text text-anchor=\"middle\" x=\"674.5\" y=\"-22.8\" font-family=\"Helvetica,sans-Serif\" font-size=\"14.00\">value = [0, 0, 2]</text>\n",
       "<text text-anchor=\"middle\" x=\"674.5\" y=\"-7.8\" font-family=\"Helvetica,sans-Serif\" font-size=\"14.00\">class = virginica</text>\n",
       "</g>\n",
       "<!-- 13&#45;&gt;15 -->\n",
       "<g id=\"edge15\" class=\"edge\">\n",
       "<title>13&#45;&gt;15</title>\n",
       "<path fill=\"none\" stroke=\"black\" d=\"M598.56,-103.73C608.84,-94.42 619.75,-84.54 630.01,-75.26\"/>\n",
       "<polygon fill=\"black\" stroke=\"black\" points=\"632.64,-77.6 637.7,-68.3 627.94,-72.41 632.64,-77.6\"/>\n",
       "</g>\n",
       "</g>\n",
       "</svg>\n"
      ],
      "text/plain": [
       "<graphviz.sources.Source at 0x1e67312b790>"
      ]
     },
     "execution_count": 4,
     "metadata": {},
     "output_type": "execute_result"
    }
   ],
   "source": [
    "### 시각화 결과 확인\n",
    "\n",
    "import graphviz\n",
    "\n",
    "# 위에서 생성된 tree.dot 파일을 Graphviz가 읽어서 시각화\n",
    "with open(\"tree.dot\") as f:\n",
    "    dot_graph = f.read()\n",
    "graphviz.Source(dot_graph)"
   ]
  },
  {
   "cell_type": "markdown",
   "metadata": {
    "id": "eQ68auPWMQMO"
   },
   "source": [
    "**📌 노드 내 지표 설명**\n",
    "- petal length : 자식 노드를 만들기 위한 규칙 조건.\n",
    "    - 이 조건이 없으면 리프 노드.\n",
    "- gini : value=[  ]로 주어진 데이터 분포에서의 지니 계수.\n",
    "- samples : 현 규칙에 해당하는 데이터 건수.\n",
    "- value = [  ] : 클래스 값 기반의 데이터 건수.\n",
    "    - 붓꽃 데이터 세트 클래스 값: 0, 1, 2\n",
    "        - 0: Setosa 품종\n",
    "        - 1: Versicolor 품종\n",
    "        - 2: Virginia 품종\n",
    "        - ex) Value = [41, 40, 39] : Setosa 41개, Versicolor 40개, Virginia 39개 의미.\n"
   ]
  },
  {
   "cell_type": "markdown",
   "metadata": {
    "id": "Y9eYr4PIMQMO"
   },
   "source": [
    "### **문제**\n",
    "- 시각화된 트리 내에서, 루트 노드 내 지표들이 의미하는 것을 각각 서술하세요.\n"
   ]
  },
  {
   "cell_type": "markdown",
   "metadata": {
    "id": "aTxqUWgbSi09"
   },
   "source": [
    "### **답안**\n",
    "**1-1) petal length(cm) <= 2.45**\n",
    "\n",
    ": 자식노드를 만들기 위한 규칙 조건이다. petal length가 2.45cm가 넘는지 안 넘는지에 따라 분류한다. 이 조건이 없으면 리프 노드이다.\n",
    "\n",
    "**1-2) gini = 0.667**\n",
    "\n",
    ": 주어진 데이터 분포에서의 지니 계수이다. \n",
    "\n",
    "**1-3) samples = 120**\n",
    "\n",
    ": 현 규칙에 해당하는 데이터 건수를 의미한다.\n",
    "\n",
    "**1-4) value = [41, 40, 39]**\n",
    "\n",
    ": 클래스 값 기반의 데이터 건수이다. 붓꽃 데이터 세트는 클래스 값으로 0,1,2를 가지고 있으며, 0:Setosa, 1:Versicolor, 2:Viginica 품종을 가리킨다. Value = [41,40, 39] 이므로 Setosa 41개, Vescioclor 40개, Virginica 39개로 데이터가 구성되어 있다는 의미이다.\n",
    "\n",
    "**1-5) class = setosa**\n",
    "\n",
    ": 하위 노드를 가질 경우에 Setosa의 개수가 제일 많다는 의미이다."
   ]
  },
  {
   "cell_type": "markdown",
   "metadata": {
    "id": "fJ3aJGvGMQMQ"
   },
   "source": [
    "# **2. 결정 트리(2)**\n",
    "- 3주차 브랜치에 있는 `banana_quality.csv` 를 다운받은 후 실습을 진행해 주세요."
   ]
  },
  {
   "cell_type": "code",
   "execution_count": 5,
   "metadata": {
    "executionInfo": {
     "elapsed": 1124,
     "status": "ok",
     "timestamp": 1711432487206,
     "user": {
      "displayName": "차수빈",
      "userId": "16979887891359732529"
     },
     "user_tz": -540
    },
    "id": "6_ZsNuDBMQMQ"
   },
   "outputs": [],
   "source": [
    "import pandas as pd\n",
    "import matplotlib.pyplot as plt\n",
    "%matplotlib inline"
   ]
  },
  {
   "cell_type": "markdown",
   "metadata": {
    "id": "3U90iwE5MQMQ"
   },
   "source": [
    "## **2-1. `banana-quality.csv` 데이터를 불러와 banana에 저장해 주세요.**\n",
    "- 파일 경로 설정 확인 해주세요.\n",
    "- [구글 드라이브 마운트](https://velog.io/@kiache12/Colab%EC%97%90-%EA%B5%AC%EA%B8%80-%EB%93%9C%EB%9D%BC%EC%9D%B4%EB%B8%8C-csv%ED%8C%8C%EC%9D%BC-%EB%A7%88%EC%9A%B4%ED%8A%B8%ED%95%98%EA%B8%B0)"
   ]
  },
  {
   "cell_type": "code",
   "execution_count": null,
   "metadata": {
    "id": "A-YKdOU7Vk8D"
   },
   "outputs": [],
   "source": [
    "### 구글 Colab으로 과제를 수행하시는 분들만 실행해 주세요.\n",
    "\n",
    "from google.colab import drive\n",
    "drive.mount('/content/drive')"
   ]
  },
  {
   "cell_type": "code",
   "execution_count": 7,
   "metadata": {
    "id": "xkXi0rsXMQMQ"
   },
   "outputs": [],
   "source": [
    "banana = pd.read_csv('./banana_quality.csv')"
   ]
  },
  {
   "cell_type": "markdown",
   "metadata": {
    "id": "XoXXKsEJMQMQ"
   },
   "source": [
    "## **2-2. banana의 상위 5개 행을 확인해 봅시다.**"
   ]
  },
  {
   "cell_type": "code",
   "execution_count": 9,
   "metadata": {
    "id": "4SCW1Jm0MQMQ"
   },
   "outputs": [
    {
     "data": {
      "text/html": [
       "<div>\n",
       "<style scoped>\n",
       "    .dataframe tbody tr th:only-of-type {\n",
       "        vertical-align: middle;\n",
       "    }\n",
       "\n",
       "    .dataframe tbody tr th {\n",
       "        vertical-align: top;\n",
       "    }\n",
       "\n",
       "    .dataframe thead th {\n",
       "        text-align: right;\n",
       "    }\n",
       "</style>\n",
       "<table border=\"1\" class=\"dataframe\">\n",
       "  <thead>\n",
       "    <tr style=\"text-align: right;\">\n",
       "      <th></th>\n",
       "      <th>Size</th>\n",
       "      <th>Weight</th>\n",
       "      <th>Sweetness</th>\n",
       "      <th>Softness</th>\n",
       "      <th>HarvestTime</th>\n",
       "      <th>Ripeness</th>\n",
       "      <th>Acidity</th>\n",
       "      <th>Quality</th>\n",
       "    </tr>\n",
       "  </thead>\n",
       "  <tbody>\n",
       "    <tr>\n",
       "      <th>0</th>\n",
       "      <td>-1.924968</td>\n",
       "      <td>0.468078</td>\n",
       "      <td>3.077832</td>\n",
       "      <td>-1.472177</td>\n",
       "      <td>0.294799</td>\n",
       "      <td>2.435570</td>\n",
       "      <td>0.271290</td>\n",
       "      <td>Good</td>\n",
       "    </tr>\n",
       "    <tr>\n",
       "      <th>1</th>\n",
       "      <td>-2.409751</td>\n",
       "      <td>0.486870</td>\n",
       "      <td>0.346921</td>\n",
       "      <td>-2.495099</td>\n",
       "      <td>-0.892213</td>\n",
       "      <td>2.067549</td>\n",
       "      <td>0.307325</td>\n",
       "      <td>Good</td>\n",
       "    </tr>\n",
       "    <tr>\n",
       "      <th>2</th>\n",
       "      <td>-0.357607</td>\n",
       "      <td>1.483176</td>\n",
       "      <td>1.568452</td>\n",
       "      <td>-2.645145</td>\n",
       "      <td>-0.647267</td>\n",
       "      <td>3.090643</td>\n",
       "      <td>1.427322</td>\n",
       "      <td>Good</td>\n",
       "    </tr>\n",
       "    <tr>\n",
       "      <th>3</th>\n",
       "      <td>-0.868524</td>\n",
       "      <td>1.566201</td>\n",
       "      <td>1.889605</td>\n",
       "      <td>-1.273761</td>\n",
       "      <td>-1.006278</td>\n",
       "      <td>1.873001</td>\n",
       "      <td>0.477862</td>\n",
       "      <td>Good</td>\n",
       "    </tr>\n",
       "    <tr>\n",
       "      <th>4</th>\n",
       "      <td>0.651825</td>\n",
       "      <td>1.319199</td>\n",
       "      <td>-0.022459</td>\n",
       "      <td>-1.209709</td>\n",
       "      <td>-1.430692</td>\n",
       "      <td>1.078345</td>\n",
       "      <td>2.812442</td>\n",
       "      <td>Good</td>\n",
       "    </tr>\n",
       "  </tbody>\n",
       "</table>\n",
       "</div>"
      ],
      "text/plain": [
       "       Size    Weight  Sweetness  Softness  HarvestTime  Ripeness   Acidity  \\\n",
       "0 -1.924968  0.468078   3.077832 -1.472177     0.294799  2.435570  0.271290   \n",
       "1 -2.409751  0.486870   0.346921 -2.495099    -0.892213  2.067549  0.307325   \n",
       "2 -0.357607  1.483176   1.568452 -2.645145    -0.647267  3.090643  1.427322   \n",
       "3 -0.868524  1.566201   1.889605 -1.273761    -1.006278  1.873001  0.477862   \n",
       "4  0.651825  1.319199  -0.022459 -1.209709    -1.430692  1.078345  2.812442   \n",
       "\n",
       "  Quality  \n",
       "0    Good  \n",
       "1    Good  \n",
       "2    Good  \n",
       "3    Good  \n",
       "4    Good  "
      ]
     },
     "execution_count": 9,
     "metadata": {},
     "output_type": "execute_result"
    }
   ],
   "source": [
    "### 답안\n",
    "\n",
    "banana.head()\n"
   ]
  },
  {
   "cell_type": "markdown",
   "metadata": {
    "id": "lIbLxJWpMQMR"
   },
   "source": [
    "## **2-3. 데이터 정보를 확인해 주세요.**"
   ]
  },
  {
   "cell_type": "code",
   "execution_count": 10,
   "metadata": {
    "id": "GeedkdoEMQMR"
   },
   "outputs": [
    {
     "name": "stdout",
     "output_type": "stream",
     "text": [
      "<class 'pandas.core.frame.DataFrame'>\n",
      "RangeIndex: 8000 entries, 0 to 7999\n",
      "Data columns (total 8 columns):\n",
      " #   Column       Non-Null Count  Dtype  \n",
      "---  ------       --------------  -----  \n",
      " 0   Size         8000 non-null   float64\n",
      " 1   Weight       8000 non-null   float64\n",
      " 2   Sweetness    8000 non-null   float64\n",
      " 3   Softness     8000 non-null   float64\n",
      " 4   HarvestTime  8000 non-null   float64\n",
      " 5   Ripeness     8000 non-null   float64\n",
      " 6   Acidity      8000 non-null   float64\n",
      " 7   Quality      8000 non-null   object \n",
      "dtypes: float64(7), object(1)\n",
      "memory usage: 500.1+ KB\n"
     ]
    }
   ],
   "source": [
    "### 답안\n",
    "\n",
    "banana.info()"
   ]
  },
  {
   "cell_type": "markdown",
   "metadata": {
    "id": "TYBvi-hPMQMR"
   },
   "source": [
    "## **2-4. feature(X)와 target(y)를 분리해 주세요.**\n",
    "- 이때 target(y) 변수는 `Quality` 입니다."
   ]
  },
  {
   "cell_type": "code",
   "execution_count": 12,
   "metadata": {
    "id": "vMYlZfspMQMR"
   },
   "outputs": [],
   "source": [
    "### 답안\n",
    "\n",
    "X = banana.drop(columns=['Quality'])\n",
    "y = banana['Quality']\n"
   ]
  },
  {
   "cell_type": "markdown",
   "metadata": {
    "id": "IHpig4sKMQMR"
   },
   "source": [
    "## **2-5. `train_test_split()`를 사용하여 훈련 세트와 테스트 세트로 나누어 주세요.**<br>\n",
    "(random_state = 42, train: test = 8:2)"
   ]
  },
  {
   "cell_type": "code",
   "execution_count": 13,
   "metadata": {
    "id": "JF86Sam5MQMR"
   },
   "outputs": [],
   "source": [
    "from sklearn.model_selection import train_test_split\n",
    "\n",
    "### 답안\n",
    "\n",
    "X_train, X_test, y_train, y_test = train_test_split(X, y, test_size=0.2, random_state=42)"
   ]
  },
  {
   "cell_type": "markdown",
   "metadata": {
    "id": "PnEvPn8KMQMR"
   },
   "source": [
    "## **2-6. `DecisionTreeClassifier`를 사용해 훈련 데이터를 학습시킨 후, 테스트 데이터로 예측의 정확도를 구하세요.**\n",
    "(DecisionTreeClassifer의 random_state = 42)"
   ]
  },
  {
   "cell_type": "code",
   "execution_count": 15,
   "metadata": {
    "id": "R4m0Lul4MQMR"
   },
   "outputs": [
    {
     "name": "stdout",
     "output_type": "stream",
     "text": [
      "결정 트리 예측 정확도 : 0.9387\n"
     ]
    }
   ],
   "source": [
    "from sklearn.tree import DecisionTreeClassifier\n",
    "from sklearn.metrics import accuracy_score\n",
    "\n",
    "### 답안\n",
    "\n",
    "# DecisionTreeClassifier 생성\n",
    "dt_clf = DecisionTreeClassifier(random_state=42)\n",
    "\n",
    "# DecisionTreeClassifer 학습\n",
    "dt_clf.fit(X_train, y_train)\n",
    "\n",
    "# 예측\n",
    "pred = dt_clf.predict(X_test)\n",
    "\n",
    "# 정확도 계산\n",
    "accuracy = accuracy_score(y_test, pred)\n",
    "\n",
    "print('결정 트리 예측 정확도 : {0:.4f}'.format(accuracy))"
   ]
  },
  {
   "cell_type": "markdown",
   "metadata": {
    "id": "p-y2PO_JMQMS"
   },
   "source": [
    "## **2-7. GridSearchCV를 사용해 최적의 파라미터를 찾고, 예측을 수행하세요.**"
   ]
  },
  {
   "cell_type": "markdown",
   "metadata": {
    "id": "C51JOBQuMQMR"
   },
   "source": [
    "**파라미터 조합**\n",
    "\n",
    "```\n",
    "params = {\n",
    "    'criterion': ['gini', 'entropy'],\n",
    "    'max_depth': [None, 10, 30],\n",
    "    'min_samples_split': [2, 5, 10]\n",
    "}\n",
    "```"
   ]
  },
  {
   "cell_type": "code",
   "execution_count": 19,
   "metadata": {
    "id": "APCf8BJ-MQMS"
   },
   "outputs": [
    {
     "name": "stdout",
     "output_type": "stream",
     "text": [
      "최적의 파라미터: {'criterion': 'entropy', 'max_depth': 10, 'min_samples_split': 2}\n",
      "최적의 파라미터를 사용한 테스트 데이터 예측 정확도: 0.935625\n"
     ]
    }
   ],
   "source": [
    "from sklearn.model_selection import GridSearchCV\n",
    "\n",
    "### 답안\n",
    "\n",
    "params = {\n",
    "    'criterion': ['gini', 'entropy'],\n",
    "    'max_depth': [None, 10, 30],\n",
    "    'min_samples_split': [2, 5, 10]\n",
    "\n",
    "}\n",
    "\n",
    "# GridSearchCV 생성\n",
    "grid_search = GridSearchCV(DecisionTreeClassifier(random_state=42), params, cv=5)\n",
    "\n",
    "# GridSearchCV를 사용하여 모델 학습 및 최적의 파라미터 조합 찾기\n",
    "grid_search.fit(X_train, y_train)\n",
    "\n",
    "# 최적의 파라미터 출력\n",
    "print(\"최적의 파라미터:\", grid_search.best_params_)\n",
    "\n",
    "# 최적의 파라미터로 예측\n",
    "y_pred_grid = grid_search.predict(X_test)\n",
    "\n",
    "# 정확도 계산\n",
    "accuracy_grid = accuracy_score(y_test, y_pred_grid)\n",
    "print(\"최적의 파라미터를 사용한 테스트 데이터 예측 정확도:\", accuracy_grid)"
   ]
  },
  {
   "cell_type": "markdown",
   "metadata": {
    "id": "GS4Eg8KQMQMS"
   },
   "source": [
    "## **2-8. 최고 평균 정확도 수치와 최적 하이퍼 파라미터를 출력하세요.**\n",
    "\n",
    "**출력 형태**\n",
    "```\n",
    "GridSearchCV 최고 평균 정확도 수치 : ~<br>\n",
    "GridSearchCV 최적 하이퍼 파라미터 :  {'criterion': ~, 'max_depth': ~, 'min_samples_split': ~}\n",
    "```"
   ]
  },
  {
   "cell_type": "code",
   "execution_count": 20,
   "metadata": {
    "id": "JBOgN_doMQMS"
   },
   "outputs": [
    {
     "name": "stdout",
     "output_type": "stream",
     "text": [
      "GridSearchCV 최고 평균 정확도 수치: 0.93671875\n",
      "GridSearchCV 최적 하이퍼 파라미터: {'criterion': 'entropy', 'max_depth': 10, 'min_samples_split': 2}\n"
     ]
    }
   ],
   "source": [
    "### 답안\n",
    "\n",
    "# 최고 평균 정확도 수치 출력\n",
    "print(\"GridSearchCV 최고 평균 정확도 수치:\", grid_search.best_score_)\n",
    "\n",
    "# 최적 하이퍼 파라미터 출력\n",
    "print(\"GridSearchCV 최적 하이퍼 파라미터:\", grid_search.best_params_)"
   ]
  },
  {
   "cell_type": "markdown",
   "metadata": {
    "id": "VF7M1vQHMQMS"
   },
   "source": [
    "## **2-9. 최적화된 모델로 테스트 데이터 세트에 대해 예측을 수행해 주세요.**"
   ]
  },
  {
   "cell_type": "code",
   "execution_count": 21,
   "metadata": {
    "id": "hI0xR3swMQMS"
   },
   "outputs": [
    {
     "name": "stdout",
     "output_type": "stream",
     "text": [
      "결정 트리 예측 정확도 :  0.93875\n"
     ]
    }
   ],
   "source": [
    "### 답안\n",
    "\n",
    "# 최적 모델로 예측\n",
    "y_pred_best = grid_search.predict(X_test)\n",
    "\n",
    "# 최적 모델 정확도 계산\n",
    "accuracy_best = accuracy_score(y_test, y_pred_best)\n",
    "\n",
    "print('결정 트리 예측 정확도 : ', accuracy)"
   ]
  },
  {
   "cell_type": "markdown",
   "metadata": {
    "id": "-AK9lKr0MQMS"
   },
   "source": [
    "## **2-10. 결정 트리에서 각 피처의 중요도를 확인해 주세요.**\n",
    "- 중요도가 높은 순으로 **Top 5** 피처를 막대그래프로 표현해 주세요."
   ]
  },
  {
   "cell_type": "code",
   "execution_count": 22,
   "metadata": {
    "id": "oAP3QvPNMQMS"
   },
   "outputs": [
    {
     "data": {
      "image/png": "[encoded data removed]",
      "text/plain": [
       "<Figure size 1000x600 with 1 Axes>"
      ]
     },
     "metadata": {},
     "output_type": "display_data"
    }
   ],
   "source": [
    "import seaborn as sns\n",
    "\n",
    "### 답안\n",
    "\n",
    "# 결정 트리에서 피처의 중요도 추출\n",
    "feature_importances = grid_search.best_estimator_.feature_importances_\n",
    "\n",
    "# 중요도가 높은 순으로 정렬하여 상위 5개 피처 선택\n",
    "top_features_indices = feature_importances.argsort()[-5:][::-1]\n",
    "top_features = X.columns[top_features_indices]\n",
    "top_importances = feature_importances[top_features_indices]\n",
    "\n",
    "# 중요도가 높은 순으로 상위 5개 피처를 막대그래프로 시각화\n",
    "plt.figure(figsize=(10, 6))\n",
    "sns.barplot(x=top_importances, y=top_features, palette=\"viridis\")\n",
    "plt.xlabel('중요도')\n",
    "plt.ylabel('피처')\n",
    "plt.title('상위 5개 피처의 중요도')\n",
    "plt.show()\n"
   ]
  },
  {
   "cell_type": "markdown",
   "metadata": {
    "id": "dVZ8IGGxMQMS"
   },
   "source": [
    "# **3. 앙상블**"
   ]
  },
  {
   "cell_type": "code",
   "execution_count": 23,
   "metadata": {
    "id": "qMpsNeDhMQMS"
   },
   "outputs": [],
   "source": [
    "import pandas as pd\n",
    "from sklearn.ensemble import VotingClassifier\n",
    "from sklearn.linear_model import LogisticRegression\n",
    "from sklearn.neighbors import KNeighborsClassifier\n",
    "from sklearn.datasets import load_wine\n",
    "from sklearn.model_selection import train_test_split\n",
    "from sklearn.metrics import accuracy_score"
   ]
  },
  {
   "cell_type": "markdown",
   "metadata": {
    "id": "Ur-LeIakMQMT"
   },
   "source": [
    "## **3-1. wine 데이터셋을 `load_wine()` 함수를 사용해서 불러온 후, 훈련 세트와 테스트 세트로 나눠 주세요.**\n",
    "- test_size=0.2, random_state=42"
   ]
  },
  {
   "cell_type": "code",
   "execution_count": 24,
   "metadata": {
    "id": "UFPhYmlTMQMT"
   },
   "outputs": [],
   "source": [
    "wine = load_wine()\n",
    "X = wine.data\n",
    "y = wine.target\n",
    "\n",
    "## 데이터 분리\n",
    "\n",
    "X_train, X_test, y_train, y_test = train_test_split(X, y, test_size=0.2, random_state=42)"
   ]
  },
  {
   "cell_type": "markdown",
   "metadata": {
    "id": "QHHvcS-mMQMT"
   },
   "source": [
    "## **3-2. 로지스틱 회귀, KNN, 결정 트리를 개별 모델로 사용하여 개별 모델의 학습/예측/평가를 진행해 보세요.**\n",
    "- 로지스틱 회귀: solver = \"liblinear\"\n",
    "- KNN: n_neighbors = 16\n",
    "- 결정 트리: random_state = 12"
   ]
  },
  {
   "cell_type": "code",
   "execution_count": 25,
   "metadata": {
    "id": "uDsmg6lQMQMT"
   },
   "outputs": [],
   "source": [
    "from sklearn.linear_model import LogisticRegression\n",
    "from sklearn.neighbors import KNeighborsClassifier\n",
    "from sklearn.tree import DecisionTreeClassifier\n",
    "from sklearn.metrics import accuracy_score"
   ]
  },
  {
   "cell_type": "code",
   "execution_count": 26,
   "metadata": {
    "id": "vFLMhpCUaDkR"
   },
   "outputs": [
    {
     "name": "stdout",
     "output_type": "stream",
     "text": [
      "로지스틱 회귀 정확도: 0.9722222222222222\n",
      "KNN 정확도: 0.7222222222222222\n",
      "결정 트리 정확도: 0.9444444444444444\n"
     ]
    }
   ],
   "source": [
    "### 답안\n",
    "\n",
    "lr_clf = LogisticRegression(solver=\"liblinear\")\n",
    "lr_clf.fit(X_train, y_train)\n",
    "lr_pred = lr_clf.predict(X_test)\n",
    "lr_accuracy = accuracy_score(y_test, lr_pred)\n",
    "\n",
    "\n",
    "knn_clf = KNeighborsClassifier(n_neighbors=16)\n",
    "knn_clf.fit(X_train, y_train)\n",
    "knn_pred = knn_clf.predict(X_test)\n",
    "knn_accuracy = accuracy_score(y_test, knn_pred)\n",
    "\n",
    "\n",
    "dt_clf = DecisionTreeClassifier(random_state=12)\n",
    "dt_clf.fit(X_train, y_train)\n",
    "dt_pred = dt_clf.predict(X_test)\n",
    "dt_accuracy = accuracy_score(y_test, dt_pred)\n",
    "\n",
    "\n",
    "print(\"로지스틱 회귀 정확도:\", lr_accuracy)\n",
    "print(\"KNN 정확도:\", knn_accuracy)\n",
    "print(\"결정 트리 정확도:\", dt_accuracy)"
   ]
  },
  {
   "cell_type": "markdown",
   "metadata": {
    "id": "X_oBLufGMQMT"
   },
   "source": [
    "## **3-3. 로지스틱 회귀와 결정 트리를 기반으로 하여 '하드 보팅' 방식으로 보팅 분류기를 생성한 후, 학습/예측/평가를 진행해 보세요.**"
   ]
  },
  {
   "cell_type": "code",
   "execution_count": 27,
   "metadata": {
    "id": "ssCqGCEPMQMT"
   },
   "outputs": [
    {
     "name": "stdout",
     "output_type": "stream",
     "text": [
      "보팅 분류기 정확도: 0.9444444444444444\n"
     ]
    }
   ],
   "source": [
    "from sklearn.ensemble import VotingClassifier\n",
    "\n",
    "# VotingClassifier 생성\n",
    "vo_clf = VotingClassifier(estimators=[('lr', lr_clf), ('dt', dt_clf)], voting='hard')\n",
    "\n",
    "# VotingClassifier 학습/예측/평가\n",
    "vo_clf.fit(X_train, y_train)\n",
    "vo_pred = vo_clf.predict(X_test)\n",
    "vo_accuracy = accuracy_score(y_test, vo_pred)\n",
    "\n",
    "# 평가 결과 출력\n",
    "print(\"보팅 분류기 정확도:\", vo_accuracy)\n"
   ]
  },
  {
   "cell_type": "markdown",
   "metadata": {
    "id": "IJJom-tnMQMW"
   },
   "source": [
    "## **3-4. KNN과 결정트리를 기반으로 하여 '소프트 보팅' 방식으로 보팅 분류기를 생성한 후, 학습/예측/평가를 진행해보세요.**"
   ]
  },
  {
   "cell_type": "code",
   "execution_count": 29,
   "metadata": {
    "id": "NtXcnXHfMQMX"
   },
   "outputs": [
    {
     "name": "stdout",
     "output_type": "stream",
     "text": [
      "소프트 보팅 분류기 정확도: 0.9444444444444444\n"
     ]
    }
   ],
   "source": [
    "from sklearn.ensemble import VotingClassifier\n",
    "\n",
    "# VotingClassifier 생성\n",
    "vo_clf2 = VotingClassifier(estimators=[('knn', knn_clf), ('dt', dt_clf)], voting='soft')\n",
    "\n",
    "# VotingClassifier 학습/예측/평가\n",
    "vo_clf2.fit(X_train, y_train)\n",
    "vo_pred2 = vo_clf2.predict(X_test)\n",
    "vo_accuracy2 = accuracy_score(y_test, vo_pred2)\n",
    "\n",
    "\n",
    "print(\"소프트 보팅 분류기 정확도:\", vo_accuracy2)"
   ]
  },
  {
   "cell_type": "markdown",
   "metadata": {
    "id": "bd_LhKj6MQMX"
   },
   "source": [
    "# **4. 랜덤 포레스트**"
   ]
  },
  {
   "cell_type": "markdown",
   "metadata": {
    "id": "mv8Qwh83MQMX"
   },
   "source": [
    "- 예습 과제에서 사용되었던 `human_activity` 데이터를 다시 사용합니다.\n",
    "  - 실습 전 디렉토리에 파일이 포함되어 있는지 확인해 주세요.\n",
    "  - 데이터 파일 경로 확인 해주세요.\n",
    "- 아래의 셀을 실행시킨 후에 실습을 진행해 주세요."
   ]
  },
  {
   "cell_type": "code",
   "execution_count": 30,
   "metadata": {
    "id": "m_L6u6ExMQMX"
   },
   "outputs": [],
   "source": [
    "def get_new_feature_name_df(old_feature_name_df):\n",
    "    feature_dup_df = pd.DataFrame(data=old_feature_name_df.groupby('column_name').cumcount(),\n",
    "                                  columns=['dup_cnt'])\n",
    "    feature_dup_df = feature_dup_df.reset_index()\n",
    "    new_feature_name_df = pd.merge(old_feature_name_df.reset_index(), feature_dup_df, how='outer')\n",
    "    new_feature_name_df['column_name'] = new_feature_name_df[['column_name', 'dup_cnt']].apply(lambda x : x[0]+'_'+str(x[1])\n",
    "                                                                                         if x[1] >0 else x[0] ,  axis=1)\n",
    "    new_feature_name_df = new_feature_name_df.drop(['index'], axis=1)\n",
    "    return new_feature_name_df"
   ]
  },
  {
   "cell_type": "markdown",
   "metadata": {
    "id": "JscqytqoeZsl"
   },
   "source": [
    "- 데이터 파일 경로 확인 해주세요."
   ]
  },
  {
   "cell_type": "code",
   "execution_count": 31,
   "metadata": {
    "id": "yd20FzqFMQMX"
   },
   "outputs": [],
   "source": [
    "import pandas as pd\n",
    "\n",
    "def get_human_dataset():\n",
    "\n",
    "    # 각 데이터 파일은 공백으로 분리되어 있으므로 read_csv에서 공백 문자를 sep으로 할당\n",
    "    feature_name_df = pd.read_csv('./human_activity/features.txt', sep='\\s+', header=None, names=['column_index', 'column_name'])\n",
    "\n",
    "    # 중복된 피처명을 수정한느 get_new_feature_name_df()를 이용, 신규 피처명 DataFrame 생성\n",
    "    new_feature_name_df = get_new_feature_name_df(feature_name_df)\n",
    "\n",
    "    # DataFrame에 피처명을 칼럼으로 부여하기 위해 리스트 객체로 다시 변환\n",
    "    feature_name = new_feature_name_df.iloc[:, 1].values.tolist()\n",
    "\n",
    "    # 학습 피처 데이터세트와 테스트 피처 데이터를 DataFrame으로 로딩. 칼럼명은 feature_name 적용\n",
    "    X_train = pd.read_csv('./human_activity/train/X_train.txt', sep='\\s+', names=feature_name)\n",
    "    X_test = pd.read_csv('./human_activity/test/X_test.txt', sep='\\s+', names=feature_name)\n",
    "\n",
    "    # 학습 레이블과 테스트 레이블 데이터를 DataFrame으로 로딩. 칼럼명은 action으로 부여\n",
    "    y_train = pd.read_csv('./human_activity/train/y_train.txt', sep='\\s+', header=None, names=['action'])\n",
    "    y_test = pd.read_csv('./human_activity/test/y_test.txt', sep='\\s+', header=None, names=['action'])\n",
    "\n",
    "    # 로드된 학습/테스트용 DataFrame을 모두 반환\n",
    "    return X_train, X_test, y_train, y_test"
   ]
  },
  {
   "cell_type": "markdown",
   "metadata": {
    "id": "Sb-jZxWCMQMX"
   },
   "source": [
    "## **4-1. 위에서 정의한 `get_human_dataset()` 함수를 이용해 학습/테스트용 DataFrame 반환해 주세요.**\n",
    "- 힌트) 파머완 p.205"
   ]
  },
  {
   "cell_type": "code",
   "execution_count": 32,
   "metadata": {
    "id": "S9bpzzgQMQMY"
   },
   "outputs": [],
   "source": [
    "X_train, X_test, y_train, y_test = get_human_dataset()"
   ]
  },
  {
   "cell_type": "markdown",
   "metadata": {
    "id": "OZVfeYcBMQMY"
   },
   "source": [
    "## **4-2. 랜덤 포레스트 모델을 학습시키고,테스트 세트로 예측 성능을 평가해 주세요.**"
   ]
  },
  {
   "cell_type": "code",
   "execution_count": 33,
   "metadata": {
    "id": "V7Um6xILMQMX"
   },
   "outputs": [],
   "source": [
    "from sklearn.ensemble import RandomForestClassifier\n",
    "from sklearn.metrics import accuracy_score\n",
    "import pandas as pd\n",
    "import warnings\n",
    "warnings.filterwarnings('ignore')"
   ]
  },
  {
   "cell_type": "code",
   "execution_count": 35,
   "metadata": {
    "id": "YJksdxfxMQMY"
   },
   "outputs": [
    {
     "name": "stdout",
     "output_type": "stream",
     "text": [
      "랜덤 포레스트 예측 정확도: 0.9317950458092976\n"
     ]
    }
   ],
   "source": [
    "rf_clf = RandomForestClassifier()\n",
    "rf_clf.fit(X_train, y_train)\n",
    "\n",
    "\n",
    "y_pred_rf = rf_clf.predict(X_test)\n",
    "accuracy_rf = accuracy_score(y_test, y_pred_rf)\n",
    "\n",
    "print(\"랜덤 포레스트 예측 정확도:\", accuracy_rf)"
   ]
  },
  {
   "cell_type": "markdown",
   "metadata": {
    "id": "i5Eojil_MQMY"
   },
   "source": [
    "## **4-3. GridSearchCV를 이용해 랜덤 포레스트의 하이퍼 파라미터를 튜닝 해 봅시다.**\n",
    "- 아래의 코드를 완성해주세요.\n",
    "- **조건**: n_estimators = 100"
   ]
  },
  {
   "cell_type": "code",
   "execution_count": 44,
   "metadata": {
    "id": "oLYWfYWKMQMY"
   },
   "outputs": [
    {
     "name": "stdout",
     "output_type": "stream",
     "text": [
      "최적 하이퍼 파라미터:\n",
      " {'max_depth': 10, 'min_samples_leaf': 8, 'min_samples_split': 8, 'n_estimators': 100}\n",
      "최고 예측 정확도: {0:.4f} {'max_depth': 10, 'min_samples_leaf': 8, 'min_samples_split': 8, 'n_estimators': 100}\n"
     ]
    }
   ],
   "source": [
    "from sklearn.model_selection import GridSearchCV\n",
    "\n",
    "params = {\n",
    "    'n_estimators': [100],\n",
    "    'max_depth' : [6, 8, 10, 12],\n",
    "    'min_samples_leaf' : [8, 12, 18],\n",
    "    'min_samples_split' : [8, 16, 20]\n",
    "}\n",
    "\n",
    "# RandomForestClassifier 객체 생성 후 GridSearchCV 수행\n",
    "rf_clf = RandomForestClassifier(random_state=0, n_jobs=-1)\n",
    "grid_cv = GridSearchCV(rf_clf, param_grid=params, cv=2, n_jobs=-1)\n",
    "grid_cv.fit(X_train, y_train)\n",
    "\n",
    "print('최적 하이퍼 파라미터:\\n',  grid_cv.best_params_ )\n",
    "print('최고 예측 정확도: {0:.4f}',  grid_cv.best_params_)"
   ]
  },
  {
   "cell_type": "markdown",
   "metadata": {
    "id": "ypEYtBEmMQMY"
   },
   "source": [
    "## **4-4. 위에서 구한 최적 파라미터로 `RandomForestClassifier`를 다시 학습시킨 뒤에 예측 정확도를 구해보세요.**\n",
    "- 빈칸을 채워주세요."
   ]
  },
  {
   "cell_type": "code",
   "execution_count": 45,
   "metadata": {
    "id": "SAow4InwMQMY"
   },
   "outputs": [
    {
     "name": "stdout",
     "output_type": "stream",
     "text": [
      "예측 정확도: 0.9196\n"
     ]
    }
   ],
   "source": [
    "rf_clf_best = RandomForestClassifier(max_depth=10, min_samples_leaf=8, min_samples_split=8, n_estimators=100, random_state=0, n_jobs=-1)\n",
    "rf_clf_best.fit(X_train, y_train)\n",
    "pred = rf_clf_best.predict(X_test)\n",
    "print('예측 정확도: {0:.4f}'. format(accuracy_score(y_test, pred)))"
   ]
  },
  {
   "cell_type": "markdown",
   "metadata": {
    "id": "GLk0EKC4MQMY"
   },
   "source": [
    "# **5. OOB 평가**"
   ]
  },
  {
   "cell_type": "markdown",
   "metadata": {
    "id": "a9gnTVTDMQMY"
   },
   "source": [
    "- 다음 코드를 완성해 주세요.  \n",
    "(핸즈온 머신러닝 7.2.2 참고)"
   ]
  },
  {
   "cell_type": "code",
   "execution_count": 1,
   "metadata": {
    "id": "YcvqE68VMQMZ"
   },
   "outputs": [],
   "source": [
    "from sklearn.ensemble import BaggingClassifier\n",
    "from sklearn.tree import DecisionTreeClassifier"
   ]
  },
  {
   "cell_type": "code",
   "execution_count": 2,
   "metadata": {
    "id": "H2Cqr2Q9MQMZ"
   },
   "outputs": [],
   "source": [
    "bag_clf = BaggingClassifier(\n",
    "    DecisionTreeClassifier(), n_estimators=500,\n",
    "    bootstrap=True, n_jobs=-1, oob_score=True )"
   ]
  },
  {
   "cell_type": "markdown",
   "metadata": {
    "id": "52dYM2wIMQMZ"
   },
   "source": [
    "# **6. SVM**\n",
    "(핸즈온 머신러닝 5.1장, 5.2장)"
   ]
  },
  {
   "cell_type": "markdown",
   "metadata": {
    "id": "11OZ-XBEMQMZ"
   },
   "source": [
    "- 아래의 셀을 실행시킨 후에 실습을 진행해 주세요."
   ]
  },
  {
   "cell_type": "code",
   "execution_count": 3,
   "metadata": {
    "id": "TvZvSx0kMQMZ"
   },
   "outputs": [],
   "source": [
    "# 파이썬\n",
    "import sys\n",
    "assert sys.version_info >= (3, 7)\n",
    "\n",
    "# 사이킷런\n",
    "from packaging import version\n",
    "import sklearn\n",
    "\n",
    "assert version.parse(sklearn.__version__) >= version.parse(\"1.0.1\")\n",
    "\n",
    "# 기본 글꼴\n",
    "import matplotlib.pyplot as plt\n",
    "\n",
    "plt.rc('font', size=14)\n",
    "plt.rc('axes', labelsize=14, titlesize=14)\n",
    "plt.rc('legend', fontsize=14)\n",
    "plt.rc('xtick', labelsize=10)\n",
    "plt.rc('ytick', labelsize=10)\n",
    "\n",
    "# 이미지 저장\n",
    "from pathlib import Path\n",
    "\n",
    "IMAGES_PATH = Path() / \"images\" / \"svm\"\n",
    "IMAGES_PATH.mkdir(parents=True, exist_ok=True)\n",
    "\n",
    "def save_fig(fig_id, tight_layout=True, fig_extension=\"png\", resolution=300):\n",
    "    path = IMAGES_PATH / f\"{fig_id}.{fig_extension}\"\n",
    "    if tight_layout:\n",
    "        plt.tight_layout()\n",
    "    plt.savefig(path, format=fig_extension, dpi=resolution)"
   ]
  },
  {
   "cell_type": "code",
   "execution_count": 4,
   "metadata": {
    "id": "tMO_t29-MQMZ"
   },
   "outputs": [],
   "source": [
    "import matplotlib.pyplot as plt\n",
    "import numpy as np\n",
    "from sklearn.svm import SVC\n",
    "from sklearn import datasets"
   ]
  },
  {
   "cell_type": "markdown",
   "metadata": {
    "id": "gyjXPnSSMQMZ"
   },
   "source": [
    "## **6-1. polynomial_svm_clf 코드를 완성해 보세요.**\n",
    "- 빈칸을 채워주세요."
   ]
  },
  {
   "cell_type": "code",
   "execution_count": 5,
   "metadata": {
    "id": "yUSO3GjyhYxv"
   },
   "outputs": [],
   "source": [
    "from sklearn.preprocessing import StandardScaler\n",
    "from sklearn.svm import LinearSVC\n",
    "\n",
    "from sklearn.datasets import make_moons\n",
    "from sklearn.pipeline import Pipeline\n",
    "from sklearn.preprocessing import PolynomialFeatures"
   ]
  },
  {
   "cell_type": "code",
   "execution_count": 6,
   "metadata": {
    "id": "HnJQnwQjMQMZ"
   },
   "outputs": [
    {
     "data": {
      "text/html": [
       "<style>#sk-container-id-1 {color: black;background-color: white;}#sk-container-id-1 pre{padding: 0;}#sk-container-id-1 div.sk-toggleable {background-color: white;}#sk-container-id-1 label.sk-toggleable__label {cursor: pointer;display: block;width: 100%;margin-bottom: 0;padding: 0.3em;box-sizing: border-box;text-align: center;}#sk-container-id-1 label.sk-toggleable__label-arrow:before {content: \"▸\";float: left;margin-right: 0.25em;color: #696969;}#sk-container-id-1 label.sk-toggleable__label-arrow:hover:before {color: black;}#sk-container-id-1 div.sk-estimator:hover label.sk-toggleable__label-arrow:before {color: black;}#sk-container-id-1 div.sk-toggleable__content {max-height: 0;max-width: 0;overflow: hidden;text-align: left;background-color: #f0f8ff;}#sk-container-id-1 div.sk-toggleable__content pre {margin: 0.2em;color: black;border-radius: 0.25em;background-color: #f0f8ff;}#sk-container-id-1 input.sk-toggleable__control:checked~div.sk-toggleable__content {max-height: 200px;max-width: 100%;overflow: auto;}#sk-container-id-1 input.sk-toggleable__control:checked~label.sk-toggleable__label-arrow:before {content: \"▾\";}#sk-container-id-1 div.sk-estimator input.sk-toggleable__control:checked~label.sk-toggleable__label {background-color: #d4ebff;}#sk-container-id-1 div.sk-label input.sk-toggleable__control:checked~label.sk-toggleable__label {background-color: #d4ebff;}#sk-container-id-1 input.sk-hidden--visually {border: 0;clip: rect(1px 1px 1px 1px);clip: rect(1px, 1px, 1px, 1px);height: 1px;margin: -1px;overflow: hidden;padding: 0;position: absolute;width: 1px;}#sk-container-id-1 div.sk-estimator {font-family: monospace;background-color: #f0f8ff;border: 1px dotted black;border-radius: 0.25em;box-sizing: border-box;margin-bottom: 0.5em;}#sk-container-id-1 div.sk-estimator:hover {background-color: #d4ebff;}#sk-container-id-1 div.sk-parallel-item::after {content: \"\";width: 100%;border-bottom: 1px solid gray;flex-grow: 1;}#sk-container-id-1 div.sk-label:hover label.sk-toggleable__label {background-color: #d4ebff;}#sk-container-id-1 div.sk-serial::before {content: \"\";position: absolute;border-left: 1px solid gray;box-sizing: border-box;top: 0;bottom: 0;left: 50%;z-index: 0;}#sk-container-id-1 div.sk-serial {display: flex;flex-direction: column;align-items: center;background-color: white;padding-right: 0.2em;padding-left: 0.2em;position: relative;}#sk-container-id-1 div.sk-item {position: relative;z-index: 1;}#sk-container-id-1 div.sk-parallel {display: flex;align-items: stretch;justify-content: center;background-color: white;position: relative;}#sk-container-id-1 div.sk-item::before, #sk-container-id-1 div.sk-parallel-item::before {content: \"\";position: absolute;border-left: 1px solid gray;box-sizing: border-box;top: 0;bottom: 0;left: 50%;z-index: -1;}#sk-container-id-1 div.sk-parallel-item {display: flex;flex-direction: column;z-index: 1;position: relative;background-color: white;}#sk-container-id-1 div.sk-parallel-item:first-child::after {align-self: flex-end;width: 50%;}#sk-container-id-1 div.sk-parallel-item:last-child::after {align-self: flex-start;width: 50%;}#sk-container-id-1 div.sk-parallel-item:only-child::after {width: 0;}#sk-container-id-1 div.sk-dashed-wrapped {border: 1px dashed gray;margin: 0 0.4em 0.5em 0.4em;box-sizing: border-box;padding-bottom: 0.4em;background-color: white;}#sk-container-id-1 div.sk-label label {font-family: monospace;font-weight: bold;display: inline-block;line-height: 1.2em;}#sk-container-id-1 div.sk-label-container {text-align: center;}#sk-container-id-1 div.sk-container {/* jupyter's `normalize.less` sets `[hidden] { display: none; }` but bootstrap.min.css set `[hidden] { display: none !important; }` so we also need the `!important` here to be able to override the default hidden behavior on the sphinx rendered scikit-learn.org. See: https://github.com/scikit-learn/scikit-learn/issues/21755 */display: inline-block !important;position: relative;}#sk-container-id-1 div.sk-text-repr-fallback {display: none;}</style><div id=\"sk-container-id-1\" class=\"sk-top-container\"><div class=\"sk-text-repr-fallback\"><pre>Pipeline(steps=[(&#x27;poly_features&#x27;, PolynomialFeatures(degree=3)),\n",
       "                (&#x27;scaler&#x27;, StandardScaler()),\n",
       "                (&#x27;svm_clf&#x27;, SVC(C=10, kernel=&#x27;linear&#x27;))])</pre><b>In a Jupyter environment, please rerun this cell to show the HTML representation or trust the notebook. <br />On GitHub, the HTML representation is unable to render, please try loading this page with nbviewer.org.</b></div><div class=\"sk-container\" hidden><div class=\"sk-item sk-dashed-wrapped\"><div class=\"sk-label-container\"><div class=\"sk-label sk-toggleable\"><input class=\"sk-toggleable__control sk-hidden--visually\" id=\"sk-estimator-id-1\" type=\"checkbox\" ><label for=\"sk-estimator-id-1\" class=\"sk-toggleable__label sk-toggleable__label-arrow\">Pipeline</label><div class=\"sk-toggleable__content\"><pre>Pipeline(steps=[(&#x27;poly_features&#x27;, PolynomialFeatures(degree=3)),\n",
       "                (&#x27;scaler&#x27;, StandardScaler()),\n",
       "                (&#x27;svm_clf&#x27;, SVC(C=10, kernel=&#x27;linear&#x27;))])</pre></div></div></div><div class=\"sk-serial\"><div class=\"sk-item\"><div class=\"sk-estimator sk-toggleable\"><input class=\"sk-toggleable__control sk-hidden--visually\" id=\"sk-estimator-id-2\" type=\"checkbox\" ><label for=\"sk-estimator-id-2\" class=\"sk-toggleable__label sk-toggleable__label-arrow\">PolynomialFeatures</label><div class=\"sk-toggleable__content\"><pre>PolynomialFeatures(degree=3)</pre></div></div></div><div class=\"sk-item\"><div class=\"sk-estimator sk-toggleable\"><input class=\"sk-toggleable__control sk-hidden--visually\" id=\"sk-estimator-id-3\" type=\"checkbox\" ><label for=\"sk-estimator-id-3\" class=\"sk-toggleable__label sk-toggleable__label-arrow\">StandardScaler</label><div class=\"sk-toggleable__content\"><pre>StandardScaler()</pre></div></div></div><div class=\"sk-item\"><div class=\"sk-estimator sk-toggleable\"><input class=\"sk-toggleable__control sk-hidden--visually\" id=\"sk-estimator-id-4\" type=\"checkbox\" ><label for=\"sk-estimator-id-4\" class=\"sk-toggleable__label sk-toggleable__label-arrow\">SVC</label><div class=\"sk-toggleable__content\"><pre>SVC(C=10, kernel=&#x27;linear&#x27;)</pre></div></div></div></div></div></div></div>"
      ],
      "text/plain": [
       "Pipeline(steps=[('poly_features', PolynomialFeatures(degree=3)),\n",
       "                ('scaler', StandardScaler()),\n",
       "                ('svm_clf', SVC(C=10, kernel='linear'))])"
      ]
     },
     "execution_count": 6,
     "metadata": {},
     "output_type": "execute_result"
    }
   ],
   "source": [
    "X, y = make_moons(n_samples=100, noise=0.15)\n",
    "\n",
    "## polynomial_svm_clf 코드를 완성해 보세요.\n",
    "polynomial_svm_clf = Pipeline([\n",
    "    (\"poly_features\", PolynomialFeatures(degree=3)),\n",
    "    (\"scaler\",  StandardScaler() ),\n",
    "    (\"svm_clf\", SVC(kernel=\"linear\", C=10) )\n",
    "     ])\n",
    "\n",
    "polynomial_svm_clf.fit(X, y)"
   ]
  },
  {
   "cell_type": "markdown",
   "metadata": {
    "id": "L93e6UyNMQMa"
   },
   "source": [
    "**아래의 코드를 실행해서 그래프를 출력해 보세요.**"
   ]
  },
  {
   "cell_type": "code",
   "execution_count": 7,
   "metadata": {
    "id": "3uWATrjGMQMa"
   },
   "outputs": [
    {
     "data": {
      "image/png": "[encoded data removed]",
      "text/plain": [
       "<Figure size 640x480 with 1 Axes>"
      ]
     },
     "metadata": {},
     "output_type": "display_data"
    }
   ],
   "source": [
    "def plot_dataset(X, y, axes):\n",
    "    plt.plot(X[:, 0][y==0], X[:, 1][y==0], \"bs\")\n",
    "    plt.plot(X[:, 0][y==1], X[:, 1][y==1], \"g^\")\n",
    "    plt.axis(axes)\n",
    "    plt.grid(True)\n",
    "    plt.xlabel(\"$x_1$\")\n",
    "    plt.ylabel(\"$x_2$\", rotation=0)\n",
    "\n",
    "def plot_predictions(clf, axes):\n",
    "    x0s = np.linspace(axes[0], axes[1], 100)\n",
    "    x1s = np.linspace(axes[2], axes[3], 100)\n",
    "    x0, x1 = np.meshgrid(x0s, x1s)\n",
    "    X = np.c_[x0.ravel(), x1.ravel()]\n",
    "    y_pred = clf.predict(X).reshape(x0.shape)\n",
    "    y_decision = clf.decision_function(X).reshape(x0.shape)\n",
    "    plt.contourf(x0, x1, y_pred, cmap=plt.cm.brg, alpha=0.2)\n",
    "    plt.contourf(x0, x1, y_decision, cmap=plt.cm.brg, alpha=0.1)\n",
    "\n",
    "plot_predictions(polynomial_svm_clf, [-1.5, 2.5, -1, 1.5])\n",
    "plot_dataset(X, y, [-1.5, 2.5, -1, 1.5])\n",
    "\n",
    "save_fig(\"moons_polynomial_svc_plot\")\n",
    "plt.show()"
   ]
  },
  {
   "cell_type": "markdown",
   "metadata": {
    "id": "6JVAuZJdOAys"
   },
   "source": [
    "## **6-2. 다음은 가우시안 RBF를 사용한 유사도 특성을 나타내는 그래프입니다.**"
   ]
  },
  {
   "cell_type": "code",
   "execution_count": 8,
   "metadata": {
    "id": "BucKu-hBiUn0"
   },
   "outputs": [],
   "source": [
    "import numpy as np\n",
    "from sklearn.datasets import load_iris\n",
    "from sklearn.pipeline import make_pipeline\n",
    "from sklearn.preprocessing import StandardScaler\n",
    "from sklearn.svm import LinearSVC"
   ]
  },
  {
   "cell_type": "code",
   "execution_count": 9,
   "metadata": {
    "id": "PTPu_HoDieSa"
   },
   "outputs": [],
   "source": [
    "def gaussian_rbf(x, landmark, gamma):\n",
    "    return np.exp(-gamma * np.linalg.norm(x - landmark, axis=1)**2)"
   ]
  },
  {
   "cell_type": "markdown",
   "metadata": {
    "id": "nAiu4SAIjU5a"
   },
   "source": [
    "### **문제**\n",
    "- 아래의 종 모양 그래프를 좁아지게 만들려면 코드의 어떤 부분을 바꿔야 할까요?\n",
    "- 아래의 셀을 복사하여 새로운 셀을 만들고 코드를 !한줄만! 수정하여 실행해 보세요.  \n",
    "(숫자 값은 임의로 설정하시면 됩니다.)"
   ]
  },
  {
   "cell_type": "code",
   "execution_count": 16,
   "metadata": {
    "id": "kMhb5d8iOAys"
   },
   "outputs": [],
   "source": [
    "gamma = 5\n",
    "\n",
    "x1s = np.linspace(-4.5, 4.5, 200).reshape(-1, 1)\n",
    "x2s = gaussian_rbf(x1s, -2, gamma)\n",
    "x3s = gaussian_rbf(x1s, 1, gamma)\n",
    "X1D = np.linspace(-4, 4, 9).reshape(-1, 1)\n",
    "\n",
    "XK = np.c_[gaussian_rbf(X1D, -2, gamma), gaussian_rbf(X1D, 1, gamma)]\n",
    "yk = np.array([0, 0, 1, 1, 1, 1, 1, 0, 0])"
   ]
  },
  {
   "cell_type": "code",
   "execution_count": 17,
   "metadata": {
    "colab": {
     "base_uri": "https://localhost:8080/",
     "height": 269
    },
    "executionInfo": {
     "elapsed": 1739,
     "status": "ok",
     "timestamp": 1711436110894,
     "user": {
      "displayName": "차수빈",
      "userId": "16979887891359732529"
     },
     "user_tz": -540
    },
    "id": "nAn4nbEUinu-",
    "outputId": "1a80ff76-6e84-477c-ec3d-bde219500b18"
   },
   "outputs": [
    {
     "data": {
      "image/png": "[encoded data removed]",
      "text/plain": [
       "<Figure size 1050x400 with 2 Axes>"
      ]
     },
     "metadata": {},
     "output_type": "display_data"
    }
   ],
   "source": [
    "### 시각화\n",
    "\n",
    "plt.figure(figsize=(10.5, 4))\n",
    "\n",
    "plt.subplot(121)\n",
    "plt.grid(True)\n",
    "plt.axhline(y=0, color='k')\n",
    "plt.scatter(x=[-2, 1], y=[0, 0], s=150, alpha=0.5, c=\"red\")\n",
    "plt.plot(X1D[:, 0][yk==0], np.zeros(4), \"bs\")\n",
    "plt.plot(X1D[:, 0][yk==1], np.zeros(5), \"g^\")\n",
    "plt.plot(x1s, x2s, \"g--\")\n",
    "plt.plot(x1s, x3s, \"b:\")\n",
    "plt.gca().get_yaxis().set_ticks([0, 0.25, 0.5, 0.75, 1])\n",
    "plt.xlabel(\"$x_1$\")\n",
    "plt.ylabel(\"Similarity\")\n",
    "plt.annotate(\n",
    "    r'$\\mathbf{x}$',\n",
    "    xy=(X1D[3, 0], 0),\n",
    "    xytext=(-0.5, 0.20),\n",
    "    ha=\"center\",\n",
    "    arrowprops=dict(facecolor='black', shrink=0.1),\n",
    "    fontsize=16,\n",
    ")\n",
    "plt.text(-2, 0.9, \"$x_2$\", ha=\"center\", fontsize=15)\n",
    "plt.text(1, 0.9, \"$x_3$\", ha=\"center\", fontsize=15)\n",
    "plt.axis([-4.5, 4.5, -0.1, 1.1])\n",
    "\n",
    "plt.subplot(122)\n",
    "plt.grid(True)\n",
    "plt.axhline(y=0, color='k')\n",
    "plt.axvline(x=0, color='k')\n",
    "plt.plot(XK[:, 0][yk==0], XK[:, 1][yk==0], \"bs\")\n",
    "plt.plot(XK[:, 0][yk==1], XK[:, 1][yk==1], \"g^\")\n",
    "plt.xlabel(\"$x_2$\")\n",
    "plt.ylabel(\"$x_3$  \", rotation=0)\n",
    "plt.annotate(\n",
    "    r'$\\phi\\left(\\mathbf{x}\\right)$',\n",
    "    xy=(XK[3, 0], XK[3, 1]),\n",
    "    xytext=(0.65, 0.50),\n",
    "    ha=\"center\",\n",
    "    arrowprops=dict(facecolor='black', shrink=0.1),\n",
    "    fontsize=16,\n",
    ")\n",
    "plt.plot([-0.1, 1.1], [0.57, -0.1], \"r--\", linewidth=3)\n",
    "plt.axis([-0.1, 1.1, -0.1, 1.1])\n",
    "\n",
    "plt.subplots_adjust(right=1)\n",
    "\n",
    "save_fig(\"kernel_method_plot\")\n",
    "plt.show()"
   ]
  },
  {
   "cell_type": "code",
   "execution_count": null,
   "metadata": {},
   "outputs": [],
   "source": []
  }
 ],
 "metadata": {
  "colab": {
   "provenance": []
  },
  "kernelspec": {
   "display_name": "Python 3 (ipykernel)",
   "language": "python",
   "name": "python3"
  },
  "language_info": {
   "codemirror_mode": {
    "name": "ipython",
    "version": 3
   },
   "file_extension": ".py",
   "mimetype": "text/x-python",
   "name": "python",
   "nbconvert_exporter": "python",
   "pygments_lexer": "ipython3",
   "version": "3.11.7"
  }
 },
 "nbformat": 4,
 "nbformat_minor": 4
}
