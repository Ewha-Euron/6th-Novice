{
  "cells": [
    {
      "cell_type": "code",
      "execution_count": 2,
      "id": "fee24f3a-d983-49f2-92b5-80f1cab24059",
      "metadata": {
        "id": "fee24f3a-d983-49f2-92b5-80f1cab24059"
      },
      "outputs": [],
      "source": [
        "def get_new_feature_name_df(old_feature_name_df):\n",
        "    feature_dup_df = pd.DataFrame(data=old_feature_name_df.groupby('column_name').cumcount(),\n",
        "                                 columns=['dup_cnt'])\n",
        "    feature_dup_df = feature_dup_df.reset_index()\n",
        "    new_feature_name_df = pd.merge(old_feature_name_df.reset_index(), feature_dup_df, how='outer')\n",
        "    new_feature_name_df['column_name'] = new_feature_name_df[['column_name',\n",
        "                                                             'dup_cnt']].apply(lambda x : x[0]+'_'+str(x[1])\n",
        "                                                                            if x[1] > 0 else x[0], axis=1)\n",
        "    new_feature_name_df = new_feature_name_df.drop(['index'], axis=1)\n",
        "    return new_feature_name_df"
      ]
    },
    {
      "cell_type": "code",
      "execution_count": 3,
      "id": "2tT3ZfOD97ng",
      "metadata": {
        "colab": {
          "base_uri": "https://localhost:8080/"
        },
        "id": "2tT3ZfOD97ng",
        "outputId": "7226b06d-15a2-4d28-fefa-ade793da9fa9"
      },
      "outputs": [
        {
          "output_type": "stream",
          "name": "stdout",
          "text": [
            "Mounted at /content/drive\n"
          ]
        }
      ],
      "source": [
        "from google.colab import drive\n",
        "drive.mount('/content/drive')"
      ]
    },
    {
      "cell_type": "code",
      "execution_count": 4,
      "id": "7d22d489-01aa-4d5d-9d17-ee937ad060ec",
      "metadata": {
        "id": "7d22d489-01aa-4d5d-9d17-ee937ad060ec"
      },
      "outputs": [],
      "source": [
        "import pandas as pd\n",
        "\n",
        "def get_human_dataset():\n",
        "    feature_name_df = pd.read_csv('/content/drive/MyDrive/human_activity/features.txt', sep='\\s+',\n",
        "                                 header=None, names=['column_index', 'column_name'])\n",
        "    new_feature_name_df = get_new_feature_name_df(feature_name_df)\n",
        "    feature_name = new_feature_name_df.iloc[:, 1].values.tolist()\n",
        "    X_train = pd.read_csv('/content/drive/MyDrive/human_activity/train/X_train.txt', sep='\\s+', names=feature_name)\n",
        "    X_test = pd.read_csv('/content/drive/MyDrive/human_activity/test/X_test.txt', sep='\\s+', names=feature_name)\n",
        "    y_train = pd.read_csv('/content/drive/MyDrive/human_activity/train/y_train.txt', sep='\\s+', header=None, names=['action'])\n",
        "    y_test = pd.read_csv('/content/drive/MyDrive/human_activity/test/y_test.txt', sep='\\s+', header=None, names=['action'])\n",
        "    return X_train, X_test, y_train, y_test\n",
        "\n",
        "X_train, X_test, y_train, y_test = get_human_dataset()"
      ]
    },
    {
      "cell_type": "code",
      "execution_count": 5,
      "id": "8ece93f7-35d8-40e9-a454-0769a59881ac",
      "metadata": {
        "colab": {
          "base_uri": "https://localhost:8080/"
        },
        "id": "8ece93f7-35d8-40e9-a454-0769a59881ac",
        "outputId": "d0780fbb-f432-4579-e494-edba8dbc3b6a"
      },
      "outputs": [
        {
          "output_type": "stream",
          "name": "stdout",
          "text": [
            "GBM 정확도: 0.9386\n",
            "GBM 수행 시간: 990.6초 \n"
          ]
        }
      ],
      "source": [
        "from sklearn.ensemble import GradientBoostingClassifier\n",
        "from sklearn.metrics import accuracy_score\n",
        "import time\n",
        "import warnings\n",
        "warnings.filterwarnings('ignore')\n",
        "X_train, X_test, y_train, y_test = get_human_dataset()\n",
        "\n",
        "start_time = time.time()\n",
        "\n",
        "gb_clf = GradientBoostingClassifier(random_state=0)\n",
        "gb_clf.fit(X_train, y_train)\n",
        "gb_pred = gb_clf.predict(X_test)\n",
        "gb_accuracy = accuracy_score(y_test, gb_pred)\n",
        "\n",
        "print('GBM 정확도: {0:.4f}'.format(gb_accuracy))\n",
        "print(\"GBM 수행 시간: {0:.1f}초 \".format(time.time() - start_time))"
      ]
    },
    {
      "cell_type": "code",
      "execution_count": 6,
      "id": "99795a11-c7a9-4745-987d-db03284d8cda",
      "metadata": {
        "id": "99795a11-c7a9-4745-987d-db03284d8cda",
        "colab": {
          "base_uri": "https://localhost:8080/"
        },
        "outputId": "8964689b-4206-4f12-a42c-a6390afc11be"
      },
      "outputs": [
        {
          "output_type": "stream",
          "name": "stdout",
          "text": [
            "Fitting 2 folds for each of 2 candidates, totalling 4 fits\n",
            "최적 하이퍼 파라미터:\n",
            " {'learning_rate': 0.1, 'n_estimators': 20}\n",
            "최고 예측 정확도: 0.8875\n"
          ]
        }
      ],
      "source": [
        "from sklearn.model_selection import GridSearchCV\n",
        "\n",
        "params = {\n",
        "    'n_estimators':[20],\n",
        "    'learning_rate' : [0.05, 0.1]\n",
        "}\n",
        "grid_cv = GridSearchCV(gb_clf, param_grid=params, cv=2, verbose=1)\n",
        "grid_cv.fit(X_train, y_train)\n",
        "print('최적 하이퍼 파라미터:\\n', grid_cv.best_params_)\n",
        "print('최고 예측 정확도: {0:.4f}'.format(grid_cv.best_score_))"
      ]
    },
    {
      "cell_type": "code",
      "execution_count": 15,
      "id": "31be97ce-6770-43c8-9319-459d3b4352e0",
      "metadata": {
        "id": "31be97ce-6770-43c8-9319-459d3b4352e0"
      },
      "outputs": [],
      "source": [
        "import xgboost as xgb\n",
        "from xgboost import XGBClassifier"
      ]
    },
    {
      "cell_type": "code",
      "execution_count": 15,
      "id": "uHgiFM4IOiNk",
      "metadata": {
        "colab": {
          "base_uri": "https://localhost:8080/",
          "height": 228
        },
        "id": "uHgiFM4IOiNk",
        "outputId": "7b5de6e9-d657-4dfc-89d8-bfeaebb7d41d"
      },
      "outputs": [
        {
          "output_type": "execute_result",
          "data": {
            "text/plain": [
              "   mean radius  mean texture  mean perimeter  mean area  mean smoothness  \\\n",
              "0        17.99         10.38           122.8     1001.0          0.11840   \n",
              "1        20.57         17.77           132.9     1326.0          0.08474   \n",
              "2        19.69         21.25           130.0     1203.0          0.10960   \n",
              "\n",
              "   mean compactness  mean concavity  mean concave points  mean symmetry  \\\n",
              "0           0.27760          0.3001              0.14710         0.2419   \n",
              "1           0.07864          0.0869              0.07017         0.1812   \n",
              "2           0.15990          0.1974              0.12790         0.2069   \n",
              "\n",
              "   mean fractal dimension  ...  worst texture  worst perimeter  worst area  \\\n",
              "0                 0.07871  ...          17.33            184.6      2019.0   \n",
              "1                 0.05667  ...          23.41            158.8      1956.0   \n",
              "2                 0.05999  ...          25.53            152.5      1709.0   \n",
              "\n",
              "   worst smoothness  worst compactness  worst concavity  worst concave points  \\\n",
              "0            0.1622             0.6656           0.7119                0.2654   \n",
              "1            0.1238             0.1866           0.2416                0.1860   \n",
              "2            0.1444             0.4245           0.4504                0.2430   \n",
              "\n",
              "   worst symmetry  worst fractal dimension  target  \n",
              "0          0.4601                  0.11890       0  \n",
              "1          0.2750                  0.08902       0  \n",
              "2          0.3613                  0.08758       0  \n",
              "\n",
              "[3 rows x 31 columns]"
            ],
            "text/html": [
              "\n",
              "  <div id=\"df-199b8c32-e2a2-47fb-96f8-9620dabb7d10\" class=\"colab-df-container\">\n",
              "    <div>\n",
              "<style scoped>\n",
              "    .dataframe tbody tr th:only-of-type {\n",
              "        vertical-align: middle;\n",
              "    }\n",
              "\n",
              "    .dataframe tbody tr th {\n",
              "        vertical-align: top;\n",
              "    }\n",
              "\n",
              "    .dataframe thead th {\n",
              "        text-align: right;\n",
              "    }\n",
              "</style>\n",
              "<table border=\"1\" class=\"dataframe\">\n",
              "  <thead>\n",
              "    <tr style=\"text-align: right;\">\n",
              "      <th></th>\n",
              "      <th>mean radius</th>\n",
              "      <th>mean texture</th>\n",
              "      <th>mean perimeter</th>\n",
              "      <th>mean area</th>\n",
              "      <th>mean smoothness</th>\n",
              "      <th>mean compactness</th>\n",
              "      <th>mean concavity</th>\n",
              "      <th>mean concave points</th>\n",
              "      <th>mean symmetry</th>\n",
              "      <th>mean fractal dimension</th>\n",
              "      <th>...</th>\n",
              "      <th>worst texture</th>\n",
              "      <th>worst perimeter</th>\n",
              "      <th>worst area</th>\n",
              "      <th>worst smoothness</th>\n",
              "      <th>worst compactness</th>\n",
              "      <th>worst concavity</th>\n",
              "      <th>worst concave points</th>\n",
              "      <th>worst symmetry</th>\n",
              "      <th>worst fractal dimension</th>\n",
              "      <th>target</th>\n",
              "    </tr>\n",
              "  </thead>\n",
              "  <tbody>\n",
              "    <tr>\n",
              "      <th>0</th>\n",
              "      <td>17.99</td>\n",
              "      <td>10.38</td>\n",
              "      <td>122.8</td>\n",
              "      <td>1001.0</td>\n",
              "      <td>0.11840</td>\n",
              "      <td>0.27760</td>\n",
              "      <td>0.3001</td>\n",
              "      <td>0.14710</td>\n",
              "      <td>0.2419</td>\n",
              "      <td>0.07871</td>\n",
              "      <td>...</td>\n",
              "      <td>17.33</td>\n",
              "      <td>184.6</td>\n",
              "      <td>2019.0</td>\n",
              "      <td>0.1622</td>\n",
              "      <td>0.6656</td>\n",
              "      <td>0.7119</td>\n",
              "      <td>0.2654</td>\n",
              "      <td>0.4601</td>\n",
              "      <td>0.11890</td>\n",
              "      <td>0</td>\n",
              "    </tr>\n",
              "    <tr>\n",
              "      <th>1</th>\n",
              "      <td>20.57</td>\n",
              "      <td>17.77</td>\n",
              "      <td>132.9</td>\n",
              "      <td>1326.0</td>\n",
              "      <td>0.08474</td>\n",
              "      <td>0.07864</td>\n",
              "      <td>0.0869</td>\n",
              "      <td>0.07017</td>\n",
              "      <td>0.1812</td>\n",
              "      <td>0.05667</td>\n",
              "      <td>...</td>\n",
              "      <td>23.41</td>\n",
              "      <td>158.8</td>\n",
              "      <td>1956.0</td>\n",
              "      <td>0.1238</td>\n",
              "      <td>0.1866</td>\n",
              "      <td>0.2416</td>\n",
              "      <td>0.1860</td>\n",
              "      <td>0.2750</td>\n",
              "      <td>0.08902</td>\n",
              "      <td>0</td>\n",
              "    </tr>\n",
              "    <tr>\n",
              "      <th>2</th>\n",
              "      <td>19.69</td>\n",
              "      <td>21.25</td>\n",
              "      <td>130.0</td>\n",
              "      <td>1203.0</td>\n",
              "      <td>0.10960</td>\n",
              "      <td>0.15990</td>\n",
              "      <td>0.1974</td>\n",
              "      <td>0.12790</td>\n",
              "      <td>0.2069</td>\n",
              "      <td>0.05999</td>\n",
              "      <td>...</td>\n",
              "      <td>25.53</td>\n",
              "      <td>152.5</td>\n",
              "      <td>1709.0</td>\n",
              "      <td>0.1444</td>\n",
              "      <td>0.4245</td>\n",
              "      <td>0.4504</td>\n",
              "      <td>0.2430</td>\n",
              "      <td>0.3613</td>\n",
              "      <td>0.08758</td>\n",
              "      <td>0</td>\n",
              "    </tr>\n",
              "  </tbody>\n",
              "</table>\n",
              "<p>3 rows × 31 columns</p>\n",
              "</div>\n",
              "    <div class=\"colab-df-buttons\">\n",
              "\n",
              "  <div class=\"colab-df-container\">\n",
              "    <button class=\"colab-df-convert\" onclick=\"convertToInteractive('df-199b8c32-e2a2-47fb-96f8-9620dabb7d10')\"\n",
              "            title=\"Convert this dataframe to an interactive table.\"\n",
              "            style=\"display:none;\">\n",
              "\n",
              "  <svg xmlns=\"http://www.w3.org/2000/svg\" height=\"24px\" viewBox=\"0 -960 960 960\">\n",
              "    <path d=\"M120-120v-720h720v720H120Zm60-500h600v-160H180v160Zm220 220h160v-160H400v160Zm0 220h160v-160H400v160ZM180-400h160v-160H180v160Zm440 0h160v-160H620v160ZM180-180h160v-160H180v160Zm440 0h160v-160H620v160Z\"/>\n",
              "  </svg>\n",
              "    </button>\n",
              "\n",
              "  <style>\n",
              "    .colab-df-container {\n",
              "      display:flex;\n",
              "      gap: 12px;\n",
              "    }\n",
              "\n",
              "    .colab-df-convert {\n",
              "      background-color: #E8F0FE;\n",
              "      border: none;\n",
              "      border-radius: 50%;\n",
              "      cursor: pointer;\n",
              "      display: none;\n",
              "      fill: #1967D2;\n",
              "      height: 32px;\n",
              "      padding: 0 0 0 0;\n",
              "      width: 32px;\n",
              "    }\n",
              "\n",
              "    .colab-df-convert:hover {\n",
              "      background-color: #E2EBFA;\n",
              "      box-shadow: 0px 1px 2px rgba(60, 64, 67, 0.3), 0px 1px 3px 1px rgba(60, 64, 67, 0.15);\n",
              "      fill: #174EA6;\n",
              "    }\n",
              "\n",
              "    .colab-df-buttons div {\n",
              "      margin-bottom: 4px;\n",
              "    }\n",
              "\n",
              "    [theme=dark] .colab-df-convert {\n",
              "      background-color: #3B4455;\n",
              "      fill: #D2E3FC;\n",
              "    }\n",
              "\n",
              "    [theme=dark] .colab-df-convert:hover {\n",
              "      background-color: #434B5C;\n",
              "      box-shadow: 0px 1px 3px 1px rgba(0, 0, 0, 0.15);\n",
              "      filter: drop-shadow(0px 1px 2px rgba(0, 0, 0, 0.3));\n",
              "      fill: #FFFFFF;\n",
              "    }\n",
              "  </style>\n",
              "\n",
              "    <script>\n",
              "      const buttonEl =\n",
              "        document.querySelector('#df-199b8c32-e2a2-47fb-96f8-9620dabb7d10 button.colab-df-convert');\n",
              "      buttonEl.style.display =\n",
              "        google.colab.kernel.accessAllowed ? 'block' : 'none';\n",
              "\n",
              "      async function convertToInteractive(key) {\n",
              "        const element = document.querySelector('#df-199b8c32-e2a2-47fb-96f8-9620dabb7d10');\n",
              "        const dataTable =\n",
              "          await google.colab.kernel.invokeFunction('convertToInteractive',\n",
              "                                                    [key], {});\n",
              "        if (!dataTable) return;\n",
              "\n",
              "        const docLinkHtml = 'Like what you see? Visit the ' +\n",
              "          '<a target=\"_blank\" href=https://colab.research.google.com/notebooks/data_table.ipynb>data table notebook</a>'\n",
              "          + ' to learn more about interactive tables.';\n",
              "        element.innerHTML = '';\n",
              "        dataTable['output_type'] = 'display_data';\n",
              "        await google.colab.output.renderOutput(dataTable, element);\n",
              "        const docLink = document.createElement('div');\n",
              "        docLink.innerHTML = docLinkHtml;\n",
              "        element.appendChild(docLink);\n",
              "      }\n",
              "    </script>\n",
              "  </div>\n",
              "\n",
              "\n",
              "<div id=\"df-975f50f9-4213-46dc-8b75-847ff8066480\">\n",
              "  <button class=\"colab-df-quickchart\" onclick=\"quickchart('df-975f50f9-4213-46dc-8b75-847ff8066480')\"\n",
              "            title=\"Suggest charts\"\n",
              "            style=\"display:none;\">\n",
              "\n",
              "<svg xmlns=\"http://www.w3.org/2000/svg\" height=\"24px\"viewBox=\"0 0 24 24\"\n",
              "     width=\"24px\">\n",
              "    <g>\n",
              "        <path d=\"M19 3H5c-1.1 0-2 .9-2 2v14c0 1.1.9 2 2 2h14c1.1 0 2-.9 2-2V5c0-1.1-.9-2-2-2zM9 17H7v-7h2v7zm4 0h-2V7h2v10zm4 0h-2v-4h2v4z\"/>\n",
              "    </g>\n",
              "</svg>\n",
              "  </button>\n",
              "\n",
              "<style>\n",
              "  .colab-df-quickchart {\n",
              "      --bg-color: #E8F0FE;\n",
              "      --fill-color: #1967D2;\n",
              "      --hover-bg-color: #E2EBFA;\n",
              "      --hover-fill-color: #174EA6;\n",
              "      --disabled-fill-color: #AAA;\n",
              "      --disabled-bg-color: #DDD;\n",
              "  }\n",
              "\n",
              "  [theme=dark] .colab-df-quickchart {\n",
              "      --bg-color: #3B4455;\n",
              "      --fill-color: #D2E3FC;\n",
              "      --hover-bg-color: #434B5C;\n",
              "      --hover-fill-color: #FFFFFF;\n",
              "      --disabled-bg-color: #3B4455;\n",
              "      --disabled-fill-color: #666;\n",
              "  }\n",
              "\n",
              "  .colab-df-quickchart {\n",
              "    background-color: var(--bg-color);\n",
              "    border: none;\n",
              "    border-radius: 50%;\n",
              "    cursor: pointer;\n",
              "    display: none;\n",
              "    fill: var(--fill-color);\n",
              "    height: 32px;\n",
              "    padding: 0;\n",
              "    width: 32px;\n",
              "  }\n",
              "\n",
              "  .colab-df-quickchart:hover {\n",
              "    background-color: var(--hover-bg-color);\n",
              "    box-shadow: 0 1px 2px rgba(60, 64, 67, 0.3), 0 1px 3px 1px rgba(60, 64, 67, 0.15);\n",
              "    fill: var(--button-hover-fill-color);\n",
              "  }\n",
              "\n",
              "  .colab-df-quickchart-complete:disabled,\n",
              "  .colab-df-quickchart-complete:disabled:hover {\n",
              "    background-color: var(--disabled-bg-color);\n",
              "    fill: var(--disabled-fill-color);\n",
              "    box-shadow: none;\n",
              "  }\n",
              "\n",
              "  .colab-df-spinner {\n",
              "    border: 2px solid var(--fill-color);\n",
              "    border-color: transparent;\n",
              "    border-bottom-color: var(--fill-color);\n",
              "    animation:\n",
              "      spin 1s steps(1) infinite;\n",
              "  }\n",
              "\n",
              "  @keyframes spin {\n",
              "    0% {\n",
              "      border-color: transparent;\n",
              "      border-bottom-color: var(--fill-color);\n",
              "      border-left-color: var(--fill-color);\n",
              "    }\n",
              "    20% {\n",
              "      border-color: transparent;\n",
              "      border-left-color: var(--fill-color);\n",
              "      border-top-color: var(--fill-color);\n",
              "    }\n",
              "    30% {\n",
              "      border-color: transparent;\n",
              "      border-left-color: var(--fill-color);\n",
              "      border-top-color: var(--fill-color);\n",
              "      border-right-color: var(--fill-color);\n",
              "    }\n",
              "    40% {\n",
              "      border-color: transparent;\n",
              "      border-right-color: var(--fill-color);\n",
              "      border-top-color: var(--fill-color);\n",
              "    }\n",
              "    60% {\n",
              "      border-color: transparent;\n",
              "      border-right-color: var(--fill-color);\n",
              "    }\n",
              "    80% {\n",
              "      border-color: transparent;\n",
              "      border-right-color: var(--fill-color);\n",
              "      border-bottom-color: var(--fill-color);\n",
              "    }\n",
              "    90% {\n",
              "      border-color: transparent;\n",
              "      border-bottom-color: var(--fill-color);\n",
              "    }\n",
              "  }\n",
              "</style>\n",
              "\n",
              "  <script>\n",
              "    async function quickchart(key) {\n",
              "      const quickchartButtonEl =\n",
              "        document.querySelector('#' + key + ' button');\n",
              "      quickchartButtonEl.disabled = true;  // To prevent multiple clicks.\n",
              "      quickchartButtonEl.classList.add('colab-df-spinner');\n",
              "      try {\n",
              "        const charts = await google.colab.kernel.invokeFunction(\n",
              "            'suggestCharts', [key], {});\n",
              "      } catch (error) {\n",
              "        console.error('Error during call to suggestCharts:', error);\n",
              "      }\n",
              "      quickchartButtonEl.classList.remove('colab-df-spinner');\n",
              "      quickchartButtonEl.classList.add('colab-df-quickchart-complete');\n",
              "    }\n",
              "    (() => {\n",
              "      let quickchartButtonEl =\n",
              "        document.querySelector('#df-975f50f9-4213-46dc-8b75-847ff8066480 button');\n",
              "      quickchartButtonEl.style.display =\n",
              "        google.colab.kernel.accessAllowed ? 'block' : 'none';\n",
              "    })();\n",
              "  </script>\n",
              "</div>\n",
              "    </div>\n",
              "  </div>\n"
            ],
            "application/vnd.google.colaboratory.intrinsic+json": {
              "type": "dataframe",
              "variable_name": "cancer_df"
            }
          },
          "metadata": {},
          "execution_count": 15
        }
      ],
      "source": [
        "from xgboost import plot_importance\n",
        "import pandas as pd\n",
        "import numpy as np\n",
        "from sklearn.datasets import load_breast_cancer\n",
        "from sklearn.model_selection import train_test_split\n",
        "import warnings\n",
        "warnings.filterwarnings('ignore')\n",
        "\n",
        "dataset = load_breast_cancer()\n",
        "X_features=dataset.data\n",
        "y_label = dataset.target\n",
        "\n",
        "cancer_df = pd.DataFrame(data=X_features, columns=dataset.feature_names)\n",
        "cancer_df['target']=y_label\n",
        "cancer_df.head(3)"
      ]
    },
    {
      "cell_type": "code",
      "execution_count": null,
      "id": "lbmTz9BoPMxd",
      "metadata": {
        "colab": {
          "base_uri": "https://localhost:8080/"
        },
        "id": "lbmTz9BoPMxd",
        "outputId": "f67f45a3-bfac-45f9-8342-17256cff42ec"
      },
      "outputs": [
        {
          "name": "stdout",
          "output_type": "stream",
          "text": [
            "['malignant' 'benign']\n",
            "target\n",
            "1    357\n",
            "0    212\n",
            "Name: count, dtype: int64\n"
          ]
        }
      ],
      "source": [
        "print(dataset.target_names)\n",
        "print(cancer_df['target'].value_counts())"
      ]
    },
    {
      "cell_type": "code",
      "execution_count": 17,
      "id": "XCbpfa_9PYme",
      "metadata": {
        "colab": {
          "base_uri": "https://localhost:8080/"
        },
        "id": "XCbpfa_9PYme",
        "outputId": "0ef053ad-e1dd-454f-d335-5a70ef6d2ba8"
      },
      "outputs": [
        {
          "output_type": "stream",
          "name": "stdout",
          "text": [
            "(455, 30) (114, 30)\n"
          ]
        }
      ],
      "source": [
        "X_train, X_test, y_train, y_test = train_test_split(X_features, y_label,\n",
        "                                                    test_size=0.2, random_state=156)\n",
        "\n",
        "print(X_train.shape, X_test.shape)"
      ]
    },
    {
      "cell_type": "code",
      "execution_count": null,
      "id": "2n74oUydPh2W",
      "metadata": {
        "id": "2n74oUydPh2W"
      },
      "outputs": [],
      "source": [
        "dtrain = xgb.DMatrix(data=X_train, label=y_train)\n",
        "dtest = xgb.DMatrix(data=X_test, label=y_test)"
      ]
    },
    {
      "cell_type": "code",
      "execution_count": null,
      "id": "j0rUVLphPxtH",
      "metadata": {
        "id": "j0rUVLphPxtH"
      },
      "outputs": [],
      "source": [
        "params = {\n",
        "    'max_depth':3,\n",
        "    'eta': 0.1,\n",
        "    'objective':'binary:logistic',\n",
        "    'eval_metric':'logloss',\n",
        "    'early_stoppings':100\n",
        "}\n",
        "num_rounds = 400"
      ]
    },
    {
      "cell_type": "code",
      "execution_count": null,
      "id": "0573b436-fce6-4965-a480-1ec79c74a54f",
      "metadata": {
        "id": "0573b436-fce6-4965-a480-1ec79c74a54f",
        "outputId": "81186d9e-99fa-4a09-fd66-31d81a1fa3fa"
      },
      "outputs": [
        {
          "name": "stdout",
          "output_type": "stream",
          "text": [
            "[15:16:44] WARNING: C:\\Users\\dev-admin\\croot2\\xgboost-split_1675461376218\\work\\src\\learner.cc:767: \n",
            "Parameters: { \"early_stoppings\" } are not used.\n",
            "\n",
            "[0]\ttrain-logloss:0.60969\teval-logloss:0.61352\n",
            "[1]\ttrain-logloss:0.54080\teval-logloss:0.54784\n",
            "[2]\ttrain-logloss:0.48375\teval-logloss:0.49425\n",
            "[3]\ttrain-logloss:0.43446\teval-logloss:0.44799\n",
            "[4]\ttrain-logloss:0.39055\teval-logloss:0.40911\n",
            "[5]\ttrain-logloss:0.35415\teval-logloss:0.37498\n",
            "[6]\ttrain-logloss:0.32122\teval-logloss:0.34571\n",
            "[7]\ttrain-logloss:0.29259\teval-logloss:0.32053\n",
            "[8]\ttrain-logloss:0.26747\teval-logloss:0.29721\n",
            "[9]\ttrain-logloss:0.24515\teval-logloss:0.27799\n",
            "[10]\ttrain-logloss:0.22569\teval-logloss:0.26030\n",
            "[11]\ttrain-logloss:0.20794\teval-logloss:0.24604\n",
            "[12]\ttrain-logloss:0.19218\teval-logloss:0.23156\n",
            "[13]\ttrain-logloss:0.17792\teval-logloss:0.22005\n",
            "[14]\ttrain-logloss:0.16522\teval-logloss:0.20857\n",
            "[15]\ttrain-logloss:0.15362\teval-logloss:0.19999\n",
            "[16]\ttrain-logloss:0.14333\teval-logloss:0.19012\n",
            "[17]\ttrain-logloss:0.13398\teval-logloss:0.18182\n",
            "[18]\ttrain-logloss:0.12560\teval-logloss:0.17473\n",
            "[19]\ttrain-logloss:0.11729\teval-logloss:0.16766\n",
            "[20]\ttrain-logloss:0.10969\teval-logloss:0.15820\n",
            "[21]\ttrain-logloss:0.10297\teval-logloss:0.15472\n",
            "[22]\ttrain-logloss:0.09707\teval-logloss:0.14895\n",
            "[23]\ttrain-logloss:0.09143\teval-logloss:0.14331\n",
            "[24]\ttrain-logloss:0.08634\teval-logloss:0.13634\n",
            "[25]\ttrain-logloss:0.08131\teval-logloss:0.13278\n",
            "[26]\ttrain-logloss:0.07686\teval-logloss:0.12791\n",
            "[27]\ttrain-logloss:0.07284\teval-logloss:0.12526\n",
            "[28]\ttrain-logloss:0.06925\teval-logloss:0.11998\n",
            "[29]\ttrain-logloss:0.06555\teval-logloss:0.11641\n",
            "[30]\ttrain-logloss:0.06241\teval-logloss:0.11450\n",
            "[31]\ttrain-logloss:0.05959\teval-logloss:0.11257\n",
            "[32]\ttrain-logloss:0.05710\teval-logloss:0.11154\n",
            "[33]\ttrain-logloss:0.05441\teval-logloss:0.10868\n",
            "[34]\ttrain-logloss:0.05204\teval-logloss:0.10668\n",
            "[35]\ttrain-logloss:0.04975\teval-logloss:0.10421\n",
            "[36]\ttrain-logloss:0.04775\teval-logloss:0.10296\n",
            "[37]\ttrain-logloss:0.04585\teval-logloss:0.10058\n",
            "[38]\ttrain-logloss:0.04401\teval-logloss:0.09868\n",
            "[39]\ttrain-logloss:0.04226\teval-logloss:0.09644\n",
            "[40]\ttrain-logloss:0.04065\teval-logloss:0.09587\n",
            "[41]\ttrain-logloss:0.03913\teval-logloss:0.09424\n",
            "[42]\ttrain-logloss:0.03738\teval-logloss:0.09471\n",
            "[43]\ttrain-logloss:0.03611\teval-logloss:0.09427\n",
            "[44]\ttrain-logloss:0.03494\teval-logloss:0.09389\n",
            "[45]\ttrain-logloss:0.03365\teval-logloss:0.09418\n",
            "[46]\ttrain-logloss:0.03253\teval-logloss:0.09402\n",
            "[47]\ttrain-logloss:0.03148\teval-logloss:0.09236\n",
            "[48]\ttrain-logloss:0.03039\teval-logloss:0.09301\n",
            "[49]\ttrain-logloss:0.02947\teval-logloss:0.09127\n",
            "[50]\ttrain-logloss:0.02854\teval-logloss:0.09005\n",
            "[51]\ttrain-logloss:0.02753\teval-logloss:0.08961\n",
            "[52]\ttrain-logloss:0.02656\teval-logloss:0.08958\n",
            "[53]\ttrain-logloss:0.02568\teval-logloss:0.09070\n",
            "[54]\ttrain-logloss:0.02500\teval-logloss:0.08958\n",
            "[55]\ttrain-logloss:0.02430\teval-logloss:0.09036\n",
            "[56]\ttrain-logloss:0.02357\teval-logloss:0.09159\n",
            "[57]\ttrain-logloss:0.02296\teval-logloss:0.09153\n",
            "[58]\ttrain-logloss:0.02249\teval-logloss:0.09199\n",
            "[59]\ttrain-logloss:0.02185\teval-logloss:0.09195\n",
            "[60]\ttrain-logloss:0.02132\teval-logloss:0.09194\n",
            "[61]\ttrain-logloss:0.02079\teval-logloss:0.09146\n",
            "[62]\ttrain-logloss:0.02022\teval-logloss:0.09031\n",
            "[63]\ttrain-logloss:0.01970\teval-logloss:0.08941\n",
            "[64]\ttrain-logloss:0.01918\teval-logloss:0.08972\n",
            "[65]\ttrain-logloss:0.01872\teval-logloss:0.08974\n",
            "[66]\ttrain-logloss:0.01833\teval-logloss:0.08962\n",
            "[67]\ttrain-logloss:0.01787\teval-logloss:0.08873\n",
            "[68]\ttrain-logloss:0.01760\teval-logloss:0.08862\n",
            "[69]\ttrain-logloss:0.01724\teval-logloss:0.08974\n",
            "[70]\ttrain-logloss:0.01688\teval-logloss:0.08998\n",
            "[71]\ttrain-logloss:0.01664\teval-logloss:0.08978\n",
            "[72]\ttrain-logloss:0.01629\teval-logloss:0.08958\n",
            "[73]\ttrain-logloss:0.01598\teval-logloss:0.08953\n",
            "[74]\ttrain-logloss:0.01566\teval-logloss:0.08875\n",
            "[75]\ttrain-logloss:0.01539\teval-logloss:0.08860\n",
            "[76]\ttrain-logloss:0.01515\teval-logloss:0.08812\n",
            "[77]\ttrain-logloss:0.01488\teval-logloss:0.08840\n",
            "[78]\ttrain-logloss:0.01464\teval-logloss:0.08874\n",
            "[79]\ttrain-logloss:0.01449\teval-logloss:0.08815\n",
            "[80]\ttrain-logloss:0.01418\teval-logloss:0.08758\n",
            "[81]\ttrain-logloss:0.01400\teval-logloss:0.08741\n",
            "[82]\ttrain-logloss:0.01377\teval-logloss:0.08849\n",
            "[83]\ttrain-logloss:0.01357\teval-logloss:0.08857\n",
            "[84]\ttrain-logloss:0.01341\teval-logloss:0.08807\n",
            "[85]\ttrain-logloss:0.01325\teval-logloss:0.08764\n",
            "[86]\ttrain-logloss:0.01311\teval-logloss:0.08742\n",
            "[87]\ttrain-logloss:0.01293\teval-logloss:0.08761\n",
            "[88]\ttrain-logloss:0.01271\teval-logloss:0.08707\n",
            "[89]\ttrain-logloss:0.01254\teval-logloss:0.08727\n",
            "[90]\ttrain-logloss:0.01235\teval-logloss:0.08716\n",
            "[91]\ttrain-logloss:0.01223\teval-logloss:0.08696\n",
            "[92]\ttrain-logloss:0.01206\teval-logloss:0.08717\n",
            "[93]\ttrain-logloss:0.01193\teval-logloss:0.08707\n",
            "[94]\ttrain-logloss:0.01182\teval-logloss:0.08659\n",
            "[95]\ttrain-logloss:0.01165\teval-logloss:0.08612\n",
            "[96]\ttrain-logloss:0.01148\teval-logloss:0.08714\n",
            "[97]\ttrain-logloss:0.01136\teval-logloss:0.08677\n",
            "[98]\ttrain-logloss:0.01124\teval-logloss:0.08669\n",
            "[99]\ttrain-logloss:0.01113\teval-logloss:0.08655\n",
            "[100]\ttrain-logloss:0.01100\teval-logloss:0.08650\n",
            "[101]\ttrain-logloss:0.01085\teval-logloss:0.08641\n",
            "[102]\ttrain-logloss:0.01075\teval-logloss:0.08629\n",
            "[103]\ttrain-logloss:0.01064\teval-logloss:0.08626\n",
            "[104]\ttrain-logloss:0.01050\teval-logloss:0.08683\n",
            "[105]\ttrain-logloss:0.01040\teval-logloss:0.08677\n",
            "[106]\ttrain-logloss:0.01030\teval-logloss:0.08732\n",
            "[107]\ttrain-logloss:0.01020\teval-logloss:0.08730\n",
            "[108]\ttrain-logloss:0.01007\teval-logloss:0.08728\n",
            "[109]\ttrain-logloss:0.01000\teval-logloss:0.08730\n",
            "[110]\ttrain-logloss:0.00991\teval-logloss:0.08729\n",
            "[111]\ttrain-logloss:0.00980\teval-logloss:0.08800\n",
            "[112]\ttrain-logloss:0.00971\teval-logloss:0.08794\n",
            "[113]\ttrain-logloss:0.00963\teval-logloss:0.08784\n",
            "[114]\ttrain-logloss:0.00956\teval-logloss:0.08807\n",
            "[115]\ttrain-logloss:0.00948\teval-logloss:0.08765\n",
            "[116]\ttrain-logloss:0.00942\teval-logloss:0.08730\n",
            "[117]\ttrain-logloss:0.00931\teval-logloss:0.08780\n",
            "[118]\ttrain-logloss:0.00923\teval-logloss:0.08775\n",
            "[119]\ttrain-logloss:0.00915\teval-logloss:0.08768\n",
            "[120]\ttrain-logloss:0.00912\teval-logloss:0.08763\n",
            "[121]\ttrain-logloss:0.00902\teval-logloss:0.08757\n",
            "[122]\ttrain-logloss:0.00897\teval-logloss:0.08755\n",
            "[123]\ttrain-logloss:0.00890\teval-logloss:0.08716\n",
            "[124]\ttrain-logloss:0.00884\teval-logloss:0.08767\n",
            "[125]\ttrain-logloss:0.00880\teval-logloss:0.08774\n",
            "[126]\ttrain-logloss:0.00871\teval-logloss:0.08827\n",
            "[127]\ttrain-logloss:0.00865\teval-logloss:0.08831\n",
            "[128]\ttrain-logloss:0.00861\teval-logloss:0.08827\n",
            "[129]\ttrain-logloss:0.00856\teval-logloss:0.08789\n",
            "[130]\ttrain-logloss:0.00846\teval-logloss:0.08886\n",
            "[131]\ttrain-logloss:0.00842\teval-logloss:0.08868\n",
            "[132]\ttrain-logloss:0.00839\teval-logloss:0.08874\n",
            "[133]\ttrain-logloss:0.00830\teval-logloss:0.08922\n",
            "[134]\ttrain-logloss:0.00827\teval-logloss:0.08918\n",
            "[135]\ttrain-logloss:0.00822\teval-logloss:0.08882\n",
            "[136]\ttrain-logloss:0.00816\teval-logloss:0.08851\n",
            "[137]\ttrain-logloss:0.00808\teval-logloss:0.08848\n",
            "[138]\ttrain-logloss:0.00805\teval-logloss:0.08839\n",
            "[139]\ttrain-logloss:0.00797\teval-logloss:0.08915\n",
            "[140]\ttrain-logloss:0.00795\teval-logloss:0.08911\n",
            "[141]\ttrain-logloss:0.00790\teval-logloss:0.08876\n",
            "[142]\ttrain-logloss:0.00787\teval-logloss:0.08868\n",
            "[143]\ttrain-logloss:0.00785\teval-logloss:0.08839\n",
            "[144]\ttrain-logloss:0.00778\teval-logloss:0.08927\n",
            "[145]\ttrain-logloss:0.00775\teval-logloss:0.08924\n",
            "[146]\ttrain-logloss:0.00773\teval-logloss:0.08914\n",
            "[147]\ttrain-logloss:0.00769\teval-logloss:0.08891\n",
            "[148]\ttrain-logloss:0.00762\teval-logloss:0.08942\n",
            "[149]\ttrain-logloss:0.00760\teval-logloss:0.08939\n",
            "[150]\ttrain-logloss:0.00757\teval-logloss:0.08911\n",
            "[151]\ttrain-logloss:0.00752\teval-logloss:0.08873\n",
            "[152]\ttrain-logloss:0.00750\teval-logloss:0.08872\n",
            "[153]\ttrain-logloss:0.00746\teval-logloss:0.08848\n",
            "[154]\ttrain-logloss:0.00741\teval-logloss:0.08847\n",
            "[155]\ttrain-logloss:0.00739\teval-logloss:0.08855\n",
            "[156]\ttrain-logloss:0.00737\teval-logloss:0.08852\n",
            "[157]\ttrain-logloss:0.00735\teval-logloss:0.08855\n",
            "[158]\ttrain-logloss:0.00732\teval-logloss:0.08827\n",
            "[159]\ttrain-logloss:0.00730\teval-logloss:0.08830\n",
            "[160]\ttrain-logloss:0.00728\teval-logloss:0.08828\n",
            "[161]\ttrain-logloss:0.00726\teval-logloss:0.08801\n",
            "[162]\ttrain-logloss:0.00724\teval-logloss:0.08776\n",
            "[163]\ttrain-logloss:0.00722\teval-logloss:0.08778\n",
            "[164]\ttrain-logloss:0.00720\teval-logloss:0.08778\n",
            "[165]\ttrain-logloss:0.00718\teval-logloss:0.08752\n",
            "[166]\ttrain-logloss:0.00716\teval-logloss:0.08754\n",
            "[167]\ttrain-logloss:0.00714\teval-logloss:0.08764\n",
            "[168]\ttrain-logloss:0.00712\teval-logloss:0.08739\n",
            "[169]\ttrain-logloss:0.00710\teval-logloss:0.08738\n",
            "[170]\ttrain-logloss:0.00708\teval-logloss:0.08730\n",
            "[171]\ttrain-logloss:0.00707\teval-logloss:0.08737\n",
            "[172]\ttrain-logloss:0.00705\teval-logloss:0.08740\n",
            "[173]\ttrain-logloss:0.00703\teval-logloss:0.08739\n",
            "[174]\ttrain-logloss:0.00701\teval-logloss:0.08713\n",
            "[175]\ttrain-logloss:0.00699\teval-logloss:0.08716\n",
            "[176]\ttrain-logloss:0.00697\teval-logloss:0.08695\n",
            "[177]\ttrain-logloss:0.00695\teval-logloss:0.08705\n",
            "[178]\ttrain-logloss:0.00694\teval-logloss:0.08697\n",
            "[179]\ttrain-logloss:0.00692\teval-logloss:0.08697\n",
            "[180]\ttrain-logloss:0.00690\teval-logloss:0.08704\n",
            "[181]\ttrain-logloss:0.00688\teval-logloss:0.08680\n",
            "[182]\ttrain-logloss:0.00687\teval-logloss:0.08683\n",
            "[183]\ttrain-logloss:0.00685\teval-logloss:0.08658\n",
            "[184]\ttrain-logloss:0.00683\teval-logloss:0.08659\n",
            "[185]\ttrain-logloss:0.00681\teval-logloss:0.08661\n",
            "[186]\ttrain-logloss:0.00680\teval-logloss:0.08637\n",
            "[187]\ttrain-logloss:0.00678\teval-logloss:0.08637\n",
            "[188]\ttrain-logloss:0.00676\teval-logloss:0.08630\n",
            "[189]\ttrain-logloss:0.00675\teval-logloss:0.08610\n",
            "[190]\ttrain-logloss:0.00673\teval-logloss:0.08602\n",
            "[191]\ttrain-logloss:0.00671\teval-logloss:0.08605\n",
            "[192]\ttrain-logloss:0.00670\teval-logloss:0.08615\n",
            "[193]\ttrain-logloss:0.00668\teval-logloss:0.08592\n",
            "[194]\ttrain-logloss:0.00667\teval-logloss:0.08591\n",
            "[195]\ttrain-logloss:0.00665\teval-logloss:0.08598\n",
            "[196]\ttrain-logloss:0.00663\teval-logloss:0.08601\n",
            "[197]\ttrain-logloss:0.00662\teval-logloss:0.08592\n",
            "[198]\ttrain-logloss:0.00660\teval-logloss:0.08585\n",
            "[199]\ttrain-logloss:0.00659\teval-logloss:0.08587\n",
            "[200]\ttrain-logloss:0.00657\teval-logloss:0.08589\n",
            "[201]\ttrain-logloss:0.00656\teval-logloss:0.08595\n",
            "[202]\ttrain-logloss:0.00654\teval-logloss:0.08573\n",
            "[203]\ttrain-logloss:0.00653\teval-logloss:0.08573\n",
            "[204]\ttrain-logloss:0.00651\teval-logloss:0.08575\n",
            "[205]\ttrain-logloss:0.00650\teval-logloss:0.08582\n",
            "[206]\ttrain-logloss:0.00648\teval-logloss:0.08584\n",
            "[207]\ttrain-logloss:0.00647\teval-logloss:0.08578\n",
            "[208]\ttrain-logloss:0.00645\teval-logloss:0.08569\n",
            "[209]\ttrain-logloss:0.00644\teval-logloss:0.08571\n",
            "[210]\ttrain-logloss:0.00643\teval-logloss:0.08581\n",
            "[211]\ttrain-logloss:0.00641\teval-logloss:0.08559\n",
            "[212]\ttrain-logloss:0.00640\teval-logloss:0.08580\n",
            "[213]\ttrain-logloss:0.00639\teval-logloss:0.08581\n",
            "[214]\ttrain-logloss:0.00637\teval-logloss:0.08574\n",
            "[215]\ttrain-logloss:0.00636\teval-logloss:0.08566\n",
            "[216]\ttrain-logloss:0.00635\teval-logloss:0.08584\n",
            "[217]\ttrain-logloss:0.00633\teval-logloss:0.08563\n",
            "[218]\ttrain-logloss:0.00632\teval-logloss:0.08573\n",
            "[219]\ttrain-logloss:0.00631\teval-logloss:0.08578\n",
            "[220]\ttrain-logloss:0.00629\teval-logloss:0.08579\n",
            "[221]\ttrain-logloss:0.00628\teval-logloss:0.08582\n",
            "[222]\ttrain-logloss:0.00627\teval-logloss:0.08576\n",
            "[223]\ttrain-logloss:0.00626\teval-logloss:0.08567\n",
            "[224]\ttrain-logloss:0.00624\teval-logloss:0.08586\n",
            "[225]\ttrain-logloss:0.00623\teval-logloss:0.08587\n",
            "[226]\ttrain-logloss:0.00622\teval-logloss:0.08593\n",
            "[227]\ttrain-logloss:0.00621\teval-logloss:0.08595\n",
            "[228]\ttrain-logloss:0.00619\teval-logloss:0.08587\n",
            "[229]\ttrain-logloss:0.00618\teval-logloss:0.08606\n",
            "[230]\ttrain-logloss:0.00617\teval-logloss:0.08600\n",
            "[231]\ttrain-logloss:0.00616\teval-logloss:0.08592\n",
            "[232]\ttrain-logloss:0.00615\teval-logloss:0.08610\n",
            "[233]\ttrain-logloss:0.00614\teval-logloss:0.08611\n",
            "[234]\ttrain-logloss:0.00612\teval-logloss:0.08617\n",
            "[235]\ttrain-logloss:0.00611\teval-logloss:0.08626\n",
            "[236]\ttrain-logloss:0.00610\teval-logloss:0.08629\n",
            "[237]\ttrain-logloss:0.00609\teval-logloss:0.08622\n",
            "[238]\ttrain-logloss:0.00608\teval-logloss:0.08639\n",
            "[239]\ttrain-logloss:0.00607\teval-logloss:0.08634\n",
            "[240]\ttrain-logloss:0.00606\teval-logloss:0.08618\n",
            "[241]\ttrain-logloss:0.00605\teval-logloss:0.08620\n",
            "[242]\ttrain-logloss:0.00604\teval-logloss:0.08625\n",
            "[243]\ttrain-logloss:0.00602\teval-logloss:0.08626\n",
            "[244]\ttrain-logloss:0.00601\teval-logloss:0.08629\n",
            "[245]\ttrain-logloss:0.00600\teval-logloss:0.08622\n",
            "[246]\ttrain-logloss:0.00599\teval-logloss:0.08640\n",
            "[247]\ttrain-logloss:0.00598\teval-logloss:0.08635\n",
            "[248]\ttrain-logloss:0.00597\teval-logloss:0.08628\n",
            "[249]\ttrain-logloss:0.00596\teval-logloss:0.08645\n",
            "[250]\ttrain-logloss:0.00595\teval-logloss:0.08629\n",
            "[251]\ttrain-logloss:0.00594\teval-logloss:0.08631\n",
            "[252]\ttrain-logloss:0.00593\teval-logloss:0.08636\n",
            "[253]\ttrain-logloss:0.00592\teval-logloss:0.08639\n",
            "[254]\ttrain-logloss:0.00591\teval-logloss:0.08649\n",
            "[255]\ttrain-logloss:0.00590\teval-logloss:0.08644\n",
            "[256]\ttrain-logloss:0.00589\teval-logloss:0.08629\n",
            "[257]\ttrain-logloss:0.00588\teval-logloss:0.08646\n",
            "[258]\ttrain-logloss:0.00587\teval-logloss:0.08639\n",
            "[259]\ttrain-logloss:0.00586\teval-logloss:0.08644\n",
            "[260]\ttrain-logloss:0.00585\teval-logloss:0.08646\n",
            "[261]\ttrain-logloss:0.00585\teval-logloss:0.08649\n",
            "[262]\ttrain-logloss:0.00584\teval-logloss:0.08645\n",
            "[263]\ttrain-logloss:0.00583\teval-logloss:0.08647\n",
            "[264]\ttrain-logloss:0.00582\teval-logloss:0.08632\n",
            "[265]\ttrain-logloss:0.00581\teval-logloss:0.08649\n",
            "[266]\ttrain-logloss:0.00580\teval-logloss:0.08654\n",
            "[267]\ttrain-logloss:0.00579\teval-logloss:0.08647\n",
            "[268]\ttrain-logloss:0.00578\teval-logloss:0.08650\n",
            "[269]\ttrain-logloss:0.00577\teval-logloss:0.08652\n",
            "[270]\ttrain-logloss:0.00576\teval-logloss:0.08669\n",
            "[271]\ttrain-logloss:0.00576\teval-logloss:0.08674\n",
            "[272]\ttrain-logloss:0.00575\teval-logloss:0.08683\n",
            "[273]\ttrain-logloss:0.00574\teval-logloss:0.08668\n",
            "[274]\ttrain-logloss:0.00573\teval-logloss:0.08664\n",
            "[275]\ttrain-logloss:0.00572\teval-logloss:0.08650\n",
            "[276]\ttrain-logloss:0.00571\teval-logloss:0.08635\n",
            "[277]\ttrain-logloss:0.00570\teval-logloss:0.08652\n",
            "[278]\ttrain-logloss:0.00570\teval-logloss:0.08657\n",
            "[279]\ttrain-logloss:0.00569\teval-logloss:0.08659\n",
            "[280]\ttrain-logloss:0.00568\teval-logloss:0.08668\n",
            "[281]\ttrain-logloss:0.00567\teval-logloss:0.08664\n",
            "[282]\ttrain-logloss:0.00566\teval-logloss:0.08650\n",
            "[283]\ttrain-logloss:0.00565\teval-logloss:0.08636\n",
            "[284]\ttrain-logloss:0.00565\teval-logloss:0.08640\n",
            "[285]\ttrain-logloss:0.00564\teval-logloss:0.08643\n",
            "[286]\ttrain-logloss:0.00563\teval-logloss:0.08646\n",
            "[287]\ttrain-logloss:0.00562\teval-logloss:0.08650\n",
            "[288]\ttrain-logloss:0.00562\teval-logloss:0.08637\n",
            "[289]\ttrain-logloss:0.00561\teval-logloss:0.08646\n",
            "[290]\ttrain-logloss:0.00560\teval-logloss:0.08645\n",
            "[291]\ttrain-logloss:0.00559\teval-logloss:0.08632\n",
            "[292]\ttrain-logloss:0.00558\teval-logloss:0.08628\n",
            "[293]\ttrain-logloss:0.00558\teval-logloss:0.08615\n",
            "[294]\ttrain-logloss:0.00557\teval-logloss:0.08620\n",
            "[295]\ttrain-logloss:0.00556\teval-logloss:0.08622\n",
            "[296]\ttrain-logloss:0.00556\teval-logloss:0.08631\n",
            "[297]\ttrain-logloss:0.00555\teval-logloss:0.08618\n",
            "[298]\ttrain-logloss:0.00554\teval-logloss:0.08626\n",
            "[299]\ttrain-logloss:0.00553\teval-logloss:0.08613\n",
            "[300]\ttrain-logloss:0.00553\teval-logloss:0.08618\n",
            "[301]\ttrain-logloss:0.00552\teval-logloss:0.08605\n",
            "[302]\ttrain-logloss:0.00551\teval-logloss:0.08602\n",
            "[303]\ttrain-logloss:0.00551\teval-logloss:0.08610\n",
            "[304]\ttrain-logloss:0.00550\teval-logloss:0.08598\n",
            "[305]\ttrain-logloss:0.00549\teval-logloss:0.08606\n",
            "[306]\ttrain-logloss:0.00548\teval-logloss:0.08597\n",
            "[307]\ttrain-logloss:0.00548\teval-logloss:0.08600\n",
            "[308]\ttrain-logloss:0.00547\teval-logloss:0.08600\n",
            "[309]\ttrain-logloss:0.00546\teval-logloss:0.08588\n",
            "[310]\ttrain-logloss:0.00546\teval-logloss:0.08592\n",
            "[311]\ttrain-logloss:0.00545\teval-logloss:0.08595\n"
          ]
        }
      ],
      "source": [
        "wlist = [(dtrain, 'train'), (dtest, 'eval')]\n",
        "xgb_model = xgb.train(params = params, dtrain=dtrain, num_boost_round=num_rounds, \\\n",
        "                     early_stopping_rounds=100, evals=wlist)"
      ]
    },
    {
      "cell_type": "code",
      "execution_count": null,
      "id": "4af59117-1296-4fed-9e89-f05fe033197f",
      "metadata": {
        "id": "4af59117-1296-4fed-9e89-f05fe033197f",
        "outputId": "24ba16a5-00d0-489f-bbe4-9480eaf7d9b2"
      },
      "outputs": [
        {
          "name": "stdout",
          "output_type": "stream",
          "text": [
            "predict() 수행 결과값을 10개만 표시, 예측 확률값으로 표시됨\n",
            "[0.934 0.003 0.91  0.094 0.993 1.    1.    0.999 0.997 0.   ]\n",
            "예측값 10개만 표시: [1, 0, 1, 0, 1, 1, 1, 1, 1, 0]\n"
          ]
        }
      ],
      "source": [
        "pred_probs = xgb_model.predict(dtest)\n",
        "print('predict() 수행 결과값을 10개만 표시, 예측 확률값으로 표시됨')\n",
        "print(np.round(pred_probs[:10], 3))\n",
        "\n",
        "preds = [1 if x>0.5 else 0 for x in pred_probs]\n",
        "print('예측값 10개만 표시:', preds[:10])"
      ]
    },
    {
      "cell_type": "code",
      "execution_count": 2,
      "id": "8cea37ee-b8d0-4495-80ac-d95d6b912b4a",
      "metadata": {
        "id": "8cea37ee-b8d0-4495-80ac-d95d6b912b4a"
      },
      "outputs": [],
      "source": [
        "from sklearn.metrics import precision_score, recall_score, roc_auc_score, accuracy_score\n",
        "from sklearn.metrics import f1_score, confusion_matrix, precision_recall_curve, roc_curve\n",
        "def get_clf_eval(y_test, pred=None, pred_proba=None):\n",
        "    confusion = confusion_matrix(y_test, pred)\n",
        "    accuracy = accuracy_score(y_test, pred)\n",
        "    precision = precision_score(y_test, pred)\n",
        "    recall = recall_score(y_test, pred)\n",
        "    f1 = f1_score(y_test, pred)\n",
        "    roc_auc = roc_auc_score(y_test, pred_proba)\n",
        "    print('오차 행렬')\n",
        "    print(confusion)\n",
        "    print('정확도: {0:.4f}, 정밀도: {1:.4f}, 재현율: {2:.4f},\\\n",
        "    F1: {3:.4f}, AUC:{4:.4f}'.format(accuracy, precision, recall, f1, roc_auc))"
      ]
    },
    {
      "cell_type": "code",
      "execution_count": null,
      "id": "03874d64-3af3-4511-bd91-a02811e82643",
      "metadata": {
        "id": "03874d64-3af3-4511-bd91-a02811e82643",
        "outputId": "308e452b-162d-458f-d6ab-b991c3a7ea44"
      },
      "outputs": [
        {
          "name": "stdout",
          "output_type": "stream",
          "text": [
            "오차 행렬\n",
            "[[35  2]\n",
            " [ 1 76]]\n",
            "정확도: 0.9737, 정밀도: 0.9744, 재현율: 0.9870,    F1: 0.9806, AUC:0.9951\n"
          ]
        }
      ],
      "source": [
        "get_clf_eval(y_test, preds, pred_probs)"
      ]
    },
    {
      "cell_type": "code",
      "execution_count": null,
      "id": "dda14dfa-d9fb-4d5d-b852-bfebc53ee5b2",
      "metadata": {
        "id": "dda14dfa-d9fb-4d5d-b852-bfebc53ee5b2",
        "outputId": "ab6252fc-6c24-4ee0-d909-1ae79f36787a"
      },
      "outputs": [
        {
          "data": {
            "text/plain": [
              "<Axes: title={'center': 'Feature importance'}, xlabel='F score', ylabel='Features'>"
            ]
          },
          "execution_count": 19,
          "metadata": {},
          "output_type": "execute_result"
        },
        {
          "data": {
            "image/png": "[encoded data removed]",
            "text/plain": [
              "<Figure size 1000x1200 with 1 Axes>"
            ]
          },
          "metadata": {},
          "output_type": "display_data"
        }
      ],
      "source": [
        "from xgboost import plot_importance\n",
        "import matplotlib.pyplot as plt\n",
        "%matplotlib inline\n",
        "\n",
        "fig, ax = plt.subplots(figsize=(10, 12))\n",
        "plot_importance(xgb_model, ax=ax)"
      ]
    },
    {
      "cell_type": "code",
      "execution_count": 18,
      "id": "e39f433c-6070-4320-a7a9-efe509e1de09",
      "metadata": {
        "id": "e39f433c-6070-4320-a7a9-efe509e1de09"
      },
      "outputs": [],
      "source": [
        "from xgboost import XGBClassifier\n",
        "\n",
        "xgb_wrapper = XGBClassifier(n_estimators=400, learning_rate=0.1, max_depth=3)\n",
        "xgb_wrapper.fit(X_train, y_train)\n",
        "w_preds = xgb_wrapper.predict(X_test)\n",
        "w_pred_proba = xgb_wrapper.predict_proba(X_test)[:, 1]"
      ]
    },
    {
      "cell_type": "code",
      "execution_count": 20,
      "id": "8cdf06d2-859d-4018-bd35-cdd9290211a1",
      "metadata": {
        "colab": {
          "base_uri": "https://localhost:8080/"
        },
        "id": "8cdf06d2-859d-4018-bd35-cdd9290211a1",
        "outputId": "833c73cf-d88a-43ec-94ed-5ed00234569b"
      },
      "outputs": [
        {
          "output_type": "stream",
          "name": "stdout",
          "text": [
            "오차 행렬\n",
            "[[35  2]\n",
            " [ 1 76]]\n",
            "정확도: 0.9737, 정밀도: 0.9744, 재현율: 0.9870,    F1: 0.9806, AUC:0.9947\n"
          ]
        }
      ],
      "source": [
        "get_clf_eval(y_test, w_preds, w_pred_proba)"
      ]
    },
    {
      "cell_type": "code",
      "source": [
        "from xgboost import XGBClassifier\n",
        "\n",
        "xgb_wrapper = XGBClassifier(n_estimators=400, learning_rate=0.1, max_depth=3)\n",
        "evals = [(X_test, y_test)]\n",
        "xgb_wrapper.fit(X_train, y_train, early_stopping_rounds=100, eval_metric=\"logloss\",\n",
        "                eval_set=evals, verbose=True)\n",
        "ws100_preds = xgb_wrapper.predict(X_test)\n",
        "ws100_pred_proba = xgb_wrapper.predict_proba(X_test)[:,1]"
      ],
      "metadata": {
        "colab": {
          "base_uri": "https://localhost:8080/"
        },
        "id": "jYQzuclxyole",
        "outputId": "7d95488d-e7ef-46af-c322-7b97de3d5977"
      },
      "id": "jYQzuclxyole",
      "execution_count": 21,
      "outputs": [
        {
          "output_type": "stream",
          "name": "stdout",
          "text": [
            "[0]\tvalidation_0-logloss:0.56554\n",
            "[1]\tvalidation_0-logloss:0.50669\n",
            "[2]\tvalidation_0-logloss:0.45868\n",
            "[3]\tvalidation_0-logloss:0.41822\n",
            "[4]\tvalidation_0-logloss:0.38103\n",
            "[5]\tvalidation_0-logloss:0.35137\n",
            "[6]\tvalidation_0-logloss:0.32588\n",
            "[7]\tvalidation_0-logloss:0.30127\n",
            "[8]\tvalidation_0-logloss:0.28197\n",
            "[9]\tvalidation_0-logloss:0.26265\n",
            "[10]\tvalidation_0-logloss:0.24821\n",
            "[11]\tvalidation_0-logloss:0.23231\n",
            "[12]\tvalidation_0-logloss:0.22079\n",
            "[13]\tvalidation_0-logloss:0.20795\n",
            "[14]\tvalidation_0-logloss:0.19764\n",
            "[15]\tvalidation_0-logloss:0.18950\n",
            "[16]\tvalidation_0-logloss:0.18052\n",
            "[17]\tvalidation_0-logloss:0.17246\n",
            "[18]\tvalidation_0-logloss:0.16512\n",
            "[19]\tvalidation_0-logloss:0.15828\n",
            "[20]\tvalidation_0-logloss:0.15436\n",
            "[21]\tvalidation_0-logloss:0.14633\n",
            "[22]\tvalidation_0-logloss:0.13936\n",
            "[23]\tvalidation_0-logloss:0.13393\n",
            "[24]\tvalidation_0-logloss:0.13015\n",
            "[25]\tvalidation_0-logloss:0.12489\n",
            "[26]\tvalidation_0-logloss:0.12206\n",
            "[27]\tvalidation_0-logloss:0.11890\n",
            "[28]\tvalidation_0-logloss:0.11637\n",
            "[29]\tvalidation_0-logloss:0.11293\n",
            "[30]\tvalidation_0-logloss:0.11040\n",
            "[31]\tvalidation_0-logloss:0.10826\n",
            "[32]\tvalidation_0-logloss:0.10452\n",
            "[33]\tvalidation_0-logloss:0.10322\n",
            "[34]\tvalidation_0-logloss:0.10059\n",
            "[35]\tvalidation_0-logloss:0.09869\n",
            "[36]\tvalidation_0-logloss:0.09658\n",
            "[37]\tvalidation_0-logloss:0.09487\n",
            "[38]\tvalidation_0-logloss:0.09443\n",
            "[39]\tvalidation_0-logloss:0.09374\n",
            "[40]\tvalidation_0-logloss:0.09239\n",
            "[41]\tvalidation_0-logloss:0.09159\n",
            "[42]\tvalidation_0-logloss:0.09004\n",
            "[43]\tvalidation_0-logloss:0.09029\n",
            "[44]\tvalidation_0-logloss:0.08966\n",
            "[45]\tvalidation_0-logloss:0.08808\n",
            "[46]\tvalidation_0-logloss:0.08783\n",
            "[47]\tvalidation_0-logloss:0.08756\n",
            "[48]\tvalidation_0-logloss:0.08682\n",
            "[49]\tvalidation_0-logloss:0.08829\n",
            "[50]\tvalidation_0-logloss:0.08882\n",
            "[51]\tvalidation_0-logloss:0.08871\n",
            "[52]\tvalidation_0-logloss:0.08780\n",
            "[53]\tvalidation_0-logloss:0.08766\n",
            "[54]\tvalidation_0-logloss:0.08825\n",
            "[55]\tvalidation_0-logloss:0.08882\n",
            "[56]\tvalidation_0-logloss:0.08785\n",
            "[57]\tvalidation_0-logloss:0.08813\n",
            "[58]\tvalidation_0-logloss:0.08871\n",
            "[59]\tvalidation_0-logloss:0.08760\n",
            "[60]\tvalidation_0-logloss:0.08712\n",
            "[61]\tvalidation_0-logloss:0.08795\n",
            "[62]\tvalidation_0-logloss:0.08799\n",
            "[63]\tvalidation_0-logloss:0.08808\n",
            "[64]\tvalidation_0-logloss:0.08749\n",
            "[65]\tvalidation_0-logloss:0.08760\n",
            "[66]\tvalidation_0-logloss:0.08708\n",
            "[67]\tvalidation_0-logloss:0.08668\n",
            "[68]\tvalidation_0-logloss:0.08654\n",
            "[69]\tvalidation_0-logloss:0.08630\n",
            "[70]\tvalidation_0-logloss:0.08574\n",
            "[71]\tvalidation_0-logloss:0.08696\n",
            "[72]\tvalidation_0-logloss:0.08626\n",
            "[73]\tvalidation_0-logloss:0.08685\n",
            "[74]\tvalidation_0-logloss:0.08663\n",
            "[75]\tvalidation_0-logloss:0.08780\n",
            "[76]\tvalidation_0-logloss:0.08713\n",
            "[77]\tvalidation_0-logloss:0.08822\n",
            "[78]\tvalidation_0-logloss:0.08758\n",
            "[79]\tvalidation_0-logloss:0.08728\n",
            "[80]\tvalidation_0-logloss:0.08703\n",
            "[81]\tvalidation_0-logloss:0.08719\n",
            "[82]\tvalidation_0-logloss:0.08662\n",
            "[83]\tvalidation_0-logloss:0.08637\n",
            "[84]\tvalidation_0-logloss:0.08570\n",
            "[85]\tvalidation_0-logloss:0.08590\n",
            "[86]\tvalidation_0-logloss:0.08587\n",
            "[87]\tvalidation_0-logloss:0.08614\n",
            "[88]\tvalidation_0-logloss:0.08635\n",
            "[89]\tvalidation_0-logloss:0.08646\n",
            "[90]\tvalidation_0-logloss:0.08583\n",
            "[91]\tvalidation_0-logloss:0.08583\n",
            "[92]\tvalidation_0-logloss:0.08564\n",
            "[93]\tvalidation_0-logloss:0.08669\n",
            "[94]\tvalidation_0-logloss:0.08692\n",
            "[95]\tvalidation_0-logloss:0.08687\n",
            "[96]\tvalidation_0-logloss:0.08641\n",
            "[97]\tvalidation_0-logloss:0.08584\n",
            "[98]\tvalidation_0-logloss:0.08568\n",
            "[99]\tvalidation_0-logloss:0.08552\n",
            "[100]\tvalidation_0-logloss:0.08548\n",
            "[101]\tvalidation_0-logloss:0.08630\n",
            "[102]\tvalidation_0-logloss:0.08658\n",
            "[103]\tvalidation_0-logloss:0.08656\n",
            "[104]\tvalidation_0-logloss:0.08742\n",
            "[105]\tvalidation_0-logloss:0.08779\n",
            "[106]\tvalidation_0-logloss:0.08777\n",
            "[107]\tvalidation_0-logloss:0.08738\n",
            "[108]\tvalidation_0-logloss:0.08729\n",
            "[109]\tvalidation_0-logloss:0.08736\n",
            "[110]\tvalidation_0-logloss:0.08722\n",
            "[111]\tvalidation_0-logloss:0.08774\n",
            "[112]\tvalidation_0-logloss:0.08864\n",
            "[113]\tvalidation_0-logloss:0.08871\n",
            "[114]\tvalidation_0-logloss:0.08836\n",
            "[115]\tvalidation_0-logloss:0.08865\n",
            "[116]\tvalidation_0-logloss:0.08874\n",
            "[117]\tvalidation_0-logloss:0.08861\n",
            "[118]\tvalidation_0-logloss:0.08819\n",
            "[119]\tvalidation_0-logloss:0.08901\n",
            "[120]\tvalidation_0-logloss:0.08894\n",
            "[121]\tvalidation_0-logloss:0.08869\n",
            "[122]\tvalidation_0-logloss:0.08880\n",
            "[123]\tvalidation_0-logloss:0.08848\n",
            "[124]\tvalidation_0-logloss:0.08858\n",
            "[125]\tvalidation_0-logloss:0.08849\n",
            "[126]\tvalidation_0-logloss:0.08909\n",
            "[127]\tvalidation_0-logloss:0.08886\n",
            "[128]\tvalidation_0-logloss:0.08861\n",
            "[129]\tvalidation_0-logloss:0.08942\n",
            "[130]\tvalidation_0-logloss:0.08934\n",
            "[131]\tvalidation_0-logloss:0.08918\n",
            "[132]\tvalidation_0-logloss:0.08880\n",
            "[133]\tvalidation_0-logloss:0.08956\n",
            "[134]\tvalidation_0-logloss:0.08949\n",
            "[135]\tvalidation_0-logloss:0.08934\n",
            "[136]\tvalidation_0-logloss:0.08891\n",
            "[137]\tvalidation_0-logloss:0.08949\n",
            "[138]\tvalidation_0-logloss:0.08962\n",
            "[139]\tvalidation_0-logloss:0.08969\n",
            "[140]\tvalidation_0-logloss:0.08963\n",
            "[141]\tvalidation_0-logloss:0.08948\n",
            "[142]\tvalidation_0-logloss:0.08961\n",
            "[143]\tvalidation_0-logloss:0.09038\n",
            "[144]\tvalidation_0-logloss:0.09033\n",
            "[145]\tvalidation_0-logloss:0.08991\n",
            "[146]\tvalidation_0-logloss:0.08955\n",
            "[147]\tvalidation_0-logloss:0.08994\n",
            "[148]\tvalidation_0-logloss:0.09002\n",
            "[149]\tvalidation_0-logloss:0.09004\n",
            "[150]\tvalidation_0-logloss:0.09000\n",
            "[151]\tvalidation_0-logloss:0.08985\n",
            "[152]\tvalidation_0-logloss:0.08947\n",
            "[153]\tvalidation_0-logloss:0.08979\n",
            "[154]\tvalidation_0-logloss:0.09010\n",
            "[155]\tvalidation_0-logloss:0.09022\n",
            "[156]\tvalidation_0-logloss:0.09018\n",
            "[157]\tvalidation_0-logloss:0.08997\n",
            "[158]\tvalidation_0-logloss:0.09000\n",
            "[159]\tvalidation_0-logloss:0.08977\n",
            "[160]\tvalidation_0-logloss:0.08976\n",
            "[161]\tvalidation_0-logloss:0.08985\n",
            "[162]\tvalidation_0-logloss:0.08988\n",
            "[163]\tvalidation_0-logloss:0.08959\n",
            "[164]\tvalidation_0-logloss:0.08955\n",
            "[165]\tvalidation_0-logloss:0.08958\n",
            "[166]\tvalidation_0-logloss:0.08930\n",
            "[167]\tvalidation_0-logloss:0.08926\n",
            "[168]\tvalidation_0-logloss:0.08913\n",
            "[169]\tvalidation_0-logloss:0.08915\n",
            "[170]\tvalidation_0-logloss:0.08893\n",
            "[171]\tvalidation_0-logloss:0.08896\n",
            "[172]\tvalidation_0-logloss:0.08908\n",
            "[173]\tvalidation_0-logloss:0.08886\n",
            "[174]\tvalidation_0-logloss:0.08886\n",
            "[175]\tvalidation_0-logloss:0.08895\n",
            "[176]\tvalidation_0-logloss:0.08899\n",
            "[177]\tvalidation_0-logloss:0.08895\n",
            "[178]\tvalidation_0-logloss:0.08867\n",
            "[179]\tvalidation_0-logloss:0.08856\n",
            "[180]\tvalidation_0-logloss:0.08844\n",
            "[181]\tvalidation_0-logloss:0.08841\n",
            "[182]\tvalidation_0-logloss:0.08849\n",
            "[183]\tvalidation_0-logloss:0.08853\n",
            "[184]\tvalidation_0-logloss:0.08831\n",
            "[185]\tvalidation_0-logloss:0.08843\n",
            "[186]\tvalidation_0-logloss:0.08847\n",
            "[187]\tvalidation_0-logloss:0.08826\n",
            "[188]\tvalidation_0-logloss:0.08827\n",
            "[189]\tvalidation_0-logloss:0.08817\n",
            "[190]\tvalidation_0-logloss:0.08826\n",
            "[191]\tvalidation_0-logloss:0.08823\n",
            "[192]\tvalidation_0-logloss:0.08811\n",
            "[193]\tvalidation_0-logloss:0.08791\n",
            "[194]\tvalidation_0-logloss:0.08795\n",
            "[195]\tvalidation_0-logloss:0.08806\n",
            "[196]\tvalidation_0-logloss:0.08787\n",
            "[197]\tvalidation_0-logloss:0.08790\n",
            "[198]\tvalidation_0-logloss:0.08792\n",
            "[199]\tvalidation_0-logloss:0.08800\n",
            "[200]\tvalidation_0-logloss:0.08804\n"
          ]
        }
      ]
    },
    {
      "cell_type": "code",
      "source": [
        "get_clf_eval(y_test, ws100_preds, ws100_pred_proba)"
      ],
      "metadata": {
        "colab": {
          "base_uri": "https://localhost:8080/"
        },
        "id": "1Egv8gnnzEWd",
        "outputId": "d47672ff-ae0a-4fe8-9a84-c1af2ce583cd"
      },
      "id": "1Egv8gnnzEWd",
      "execution_count": 22,
      "outputs": [
        {
          "output_type": "stream",
          "name": "stdout",
          "text": [
            "오차 행렬\n",
            "[[34  3]\n",
            " [ 1 76]]\n",
            "정확도: 0.9649, 정밀도: 0.9620, 재현율: 0.9870,    F1: 0.9744, AUC:0.9951\n"
          ]
        }
      ]
    },
    {
      "cell_type": "code",
      "source": [
        "xgb_wrapper.fit(X_train, y_train, early_stopping_rounds=10, eval_metric=\"logloss\",\n",
        "                eval_set=evals, verbose=True)\n",
        "ws10_preds = xgb_wrapper.predict(X_test)\n",
        "ws10_pred_proba = xgb_wrapper.predict_proba(X_test)[:,1]\n",
        "get_clf_eval(y_test, ws10_preds, ws10_pred_proba)"
      ],
      "metadata": {
        "colab": {
          "base_uri": "https://localhost:8080/"
        },
        "id": "Pz6f4o7gzQLM",
        "outputId": "aa0e62a1-ff63-450f-d588-c6797cf7c291"
      },
      "id": "Pz6f4o7gzQLM",
      "execution_count": 23,
      "outputs": [
        {
          "output_type": "stream",
          "name": "stdout",
          "text": [
            "[0]\tvalidation_0-logloss:0.56554\n",
            "[1]\tvalidation_0-logloss:0.50669\n",
            "[2]\tvalidation_0-logloss:0.45868\n",
            "[3]\tvalidation_0-logloss:0.41822\n",
            "[4]\tvalidation_0-logloss:0.38103\n",
            "[5]\tvalidation_0-logloss:0.35137\n",
            "[6]\tvalidation_0-logloss:0.32588\n",
            "[7]\tvalidation_0-logloss:0.30127\n",
            "[8]\tvalidation_0-logloss:0.28197\n",
            "[9]\tvalidation_0-logloss:0.26265\n",
            "[10]\tvalidation_0-logloss:0.24821\n",
            "[11]\tvalidation_0-logloss:0.23231\n",
            "[12]\tvalidation_0-logloss:0.22079\n",
            "[13]\tvalidation_0-logloss:0.20795\n",
            "[14]\tvalidation_0-logloss:0.19764\n",
            "[15]\tvalidation_0-logloss:0.18950\n",
            "[16]\tvalidation_0-logloss:0.18052\n",
            "[17]\tvalidation_0-logloss:0.17246\n",
            "[18]\tvalidation_0-logloss:0.16512\n",
            "[19]\tvalidation_0-logloss:0.15828\n",
            "[20]\tvalidation_0-logloss:0.15436\n",
            "[21]\tvalidation_0-logloss:0.14633\n",
            "[22]\tvalidation_0-logloss:0.13936\n",
            "[23]\tvalidation_0-logloss:0.13393\n",
            "[24]\tvalidation_0-logloss:0.13015\n",
            "[25]\tvalidation_0-logloss:0.12489\n",
            "[26]\tvalidation_0-logloss:0.12206\n",
            "[27]\tvalidation_0-logloss:0.11890\n",
            "[28]\tvalidation_0-logloss:0.11637\n",
            "[29]\tvalidation_0-logloss:0.11293\n",
            "[30]\tvalidation_0-logloss:0.11040\n",
            "[31]\tvalidation_0-logloss:0.10826\n",
            "[32]\tvalidation_0-logloss:0.10452\n",
            "[33]\tvalidation_0-logloss:0.10322\n",
            "[34]\tvalidation_0-logloss:0.10059\n",
            "[35]\tvalidation_0-logloss:0.09869\n",
            "[36]\tvalidation_0-logloss:0.09658\n",
            "[37]\tvalidation_0-logloss:0.09487\n",
            "[38]\tvalidation_0-logloss:0.09443\n",
            "[39]\tvalidation_0-logloss:0.09374\n",
            "[40]\tvalidation_0-logloss:0.09239\n",
            "[41]\tvalidation_0-logloss:0.09159\n",
            "[42]\tvalidation_0-logloss:0.09004\n",
            "[43]\tvalidation_0-logloss:0.09029\n",
            "[44]\tvalidation_0-logloss:0.08966\n",
            "[45]\tvalidation_0-logloss:0.08808\n",
            "[46]\tvalidation_0-logloss:0.08783\n",
            "[47]\tvalidation_0-logloss:0.08756\n",
            "[48]\tvalidation_0-logloss:0.08682\n",
            "[49]\tvalidation_0-logloss:0.08829\n",
            "[50]\tvalidation_0-logloss:0.08882\n",
            "[51]\tvalidation_0-logloss:0.08871\n",
            "[52]\tvalidation_0-logloss:0.08780\n",
            "[53]\tvalidation_0-logloss:0.08766\n",
            "[54]\tvalidation_0-logloss:0.08825\n",
            "[55]\tvalidation_0-logloss:0.08882\n",
            "[56]\tvalidation_0-logloss:0.08785\n",
            "[57]\tvalidation_0-logloss:0.08813\n",
            "오차 행렬\n",
            "[[34  3]\n",
            " [ 2 75]]\n",
            "정확도: 0.9561, 정밀도: 0.9615, 재현율: 0.9740,    F1: 0.9677, AUC:0.9954\n"
          ]
        }
      ]
    },
    {
      "cell_type": "code",
      "source": [
        "from xgboost import plot_importance\n",
        "import matplotlib.pyplot as plt\n",
        "%matplotlib inline\n",
        "\n",
        "fig, ax = plt.subplots(figsize=(10, 12))\n",
        "plot_importance(xgb_wrapper, ax=ax)"
      ],
      "metadata": {
        "colab": {
          "base_uri": "https://localhost:8080/",
          "height": 785
        },
        "id": "QSEOmdHFzNb9",
        "outputId": "99b95f05-2d70-45d5-f358-5bef5c31ab9c"
      },
      "id": "QSEOmdHFzNb9",
      "execution_count": 24,
      "outputs": [
        {
          "output_type": "execute_result",
          "data": {
            "text/plain": [
              "<Axes: title={'center': 'Feature importance'}, xlabel='F score', ylabel='Features'>"
            ]
          },
          "metadata": {},
          "execution_count": 24
        },
        {
          "output_type": "display_data",
          "data": {
            "text/plain": [
              "<Figure size 1000x1200 with 1 Axes>"
            ],
            "image/png": "[encoded data removed]"
          },
          "metadata": {}
        }
      ]
    },
    {
      "cell_type": "code",
      "source": [
        "!pip install lightgbm==3.3.2"
      ],
      "metadata": {
        "colab": {
          "base_uri": "https://localhost:8080/",
          "height": 414
        },
        "id": "KybYUds81dSM",
        "outputId": "077b0324-1943-4e20-8503-d2dac93a1db9"
      },
      "id": "KybYUds81dSM",
      "execution_count": 31,
      "outputs": [
        {
          "output_type": "stream",
          "name": "stdout",
          "text": [
            "Collecting lightgbm==3.3.2\n",
            "  Downloading lightgbm-3.3.2-py3-none-manylinux1_x86_64.whl (2.0 MB)\n",
            "\u001b[2K     \u001b[90m━━━━━━━━━━━━━━━━━━━━━━━━━━━━━━━━━━━━━━━━\u001b[0m \u001b[32m2.0/2.0 MB\u001b[0m \u001b[31m7.4 MB/s\u001b[0m eta \u001b[36m0:00:00\u001b[0m\n",
            "\u001b[?25hRequirement already satisfied: wheel in /usr/local/lib/python3.10/dist-packages (from lightgbm==3.3.2) (0.43.0)\n",
            "Requirement already satisfied: numpy in /usr/local/lib/python3.10/dist-packages (from lightgbm==3.3.2) (1.23.5)\n",
            "Requirement already satisfied: scipy in /usr/local/lib/python3.10/dist-packages (from lightgbm==3.3.2) (1.11.4)\n",
            "Requirement already satisfied: scikit-learn!=0.22.0 in /usr/local/lib/python3.10/dist-packages (from lightgbm==3.3.2) (1.2.2)\n",
            "Requirement already satisfied: joblib>=1.1.1 in /usr/local/lib/python3.10/dist-packages (from scikit-learn!=0.22.0->lightgbm==3.3.2) (1.3.2)\n",
            "Requirement already satisfied: threadpoolctl>=2.0.0 in /usr/local/lib/python3.10/dist-packages (from scikit-learn!=0.22.0->lightgbm==3.3.2) (3.4.0)\n",
            "Installing collected packages: lightgbm\n",
            "  Attempting uninstall: lightgbm\n",
            "    Found existing installation: lightgbm 4.1.0\n",
            "    Uninstalling lightgbm-4.1.0:\n",
            "      Successfully uninstalled lightgbm-4.1.0\n",
            "Successfully installed lightgbm-3.3.2\n"
          ]
        },
        {
          "output_type": "display_data",
          "data": {
            "application/vnd.colab-display-data+json": {
              "pip_warning": {
                "packages": [
                  "lightgbm"
                ]
              },
              "id": "3f2fbe77ab5f422d8cf6cb33ae62d894"
            }
          },
          "metadata": {}
        }
      ]
    },
    {
      "cell_type": "code",
      "source": [
        "from lightgbm import LGBMClassifier\n",
        "\n",
        "import pandas as pd\n",
        "import numpy as np\n",
        "from sklearn.datasets import load_breast_cancer\n",
        "from sklearn.model_selection import train_test_split\n",
        "\n",
        "dataset = load_breast_cancer()\n",
        "ftr = dataset.data\n",
        "target = dataset.target\n",
        "\n",
        "X_train, X_test, y_train, y_test = train_test_split(ftr, target, test_size=0.2, random_state=156)\n",
        "\n",
        "lgbm_wrapper = LGBMClassifier(n_estimators=400)\n",
        "\n",
        "evals = [(X_test, y_test)]\n",
        "lgbm_wrapper.fit(X_train, y_train, early_stopping_rounds=100, eval_metric=\"logloss\",\n",
        "                 eval_set=evals, verbose=True)\n",
        "preds = lgbm_wrapper.predict(X_test)\n",
        "pred_proba = lgbm_wrapper.predict_proba(X_test)[:, 1]"
      ],
      "metadata": {
        "colab": {
          "base_uri": "https://localhost:8080/"
        },
        "id": "23qQRXrNzmrc",
        "outputId": "0b667b03-2692-4bf2-e00a-8303f7d86195"
      },
      "id": "23qQRXrNzmrc",
      "execution_count": 1,
      "outputs": [
        {
          "output_type": "stream",
          "name": "stderr",
          "text": [
            "/usr/local/lib/python3.10/dist-packages/lightgbm/sklearn.py:726: UserWarning: 'early_stopping_rounds' argument is deprecated and will be removed in a future release of LightGBM. Pass 'early_stopping()' callback via 'callbacks' argument instead.\n",
            "  _log_warning(\"'early_stopping_rounds' argument is deprecated and will be removed in a future release of LightGBM. \"\n",
            "/usr/local/lib/python3.10/dist-packages/lightgbm/sklearn.py:736: UserWarning: 'verbose' argument is deprecated and will be removed in a future release of LightGBM. Pass 'log_evaluation()' callback via 'callbacks' argument instead.\n",
            "  _log_warning(\"'verbose' argument is deprecated and will be removed in a future release of LightGBM. \"\n"
          ]
        },
        {
          "output_type": "stream",
          "name": "stdout",
          "text": [
            "[1]\tvalid_0's binary_logloss: 0.565079\n",
            "[2]\tvalid_0's binary_logloss: 0.507451\n",
            "[3]\tvalid_0's binary_logloss: 0.458489\n",
            "[4]\tvalid_0's binary_logloss: 0.417481\n",
            "[5]\tvalid_0's binary_logloss: 0.385507\n",
            "[6]\tvalid_0's binary_logloss: 0.355773\n",
            "[7]\tvalid_0's binary_logloss: 0.329587\n",
            "[8]\tvalid_0's binary_logloss: 0.308478\n",
            "[9]\tvalid_0's binary_logloss: 0.285395\n",
            "[10]\tvalid_0's binary_logloss: 0.267055\n",
            "[11]\tvalid_0's binary_logloss: 0.252013\n",
            "[12]\tvalid_0's binary_logloss: 0.237018\n",
            "[13]\tvalid_0's binary_logloss: 0.224756\n",
            "[14]\tvalid_0's binary_logloss: 0.213383\n",
            "[15]\tvalid_0's binary_logloss: 0.203058\n",
            "[16]\tvalid_0's binary_logloss: 0.194015\n",
            "[17]\tvalid_0's binary_logloss: 0.186412\n",
            "[18]\tvalid_0's binary_logloss: 0.179108\n",
            "[19]\tvalid_0's binary_logloss: 0.174004\n",
            "[20]\tvalid_0's binary_logloss: 0.167155\n",
            "[21]\tvalid_0's binary_logloss: 0.162494\n",
            "[22]\tvalid_0's binary_logloss: 0.156886\n",
            "[23]\tvalid_0's binary_logloss: 0.152855\n",
            "[24]\tvalid_0's binary_logloss: 0.151113\n",
            "[25]\tvalid_0's binary_logloss: 0.148395\n",
            "[26]\tvalid_0's binary_logloss: 0.145869\n",
            "[27]\tvalid_0's binary_logloss: 0.143036\n",
            "[28]\tvalid_0's binary_logloss: 0.14033\n",
            "[29]\tvalid_0's binary_logloss: 0.139609\n",
            "[30]\tvalid_0's binary_logloss: 0.136109\n",
            "[31]\tvalid_0's binary_logloss: 0.134867\n",
            "[32]\tvalid_0's binary_logloss: 0.134729\n",
            "[33]\tvalid_0's binary_logloss: 0.1311\n",
            "[34]\tvalid_0's binary_logloss: 0.131143\n",
            "[35]\tvalid_0's binary_logloss: 0.129435\n",
            "[36]\tvalid_0's binary_logloss: 0.128474\n",
            "[37]\tvalid_0's binary_logloss: 0.126683\n",
            "[38]\tvalid_0's binary_logloss: 0.126112\n",
            "[39]\tvalid_0's binary_logloss: 0.122831\n",
            "[40]\tvalid_0's binary_logloss: 0.123162\n",
            "[41]\tvalid_0's binary_logloss: 0.125592\n",
            "[42]\tvalid_0's binary_logloss: 0.128293\n",
            "[43]\tvalid_0's binary_logloss: 0.128123\n",
            "[44]\tvalid_0's binary_logloss: 0.12789\n",
            "[45]\tvalid_0's binary_logloss: 0.122818\n",
            "[46]\tvalid_0's binary_logloss: 0.12496\n",
            "[47]\tvalid_0's binary_logloss: 0.125578\n",
            "[48]\tvalid_0's binary_logloss: 0.127381\n",
            "[49]\tvalid_0's binary_logloss: 0.128349\n",
            "[50]\tvalid_0's binary_logloss: 0.127004\n",
            "[51]\tvalid_0's binary_logloss: 0.130288\n",
            "[52]\tvalid_0's binary_logloss: 0.131362\n",
            "[53]\tvalid_0's binary_logloss: 0.133363\n",
            "[54]\tvalid_0's binary_logloss: 0.1332\n",
            "[55]\tvalid_0's binary_logloss: 0.134543\n",
            "[56]\tvalid_0's binary_logloss: 0.130803\n",
            "[57]\tvalid_0's binary_logloss: 0.130306\n",
            "[58]\tvalid_0's binary_logloss: 0.132514\n",
            "[59]\tvalid_0's binary_logloss: 0.133278\n",
            "[60]\tvalid_0's binary_logloss: 0.134804\n",
            "[61]\tvalid_0's binary_logloss: 0.136888\n",
            "[62]\tvalid_0's binary_logloss: 0.138745\n",
            "[63]\tvalid_0's binary_logloss: 0.140497\n",
            "[64]\tvalid_0's binary_logloss: 0.141368\n",
            "[65]\tvalid_0's binary_logloss: 0.140764\n",
            "[66]\tvalid_0's binary_logloss: 0.14348\n",
            "[67]\tvalid_0's binary_logloss: 0.143418\n",
            "[68]\tvalid_0's binary_logloss: 0.143682\n",
            "[69]\tvalid_0's binary_logloss: 0.145076\n",
            "[70]\tvalid_0's binary_logloss: 0.14686\n",
            "[71]\tvalid_0's binary_logloss: 0.148051\n",
            "[72]\tvalid_0's binary_logloss: 0.147664\n",
            "[73]\tvalid_0's binary_logloss: 0.149478\n",
            "[74]\tvalid_0's binary_logloss: 0.14708\n",
            "[75]\tvalid_0's binary_logloss: 0.14545\n",
            "[76]\tvalid_0's binary_logloss: 0.148767\n",
            "[77]\tvalid_0's binary_logloss: 0.149959\n",
            "[78]\tvalid_0's binary_logloss: 0.146083\n",
            "[79]\tvalid_0's binary_logloss: 0.14638\n",
            "[80]\tvalid_0's binary_logloss: 0.148461\n",
            "[81]\tvalid_0's binary_logloss: 0.15091\n",
            "[82]\tvalid_0's binary_logloss: 0.153011\n",
            "[83]\tvalid_0's binary_logloss: 0.154807\n",
            "[84]\tvalid_0's binary_logloss: 0.156501\n",
            "[85]\tvalid_0's binary_logloss: 0.158586\n",
            "[86]\tvalid_0's binary_logloss: 0.159819\n",
            "[87]\tvalid_0's binary_logloss: 0.161745\n",
            "[88]\tvalid_0's binary_logloss: 0.162829\n",
            "[89]\tvalid_0's binary_logloss: 0.159142\n",
            "[90]\tvalid_0's binary_logloss: 0.156765\n",
            "[91]\tvalid_0's binary_logloss: 0.158625\n",
            "[92]\tvalid_0's binary_logloss: 0.156832\n",
            "[93]\tvalid_0's binary_logloss: 0.154616\n",
            "[94]\tvalid_0's binary_logloss: 0.154263\n",
            "[95]\tvalid_0's binary_logloss: 0.157156\n",
            "[96]\tvalid_0's binary_logloss: 0.158617\n",
            "[97]\tvalid_0's binary_logloss: 0.157495\n",
            "[98]\tvalid_0's binary_logloss: 0.159413\n",
            "[99]\tvalid_0's binary_logloss: 0.15847\n",
            "[100]\tvalid_0's binary_logloss: 0.160746\n",
            "[101]\tvalid_0's binary_logloss: 0.16217\n",
            "[102]\tvalid_0's binary_logloss: 0.165293\n",
            "[103]\tvalid_0's binary_logloss: 0.164749\n",
            "[104]\tvalid_0's binary_logloss: 0.167097\n",
            "[105]\tvalid_0's binary_logloss: 0.167697\n",
            "[106]\tvalid_0's binary_logloss: 0.169462\n",
            "[107]\tvalid_0's binary_logloss: 0.169947\n",
            "[108]\tvalid_0's binary_logloss: 0.171\n",
            "[109]\tvalid_0's binary_logloss: 0.16907\n",
            "[110]\tvalid_0's binary_logloss: 0.169521\n",
            "[111]\tvalid_0's binary_logloss: 0.167719\n",
            "[112]\tvalid_0's binary_logloss: 0.166648\n",
            "[113]\tvalid_0's binary_logloss: 0.169053\n",
            "[114]\tvalid_0's binary_logloss: 0.169613\n",
            "[115]\tvalid_0's binary_logloss: 0.170059\n",
            "[116]\tvalid_0's binary_logloss: 0.1723\n",
            "[117]\tvalid_0's binary_logloss: 0.174733\n",
            "[118]\tvalid_0's binary_logloss: 0.173526\n",
            "[119]\tvalid_0's binary_logloss: 0.1751\n",
            "[120]\tvalid_0's binary_logloss: 0.178254\n",
            "[121]\tvalid_0's binary_logloss: 0.182968\n",
            "[122]\tvalid_0's binary_logloss: 0.179017\n",
            "[123]\tvalid_0's binary_logloss: 0.178326\n",
            "[124]\tvalid_0's binary_logloss: 0.177149\n",
            "[125]\tvalid_0's binary_logloss: 0.179171\n",
            "[126]\tvalid_0's binary_logloss: 0.180948\n",
            "[127]\tvalid_0's binary_logloss: 0.183861\n",
            "[128]\tvalid_0's binary_logloss: 0.187579\n",
            "[129]\tvalid_0's binary_logloss: 0.188122\n",
            "[130]\tvalid_0's binary_logloss: 0.1857\n",
            "[131]\tvalid_0's binary_logloss: 0.187442\n",
            "[132]\tvalid_0's binary_logloss: 0.188578\n",
            "[133]\tvalid_0's binary_logloss: 0.189729\n",
            "[134]\tvalid_0's binary_logloss: 0.187313\n",
            "[135]\tvalid_0's binary_logloss: 0.189279\n",
            "[136]\tvalid_0's binary_logloss: 0.191068\n",
            "[137]\tvalid_0's binary_logloss: 0.192414\n",
            "[138]\tvalid_0's binary_logloss: 0.191255\n",
            "[139]\tvalid_0's binary_logloss: 0.193453\n",
            "[140]\tvalid_0's binary_logloss: 0.196969\n",
            "[141]\tvalid_0's binary_logloss: 0.196378\n",
            "[142]\tvalid_0's binary_logloss: 0.196367\n",
            "[143]\tvalid_0's binary_logloss: 0.19869\n",
            "[144]\tvalid_0's binary_logloss: 0.200352\n",
            "[145]\tvalid_0's binary_logloss: 0.19712\n"
          ]
        }
      ]
    },
    {
      "cell_type": "code",
      "source": [
        "get_clf_eval(y_test, preds, pred_proba)"
      ],
      "metadata": {
        "colab": {
          "base_uri": "https://localhost:8080/"
        },
        "id": "4-dZ5qUO0QKH",
        "outputId": "b6c019d0-302d-4e16-862f-2fcb41cd40f9"
      },
      "id": "4-dZ5qUO0QKH",
      "execution_count": 3,
      "outputs": [
        {
          "output_type": "stream",
          "name": "stdout",
          "text": [
            "오차 행렬\n",
            "[[33  4]\n",
            " [ 1 76]]\n",
            "정확도: 0.9561, 정밀도: 0.9500, 재현율: 0.9870,    F1: 0.9682, AUC:0.9905\n"
          ]
        }
      ]
    },
    {
      "cell_type": "code",
      "source": [
        "from lightgbm import plot_importance\n",
        "import matplotlib.pyplot as plt\n",
        "%matplotlib inline\n",
        "\n",
        "fig, ax = plt.subplots(figsize=(10, 12))\n",
        "plot_importance(lgbm_wrapper, ax=ax)"
      ],
      "metadata": {
        "colab": {
          "base_uri": "https://localhost:8080/",
          "height": 757
        },
        "id": "H72qh5E1185L",
        "outputId": "6de14c0b-979b-4b20-df8e-e4b597b7453d"
      },
      "id": "H72qh5E1185L",
      "execution_count": 4,
      "outputs": [
        {
          "output_type": "execute_result",
          "data": {
            "text/plain": [
              "<Axes: title={'center': 'Feature importance'}, xlabel='Feature importance', ylabel='Features'>"
            ]
          },
          "metadata": {},
          "execution_count": 4
        },
        {
          "output_type": "display_data",
          "data": {
            "text/plain": [
              "<Figure size 1000x1200 with 1 Axes>"
            ],
            "image/png": "[encoded data removed]"
          },
          "metadata": {}
        }
      ]
    },
    {
      "cell_type": "code",
      "source": [
        "from hyperopt import hp\n",
        "\n",
        "search_space = {'x': hp.quniform('x', -10, 10, 1), 'y' : hp.quniform('y', -15, 15, 1)}"
      ],
      "metadata": {
        "id": "rd4PAsQq2J0W"
      },
      "id": "rd4PAsQq2J0W",
      "execution_count": 6,
      "outputs": []
    },
    {
      "cell_type": "code",
      "source": [
        "from hyperopt import STATUS_OK\n",
        "\n",
        "def objective_func(search_space) :\n",
        "  x = search_space['x']\n",
        "  y = search_space['y']\n",
        "  retval = x**2 - 20*y\n",
        "\n",
        "  return retval"
      ],
      "metadata": {
        "id": "kBq0g4dh3iwl"
      },
      "id": "kBq0g4dh3iwl",
      "execution_count": 7,
      "outputs": []
    },
    {
      "cell_type": "code",
      "source": [
        "from hyperopt import fmin, tpe, Trials\n",
        "trial_val = Trials()\n",
        "\n",
        "best_01 = fmin(fn=objective_func, space=search_space, algo=tpe.suggest, max_evals=5\n",
        "               , trials=trial_val, rstate=np.random.default_rng(seed=0))\n",
        "print('best:', best_01)"
      ],
      "metadata": {
        "colab": {
          "base_uri": "https://localhost:8080/"
        },
        "id": "d202tlog4Tlr",
        "outputId": "d0832bc9-b922-4013-fd57-0f3cbd411f8e"
      },
      "id": "d202tlog4Tlr",
      "execution_count": 9,
      "outputs": [
        {
          "output_type": "stream",
          "name": "stdout",
          "text": [
            "100%|██████████| 5/5 [00:00<00:00, 295.83trial/s, best loss: -224.0]\n",
            "best: {'x': -4.0, 'y': 12.0}\n"
          ]
        }
      ]
    },
    {
      "cell_type": "code",
      "source": [
        "trial_val = Trials()\n",
        "\n",
        "best_02 = fmin(fn=objective_func, space=search_space, algo=tpe.suggest, max_evals=20\n",
        "               , trials=trial_val, rstate=np.random.default_rng(seed=0))\n",
        "print('best:', best_02)"
      ],
      "metadata": {
        "colab": {
          "base_uri": "https://localhost:8080/"
        },
        "id": "hPOS1PZR45mk",
        "outputId": "b7484858-e3db-4ff6-e37d-ba42bc26ee9a"
      },
      "id": "hPOS1PZR45mk",
      "execution_count": 10,
      "outputs": [
        {
          "output_type": "stream",
          "name": "stdout",
          "text": [
            "100%|██████████| 20/20 [00:00<00:00, 229.60trial/s, best loss: -296.0]\n",
            "best: {'x': 2.0, 'y': 15.0}\n"
          ]
        }
      ]
    },
    {
      "cell_type": "code",
      "source": [
        "print(trial_val.results)"
      ],
      "metadata": {
        "colab": {
          "base_uri": "https://localhost:8080/"
        },
        "id": "uKQRlZHN5FuP",
        "outputId": "f78064b8-8e5e-44c7-c8fa-c3492eeb80d4"
      },
      "id": "uKQRlZHN5FuP",
      "execution_count": 11,
      "outputs": [
        {
          "output_type": "stream",
          "name": "stdout",
          "text": [
            "[{'loss': -64.0, 'status': 'ok'}, {'loss': -184.0, 'status': 'ok'}, {'loss': 56.0, 'status': 'ok'}, {'loss': -224.0, 'status': 'ok'}, {'loss': 61.0, 'status': 'ok'}, {'loss': -296.0, 'status': 'ok'}, {'loss': -40.0, 'status': 'ok'}, {'loss': 281.0, 'status': 'ok'}, {'loss': 64.0, 'status': 'ok'}, {'loss': 100.0, 'status': 'ok'}, {'loss': 60.0, 'status': 'ok'}, {'loss': -39.0, 'status': 'ok'}, {'loss': 1.0, 'status': 'ok'}, {'loss': -164.0, 'status': 'ok'}, {'loss': 21.0, 'status': 'ok'}, {'loss': -56.0, 'status': 'ok'}, {'loss': 284.0, 'status': 'ok'}, {'loss': 176.0, 'status': 'ok'}, {'loss': -171.0, 'status': 'ok'}, {'loss': 0.0, 'status': 'ok'}]\n"
          ]
        }
      ]
    },
    {
      "cell_type": "code",
      "source": [
        "print(trial_val.vals)"
      ],
      "metadata": {
        "colab": {
          "base_uri": "https://localhost:8080/"
        },
        "id": "bM1YCH5Y5QH_",
        "outputId": "e7e2f4e4-544b-45c6-b4f5-ebe9cc3c3f46"
      },
      "id": "bM1YCH5Y5QH_",
      "execution_count": 12,
      "outputs": [
        {
          "output_type": "stream",
          "name": "stdout",
          "text": [
            "{'x': [-6.0, -4.0, 4.0, -4.0, 9.0, 2.0, 10.0, -9.0, -8.0, -0.0, -0.0, 1.0, 9.0, 6.0, 9.0, 2.0, -2.0, -4.0, 7.0, -0.0], 'y': [5.0, 10.0, -2.0, 12.0, 1.0, 15.0, 7.0, -10.0, 0.0, -5.0, -3.0, 2.0, 4.0, 10.0, 3.0, 3.0, -14.0, -8.0, 11.0, -0.0]}\n"
          ]
        }
      ]
    },
    {
      "cell_type": "code",
      "source": [
        "import pandas as pd\n",
        "\n",
        "losses = [loss_dict['loss'] for loss_dict in trial_val.results]\n",
        "\n",
        "result_df = pd.DataFrame({'x': trial_val.vals['x'], 'y': trial_val.vals['y'], 'losses': losses})\n",
        "result_df"
      ],
      "metadata": {
        "colab": {
          "base_uri": "https://localhost:8080/",
          "height": 677
        },
        "id": "WTIn8GHU5VvZ",
        "outputId": "cc6e9f97-db16-4e0b-a1fe-cf92ef60850a"
      },
      "id": "WTIn8GHU5VvZ",
      "execution_count": 13,
      "outputs": [
        {
          "output_type": "execute_result",
          "data": {
            "text/plain": [
              "       x     y  losses\n",
              "0   -6.0   5.0   -64.0\n",
              "1   -4.0  10.0  -184.0\n",
              "2    4.0  -2.0    56.0\n",
              "3   -4.0  12.0  -224.0\n",
              "4    9.0   1.0    61.0\n",
              "5    2.0  15.0  -296.0\n",
              "6   10.0   7.0   -40.0\n",
              "7   -9.0 -10.0   281.0\n",
              "8   -8.0   0.0    64.0\n",
              "9   -0.0  -5.0   100.0\n",
              "10  -0.0  -3.0    60.0\n",
              "11   1.0   2.0   -39.0\n",
              "12   9.0   4.0     1.0\n",
              "13   6.0  10.0  -164.0\n",
              "14   9.0   3.0    21.0\n",
              "15   2.0   3.0   -56.0\n",
              "16  -2.0 -14.0   284.0\n",
              "17  -4.0  -8.0   176.0\n",
              "18   7.0  11.0  -171.0\n",
              "19  -0.0  -0.0     0.0"
            ],
            "text/html": [
              "\n",
              "  <div id=\"df-3d226b86-0801-484d-9cf3-1323c09565ed\" class=\"colab-df-container\">\n",
              "    <div>\n",
              "<style scoped>\n",
              "    .dataframe tbody tr th:only-of-type {\n",
              "        vertical-align: middle;\n",
              "    }\n",
              "\n",
              "    .dataframe tbody tr th {\n",
              "        vertical-align: top;\n",
              "    }\n",
              "\n",
              "    .dataframe thead th {\n",
              "        text-align: right;\n",
              "    }\n",
              "</style>\n",
              "<table border=\"1\" class=\"dataframe\">\n",
              "  <thead>\n",
              "    <tr style=\"text-align: right;\">\n",
              "      <th></th>\n",
              "      <th>x</th>\n",
              "      <th>y</th>\n",
              "      <th>losses</th>\n",
              "    </tr>\n",
              "  </thead>\n",
              "  <tbody>\n",
              "    <tr>\n",
              "      <th>0</th>\n",
              "      <td>-6.0</td>\n",
              "      <td>5.0</td>\n",
              "      <td>-64.0</td>\n",
              "    </tr>\n",
              "    <tr>\n",
              "      <th>1</th>\n",
              "      <td>-4.0</td>\n",
              "      <td>10.0</td>\n",
              "      <td>-184.0</td>\n",
              "    </tr>\n",
              "    <tr>\n",
              "      <th>2</th>\n",
              "      <td>4.0</td>\n",
              "      <td>-2.0</td>\n",
              "      <td>56.0</td>\n",
              "    </tr>\n",
              "    <tr>\n",
              "      <th>3</th>\n",
              "      <td>-4.0</td>\n",
              "      <td>12.0</td>\n",
              "      <td>-224.0</td>\n",
              "    </tr>\n",
              "    <tr>\n",
              "      <th>4</th>\n",
              "      <td>9.0</td>\n",
              "      <td>1.0</td>\n",
              "      <td>61.0</td>\n",
              "    </tr>\n",
              "    <tr>\n",
              "      <th>5</th>\n",
              "      <td>2.0</td>\n",
              "      <td>15.0</td>\n",
              "      <td>-296.0</td>\n",
              "    </tr>\n",
              "    <tr>\n",
              "      <th>6</th>\n",
              "      <td>10.0</td>\n",
              "      <td>7.0</td>\n",
              "      <td>-40.0</td>\n",
              "    </tr>\n",
              "    <tr>\n",
              "      <th>7</th>\n",
              "      <td>-9.0</td>\n",
              "      <td>-10.0</td>\n",
              "      <td>281.0</td>\n",
              "    </tr>\n",
              "    <tr>\n",
              "      <th>8</th>\n",
              "      <td>-8.0</td>\n",
              "      <td>0.0</td>\n",
              "      <td>64.0</td>\n",
              "    </tr>\n",
              "    <tr>\n",
              "      <th>9</th>\n",
              "      <td>-0.0</td>\n",
              "      <td>-5.0</td>\n",
              "      <td>100.0</td>\n",
              "    </tr>\n",
              "    <tr>\n",
              "      <th>10</th>\n",
              "      <td>-0.0</td>\n",
              "      <td>-3.0</td>\n",
              "      <td>60.0</td>\n",
              "    </tr>\n",
              "    <tr>\n",
              "      <th>11</th>\n",
              "      <td>1.0</td>\n",
              "      <td>2.0</td>\n",
              "      <td>-39.0</td>\n",
              "    </tr>\n",
              "    <tr>\n",
              "      <th>12</th>\n",
              "      <td>9.0</td>\n",
              "      <td>4.0</td>\n",
              "      <td>1.0</td>\n",
              "    </tr>\n",
              "    <tr>\n",
              "      <th>13</th>\n",
              "      <td>6.0</td>\n",
              "      <td>10.0</td>\n",
              "      <td>-164.0</td>\n",
              "    </tr>\n",
              "    <tr>\n",
              "      <th>14</th>\n",
              "      <td>9.0</td>\n",
              "      <td>3.0</td>\n",
              "      <td>21.0</td>\n",
              "    </tr>\n",
              "    <tr>\n",
              "      <th>15</th>\n",
              "      <td>2.0</td>\n",
              "      <td>3.0</td>\n",
              "      <td>-56.0</td>\n",
              "    </tr>\n",
              "    <tr>\n",
              "      <th>16</th>\n",
              "      <td>-2.0</td>\n",
              "      <td>-14.0</td>\n",
              "      <td>284.0</td>\n",
              "    </tr>\n",
              "    <tr>\n",
              "      <th>17</th>\n",
              "      <td>-4.0</td>\n",
              "      <td>-8.0</td>\n",
              "      <td>176.0</td>\n",
              "    </tr>\n",
              "    <tr>\n",
              "      <th>18</th>\n",
              "      <td>7.0</td>\n",
              "      <td>11.0</td>\n",
              "      <td>-171.0</td>\n",
              "    </tr>\n",
              "    <tr>\n",
              "      <th>19</th>\n",
              "      <td>-0.0</td>\n",
              "      <td>-0.0</td>\n",
              "      <td>0.0</td>\n",
              "    </tr>\n",
              "  </tbody>\n",
              "</table>\n",
              "</div>\n",
              "    <div class=\"colab-df-buttons\">\n",
              "\n",
              "  <div class=\"colab-df-container\">\n",
              "    <button class=\"colab-df-convert\" onclick=\"convertToInteractive('df-3d226b86-0801-484d-9cf3-1323c09565ed')\"\n",
              "            title=\"Convert this dataframe to an interactive table.\"\n",
              "            style=\"display:none;\">\n",
              "\n",
              "  <svg xmlns=\"http://www.w3.org/2000/svg\" height=\"24px\" viewBox=\"0 -960 960 960\">\n",
              "    <path d=\"M120-120v-720h720v720H120Zm60-500h600v-160H180v160Zm220 220h160v-160H400v160Zm0 220h160v-160H400v160ZM180-400h160v-160H180v160Zm440 0h160v-160H620v160ZM180-180h160v-160H180v160Zm440 0h160v-160H620v160Z\"/>\n",
              "  </svg>\n",
              "    </button>\n",
              "\n",
              "  <style>\n",
              "    .colab-df-container {\n",
              "      display:flex;\n",
              "      gap: 12px;\n",
              "    }\n",
              "\n",
              "    .colab-df-convert {\n",
              "      background-color: #E8F0FE;\n",
              "      border: none;\n",
              "      border-radius: 50%;\n",
              "      cursor: pointer;\n",
              "      display: none;\n",
              "      fill: #1967D2;\n",
              "      height: 32px;\n",
              "      padding: 0 0 0 0;\n",
              "      width: 32px;\n",
              "    }\n",
              "\n",
              "    .colab-df-convert:hover {\n",
              "      background-color: #E2EBFA;\n",
              "      box-shadow: 0px 1px 2px rgba(60, 64, 67, 0.3), 0px 1px 3px 1px rgba(60, 64, 67, 0.15);\n",
              "      fill: #174EA6;\n",
              "    }\n",
              "\n",
              "    .colab-df-buttons div {\n",
              "      margin-bottom: 4px;\n",
              "    }\n",
              "\n",
              "    [theme=dark] .colab-df-convert {\n",
              "      background-color: #3B4455;\n",
              "      fill: #D2E3FC;\n",
              "    }\n",
              "\n",
              "    [theme=dark] .colab-df-convert:hover {\n",
              "      background-color: #434B5C;\n",
              "      box-shadow: 0px 1px 3px 1px rgba(0, 0, 0, 0.15);\n",
              "      filter: drop-shadow(0px 1px 2px rgba(0, 0, 0, 0.3));\n",
              "      fill: #FFFFFF;\n",
              "    }\n",
              "  </style>\n",
              "\n",
              "    <script>\n",
              "      const buttonEl =\n",
              "        document.querySelector('#df-3d226b86-0801-484d-9cf3-1323c09565ed button.colab-df-convert');\n",
              "      buttonEl.style.display =\n",
              "        google.colab.kernel.accessAllowed ? 'block' : 'none';\n",
              "\n",
              "      async function convertToInteractive(key) {\n",
              "        const element = document.querySelector('#df-3d226b86-0801-484d-9cf3-1323c09565ed');\n",
              "        const dataTable =\n",
              "          await google.colab.kernel.invokeFunction('convertToInteractive',\n",
              "                                                    [key], {});\n",
              "        if (!dataTable) return;\n",
              "\n",
              "        const docLinkHtml = 'Like what you see? Visit the ' +\n",
              "          '<a target=\"_blank\" href=https://colab.research.google.com/notebooks/data_table.ipynb>data table notebook</a>'\n",
              "          + ' to learn more about interactive tables.';\n",
              "        element.innerHTML = '';\n",
              "        dataTable['output_type'] = 'display_data';\n",
              "        await google.colab.output.renderOutput(dataTable, element);\n",
              "        const docLink = document.createElement('div');\n",
              "        docLink.innerHTML = docLinkHtml;\n",
              "        element.appendChild(docLink);\n",
              "      }\n",
              "    </script>\n",
              "  </div>\n",
              "\n",
              "\n",
              "<div id=\"df-0f5d8a15-6ae3-442a-9178-a0f2e22e3b9b\">\n",
              "  <button class=\"colab-df-quickchart\" onclick=\"quickchart('df-0f5d8a15-6ae3-442a-9178-a0f2e22e3b9b')\"\n",
              "            title=\"Suggest charts\"\n",
              "            style=\"display:none;\">\n",
              "\n",
              "<svg xmlns=\"http://www.w3.org/2000/svg\" height=\"24px\"viewBox=\"0 0 24 24\"\n",
              "     width=\"24px\">\n",
              "    <g>\n",
              "        <path d=\"M19 3H5c-1.1 0-2 .9-2 2v14c0 1.1.9 2 2 2h14c1.1 0 2-.9 2-2V5c0-1.1-.9-2-2-2zM9 17H7v-7h2v7zm4 0h-2V7h2v10zm4 0h-2v-4h2v4z\"/>\n",
              "    </g>\n",
              "</svg>\n",
              "  </button>\n",
              "\n",
              "<style>\n",
              "  .colab-df-quickchart {\n",
              "      --bg-color: #E8F0FE;\n",
              "      --fill-color: #1967D2;\n",
              "      --hover-bg-color: #E2EBFA;\n",
              "      --hover-fill-color: #174EA6;\n",
              "      --disabled-fill-color: #AAA;\n",
              "      --disabled-bg-color: #DDD;\n",
              "  }\n",
              "\n",
              "  [theme=dark] .colab-df-quickchart {\n",
              "      --bg-color: #3B4455;\n",
              "      --fill-color: #D2E3FC;\n",
              "      --hover-bg-color: #434B5C;\n",
              "      --hover-fill-color: #FFFFFF;\n",
              "      --disabled-bg-color: #3B4455;\n",
              "      --disabled-fill-color: #666;\n",
              "  }\n",
              "\n",
              "  .colab-df-quickchart {\n",
              "    background-color: var(--bg-color);\n",
              "    border: none;\n",
              "    border-radius: 50%;\n",
              "    cursor: pointer;\n",
              "    display: none;\n",
              "    fill: var(--fill-color);\n",
              "    height: 32px;\n",
              "    padding: 0;\n",
              "    width: 32px;\n",
              "  }\n",
              "\n",
              "  .colab-df-quickchart:hover {\n",
              "    background-color: var(--hover-bg-color);\n",
              "    box-shadow: 0 1px 2px rgba(60, 64, 67, 0.3), 0 1px 3px 1px rgba(60, 64, 67, 0.15);\n",
              "    fill: var(--button-hover-fill-color);\n",
              "  }\n",
              "\n",
              "  .colab-df-quickchart-complete:disabled,\n",
              "  .colab-df-quickchart-complete:disabled:hover {\n",
              "    background-color: var(--disabled-bg-color);\n",
              "    fill: var(--disabled-fill-color);\n",
              "    box-shadow: none;\n",
              "  }\n",
              "\n",
              "  .colab-df-spinner {\n",
              "    border: 2px solid var(--fill-color);\n",
              "    border-color: transparent;\n",
              "    border-bottom-color: var(--fill-color);\n",
              "    animation:\n",
              "      spin 1s steps(1) infinite;\n",
              "  }\n",
              "\n",
              "  @keyframes spin {\n",
              "    0% {\n",
              "      border-color: transparent;\n",
              "      border-bottom-color: var(--fill-color);\n",
              "      border-left-color: var(--fill-color);\n",
              "    }\n",
              "    20% {\n",
              "      border-color: transparent;\n",
              "      border-left-color: var(--fill-color);\n",
              "      border-top-color: var(--fill-color);\n",
              "    }\n",
              "    30% {\n",
              "      border-color: transparent;\n",
              "      border-left-color: var(--fill-color);\n",
              "      border-top-color: var(--fill-color);\n",
              "      border-right-color: var(--fill-color);\n",
              "    }\n",
              "    40% {\n",
              "      border-color: transparent;\n",
              "      border-right-color: var(--fill-color);\n",
              "      border-top-color: var(--fill-color);\n",
              "    }\n",
              "    60% {\n",
              "      border-color: transparent;\n",
              "      border-right-color: var(--fill-color);\n",
              "    }\n",
              "    80% {\n",
              "      border-color: transparent;\n",
              "      border-right-color: var(--fill-color);\n",
              "      border-bottom-color: var(--fill-color);\n",
              "    }\n",
              "    90% {\n",
              "      border-color: transparent;\n",
              "      border-bottom-color: var(--fill-color);\n",
              "    }\n",
              "  }\n",
              "</style>\n",
              "\n",
              "  <script>\n",
              "    async function quickchart(key) {\n",
              "      const quickchartButtonEl =\n",
              "        document.querySelector('#' + key + ' button');\n",
              "      quickchartButtonEl.disabled = true;  // To prevent multiple clicks.\n",
              "      quickchartButtonEl.classList.add('colab-df-spinner');\n",
              "      try {\n",
              "        const charts = await google.colab.kernel.invokeFunction(\n",
              "            'suggestCharts', [key], {});\n",
              "      } catch (error) {\n",
              "        console.error('Error during call to suggestCharts:', error);\n",
              "      }\n",
              "      quickchartButtonEl.classList.remove('colab-df-spinner');\n",
              "      quickchartButtonEl.classList.add('colab-df-quickchart-complete');\n",
              "    }\n",
              "    (() => {\n",
              "      let quickchartButtonEl =\n",
              "        document.querySelector('#df-0f5d8a15-6ae3-442a-9178-a0f2e22e3b9b button');\n",
              "      quickchartButtonEl.style.display =\n",
              "        google.colab.kernel.accessAllowed ? 'block' : 'none';\n",
              "    })();\n",
              "  </script>\n",
              "</div>\n",
              "    </div>\n",
              "  </div>\n"
            ],
            "application/vnd.google.colaboratory.intrinsic+json": {
              "type": "dataframe",
              "variable_name": "result_df",
              "summary": "{\n  \"name\": \"result_df\",\n  \"rows\": 20,\n  \"fields\": [\n    {\n      \"column\": \"x\",\n      \"properties\": {\n        \"dtype\": \"number\",\n        \"std\": 5.90182844103151,\n        \"min\": -9.0,\n        \"max\": 10.0,\n        \"num_unique_values\": 13,\n        \"samples\": [\n          -2.0,\n          1.0,\n          -6.0\n        ],\n        \"semantic_type\": \"\",\n        \"description\": \"\"\n      }\n    },\n    {\n      \"column\": \"y\",\n      \"properties\": {\n        \"dtype\": \"number\",\n        \"std\": 7.66725779567005,\n        \"min\": -14.0,\n        \"max\": 15.0,\n        \"num_unique_values\": 17,\n        \"samples\": [\n          5.0,\n          10.0,\n          15.0\n        ],\n        \"semantic_type\": \"\",\n        \"description\": \"\"\n      }\n    },\n    {\n      \"column\": \"losses\",\n      \"properties\": {\n        \"dtype\": \"number\",\n        \"std\": 154.3796073252382,\n        \"min\": -296.0,\n        \"max\": 284.0,\n        \"num_unique_values\": 20,\n        \"samples\": [\n          -64.0,\n          176.0,\n          -56.0\n        ],\n        \"semantic_type\": \"\",\n        \"description\": \"\"\n      }\n    }\n  ]\n}"
            }
          },
          "metadata": {},
          "execution_count": 13
        }
      ]
    },
    {
      "cell_type": "code",
      "source": [
        "X_train, X_test, y_train, y_test=train_test_split(X_features, y_label, test_size=0.2, random_state=156)\n",
        "X_tr, X_val, y_tr, y_val = train_test_split(X_train, y_train, test_size=0.1, random_state=156)"
      ],
      "metadata": {
        "id": "16mRbn8r5p8_"
      },
      "id": "16mRbn8r5p8_",
      "execution_count": 17,
      "outputs": []
    },
    {
      "cell_type": "code",
      "source": [
        "from hyperopt import hp\n",
        "\n",
        "xgb_search_space = {'max_depth': hp.quniform('max_depth', 5, 20, 1),\n",
        "                    'min_child_weight': hp.quniform('min_child_weight', 1, 2,1),\n",
        "                    'learning_rate': hp.uniform('learning_rate', 0.01, 0.2),\n",
        "                    'colsample_bytree': hp.uniform('colsample_bytree', 0.5, 1)}"
      ],
      "metadata": {
        "id": "i6w1VIJs6X5u"
      },
      "id": "i6w1VIJs6X5u",
      "execution_count": 18,
      "outputs": []
    },
    {
      "cell_type": "code",
      "source": [
        "from sklearn.model_selection import cross_val_score\n",
        "from xgboost import XGBClassifier\n",
        "from hyperopt import STATUS_OK\n",
        "\n",
        "def objective_func(search_space):\n",
        "  xgb_clf = XGBClassifier(n_estimators=100, max_depth=int(search_space['max_depth']),\n",
        "                          min_child_weight=int(search_space['min_child_weight']),\n",
        "                          learning_rate=search_space['learning_rate'],\n",
        "                          colsample_bytree=search_space['colsample_bytree'],\n",
        "                          eval_metric='logloss')\n",
        "  accuracy = cross_val_score(xgb_clf, X_train, y_train, scoring='accuracy', cv=3)\n",
        "\n",
        "  return {'loss':-1*np.mean(accuracy), 'status':STATUS_OK}"
      ],
      "metadata": {
        "id": "yc_msEDc69AD"
      },
      "id": "yc_msEDc69AD",
      "execution_count": 19,
      "outputs": []
    },
    {
      "cell_type": "code",
      "source": [
        "from hyperopt import fmin, tpe, Trials\n",
        "\n",
        "trial_val = Trials()\n",
        "best = fmin(fn=objective_func,\n",
        "            space=xgb_search_space,\n",
        "            algo=tpe.suggest,\n",
        "            max_evals=50,\n",
        "            trials=trial_val, rstate=np.random.default_rng(seed=9))\n",
        "print('best:', best)"
      ],
      "metadata": {
        "colab": {
          "base_uri": "https://localhost:8080/"
        },
        "id": "MDdCA-TF7sKm",
        "outputId": "63b7af97-f1a7-4974-fdca-99cfeb97186f"
      },
      "id": "MDdCA-TF7sKm",
      "execution_count": 21,
      "outputs": [
        {
          "output_type": "stream",
          "name": "stdout",
          "text": [
            "100%|██████████| 50/50 [00:53<00:00,  1.08s/trial, best loss: -0.967047170907401]\n",
            "best: {'colsample_bytree': 0.548301545497125, 'learning_rate': 0.1840281762576621, 'max_depth': 18.0, 'min_child_weight': 2.0}\n"
          ]
        }
      ]
    },
    {
      "cell_type": "code",
      "source": [
        "print('colsample_bytree:{0}, learning_rate:{1}, max_depth:{2}, min_child_weight:{3}'.format(\n",
        "    round(best['colsample_bytree'], 5), round(best['learning_rate'], 5),\n",
        "    int(best['max_depth']), int(best['min_child_weight'])))"
      ],
      "metadata": {
        "colab": {
          "base_uri": "https://localhost:8080/"
        },
        "id": "YG8luu-v7-gi",
        "outputId": "4a50797a-896a-4804-9a6b-8c740f08d2e2"
      },
      "id": "YG8luu-v7-gi",
      "execution_count": 23,
      "outputs": [
        {
          "output_type": "stream",
          "name": "stdout",
          "text": [
            "colsample_bytree:0.5483, learning_rate:0.18403, max_depth:18, min_child_weight:2\n"
          ]
        }
      ]
    },
    {
      "cell_type": "code",
      "source": [
        "xgb_wrapper = XGBClassifier(n_estimators=400,\n",
        "                            learning_rate=round(best['learning_rate'], 5),\n",
        "                            max_depth=int(best['max_depth']),\n",
        "                            min_child_weight=int(best['min_child_weight']),\n",
        "                            colsample_bytree=round(best['colsample_bytree'], 5)\n",
        "                                                     )\n",
        "evals = [(X_tr, y_tr), (X_val, y_val)]\n",
        "\n",
        "xgb_wrapper.fit(X_tr, y_tr, early_stopping_rounds=50, eval_metric='logloss',\n",
        "                eval_set=evals, verbose=True)\n",
        "\n",
        "preds = xgb_wrapper.predict(X_test)\n",
        "pred_proba = xgb_wrapper.predict_proba(X_test)[:, 1]\n",
        "\n",
        "get_clf_eval(y_test, preds, pred_proba)"
      ],
      "metadata": {
        "colab": {
          "base_uri": "https://localhost:8080/"
        },
        "id": "jbwL86Ws9Eiy",
        "outputId": "38ae9d40-a30e-49ad-d51e-4683ccaeec0d"
      },
      "id": "jbwL86Ws9Eiy",
      "execution_count": 25,
      "outputs": [
        {
          "output_type": "stream",
          "name": "stdout",
          "text": [
            "[0]\tvalidation_0-logloss:0.52464\tvalidation_1-logloss:0.55510\n",
            "[1]\tvalidation_0-logloss:0.42441\tvalidation_1-logloss:0.48641\n",
            "[2]\tvalidation_0-logloss:0.35023\tvalidation_1-logloss:0.43336\n",
            "[3]\tvalidation_0-logloss:0.29341\tvalidation_1-logloss:0.39157\n",
            "[4]\tvalidation_0-logloss:0.24995\tvalidation_1-logloss:0.35869\n",
            "[5]\tvalidation_0-logloss:0.21406\tvalidation_1-logloss:0.33711\n",
            "[6]\tvalidation_0-logloss:0.18467\tvalidation_1-logloss:0.32415\n",
            "[7]\tvalidation_0-logloss:0.16291\tvalidation_1-logloss:0.30830\n",
            "[8]\tvalidation_0-logloss:0.14352\tvalidation_1-logloss:0.29894\n",
            "[9]\tvalidation_0-logloss:0.12620\tvalidation_1-logloss:0.27850\n",
            "[10]\tvalidation_0-logloss:0.11240\tvalidation_1-logloss:0.27026\n",
            "[11]\tvalidation_0-logloss:0.10142\tvalidation_1-logloss:0.26501\n",
            "[12]\tvalidation_0-logloss:0.09186\tvalidation_1-logloss:0.26248\n",
            "[13]\tvalidation_0-logloss:0.08452\tvalidation_1-logloss:0.25936\n",
            "[14]\tvalidation_0-logloss:0.07803\tvalidation_1-logloss:0.26213\n",
            "[15]\tvalidation_0-logloss:0.07128\tvalidation_1-logloss:0.25470\n",
            "[16]\tvalidation_0-logloss:0.06650\tvalidation_1-logloss:0.25492\n",
            "[17]\tvalidation_0-logloss:0.06266\tvalidation_1-logloss:0.25634\n",
            "[18]\tvalidation_0-logloss:0.05786\tvalidation_1-logloss:0.24944\n",
            "[19]\tvalidation_0-logloss:0.05355\tvalidation_1-logloss:0.25036\n",
            "[20]\tvalidation_0-logloss:0.05002\tvalidation_1-logloss:0.24972\n",
            "[21]\tvalidation_0-logloss:0.04654\tvalidation_1-logloss:0.25250\n",
            "[22]\tvalidation_0-logloss:0.04421\tvalidation_1-logloss:0.24979\n",
            "[23]\tvalidation_0-logloss:0.04146\tvalidation_1-logloss:0.25044\n",
            "[24]\tvalidation_0-logloss:0.03963\tvalidation_1-logloss:0.24702\n",
            "[25]\tvalidation_0-logloss:0.03782\tvalidation_1-logloss:0.24628\n",
            "[26]\tvalidation_0-logloss:0.03596\tvalidation_1-logloss:0.25301\n",
            "[27]\tvalidation_0-logloss:0.03448\tvalidation_1-logloss:0.25432\n",
            "[28]\tvalidation_0-logloss:0.03318\tvalidation_1-logloss:0.25111\n",
            "[29]\tvalidation_0-logloss:0.03193\tvalidation_1-logloss:0.25502\n",
            "[30]\tvalidation_0-logloss:0.03075\tvalidation_1-logloss:0.25624\n",
            "[31]\tvalidation_0-logloss:0.03007\tvalidation_1-logloss:0.25443\n",
            "[32]\tvalidation_0-logloss:0.02914\tvalidation_1-logloss:0.24923\n",
            "[33]\tvalidation_0-logloss:0.02822\tvalidation_1-logloss:0.25104\n",
            "[34]\tvalidation_0-logloss:0.02752\tvalidation_1-logloss:0.24779\n",
            "[35]\tvalidation_0-logloss:0.02688\tvalidation_1-logloss:0.24102\n",
            "[36]\tvalidation_0-logloss:0.02617\tvalidation_1-logloss:0.24194\n",
            "[37]\tvalidation_0-logloss:0.02563\tvalidation_1-logloss:0.24254\n",
            "[38]\tvalidation_0-logloss:0.02531\tvalidation_1-logloss:0.24036\n",
            "[39]\tvalidation_0-logloss:0.02468\tvalidation_1-logloss:0.24150\n",
            "[40]\tvalidation_0-logloss:0.02412\tvalidation_1-logloss:0.24247\n",
            "[41]\tvalidation_0-logloss:0.02388\tvalidation_1-logloss:0.24228\n",
            "[42]\tvalidation_0-logloss:0.02340\tvalidation_1-logloss:0.24326\n",
            "[43]\tvalidation_0-logloss:0.02313\tvalidation_1-logloss:0.24130\n",
            "[44]\tvalidation_0-logloss:0.02291\tvalidation_1-logloss:0.24401\n",
            "[45]\tvalidation_0-logloss:0.02270\tvalidation_1-logloss:0.24228\n",
            "[46]\tvalidation_0-logloss:0.02229\tvalidation_1-logloss:0.24162\n",
            "[47]\tvalidation_0-logloss:0.02209\tvalidation_1-logloss:0.24141\n",
            "[48]\tvalidation_0-logloss:0.02191\tvalidation_1-logloss:0.24124\n",
            "[49]\tvalidation_0-logloss:0.02174\tvalidation_1-logloss:0.24402\n",
            "[50]\tvalidation_0-logloss:0.02156\tvalidation_1-logloss:0.24245\n",
            "[51]\tvalidation_0-logloss:0.02141\tvalidation_1-logloss:0.24211\n",
            "[52]\tvalidation_0-logloss:0.02124\tvalidation_1-logloss:0.24152\n",
            "[53]\tvalidation_0-logloss:0.02105\tvalidation_1-logloss:0.24418\n",
            "[54]\tvalidation_0-logloss:0.02089\tvalidation_1-logloss:0.24407\n",
            "[55]\tvalidation_0-logloss:0.02073\tvalidation_1-logloss:0.24652\n",
            "[56]\tvalidation_0-logloss:0.02059\tvalidation_1-logloss:0.24471\n",
            "[57]\tvalidation_0-logloss:0.02043\tvalidation_1-logloss:0.24323\n",
            "[58]\tvalidation_0-logloss:0.02030\tvalidation_1-logloss:0.24315\n",
            "[59]\tvalidation_0-logloss:0.02015\tvalidation_1-logloss:0.24556\n",
            "[60]\tvalidation_0-logloss:0.02001\tvalidation_1-logloss:0.24533\n",
            "[61]\tvalidation_0-logloss:0.01987\tvalidation_1-logloss:0.24395\n",
            "[62]\tvalidation_0-logloss:0.01974\tvalidation_1-logloss:0.24625\n",
            "[63]\tvalidation_0-logloss:0.01962\tvalidation_1-logloss:0.24322\n",
            "[64]\tvalidation_0-logloss:0.01951\tvalidation_1-logloss:0.24285\n",
            "[65]\tvalidation_0-logloss:0.01940\tvalidation_1-logloss:0.24498\n",
            "[66]\tvalidation_0-logloss:0.01928\tvalidation_1-logloss:0.24375\n",
            "[67]\tvalidation_0-logloss:0.01916\tvalidation_1-logloss:0.24089\n",
            "[68]\tvalidation_0-logloss:0.01905\tvalidation_1-logloss:0.24070\n",
            "[69]\tvalidation_0-logloss:0.01894\tvalidation_1-logloss:0.24280\n",
            "[70]\tvalidation_0-logloss:0.01882\tvalidation_1-logloss:0.24405\n",
            "[71]\tvalidation_0-logloss:0.01872\tvalidation_1-logloss:0.24282\n",
            "[72]\tvalidation_0-logloss:0.01861\tvalidation_1-logloss:0.24267\n",
            "[73]\tvalidation_0-logloss:0.01851\tvalidation_1-logloss:0.24004\n",
            "[74]\tvalidation_0-logloss:0.01841\tvalidation_1-logloss:0.23731\n",
            "[75]\tvalidation_0-logloss:0.01830\tvalidation_1-logloss:0.23855\n",
            "[76]\tvalidation_0-logloss:0.01819\tvalidation_1-logloss:0.23697\n",
            "[77]\tvalidation_0-logloss:0.01809\tvalidation_1-logloss:0.23686\n",
            "[78]\tvalidation_0-logloss:0.01800\tvalidation_1-logloss:0.23800\n",
            "[79]\tvalidation_0-logloss:0.01791\tvalidation_1-logloss:0.23649\n",
            "[80]\tvalidation_0-logloss:0.01782\tvalidation_1-logloss:0.23387\n",
            "[81]\tvalidation_0-logloss:0.01773\tvalidation_1-logloss:0.23455\n",
            "[82]\tvalidation_0-logloss:0.01765\tvalidation_1-logloss:0.23554\n",
            "[83]\tvalidation_0-logloss:0.01756\tvalidation_1-logloss:0.23549\n",
            "[84]\tvalidation_0-logloss:0.01749\tvalidation_1-logloss:0.23547\n",
            "[85]\tvalidation_0-logloss:0.01741\tvalidation_1-logloss:0.23306\n",
            "[86]\tvalidation_0-logloss:0.01733\tvalidation_1-logloss:0.23519\n",
            "[87]\tvalidation_0-logloss:0.01725\tvalidation_1-logloss:0.23495\n",
            "[88]\tvalidation_0-logloss:0.01715\tvalidation_1-logloss:0.23230\n",
            "[89]\tvalidation_0-logloss:0.01708\tvalidation_1-logloss:0.23254\n",
            "[90]\tvalidation_0-logloss:0.01700\tvalidation_1-logloss:0.23010\n",
            "[91]\tvalidation_0-logloss:0.01692\tvalidation_1-logloss:0.23116\n",
            "[92]\tvalidation_0-logloss:0.01685\tvalidation_1-logloss:0.23144\n",
            "[93]\tvalidation_0-logloss:0.01677\tvalidation_1-logloss:0.23041\n",
            "[94]\tvalidation_0-logloss:0.01670\tvalidation_1-logloss:0.23015\n",
            "[95]\tvalidation_0-logloss:0.01663\tvalidation_1-logloss:0.22892\n",
            "[96]\tvalidation_0-logloss:0.01657\tvalidation_1-logloss:0.22681\n",
            "[97]\tvalidation_0-logloss:0.01649\tvalidation_1-logloss:0.22781\n",
            "[98]\tvalidation_0-logloss:0.01643\tvalidation_1-logloss:0.22814\n",
            "[99]\tvalidation_0-logloss:0.01637\tvalidation_1-logloss:0.22606\n",
            "[100]\tvalidation_0-logloss:0.01629\tvalidation_1-logloss:0.22810\n",
            "[101]\tvalidation_0-logloss:0.01623\tvalidation_1-logloss:0.22804\n",
            "[102]\tvalidation_0-logloss:0.01617\tvalidation_1-logloss:0.22994\n",
            "[103]\tvalidation_0-logloss:0.01611\tvalidation_1-logloss:0.22778\n",
            "[104]\tvalidation_0-logloss:0.01605\tvalidation_1-logloss:0.22786\n",
            "[105]\tvalidation_0-logloss:0.01599\tvalidation_1-logloss:0.22698\n",
            "[106]\tvalidation_0-logloss:0.01592\tvalidation_1-logloss:0.22668\n",
            "[107]\tvalidation_0-logloss:0.01586\tvalidation_1-logloss:0.22561\n",
            "[108]\tvalidation_0-logloss:0.01580\tvalidation_1-logloss:0.22654\n",
            "[109]\tvalidation_0-logloss:0.01575\tvalidation_1-logloss:0.22627\n",
            "[110]\tvalidation_0-logloss:0.01569\tvalidation_1-logloss:0.22848\n",
            "[111]\tvalidation_0-logloss:0.01563\tvalidation_1-logloss:0.22754\n",
            "[112]\tvalidation_0-logloss:0.01557\tvalidation_1-logloss:0.22558\n",
            "[113]\tvalidation_0-logloss:0.01552\tvalidation_1-logloss:0.22652\n",
            "[114]\tvalidation_0-logloss:0.01546\tvalidation_1-logloss:0.22867\n",
            "[115]\tvalidation_0-logloss:0.01541\tvalidation_1-logloss:0.22783\n",
            "[116]\tvalidation_0-logloss:0.01536\tvalidation_1-logloss:0.22955\n",
            "[117]\tvalidation_0-logloss:0.01531\tvalidation_1-logloss:0.22930\n",
            "[118]\tvalidation_0-logloss:0.01527\tvalidation_1-logloss:0.22854\n",
            "[119]\tvalidation_0-logloss:0.01520\tvalidation_1-logloss:0.22893\n",
            "[120]\tvalidation_0-logloss:0.01515\tvalidation_1-logloss:0.22922\n",
            "[121]\tvalidation_0-logloss:0.01510\tvalidation_1-logloss:0.22730\n",
            "[122]\tvalidation_0-logloss:0.01505\tvalidation_1-logloss:0.22823\n",
            "[123]\tvalidation_0-logloss:0.01500\tvalidation_1-logloss:0.23017\n",
            "[124]\tvalidation_0-logloss:0.01496\tvalidation_1-logloss:0.22940\n",
            "[125]\tvalidation_0-logloss:0.01491\tvalidation_1-logloss:0.22915\n",
            "[126]\tvalidation_0-logloss:0.01487\tvalidation_1-logloss:0.23004\n",
            "[127]\tvalidation_0-logloss:0.01482\tvalidation_1-logloss:0.22827\n",
            "[128]\tvalidation_0-logloss:0.01478\tvalidation_1-logloss:0.22992\n",
            "[129]\tvalidation_0-logloss:0.01473\tvalidation_1-logloss:0.23035\n",
            "[130]\tvalidation_0-logloss:0.01468\tvalidation_1-logloss:0.22960\n",
            "[131]\tvalidation_0-logloss:0.01464\tvalidation_1-logloss:0.23000\n",
            "[132]\tvalidation_0-logloss:0.01459\tvalidation_1-logloss:0.22927\n",
            "[133]\tvalidation_0-logloss:0.01455\tvalidation_1-logloss:0.22901\n",
            "[134]\tvalidation_0-logloss:0.01451\tvalidation_1-logloss:0.23056\n",
            "[135]\tvalidation_0-logloss:0.01448\tvalidation_1-logloss:0.23096\n",
            "[136]\tvalidation_0-logloss:0.01443\tvalidation_1-logloss:0.23121\n",
            "[137]\tvalidation_0-logloss:0.01439\tvalidation_1-logloss:0.23052\n",
            "[138]\tvalidation_0-logloss:0.01436\tvalidation_1-logloss:0.22987\n",
            "[139]\tvalidation_0-logloss:0.01432\tvalidation_1-logloss:0.22962\n",
            "[140]\tvalidation_0-logloss:0.01428\tvalidation_1-logloss:0.23055\n",
            "[141]\tvalidation_0-logloss:0.01424\tvalidation_1-logloss:0.23079\n",
            "[142]\tvalidation_0-logloss:0.01421\tvalidation_1-logloss:0.23018\n",
            "[143]\tvalidation_0-logloss:0.01418\tvalidation_1-logloss:0.23058\n",
            "[144]\tvalidation_0-logloss:0.01414\tvalidation_1-logloss:0.23207\n",
            "[145]\tvalidation_0-logloss:0.01410\tvalidation_1-logloss:0.23184\n",
            "[146]\tvalidation_0-logloss:0.01407\tvalidation_1-logloss:0.23124\n",
            "[147]\tvalidation_0-logloss:0.01404\tvalidation_1-logloss:0.23164\n",
            "[148]\tvalidation_0-logloss:0.01401\tvalidation_1-logloss:0.23187\n",
            "[149]\tvalidation_0-logloss:0.01397\tvalidation_1-logloss:0.23166\n",
            "[150]\tvalidation_0-logloss:0.01394\tvalidation_1-logloss:0.23079\n",
            "[151]\tvalidation_0-logloss:0.01391\tvalidation_1-logloss:0.23224\n",
            "[152]\tvalidation_0-logloss:0.01387\tvalidation_1-logloss:0.23160\n",
            "[153]\tvalidation_0-logloss:0.01384\tvalidation_1-logloss:0.23242\n",
            "[154]\tvalidation_0-logloss:0.01381\tvalidation_1-logloss:0.23185\n",
            "[155]\tvalidation_0-logloss:0.01378\tvalidation_1-logloss:0.23164\n",
            "[156]\tvalidation_0-logloss:0.01375\tvalidation_1-logloss:0.23205\n",
            "[157]\tvalidation_0-logloss:0.01372\tvalidation_1-logloss:0.23146\n",
            "[158]\tvalidation_0-logloss:0.01369\tvalidation_1-logloss:0.23279\n",
            "[159]\tvalidation_0-logloss:0.01366\tvalidation_1-logloss:0.23260\n",
            "[160]\tvalidation_0-logloss:0.01364\tvalidation_1-logloss:0.23183\n",
            "[161]\tvalidation_0-logloss:0.01361\tvalidation_1-logloss:0.23225\n",
            "오차 행렬\n",
            "[[33  4]\n",
            " [ 3 74]]\n",
            "정확도: 0.9386, 정밀도: 0.9487, 재현율: 0.9610,    F1: 0.9548, AUC:0.9933\n"
          ]
        }
      ]
    },
    {
      "cell_type": "code",
      "source": [
        "import numpy as np\n",
        "\n",
        "from sklearn.neighbors import KNeighborsClassifier\n",
        "from sklearn.ensemble import RandomForestClassifier\n",
        "from sklearn.ensemble import AdaBoostClassifier\n",
        "from sklearn.tree import DecisionTreeClassifier\n",
        "from sklearn.linear_model import LogisticRegression\n",
        "\n",
        "from sklearn.datasets import load_breast_cancer\n",
        "from sklearn.model_selection import train_test_split\n",
        "from sklearn.metrics import accuracy_score\n",
        "\n",
        "cancer_data = load_breast_cancer()\n",
        "\n",
        "X_data = cancer_data.data\n",
        "y_label = cancer_data.target\n",
        "\n",
        "X_train, X_test, y_train, y_test = train_test_split(X_data, y_label, test_size=0.2, random_state=0)"
      ],
      "metadata": {
        "id": "SV2oRu4d9c9O"
      },
      "id": "SV2oRu4d9c9O",
      "execution_count": 26,
      "outputs": []
    },
    {
      "cell_type": "code",
      "source": [
        "knn_clf = KNeighborsClassifier(n_neighbors=4)\n",
        "rf_clf = RandomForestClassifier(n_estimators=100, random_state=0)\n",
        "dt_clf = DecisionTreeClassifier()\n",
        "ada_clf = AdaBoostClassifier(n_estimators=100)\n",
        "\n",
        "lr_final = LogisticRegression(C=10)\n",
        "knn_clf.fit(X_train, y_train)\n",
        "rf_clf.fit(X_train, y_train)\n",
        "dt_clf.fit(X_train, y_train)\n",
        "ada_clf.fit(X_train, y_train)"
      ],
      "metadata": {
        "colab": {
          "base_uri": "https://localhost:8080/",
          "height": 75
        },
        "id": "pgVKxZQLAJ96",
        "outputId": "2f5bf0fa-7e99-473c-c7f6-c822f38506b0"
      },
      "id": "pgVKxZQLAJ96",
      "execution_count": 27,
      "outputs": [
        {
          "output_type": "execute_result",
          "data": {
            "text/plain": [
              "AdaBoostClassifier(n_estimators=100)"
            ],
            "text/html": [
              "<style>#sk-container-id-1 {color: black;background-color: white;}#sk-container-id-1 pre{padding: 0;}#sk-container-id-1 div.sk-toggleable {background-color: white;}#sk-container-id-1 label.sk-toggleable__label {cursor: pointer;display: block;width: 100%;margin-bottom: 0;padding: 0.3em;box-sizing: border-box;text-align: center;}#sk-container-id-1 label.sk-toggleable__label-arrow:before {content: \"▸\";float: left;margin-right: 0.25em;color: #696969;}#sk-container-id-1 label.sk-toggleable__label-arrow:hover:before {color: black;}#sk-container-id-1 div.sk-estimator:hover label.sk-toggleable__label-arrow:before {color: black;}#sk-container-id-1 div.sk-toggleable__content {max-height: 0;max-width: 0;overflow: hidden;text-align: left;background-color: #f0f8ff;}#sk-container-id-1 div.sk-toggleable__content pre {margin: 0.2em;color: black;border-radius: 0.25em;background-color: #f0f8ff;}#sk-container-id-1 input.sk-toggleable__control:checked~div.sk-toggleable__content {max-height: 200px;max-width: 100%;overflow: auto;}#sk-container-id-1 input.sk-toggleable__control:checked~label.sk-toggleable__label-arrow:before {content: \"▾\";}#sk-container-id-1 div.sk-estimator input.sk-toggleable__control:checked~label.sk-toggleable__label {background-color: #d4ebff;}#sk-container-id-1 div.sk-label input.sk-toggleable__control:checked~label.sk-toggleable__label {background-color: #d4ebff;}#sk-container-id-1 input.sk-hidden--visually {border: 0;clip: rect(1px 1px 1px 1px);clip: rect(1px, 1px, 1px, 1px);height: 1px;margin: -1px;overflow: hidden;padding: 0;position: absolute;width: 1px;}#sk-container-id-1 div.sk-estimator {font-family: monospace;background-color: #f0f8ff;border: 1px dotted black;border-radius: 0.25em;box-sizing: border-box;margin-bottom: 0.5em;}#sk-container-id-1 div.sk-estimator:hover {background-color: #d4ebff;}#sk-container-id-1 div.sk-parallel-item::after {content: \"\";width: 100%;border-bottom: 1px solid gray;flex-grow: 1;}#sk-container-id-1 div.sk-label:hover label.sk-toggleable__label {background-color: #d4ebff;}#sk-container-id-1 div.sk-serial::before {content: \"\";position: absolute;border-left: 1px solid gray;box-sizing: border-box;top: 0;bottom: 0;left: 50%;z-index: 0;}#sk-container-id-1 div.sk-serial {display: flex;flex-direction: column;align-items: center;background-color: white;padding-right: 0.2em;padding-left: 0.2em;position: relative;}#sk-container-id-1 div.sk-item {position: relative;z-index: 1;}#sk-container-id-1 div.sk-parallel {display: flex;align-items: stretch;justify-content: center;background-color: white;position: relative;}#sk-container-id-1 div.sk-item::before, #sk-container-id-1 div.sk-parallel-item::before {content: \"\";position: absolute;border-left: 1px solid gray;box-sizing: border-box;top: 0;bottom: 0;left: 50%;z-index: -1;}#sk-container-id-1 div.sk-parallel-item {display: flex;flex-direction: column;z-index: 1;position: relative;background-color: white;}#sk-container-id-1 div.sk-parallel-item:first-child::after {align-self: flex-end;width: 50%;}#sk-container-id-1 div.sk-parallel-item:last-child::after {align-self: flex-start;width: 50%;}#sk-container-id-1 div.sk-parallel-item:only-child::after {width: 0;}#sk-container-id-1 div.sk-dashed-wrapped {border: 1px dashed gray;margin: 0 0.4em 0.5em 0.4em;box-sizing: border-box;padding-bottom: 0.4em;background-color: white;}#sk-container-id-1 div.sk-label label {font-family: monospace;font-weight: bold;display: inline-block;line-height: 1.2em;}#sk-container-id-1 div.sk-label-container {text-align: center;}#sk-container-id-1 div.sk-container {/* jupyter's `normalize.less` sets `[hidden] { display: none; }` but bootstrap.min.css set `[hidden] { display: none !important; }` so we also need the `!important` here to be able to override the default hidden behavior on the sphinx rendered scikit-learn.org. See: https://github.com/scikit-learn/scikit-learn/issues/21755 */display: inline-block !important;position: relative;}#sk-container-id-1 div.sk-text-repr-fallback {display: none;}</style><div id=\"sk-container-id-1\" class=\"sk-top-container\"><div class=\"sk-text-repr-fallback\"><pre>AdaBoostClassifier(n_estimators=100)</pre><b>In a Jupyter environment, please rerun this cell to show the HTML representation or trust the notebook. <br />On GitHub, the HTML representation is unable to render, please try loading this page with nbviewer.org.</b></div><div class=\"sk-container\" hidden><div class=\"sk-item\"><div class=\"sk-estimator sk-toggleable\"><input class=\"sk-toggleable__control sk-hidden--visually\" id=\"sk-estimator-id-1\" type=\"checkbox\" checked><label for=\"sk-estimator-id-1\" class=\"sk-toggleable__label sk-toggleable__label-arrow\">AdaBoostClassifier</label><div class=\"sk-toggleable__content\"><pre>AdaBoostClassifier(n_estimators=100)</pre></div></div></div></div></div>"
            ]
          },
          "metadata": {},
          "execution_count": 27
        }
      ]
    },
    {
      "cell_type": "code",
      "source": [
        "knn_pred = knn_clf.predict(X_test)\n",
        "rf_pred = rf_clf.predict(X_test)\n",
        "dt_pred = dt_clf.predict(X_test)\n",
        "ada_pred = ada_clf.predict(X_test)\n",
        "\n",
        "print('KNN 정확도: {0:.4f}'.format(accuracy_score(y_test, knn_pred)))\n",
        "print('랜덤 포레스트 정확도: {0:.4f}'.format(accuracy_score(y_test, rf_pred)))\n",
        "print('결정 트리 정확도: {0:.4f}'.format(accuracy_score(y_test, dt_pred)))\n",
        "print('에이다부스트 정확도: {0:.4f}'.format(accuracy_score(y_test, ada_pred)))"
      ],
      "metadata": {
        "colab": {
          "base_uri": "https://localhost:8080/"
        },
        "id": "1Rvj5cKwAgzV",
        "outputId": "dfefa3a3-5565-4b85-89a4-07fa347198b8"
      },
      "id": "1Rvj5cKwAgzV",
      "execution_count": 29,
      "outputs": [
        {
          "output_type": "stream",
          "name": "stdout",
          "text": [
            "KNN 정확도: 0.9211\n",
            "랜덤 포레스트 정확도: 0.9649\n",
            "결정 트리 정확도: 0.8947\n",
            "에이다부스트 정확도: 0.9561\n"
          ]
        }
      ]
    },
    {
      "cell_type": "code",
      "source": [
        "pred = np.array([knn_pred, rf_pred, dt_pred, ada_pred])\n",
        "print(pred.shape)\n",
        "\n",
        "pred = np.transpose(pred)\n",
        "print(pred.shape)"
      ],
      "metadata": {
        "colab": {
          "base_uri": "https://localhost:8080/"
        },
        "id": "Q9kGUiydA-61",
        "outputId": "138fbaa1-90e6-43c5-8f6e-66fe815ed800"
      },
      "id": "Q9kGUiydA-61",
      "execution_count": 30,
      "outputs": [
        {
          "output_type": "stream",
          "name": "stdout",
          "text": [
            "(4, 114)\n",
            "(114, 4)\n"
          ]
        }
      ]
    },
    {
      "cell_type": "code",
      "source": [
        "lr_final.fit(pred, y_test)\n",
        "final = lr_final.predict(pred)\n",
        "\n",
        "print('최종 메타 모델의 예측 정확도: {0:.4f}'.format(accuracy_score(y_test, final)))"
      ],
      "metadata": {
        "colab": {
          "base_uri": "https://localhost:8080/"
        },
        "id": "vgIkXu5OBH1d",
        "outputId": "9922a736-21e7-4a17-84d9-915b42157cb1"
      },
      "id": "vgIkXu5OBH1d",
      "execution_count": 31,
      "outputs": [
        {
          "output_type": "stream",
          "name": "stdout",
          "text": [
            "최종 메타 모델의 예측 정확도: 0.9737\n"
          ]
        }
      ]
    },
    {
      "cell_type": "code",
      "source": [
        "from sklearn.model_selection import KFold\n",
        "from sklearn.metrics import mean_absolute_error\n",
        "\n",
        "def get_stacking_base_datasets(model, X_train_n, y_train_n, X_test_n, n_folds) :\n",
        "  kf = KFold(n_splits=n_folds,shuffle=True)\n",
        "\n",
        "  train_fold_pred = np.zeros((X_train_n.shape[0], 1))\n",
        "  test_pred = np.zeros((X_test_n.shape[0], n_folds))\n",
        "\n",
        "  for folder_counter, (train_index, valid_index) in enumerate(kf.split(X_train_n)):\n",
        "    print('\\t 폴드 세트: ', folder_counter, ' 시작 ')\n",
        "    X_tr = X_train_n[train_index]\n",
        "    y_tr = y_train_n[train_index]\n",
        "    X_te = X_train_n[valid_index]\n",
        "\n",
        "    model.fit(X_tr, y_tr)\n",
        "    train_fold_pred[valid_index, :] = model.predict(X_te).reshape(-1, 1)\n",
        "    test_pred[:, folder_counter] = model.predict(X_test_n)\n",
        "\n",
        "  test_pred_mean = np.mean(test_pred, axis=1).reshape(-1, 1)\n",
        "\n",
        "  return train_fold_pred, test_pred_mean\n"
      ],
      "metadata": {
        "id": "R_8HVy8kBQfO"
      },
      "id": "R_8HVy8kBQfO",
      "execution_count": 38,
      "outputs": []
    },
    {
      "cell_type": "code",
      "source": [
        "knn_train, knn_test = get_stacking_base_datasets(knn_clf, X_train, y_train, X_test, 7)\n",
        "rf_train, rf_test = get_stacking_base_datasets(rf_clf, X_train, y_train, X_test, 7)\n",
        "dt_train, dt_test = get_stacking_base_datasets(dt_clf, X_train, y_train, X_test, 7)\n",
        "ada_train, ada_test = get_stacking_base_datasets(ada_clf, X_train, y_train, X_test, 7)"
      ],
      "metadata": {
        "colab": {
          "base_uri": "https://localhost:8080/"
        },
        "id": "y0obQ0CBE7cT",
        "outputId": "ab27f494-011e-4300-f36c-0a7c25616ef9"
      },
      "id": "y0obQ0CBE7cT",
      "execution_count": 39,
      "outputs": [
        {
          "output_type": "stream",
          "name": "stdout",
          "text": [
            "\t 폴드 세트:  0  시작 \n",
            "\t 폴드 세트:  1  시작 \n",
            "\t 폴드 세트:  2  시작 \n",
            "\t 폴드 세트:  3  시작 \n",
            "\t 폴드 세트:  4  시작 \n",
            "\t 폴드 세트:  5  시작 \n",
            "\t 폴드 세트:  6  시작 \n",
            "\t 폴드 세트:  0  시작 \n",
            "\t 폴드 세트:  1  시작 \n",
            "\t 폴드 세트:  2  시작 \n",
            "\t 폴드 세트:  3  시작 \n",
            "\t 폴드 세트:  4  시작 \n",
            "\t 폴드 세트:  5  시작 \n",
            "\t 폴드 세트:  6  시작 \n",
            "\t 폴드 세트:  0  시작 \n",
            "\t 폴드 세트:  1  시작 \n",
            "\t 폴드 세트:  2  시작 \n",
            "\t 폴드 세트:  3  시작 \n",
            "\t 폴드 세트:  4  시작 \n",
            "\t 폴드 세트:  5  시작 \n",
            "\t 폴드 세트:  6  시작 \n",
            "\t 폴드 세트:  0  시작 \n",
            "\t 폴드 세트:  1  시작 \n",
            "\t 폴드 세트:  2  시작 \n",
            "\t 폴드 세트:  3  시작 \n",
            "\t 폴드 세트:  4  시작 \n",
            "\t 폴드 세트:  5  시작 \n",
            "\t 폴드 세트:  6  시작 \n"
          ]
        }
      ]
    },
    {
      "cell_type": "code",
      "source": [
        "Stack_final_X_train = np.concatenate((knn_train, rf_train, dt_train, ada_train), axis=1)\n",
        "Stack_final_X_test = np.concatenate((knn_test, rf_test, dt_test, ada_test), axis=1)\n",
        "print('원본 학습 피처 데이터 Shape:', X_train.shape, '원본 테스트 피처 Shape', X_test.shape)\n",
        "print('스태킹 학습 피처 데이터 Shape: ', Stack_final_X_train.shape,\n",
        "      '스태킹 테스트 피처 데이터 Shape: ', Stack_final_X_test.shape)"
      ],
      "metadata": {
        "colab": {
          "base_uri": "https://localhost:8080/"
        },
        "id": "MGS_c8rDFIMn",
        "outputId": "d9fdae6f-f8b2-409d-8d25-6f7bd2e28072"
      },
      "id": "MGS_c8rDFIMn",
      "execution_count": 42,
      "outputs": [
        {
          "output_type": "stream",
          "name": "stdout",
          "text": [
            "원본 학습 피처 데이터 Shape: (455, 30) 원본 테스트 피처 Shape (114, 30)\n",
            "스태킹 학습 피처 데이터 Shape:  (455, 4) 스태킹 테스트 피처 데이터 Shape:  (114, 4)\n"
          ]
        }
      ]
    },
    {
      "cell_type": "code",
      "source": [
        "lr_final.fit(Stack_final_X_train, y_train)\n",
        "stack_final = lr_final.predict(Stack_final_X_test)\n",
        "\n",
        "print('최종 메타 모델의 예측 정확도: {0:.4f}'.format(accuracy_score(y_test, stack_final)))"
      ],
      "metadata": {
        "colab": {
          "base_uri": "https://localhost:8080/"
        },
        "id": "9BX5kRF6FpJL",
        "outputId": "8336dc2e-bb59-4103-e730-b5b824ea03ff"
      },
      "id": "9BX5kRF6FpJL",
      "execution_count": 43,
      "outputs": [
        {
          "output_type": "stream",
          "name": "stdout",
          "text": [
            "최종 메타 모델의 예측 정확도: 0.9737\n"
          ]
        }
      ]
    },
    {
      "cell_type": "code",
      "source": [],
      "metadata": {
        "id": "B9d6vsemGRxQ"
      },
      "id": "B9d6vsemGRxQ",
      "execution_count": null,
      "outputs": []
    }
  ],
  "metadata": {
    "accelerator": "GPU",
    "colab": {
      "provenance": [],
      "gpuType": "T4"
    },
    "kernelspec": {
      "display_name": "Python 3",
      "name": "python3"
    },
    "language_info": {
      "codemirror_mode": {
        "name": "ipython",
        "version": 3
      },
      "file_extension": ".py",
      "mimetype": "text/x-python",
      "name": "python",
      "nbconvert_exporter": "python",
      "pygments_lexer": "ipython3",
      "version": "3.11.7"
    }
  },
  "nbformat": 4,
  "nbformat_minor": 5
}