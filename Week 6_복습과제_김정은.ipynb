{
 "cells": [
  {
   "cell_type": "markdown",
   "metadata": {
    "id": "w9hsexjp0YAQ"
   },
   "source": [
    "# **1. 단순 선형 회귀(Linear Regression)**"
   ]
  },
  {
   "cell_type": "markdown",
   "metadata": {
    "id": "jOTpYj_zzTfL"
   },
   "source": [
    "## **1-1. 단순 선형 회귀 식에서 각각 w0과 w1가 의미하는 바를 적으세요.**\n",
    "$$f(x) = w_0 + w_1 *x$$\n"
   ]
  },
  {
   "cell_type": "markdown",
   "metadata": {
    "id": "FiuRw6mtzTfM"
   },
   "source": [
    "- **w0**: 절편을 의미하며, 단순 선형 회귀 식에서의 회귀계수이다.\n",
    "- **w1**: 기울기를 의미하며, 단순 선형 회귀 식에서의 회귀계수이다."
   ]
  },
  {
   "cell_type": "markdown",
   "metadata": {
    "id": "Hk0op954zTfM"
   },
   "source": [
    "## **1-2. RSS(Residual Sum of Square)의 회귀 식을 작성할 때, 어떤 것을 중심으로 식이 작성되나요?**\n",
    "\n",
    "$$RSS(w_0, w_1) = \\frac{1}{N}\\sum_{i=1}^{N}(y_i - (w_0 + w_1 * x_i))^2$$"
   ]
  },
  {
   "cell_type": "markdown",
   "metadata": {
    "id": "IadaonumzTfP"
   },
   "source": [
    "**답안**  \n",
    ": 오류 값은 + 나 - 가 될 수 있다. 따라서 전체 데이터의 오류 합을 구하기 위해 단순히 더했다가는 오류 합이 줄어드는 경우가 발생할 수 있다. 따라서 이런 경우를 막기 위해 오류 값의 제곱을 구해서 더하는 방식을 사용한다. 이는 미분 등의 계산을 편리하게 할 수 있는 방법이다. 변수가 w0, w1인 식으로 표현할 수 있다. 특히 이 식에서는 회귀 계수가 중심 변수임을 인지하는 것이 중요하다. 회귀에서 이 RSS는 비용(Cost)이며, w 변수(회귀 계수)로 구성되는 RSS를 비용 함수(loss function)라고 한다. 궁극적인 목표는 최종적으로 더 이상 감소하지 않는 최소 오류 값을 구하는 것이다."
   ]
  },
  {
   "cell_type": "markdown",
   "metadata": {
    "id": "oWuFCClXzTfP"
   },
   "source": [
    "## **1-3. LinearRegression 클래스를 활용하여 `보스턴 주택 가격`을 예측하는 알고리즘을 구현하려 합니다. 이때, 이 클래스는 어떤 방식으로 구현되었나요?**"
   ]
  },
  {
   "cell_type": "markdown",
   "metadata": {
    "id": "Qxqmtx7_zTfP"
   },
   "source": [
    "**답안**  \n",
    ": 예측값과 실제값의 RSS(Residual Sum of Squares)를 최소화해 OLS(Ordinary Least Squares) 추정 방식으로 구현한 클래스이다. fit() 메서드로 X, y 배열을 입력받으면 회귀 계수(Coefficients)인 W를 coef_ 속성에 저장한다."
   ]
  },
  {
   "cell_type": "markdown",
   "metadata": {
    "id": "SCvW0kF_zTfP"
   },
   "source": [
    "## **1-4. 아래 코드의 빈칸을 채워 코드를 완성해 주세요.**"
   ]
  },
  {
   "cell_type": "code",
   "execution_count": 1,
   "metadata": {
    "id": "OIX_R_w73c7j"
   },
   "outputs": [],
   "source": [
    "# 필요한 라이브러리 설치\n",
    "import numpy as np\n",
    "import pandas as pd\n",
    "import seaborn as sns\n",
    "import matplotlib.pyplot as plt\n",
    "%matplotlib inline\n",
    "\n",
    "from scipy import stats"
   ]
  },
  {
   "cell_type": "code",
   "execution_count": 2,
   "metadata": {
    "id": "38gzqKiq3d-y"
   },
   "outputs": [
    {
     "name": "stdout",
     "output_type": "stream",
     "text": [
      "Boston 데이터 세트 크기:  (506, 14)\n"
     ]
    },
    {
     "data": {
      "text/html": [
       "<div>\n",
       "<style scoped>\n",
       "    .dataframe tbody tr th:only-of-type {\n",
       "        vertical-align: middle;\n",
       "    }\n",
       "\n",
       "    .dataframe tbody tr th {\n",
       "        vertical-align: top;\n",
       "    }\n",
       "\n",
       "    .dataframe thead th {\n",
       "        text-align: right;\n",
       "    }\n",
       "</style>\n",
       "<table border=\"1\" class=\"dataframe\">\n",
       "  <thead>\n",
       "    <tr style=\"text-align: right;\">\n",
       "      <th></th>\n",
       "      <th>CRIM</th>\n",
       "      <th>ZN</th>\n",
       "      <th>INDUS</th>\n",
       "      <th>CHAS</th>\n",
       "      <th>NOX</th>\n",
       "      <th>RM</th>\n",
       "      <th>AGE</th>\n",
       "      <th>DIS</th>\n",
       "      <th>RAD</th>\n",
       "      <th>TAX</th>\n",
       "      <th>PTRATIO</th>\n",
       "      <th>B</th>\n",
       "      <th>LSTAT</th>\n",
       "      <th>PRICE</th>\n",
       "    </tr>\n",
       "  </thead>\n",
       "  <tbody>\n",
       "    <tr>\n",
       "      <th>0</th>\n",
       "      <td>0.00632</td>\n",
       "      <td>18.0</td>\n",
       "      <td>2.31</td>\n",
       "      <td>0.0</td>\n",
       "      <td>0.538</td>\n",
       "      <td>6.575</td>\n",
       "      <td>65.2</td>\n",
       "      <td>4.0900</td>\n",
       "      <td>1.0</td>\n",
       "      <td>296.0</td>\n",
       "      <td>15.3</td>\n",
       "      <td>396.90</td>\n",
       "      <td>4.98</td>\n",
       "      <td>24.0</td>\n",
       "    </tr>\n",
       "    <tr>\n",
       "      <th>1</th>\n",
       "      <td>0.02731</td>\n",
       "      <td>0.0</td>\n",
       "      <td>7.07</td>\n",
       "      <td>0.0</td>\n",
       "      <td>0.469</td>\n",
       "      <td>6.421</td>\n",
       "      <td>78.9</td>\n",
       "      <td>4.9671</td>\n",
       "      <td>2.0</td>\n",
       "      <td>242.0</td>\n",
       "      <td>17.8</td>\n",
       "      <td>396.90</td>\n",
       "      <td>9.14</td>\n",
       "      <td>21.6</td>\n",
       "    </tr>\n",
       "    <tr>\n",
       "      <th>2</th>\n",
       "      <td>0.02729</td>\n",
       "      <td>0.0</td>\n",
       "      <td>7.07</td>\n",
       "      <td>0.0</td>\n",
       "      <td>0.469</td>\n",
       "      <td>7.185</td>\n",
       "      <td>61.1</td>\n",
       "      <td>4.9671</td>\n",
       "      <td>2.0</td>\n",
       "      <td>242.0</td>\n",
       "      <td>17.8</td>\n",
       "      <td>392.83</td>\n",
       "      <td>4.03</td>\n",
       "      <td>34.7</td>\n",
       "    </tr>\n",
       "    <tr>\n",
       "      <th>3</th>\n",
       "      <td>0.03237</td>\n",
       "      <td>0.0</td>\n",
       "      <td>2.18</td>\n",
       "      <td>0.0</td>\n",
       "      <td>0.458</td>\n",
       "      <td>6.998</td>\n",
       "      <td>45.8</td>\n",
       "      <td>6.0622</td>\n",
       "      <td>3.0</td>\n",
       "      <td>222.0</td>\n",
       "      <td>18.7</td>\n",
       "      <td>394.63</td>\n",
       "      <td>2.94</td>\n",
       "      <td>33.4</td>\n",
       "    </tr>\n",
       "    <tr>\n",
       "      <th>4</th>\n",
       "      <td>0.06905</td>\n",
       "      <td>0.0</td>\n",
       "      <td>2.18</td>\n",
       "      <td>0.0</td>\n",
       "      <td>0.458</td>\n",
       "      <td>7.147</td>\n",
       "      <td>54.2</td>\n",
       "      <td>6.0622</td>\n",
       "      <td>3.0</td>\n",
       "      <td>222.0</td>\n",
       "      <td>18.7</td>\n",
       "      <td>396.90</td>\n",
       "      <td>5.33</td>\n",
       "      <td>36.2</td>\n",
       "    </tr>\n",
       "  </tbody>\n",
       "</table>\n",
       "</div>"
      ],
      "text/plain": [
       "      CRIM    ZN  INDUS  CHAS    NOX     RM   AGE     DIS  RAD    TAX  \\\n",
       "0  0.00632  18.0   2.31   0.0  0.538  6.575  65.2  4.0900  1.0  296.0   \n",
       "1  0.02731   0.0   7.07   0.0  0.469  6.421  78.9  4.9671  2.0  242.0   \n",
       "2  0.02729   0.0   7.07   0.0  0.469  7.185  61.1  4.9671  2.0  242.0   \n",
       "3  0.03237   0.0   2.18   0.0  0.458  6.998  45.8  6.0622  3.0  222.0   \n",
       "4  0.06905   0.0   2.18   0.0  0.458  7.147  54.2  6.0622  3.0  222.0   \n",
       "\n",
       "   PTRATIO       B  LSTAT  PRICE  \n",
       "0     15.3  396.90   4.98   24.0  \n",
       "1     17.8  396.90   9.14   21.6  \n",
       "2     17.8  392.83   4.03   34.7  \n",
       "3     18.7  394.63   2.94   33.4  \n",
       "4     18.7  396.90   5.33   36.2  "
      ]
     },
     "execution_count": 2,
     "metadata": {},
     "output_type": "execute_result"
    }
   ],
   "source": [
    "# boston 데이터셋 준비\n",
    "data_url = \"http://lib.stat.cmu.edu/datasets/boston\"\n",
    "raw_df = pd.read_csv(data_url, sep=\"\\s+\", skiprows=22, header=None)\n",
    "data = np.hstack([raw_df.values[::2, :], raw_df.values[1::2, :2]])\n",
    "target = raw_df.values[1::2, 2]\n",
    "\n",
    "# 데이터 세트 DataFrame 변환\n",
    "bostonDF = pd.DataFrame(data, columns=['CRIM','ZN','INDUS','CHAS', 'NOX','RM','AGE','DIS','RAD','TAX','PTRATIO','B','LSTAT'])\n",
    "\n",
    "# 데이터 세트의 target 배열은 주택 가격임.\n",
    "# 이를 PRICE 칼럼으로 DataFrame에 추가함.\n",
    "\n",
    "bostonDF['PRICE'] = target\n",
    "print('Boston 데이터 세트 크기: ' , bostonDF.shape)\n",
    "bostonDF.head()"
   ]
  },
  {
   "cell_type": "code",
   "execution_count": 3,
   "metadata": {
    "id": "Ak9KyS4rzTfQ"
   },
   "outputs": [
    {
     "data": {
      "image/png": "[encoded data removed]",
      "text/plain": [
       "<Figure size 1152x576 with 8 Axes>"
      ]
     },
     "metadata": {
      "needs_background": "light"
     },
     "output_type": "display_data"
    }
   ],
   "source": [
    "# 각 칼럼이 회귀 결과에 미치는 영향이 어느 정도인지 시각화해보기.\n",
    "\n",
    "# 2개의 행과 4개의 열을 가진 Subplots를 이용.\n",
    "# axs는 4x2개의 ax를 가짐.\n",
    "\n",
    "fig, axs=plt.subplots(figsize=(16, 8), ncols=4, nrows=2)\n",
    "lm_features =['RM', 'ZN', 'INDUS', 'NOX', 'AGE', 'PTRATIO', 'LSTAT', 'RAD']\n",
    "for i, feature in enumerate(lm_features):\n",
    "    row = int(i/4)\n",
    "    col = i%4\n",
    "\n",
    "    # 시본의 regplot을 이용해 산점도와 선형 회귀 직선을 함께 표현\n",
    "    sns.regplot(x=feature, y='PRICE', data=bostonDF, ax=axs[row][col])"
   ]
  },
  {
   "cell_type": "markdown",
   "metadata": {
    "id": "iWPxvYnCzTfQ"
   },
   "source": [
    "## **1-5. RM과 LSTAT의 PRICE와의 관계에 대해 `선형성`을 바탕으로 서술하세요.**"
   ]
  },
  {
   "cell_type": "code",
   "execution_count": 4,
   "metadata": {
    "id": "pYALOcXozTfR"
   },
   "outputs": [
    {
     "name": "stdout",
     "output_type": "stream",
     "text": [
      "MSE : 17.297, RMES : 4.159\n",
      "Variance score : 0.757\n"
     ]
    }
   ],
   "source": [
    "# LinearRegression 클래스를 이용하여 보스턴 주택 가격의 회귀 모델 만들기\n",
    "\n",
    "from sklearn.model_selection import train_test_split\n",
    "from sklearn.linear_model import LinearRegression\n",
    "from sklearn.metrics import mean_squared_error, r2_score\n",
    "\n",
    "y_target = bostonDF['PRICE']\n",
    "X_data = bostonDF.drop(['PRICE'], axis=1, inplace=False)\n",
    "\n",
    "X_train, X_test, y_train, y_test = train_test_split(X_data, y_target, test_size=0.3, random_state=156)\n",
    "\n",
    "# 선형 회귀 0LS로 학습/예측/평가 수행.\n",
    "lr = LinearRegression()\n",
    "lr.fit(X_train, y_train)\n",
    "\n",
    "y_preds = lr.predict(X_test)\n",
    "\n",
    "mse = mean_squared_error(y_test, y_preds)\n",
    "rmse = np.sqrt(mse)\n",
    "\n",
    "print('MSE : {0:.3f}, RMES : {1:.3F}'.format(mse, rmse))\n",
    "print('Variance score : {0:.3f}'.format(r2_score(y_test, y_preds)))"
   ]
  },
  {
   "cell_type": "code",
   "execution_count": 6,
   "metadata": {
    "id": "T2makRHUzTfR"
   },
   "outputs": [
    {
     "name": "stdout",
     "output_type": "stream",
     "text": [
      "절편 값:  40.99559517216444\n",
      "회귀 계수값:  [ -0.1   0.1   0.    3.  -19.8   3.4   0.   -1.7   0.4  -0.   -0.9   0.\n",
      "  -0.6]\n"
     ]
    }
   ],
   "source": [
    "# intercept값(절편)과 coefficients값(회귀 계수) 확인\n",
    "\n",
    "print('절편 값: ' , lr.intercept_)\n",
    "print('회귀 계수값: ', np.round(lr.coef_, 1))"
   ]
  },
  {
   "cell_type": "markdown",
   "metadata": {
    "id": "-gS_qP2_zTfQ"
   },
   "source": [
    "**[RM과 PRICE]**\n",
    "\n",
    ": RM(방 개수)은 양 방향의 선형성(Positive Linearity)이 가장 크다. 즉, 방의 크기가 클수록 가격이 증가하는 모습을 확실히 보여준다.\n",
    "\n",
    "**[LSTAT과 PRICE]**\n",
    "\n",
    ": LSTAT(하위 계층의 비율)는 음 방향의 선형성(Negative Linearity)이 가장 크다. LSTAT이 적을수록 PRICE가 증가하는 모습을 관찰할 수 있다."
   ]
  },
  {
   "cell_type": "markdown",
   "metadata": {
    "id": "IiVDLU0n4SFn"
   },
   "source": [
    "# **2. 경사 하강법(Gradient Descent)**"
   ]
  },
  {
   "cell_type": "markdown",
   "metadata": {
    "id": "gnVXtbYDzTfR"
   },
   "source": [
    "간단한 회귀 식인 $y = 6x + 8$을 근사하기 위한 200개의 데이터 세트를 만들고, 여기에 `경사 하강법`을 이용해 회귀 계수 $w_1$, $w_0$을 도출하는 파이썬 코드를 작성해 봅시다."
   ]
  },
  {
   "cell_type": "code",
   "execution_count": 7,
   "metadata": {
    "id": "8ULdePjjzTfR"
   },
   "outputs": [],
   "source": [
    "import numpy as np\n",
    "import matplotlib.pyplot as plt\n",
    "%matplotlib inline"
   ]
  },
  {
   "cell_type": "markdown",
   "metadata": {
    "id": "89gzJ7JJzTfR"
   },
   "source": [
    "## **2-1. 노이즈를 위한 난수를 생성해 주세요.**"
   ]
  },
  {
   "cell_type": "code",
   "execution_count": 8,
   "metadata": {
    "id": "MTecE5BYzTfR"
   },
   "outputs": [],
   "source": [
    "np.random.seed(0)"
   ]
  },
  {
   "cell_type": "markdown",
   "metadata": {
    "id": "K6XidWoJzTfR"
   },
   "source": [
    "## **2-2. $y = 6x + 8$ 식을 근사하는 코드를 작성해 주세요.**"
   ]
  },
  {
   "cell_type": "code",
   "execution_count": 9,
   "metadata": {
    "id": "PSUJyIUWzTfS"
   },
   "outputs": [],
   "source": [
    "X = 2 * np.random.rand(100, 1)\n",
    "y = 8 + 6 * X + np.random.randn(100, 1)"
   ]
  },
  {
   "cell_type": "markdown",
   "metadata": {
    "id": "evKlA84KzTfS"
   },
   "source": [
    "## **2-3. X, y 데이터 세트를 산점도로 시각화 해주세요.**"
   ]
  },
  {
   "cell_type": "code",
   "execution_count": 10,
   "metadata": {
    "id": "YsWJOwGRzTfS"
   },
   "outputs": [
    {
     "data": {
      "text/plain": [
       "<matplotlib.collections.PathCollection at 0x184f78c5460>"
      ]
     },
     "execution_count": 10,
     "metadata": {},
     "output_type": "execute_result"
    },
    {
     "data": {
      "image/png": "[encoded data removed]",
      "text/plain": [
       "<Figure size 432x288 with 1 Axes>"
      ]
     },
     "metadata": {
      "needs_background": "light"
     },
     "output_type": "display_data"
    }
   ],
   "source": [
    "plt.scatter(X, y)"
   ]
  },
  {
   "cell_type": "markdown",
   "metadata": {
    "id": "QUZpaCdTzTfS"
   },
   "source": [
    "## **2-4.**\n",
    "실제 y값과 예측된 y값을 인자로 받아 $$\\frac{1}{N} \\displaystyle\\sum_{i=1}^{N}{(실제값_i-예측값_i)^2}$$ 식을 계산하는 비용함수 `get_cost()`를 정의해 주세요."
   ]
  },
  {
   "cell_type": "code",
   "execution_count": 11,
   "metadata": {
    "id": "PMvJTyBAzTfS"
   },
   "outputs": [],
   "source": [
    "def get_cost(y, y_pred):\n",
    "    N = len(y)\n",
    "    cost = np.sum(np.square(y - y_pred))/N\n",
    "\n",
    "    return cost"
   ]
  },
  {
   "cell_type": "markdown",
   "metadata": {
    "id": "m-GzAAWLzTfS"
   },
   "source": [
    "## **2-5.**\n",
    "`w1_update`로 $$-u\\frac{2}{N} \\displaystyle\\sum_{i=1}^{N}x_1*{(예측오류_i)}$$  \n",
    "`w0_update`로 $$-u\\frac{2}{N} \\displaystyle\\sum_{i=1}^{N}{(예측오류_i)}$$ 값을 넘파이의 dot 행렬 연산으로 계산한 뒤 이를 반환하는 `get_weight_update` 함수를 정의해 주세요."
   ]
  },
  {
   "cell_type": "code",
   "execution_count": 12,
   "metadata": {
    "id": "FRuLr25WzTfS"
   },
   "outputs": [],
   "source": [
    "def get_weight_updates(w1, w0, X, y, learning_rate=0.01):\n",
    "    N = len(y)\n",
    "\n",
    "    # 먼저 w1_update, w0_update를 각각 w1, w0의 shape와 동일한 크기를 가진 0 값으로 초기화\n",
    "    w1_update = np.zeros_like(w1)\n",
    "    w0_update = np.zeros_like(w0)\n",
    "\n",
    "    # 예측 배열 계산하고 예측과 실제 값의 차이 계산\n",
    "    y_pred = np.dot(X, w1.T) + w0\n",
    "    diff = y - y_pred\n",
    "\n",
    "    # w0_update를 dot 행렬 연산으로 구하기 위해 모두 1값을 가진 행렬 생성\n",
    "    w0_factors = np.ones((N, 1))\n",
    "\n",
    "    # w1과 w0을 업데이트할 w1_update와 w0_update 계산\n",
    "    w1_update = -(2/N)*learning_rate*(np.dot(X.T, diff))\n",
    "    w0_update = -(2/N)*learning_rate*(np.dot(w0_factors.T, diff))\n",
    "\n",
    "    return w1_update, w0_update"
   ]
  },
  {
   "cell_type": "markdown",
   "metadata": {
    "id": "GiHhtdDWzTfS"
   },
   "source": [
    "## **2-6. `get_weight_update()`을 경사 하강 방식으로 반복적으로 수행하여 w1과 w0를 업데이트 하는 함수인 `gradient_descent_steps()` 함수를 생성해 주세요.**"
   ]
  },
  {
   "cell_type": "code",
   "execution_count": 13,
   "metadata": {
    "id": "NRyTAso4zTfT"
   },
   "outputs": [],
   "source": [
    "# 입력 인자 iters로 주어진 횟수만큼 반복적으로 w1과 w0를 업데이트 적용함.\n",
    "def gradient_descent_steps(X, y, iters=10000):\n",
    "\n",
    "    # w0와 w1을 모두 0으로 초기화.\n",
    "    w0 = np.zeros((1,1))\n",
    "    w1 = np.zeros((1,1))\n",
    "\n",
    "    # 인자로 주어진 iters 만큼 반복적으로 get_weight_updates() 호출하여 w1, w0 업데이트 수행.\n",
    "    for ind in range(iters):\n",
    "        w1_update, w0_update = get_weight_updates(w1, w0, X, y, learning_rate=0.01)\n",
    "        w1 = w1 - w1_update\n",
    "        w0 = w0 - w0_update\n",
    "\n",
    "    return w1, w0"
   ]
  },
  {
   "cell_type": "markdown",
   "metadata": {
    "id": "YOjBoti8zTfT"
   },
   "source": [
    "## **2-7. `gradient_descent_steps()`를 호출해 w1과 w0를 구해보세요. 그리고 앞서 정의한 `get_cost()` 함수를 이용해 경사 하강법의 예측 오류를 계산해 보세요.**"
   ]
  },
  {
   "cell_type": "code",
   "execution_count": 14,
   "metadata": {
    "id": "I1tgvGMpzTfT"
   },
   "outputs": [
    {
     "name": "stdout",
     "output_type": "stream",
     "text": [
      "w1:6.026 w0:8.157\n",
      "Gradient Descent Total Cost:0.9937\n"
     ]
    }
   ],
   "source": [
    "w1, w0 = gradient_descent_steps(X, y, iters=1000)\n",
    "print(\"w1:{0:.3f} w0:{1:.3f}\".format(w1[0, 0], w0[0, 0]))\n",
    "y_pred = w1[0, 0] * X + w0\n",
    "print('Gradient Descent Total Cost:{0:.4f}'.format(get_cost(y, y_pred)))"
   ]
  },
  {
   "cell_type": "markdown",
   "metadata": {
    "id": "vP4iFWF6zTfT"
   },
   "source": [
    "## **2-8. `y_pred`에 기반해 회귀선을 그려보세요.**"
   ]
  },
  {
   "cell_type": "code",
   "execution_count": 15,
   "metadata": {
    "id": "IU-NUqnqzTfT"
   },
   "outputs": [
    {
     "data": {
      "text/plain": [
       "[<matplotlib.lines.Line2D at 0x184f792abb0>]"
      ]
     },
     "execution_count": 15,
     "metadata": {},
     "output_type": "execute_result"
    },
    {
     "data": {
      "image/png": "[encoded data removed]",
      "text/plain": [
       "<Figure size 432x288 with 1 Axes>"
      ]
     },
     "metadata": {
      "needs_background": "light"
     },
     "output_type": "display_data"
    }
   ],
   "source": [
    "plt.scatter(X, y)\n",
    "plt.plot(X, y_pred)"
   ]
  },
  {
   "cell_type": "markdown",
   "metadata": {
    "id": "Q-DPL7OI6x0J"
   },
   "source": [
    "# **3. 다항 회귀**"
   ]
  },
  {
   "cell_type": "markdown",
   "metadata": {
    "id": "Ta785wP1zTfT"
   },
   "source": [
    "## **3-1. `PolynomialFeatures`를 이용해 단항값 $[x_1, x_2]$ 를 2차 다항값 $[1, x_1, x_2, x_1^2, x_1x_2, x_2^2]$ 로 변환하는 코드를 작성해 봅시다.**"
   ]
  },
  {
   "cell_type": "code",
   "execution_count": 16,
   "metadata": {
    "id": "CbH6y89bzTfT"
   },
   "outputs": [
    {
     "name": "stdout",
     "output_type": "stream",
     "text": [
      "일차 단항식 계수 피처:\n",
      " [[0 1]\n",
      " [2 3]]\n",
      "변환된 2차 다항식 계수 피처:\n",
      " [[1. 0. 1. 0. 0. 1.]\n",
      " [1. 2. 3. 4. 6. 9.]]\n"
     ]
    }
   ],
   "source": [
    "from sklearn.preprocessing import PolynomialFeatures\n",
    "import numpy as np\n",
    "\n",
    "# 다항식으로 변환한 단항식 생성, [[0, 1], [2, 3]]의 2X2 행렬 생성\n",
    "X = np.arange(4).reshape(2, 2)\n",
    "print('일차 단항식 계수 피처:\\n', X)\n",
    "\n",
    "# degree = 2인 2차 다항식으로 변환하기 위해 PolynomialFeatures를 이용해 변환\n",
    "poly = PolynomialFeatures(degree=2)\n",
    "poly.fit(X)\n",
    "poly_ftr = poly.transform(X)\n",
    "print ('변환된 2차 다항식 계수 피처:\\n', poly_ftr)"
   ]
  },
  {
   "cell_type": "markdown",
   "metadata": {
    "id": "21cvjk3dzTfU"
   },
   "source": [
    "## **3-2. `PolynomialFeatures`와 `LinearRegression` 클래스를 이용해 3차 다항 회귀 코드를 작성해 봅시다.**\n",
    "\n",
    "**이때 회귀의 결정 함수식은 $ y=1+4x_1^2+3x_2^3$ 입니다.**"
   ]
  },
  {
   "cell_type": "markdown",
   "metadata": {
    "id": "Le-pSVUizTfU"
   },
   "source": [
    "### **step 1.**\n",
    "해당 결정 함수식을 위한 `polynomial_func()` 함수를 작성해주세요. 해당 함수는 3차 다항 계수 피처 값이 입력되면 결정 값을 반환합니다."
   ]
  },
  {
   "cell_type": "code",
   "execution_count": 17,
   "metadata": {
    "id": "2hMHewzezTfU"
   },
   "outputs": [],
   "source": [
    "def polynomial_func(X):\n",
    "    y = 1 + 4*X[:, 0]**2 + 3*X[:,1]**3    \n",
    "    return y"
   ]
  },
  {
   "cell_type": "code",
   "execution_count": 18,
   "metadata": {
    "id": "XsBBVd8a7dc_"
   },
   "outputs": [
    {
     "name": "stdout",
     "output_type": "stream",
     "text": [
      "일차 단항식 계수: \n",
      " [[0 1]\n",
      " [2 3]]\n",
      "삼차 다항식 결정값: \n",
      " [ 4 98]\n"
     ]
    }
   ],
   "source": [
    "X = np.arange(4).reshape(2, 2)\n",
    "print('일차 단항식 계수: \\n', X)\n",
    "\n",
    "y = polynomial_func(X)\n",
    "print('삼차 다항식 결정값: \\n', y)"
   ]
  },
  {
   "cell_type": "markdown",
   "metadata": {
    "id": "oWK2PS0XzTfU"
   },
   "source": [
    "### **step 2.**\n",
    "일차 단항식 계수를 삼차 다항식 계수로 변환하고, 이를 선형 회귀에 적용하여 다항 회귀로 구현해 주세요."
   ]
  },
  {
   "cell_type": "code",
   "execution_count": 19,
   "metadata": {
    "id": "Y_2jpoSWzTfY"
   },
   "outputs": [
    {
     "name": "stdout",
     "output_type": "stream",
     "text": [
      "3차 다항식 계수 feature: \n",
      " [[ 1.  0.  1.  0.  0.  1.  0.  0.  0.  1.]\n",
      " [ 1.  2.  3.  4.  6.  9.  8. 12. 18. 27.]]\n",
      "Polynomial 회귀 계수\n",
      " [0.   0.14 0.14 0.28 0.42 0.56 0.56 0.85 1.27 1.83]\n",
      "Polynomial 회귀 Shape : (10,)\n"
     ]
    }
   ],
   "source": [
    "from sklearn.linear_model import LinearRegression\n",
    "\n",
    "# 3차 다항식 변환\n",
    "poly_ftr = PolynomialFeatures(degree=3).fit_transform(X)\n",
    "print('3차 다항식 계수 feature: \\n', poly_ftr)\n",
    "\n",
    "# Linear Regression에 3차 다항식 계수 feature와 3차 다항식 결정값으로 학습 후 회귀 확인\n",
    "model = LinearRegression()\n",
    "model.fit(poly_ftr, y)\n",
    "print('Polynomial 회귀 계수\\n', np.round(model.coef_, 2))\n",
    "print('Polynomial 회귀 Shape :', model.coef_.shape)"
   ]
  },
  {
   "cell_type": "markdown",
   "metadata": {
    "id": "hQQv4h8q794r"
   },
   "source": [
    "# **4. 규제 선형 회귀**"
   ]
  },
  {
   "cell_type": "markdown",
   "metadata": {
    "id": "e4tHtb5x-dO8"
   },
   "source": [
    "- 사이킷런에서 제공하는 `당뇨병` 데이터 세트로 실습을 진행합니다."
   ]
  },
  {
   "cell_type": "code",
   "execution_count": 20,
   "metadata": {
    "id": "inP3ZkV8-rRs"
   },
   "outputs": [
    {
     "name": "stdout",
     "output_type": "stream",
     "text": [
      "Diabetes 데이타셋 크기: (442, 11)\n"
     ]
    },
    {
     "data": {
      "text/html": [
       "<div>\n",
       "<style scoped>\n",
       "    .dataframe tbody tr th:only-of-type {\n",
       "        vertical-align: middle;\n",
       "    }\n",
       "\n",
       "    .dataframe tbody tr th {\n",
       "        vertical-align: top;\n",
       "    }\n",
       "\n",
       "    .dataframe thead th {\n",
       "        text-align: right;\n",
       "    }\n",
       "</style>\n",
       "<table border=\"1\" class=\"dataframe\">\n",
       "  <thead>\n",
       "    <tr style=\"text-align: right;\">\n",
       "      <th></th>\n",
       "      <th>age</th>\n",
       "      <th>sex</th>\n",
       "      <th>bmi</th>\n",
       "      <th>bp</th>\n",
       "      <th>s1</th>\n",
       "      <th>s2</th>\n",
       "      <th>s3</th>\n",
       "      <th>s4</th>\n",
       "      <th>s5</th>\n",
       "      <th>s6</th>\n",
       "      <th>target</th>\n",
       "    </tr>\n",
       "  </thead>\n",
       "  <tbody>\n",
       "    <tr>\n",
       "      <th>0</th>\n",
       "      <td>0.038076</td>\n",
       "      <td>0.050680</td>\n",
       "      <td>0.061696</td>\n",
       "      <td>0.021872</td>\n",
       "      <td>-0.044223</td>\n",
       "      <td>-0.034821</td>\n",
       "      <td>-0.043401</td>\n",
       "      <td>-0.002592</td>\n",
       "      <td>0.019908</td>\n",
       "      <td>-0.017646</td>\n",
       "      <td>151.0</td>\n",
       "    </tr>\n",
       "    <tr>\n",
       "      <th>1</th>\n",
       "      <td>-0.001882</td>\n",
       "      <td>-0.044642</td>\n",
       "      <td>-0.051474</td>\n",
       "      <td>-0.026328</td>\n",
       "      <td>-0.008449</td>\n",
       "      <td>-0.019163</td>\n",
       "      <td>0.074412</td>\n",
       "      <td>-0.039493</td>\n",
       "      <td>-0.068330</td>\n",
       "      <td>-0.092204</td>\n",
       "      <td>75.0</td>\n",
       "    </tr>\n",
       "    <tr>\n",
       "      <th>2</th>\n",
       "      <td>0.085299</td>\n",
       "      <td>0.050680</td>\n",
       "      <td>0.044451</td>\n",
       "      <td>-0.005671</td>\n",
       "      <td>-0.045599</td>\n",
       "      <td>-0.034194</td>\n",
       "      <td>-0.032356</td>\n",
       "      <td>-0.002592</td>\n",
       "      <td>0.002864</td>\n",
       "      <td>-0.025930</td>\n",
       "      <td>141.0</td>\n",
       "    </tr>\n",
       "    <tr>\n",
       "      <th>3</th>\n",
       "      <td>-0.089063</td>\n",
       "      <td>-0.044642</td>\n",
       "      <td>-0.011595</td>\n",
       "      <td>-0.036656</td>\n",
       "      <td>0.012191</td>\n",
       "      <td>0.024991</td>\n",
       "      <td>-0.036038</td>\n",
       "      <td>0.034309</td>\n",
       "      <td>0.022692</td>\n",
       "      <td>-0.009362</td>\n",
       "      <td>206.0</td>\n",
       "    </tr>\n",
       "    <tr>\n",
       "      <th>4</th>\n",
       "      <td>0.005383</td>\n",
       "      <td>-0.044642</td>\n",
       "      <td>-0.036385</td>\n",
       "      <td>0.021872</td>\n",
       "      <td>0.003935</td>\n",
       "      <td>0.015596</td>\n",
       "      <td>0.008142</td>\n",
       "      <td>-0.002592</td>\n",
       "      <td>-0.031991</td>\n",
       "      <td>-0.046641</td>\n",
       "      <td>135.0</td>\n",
       "    </tr>\n",
       "  </tbody>\n",
       "</table>\n",
       "</div>"
      ],
      "text/plain": [
       "        age       sex       bmi        bp        s1        s2        s3  \\\n",
       "0  0.038076  0.050680  0.061696  0.021872 -0.044223 -0.034821 -0.043401   \n",
       "1 -0.001882 -0.044642 -0.051474 -0.026328 -0.008449 -0.019163  0.074412   \n",
       "2  0.085299  0.050680  0.044451 -0.005671 -0.045599 -0.034194 -0.032356   \n",
       "3 -0.089063 -0.044642 -0.011595 -0.036656  0.012191  0.024991 -0.036038   \n",
       "4  0.005383 -0.044642 -0.036385  0.021872  0.003935  0.015596  0.008142   \n",
       "\n",
       "         s4        s5        s6  target  \n",
       "0 -0.002592  0.019908 -0.017646   151.0  \n",
       "1 -0.039493 -0.068330 -0.092204    75.0  \n",
       "2 -0.002592  0.002864 -0.025930   141.0  \n",
       "3  0.034309  0.022692 -0.009362   206.0  \n",
       "4 -0.002592 -0.031991 -0.046641   135.0  "
      ]
     },
     "execution_count": 20,
     "metadata": {},
     "output_type": "execute_result"
    }
   ],
   "source": [
    "import numpy as np\n",
    "import matplotlib.pyplot as plt\n",
    "import pandas as pd\n",
    "import seaborn as sns\n",
    "\n",
    "from sklearn.datasets import load_diabetes\n",
    "import warnings\n",
    "warnings.filterwarnings('ignore')\n",
    "\n",
    "%matplotlib inline\n",
    "\n",
    "# 당뇨병 데이터셋 로드\n",
    "diabetes = load_diabetes()\n",
    "\n",
    "# diabetes 데이터셋 DataFrame 변환\n",
    "diabetesDF = pd.DataFrame(diabetes.data, columns=diabetes.feature_names)\n",
    "\n",
    "# diabetes 데이터셋의 target array는 당뇨병 진행 정도를 나타냄. 이를 target 컬럼으로 DataFrame에 추가함.\n",
    "diabetesDF['target'] = diabetes.target\n",
    "\n",
    "print('Diabetes 데이타셋 크기:', diabetesDF.shape)\n",
    "diabetesDF.head()"
   ]
  },
  {
   "cell_type": "code",
   "execution_count": 21,
   "metadata": {
    "id": "yfmFYZpc_rJ9"
   },
   "outputs": [],
   "source": [
    "from sklearn.model_selection import train_test_split\n",
    "from sklearn.metrics import mean_squared_error, r2_score\n",
    "\n",
    "# 타겟 변수 설정\n",
    "y_target = diabetesDF['target']\n",
    "\n",
    "# 특성 변수 설정\n",
    "X_data = diabetesDF.drop(['target'], axis=1, inplace=False)\n",
    "\n",
    "# 데이터를 훈련 세트와 테스트 세트로 분할\n",
    "X_train, X_test, y_train, y_test = train_test_split(X_data, y_target, test_size=0.3, random_state=156)"
   ]
  },
  {
   "cell_type": "markdown",
   "metadata": {
    "id": "r--RjbnazTfZ"
   },
   "source": [
    "## **4-1. `get_linear_reg_eval()` 함수를 완성해 주세요.**"
   ]
  },
  {
   "cell_type": "code",
   "execution_count": 22,
   "metadata": {
    "id": "a4lTWx7LzTfZ"
   },
   "outputs": [],
   "source": [
    "from sklearn.linear_model import Ridge, Lasso, ElasticNet\n",
    "\n",
    "# alpha값에 따른 회귀 모델의 폴드 평균 RMSE를 출력하고 회귀 계수값들을 DataFrame으로 반환\n",
    "def get_linear_reg_eval(model_name, params=None, X_data_n=None, y_target_n=None, verbose=True, return_coeff=True):\n",
    "    coeff_df = pd.DataFrame()\n",
    "    if verbose : print('####### ', model_name , '#######')\n",
    "    for param in params:\n",
    "        if model_name =='Ridge': model = Ridge(alpha=param)\n",
    "        elif model_name =='Lasso': model = Lasso(alpha=param)\n",
    "        elif model_name =='ElasticNet': model = ElasticNet(alpha=param, l1_ratio=0.7)\n",
    "\n",
    "        neg_mse_scores = cross_val_score(model, X_data_n,\n",
    "                                             y_target_n, scoring=\"neg_mean_squared_error\", cv = 5)\n",
    "        avg_rmse = np.mean(np.sqrt(-1 * neg_mse_scores))\n",
    "        print('alpha {0}일 때 5 폴드 세트의 평균 RMSE: {1:.3f} '.format(param, avg_rmse))\n",
    "\n",
    "        ## cross_val_score는 evaluation metric만 반환하므로 모델을 다시 학습하여 회귀 계수 추출\n",
    "\n",
    "        # 모델 학습\n",
    "        model.fit(X_data_n, y_target_n)\n",
    "\n",
    "        if return_coeff:\n",
    "            # alpha에 따른 피처별 회귀 계수를 Series로 변환하고 이를 DataFrame의 컬럼으로 추가.\n",
    "            coeff = pd.Series(data=model.coef_ , index=X_data_n.columns )\n",
    "            colname='alpha:'+str(param)\n",
    "            coeff_df[colname] = coeff\n",
    "\n",
    "    return coeff_df"
   ]
  },
  {
   "cell_type": "markdown",
   "metadata": {
    "id": "GeyDWt7xzTfZ"
   },
   "source": [
    "## **4-2. `alpha = 0.07`일 때의 라쏘 모델을 수행하세요.**"
   ]
  },
  {
   "cell_type": "code",
   "execution_count": 23,
   "metadata": {
    "id": "vk_UO-4kzTfZ"
   },
   "outputs": [
    {
     "name": "stdout",
     "output_type": "stream",
     "text": [
      "#######  Lasso #######\n",
      "alpha 0.07일 때 5 폴드 세트의 평균 RMSE: 54.734 \n",
      "alpha 0.1일 때 5 폴드 세트의 평균 RMSE: 54.843 \n",
      "alpha 0.5일 때 5 폴드 세트의 평균 RMSE: 57.190 \n",
      "alpha 1일 때 5 폴드 세트의 평균 RMSE: 62.009 \n",
      "alpha 3일 때 5 폴드 세트의 평균 RMSE: 77.264 \n"
     ]
    }
   ],
   "source": [
    "from sklearn.model_selection import cross_val_score\n",
    "\n",
    "# 라쏘에 사용될 alpha 파라미터의 값들을 정의하고 get_linear_reg_eval() 함수 호출\n",
    "##코드 작성##\n",
    "lasso_alphas = [0.07, 0.1, 0.5, 1, 3]\n",
    "coeff_lasso_df = get_linear_reg_eval('Lasso', params=lasso_alphas, X_data_n=X_data, y_target_n=y_target)"
   ]
  },
  {
   "cell_type": "markdown",
   "metadata": {
    "id": "gaCgtLZSzTfZ"
   },
   "source": [
    "## **4-3. 엘라스틱넷 회귀 모델에서 다음의 alpha 값 후보 중에서 alpha 의 값이 얼마일 때 가장 좋은 예측 성능을 보이는 지 RMSE 값과 함께 답하세요.**\n",
    "\n",
    "- 조건: `alpha = [0.01, 0.1, 1]`\n"
   ]
  },
  {
   "cell_type": "code",
   "execution_count": 25,
   "metadata": {
    "id": "Va9EcHk5zTfa"
   },
   "outputs": [
    {
     "name": "stdout",
     "output_type": "stream",
     "text": [
      "#######  ElasticNet #######\n",
      "alpha 0.07일 때 5 폴드 세트의 평균 RMSE: 69.464 \n",
      "alpha 0.1일 때 5 폴드 세트의 평균 RMSE: 71.268 \n",
      "alpha 0.5일 때 5 폴드 세트의 평균 RMSE: 76.032 \n",
      "alpha 1일 때 5 폴드 세트의 평균 RMSE: 76.805 \n",
      "alpha 3일 때 5 폴드 세트의 평균 RMSE: 77.262 \n"
     ]
    }
   ],
   "source": [
    "# 엘라스틱넷에 사용될 alpha 파라미터의 값을 정의하고 get_linear_reg_eval() 함수 호출\n",
    "# l1_ratio는 0.7로 고정\n",
    "\n",
    "## 코드 작성 ##\n",
    "elastic_alphas = [0.07, 0.1, 0.5, 1, 3]\n",
    "coeff_elastic_df = get_linear_reg_eval('ElasticNet', params=elastic_alphas, X_data_n=X_data, y_target_n=y_target)"
   ]
  },
  {
   "cell_type": "markdown",
   "metadata": {
    "id": "MACEjn0wzTfZ"
   },
   "source": [
    "**답안**  \n",
    ": alpha가 0.07일 때, RMSE 값이 69.464로 가장 좋은 예측 성능을 보이고 있다."
   ]
  },
  {
   "cell_type": "markdown",
   "metadata": {
    "id": "CwidGBDezTfa"
   },
   "source": [
    "## **4-4. `get_scaled_data()` 함수를 완성하세요.**"
   ]
  },
  {
   "cell_type": "code",
   "execution_count": 26,
   "metadata": {
    "id": "tSBQvmMDzTfa"
   },
   "outputs": [],
   "source": [
    "from sklearn.preprocessing import StandardScaler, MinMaxScaler, PolynomialFeatures\n",
    "\n",
    "# method는 표준 정규 분포 변환(Standard), 최대값/최소값 정규화(MinMax), 로그변환(Log) 결정\n",
    "# p_degree는 다향식 특성을 추가할 때 적용. p_degree는 2이상 부여하지 않음.\n",
    "\n",
    "def get_scaled_data(method='None', p_degree=None, input_data=None):\n",
    "    if method == 'Standard':\n",
    "        scaled_data = StandardScaler().fit_transform(input_data)\n",
    "\n",
    "    elif method == 'MinMax':\n",
    "        scaled_data = MinMaxScaler().fit_transform(input_data)\n",
    "\n",
    "    elif method == 'Log':\n",
    "        scaled_data = np.log1p(input_data)\n",
    "\n",
    "    else:\n",
    "        scaled_data = input_data\n",
    "\n",
    "    if p_degree != None:\n",
    "        scaled_data = PolynomialFeatures(degree=p_degree, include_bias=False).fit_transform(scaled_data)\n",
    "\n",
    "    return scaled_data"
   ]
  },
  {
   "cell_type": "markdown",
   "metadata": {
    "id": "RDYY1c1FzTfa"
   },
   "source": [
    "# **5. 로지스틱 회귀**\n",
    "- 사이킷런에서 제공하는 `와인 등급` 데이터 세트로 로지스틱 회귀 분석 실습을 진행합니다."
   ]
  },
  {
   "cell_type": "code",
   "execution_count": 27,
   "metadata": {
    "id": "Gt02ZnMezTfa"
   },
   "outputs": [],
   "source": [
    "import pandas as pd\n",
    "import matplotlib.pyplot as plt\n",
    "%matplotlib inline\n",
    "\n",
    "from sklearn.datasets import load_wine\n",
    "from sklearn.linear_model import LogisticRegression\n",
    "\n",
    "df = load_wine()\n",
    "X, y = df.data, df.target"
   ]
  },
  {
   "cell_type": "markdown",
   "metadata": {
    "id": "YnKHTiSvzTfb"
   },
   "source": [
    "## **5-1. 정규 분포 형태의 표준 스케일링을 적용한 후 학습/테스트 데이터 세트로 분리해 주세요.**"
   ]
  },
  {
   "cell_type": "code",
   "execution_count": 33,
   "metadata": {
    "id": "4kDQqFGazTfb"
   },
   "outputs": [],
   "source": [
    "from sklearn.preprocessing import StandardScaler\n",
    "from sklearn.model_selection import train_test_split\n",
    "\n",
    "scaler = StandardScaler()\n",
    "\n",
    "# 아래에 코드를 입력해주세요\n",
    "data_scaled = scaler.fit_transform(df.data)\n",
    "\n",
    "# 괄호 안에 빈칸 채워주세요.\n",
    "# test_size=0.3\n",
    "X_train, X_test, y_train, y_test = train_test_split(data_scaled, y, test_size=0.3, random_state=0)"
   ]
  },
  {
   "cell_type": "markdown",
   "metadata": {
    "id": "Pc08HG-WzTfb"
   },
   "source": [
    "## **5-2. 로지스틱 회귀를 이용해 학습 및 예측을 수행해 주세요.**"
   ]
  },
  {
   "cell_type": "code",
   "execution_count": 34,
   "metadata": {
    "id": "xaeIAtelzTfb"
   },
   "outputs": [],
   "source": [
    "# 아래 코드를 완성해 주세요.\n",
    "\n",
    "lr_clf = LogisticRegression()\n",
    "lr_clf.fit(X_train, y_train)\n",
    "lr_preds = lr_clf.predict(X_test)"
   ]
  },
  {
   "cell_type": "markdown",
   "metadata": {
    "id": "tLkoaZcNzTfc"
   },
   "source": [
    "## **5-3. 모델의 정확도를 확인해 주세요.**"
   ]
  },
  {
   "cell_type": "code",
   "execution_count": 35,
   "metadata": {
    "id": "3zWzPM2DzTfc"
   },
   "outputs": [
    {
     "name": "stdout",
     "output_type": "stream",
     "text": [
      "accuracy: 1.000\n"
     ]
    }
   ],
   "source": [
    "# 아래 코드를 완성해 주세요.\n",
    "\n",
    "from sklearn.metrics import accuracy_score\n",
    "\n",
    "print('accuracy: {0:.3f}'.format(accuracy_score(y_test, lr_preds)))"
   ]
  },
  {
   "cell_type": "markdown",
   "metadata": {
    "id": "wQN5-E77zTfc"
   },
   "source": [
    "## **5-4. `GridSearchCV`를 이용해 와인 등급 데이터 하이퍼 파라미터 최적화를 진행해 주세요.**\n",
    "\n",
    "- solver: ['liblinear', 'lbfgs']\n",
    "- penalty: ['l2', 'l1']\n",
    "- C: [0.01, 0.1, 1, 1, 5, 10]"
   ]
  },
  {
   "cell_type": "code",
   "execution_count": 38,
   "metadata": {
    "id": "aLtEimuBzTfc"
   },
   "outputs": [
    {
     "name": "stdout",
     "output_type": "stream",
     "text": [
      "최적 하이퍼 파라미터:{'C': 10, 'penalty': 'l1', 'solver': 'liblinear'}, 최적 평균 정확도:0.983\n"
     ]
    }
   ],
   "source": [
    "from sklearn.model_selection import GridSearchCV\n",
    "\n",
    "# 괄호 안에 빈칸을 채워주세요.\n",
    "params ={'solver': ['liblinear', 'lbfgs'],\n",
    "         'penalty': ['l2', 'l1'],\n",
    "         'C': [0.01, 0.1, 1, 5, 10]\n",
    "         }\n",
    "\n",
    "grid_clf = GridSearchCV(lr_clf, param_grid=params, scoring='accuracy', cv=3)\n",
    "grid_clf.fit(data_scaled, y)\n",
    "print('최적 하이퍼 파라미터:{0}, 최적 평균 정확도:{1:.3f}'.format(grid_clf.best_params_, grid_clf.best_score_))"
   ]
  },
  {
   "cell_type": "markdown",
   "metadata": {
    "id": "FKhFlzigzTfc"
   },
   "source": [
    "# **6. 회귀 트리**\n",
    "- 캘리포니아 주택 가격 데이터셋을 활용하겠습니다."
   ]
  },
  {
   "cell_type": "code",
   "execution_count": 39,
   "metadata": {
    "id": "SBkzn_ZTzTfc"
   },
   "outputs": [],
   "source": [
    "# 코드를 실행해주세요\n",
    "from sklearn.datasets import fetch_california_housing\n",
    "from sklearn.model_selection import cross_val_score\n",
    "from sklearn.ensemble import RandomForestRegressor\n",
    "import pandas as pd\n",
    "import numpy as np\n",
    "\n",
    "#캘리포니아 데이터 세트 로드\n",
    "housing = fetch_california_housing()\n",
    "housingDF = pd.DataFrame(housing.data, columns=housing.feature_names)"
   ]
  },
  {
   "cell_type": "markdown",
   "metadata": {
    "id": "QBIzAnwKzTfd"
   },
   "source": [
    "## **6-1. 회귀 트리 모델을 생성한 후 3번의 교차 검증을 수행하겠습니다.**\n",
    "- 약 7분 정도 소요됩니다."
   ]
  },
  {
   "cell_type": "code",
   "execution_count": 40,
   "metadata": {
    "id": "L8H7LvdOzTfd"
   },
   "outputs": [
    {
     "name": "stdout",
     "output_type": "stream",
     "text": [
      "3 교차 검증의 개별 Negative MSE scores: [-0.51 -0.33 -0.54]\n",
      "3 교차 검증의 개별 RMSE scores: [0.71 0.57 0.73]\n",
      "3 교차 검증의 평균 RMSE:, 0.672\n"
     ]
    }
   ],
   "source": [
    "# 코드를 완성해 주세요.\n",
    "housingDF['PRICE'] = housing.target\n",
    "y_target = housingDF['PRICE']\n",
    "X_data = housingDF.drop(['PRICE'],axis=1, inplace=False)\n",
    "\n",
    "rf = RandomForestRegressor(random_state=0, n_estimators=1000)\n",
    "neg_mse_scores = cross_val_score(rf, X_data, y_target, scoring=\"neg_mean_squared_error\", cv=3)\n",
    "rmse_scores = np.sqrt(-1*neg_mse_scores)\n",
    "avg_rmse = np.mean(rmse_scores)\n",
    "\n",
    "print('3 교차 검증의 개별 Negative MSE scores:', np.round(neg_mse_scores, 2))\n",
    "print('3 교차 검증의 개별 RMSE scores:', np.round(rmse_scores, 2))\n",
    "print('3 교차 검증의 평균 RMSE:, {0:.3f}'.format(avg_rmse))"
   ]
  },
  {
   "cell_type": "markdown",
   "metadata": {
    "id": "d0U9B0FPzTfd"
   },
   "source": [
    "## **6-2. `랜덤 포레스트`, `결정 트리`, `GBM`, `XGBoost`, `ightGBM`을 모두 이용해서 캘리포니아 주택 가격 예측을 수행하겠습니다.**\n",
    "- 약 4분 정도 소요됩니다."
   ]
  },
  {
   "cell_type": "code",
   "execution_count": 41,
   "metadata": {
    "id": "0pCa3qEpzTfd"
   },
   "outputs": [],
   "source": [
    "#코드를 실행해 주세요.\n",
    "\n",
    "def get_model_cv_prediction(model, X_data, y_target):\n",
    "  neg_mse_scores=cross_val_score(model, X_data, y_target, scoring=\"neg_mean_squared_error\", cv=2)\n",
    "  rmse_scores = np.sqrt(-1*neg_mse_scores)\n",
    "  avg_rmse = np.mean(rmse_scores)\n",
    "  print('###', model.__class__.__name__, '####')\n",
    "  print('2 교차 검증의 평균 RMSE: {0:.3f}'.format(avg_rmse))"
   ]
  },
  {
   "cell_type": "code",
   "execution_count": 42,
   "metadata": {
    "id": "YGyYKJ4fzTfd"
   },
   "outputs": [
    {
     "name": "stdout",
     "output_type": "stream",
     "text": [
      "### DecisionTreeRegressor ####\n",
      "2 교차 검증의 평균 RMSE: 0.874\n",
      "### RandomForestRegressor ####\n",
      "2 교차 검증의 평균 RMSE: 0.721\n",
      "### GradientBoostingRegressor ####\n",
      "2 교차 검증의 평균 RMSE: 0.710\n",
      "### XGBRegressor ####\n",
      "2 교차 검증의 평균 RMSE: 0.772\n",
      "### LGBMRegressor ####\n",
      "2 교차 검증의 평균 RMSE: 0.738\n"
     ]
    }
   ],
   "source": [
    "# 코드를 완성해 주세요.\n",
    "from sklearn.tree import DecisionTreeRegressor\n",
    "from sklearn.ensemble import GradientBoostingRegressor\n",
    "from xgboost import XGBRegressor\n",
    "from lightgbm import LGBMRegressor\n",
    "\n",
    "dt_reg = DecisionTreeRegressor(random_state=0, max_depth=4)\n",
    "rf_reg = RandomForestRegressor(random_state=0, n_estimators=1000)\n",
    "gb_reg = GradientBoostingRegressor(random_state=0, n_estimators=1000)\n",
    "xgb_reg = XGBRegressor(n_estimators=1000)\n",
    "lgb_reg = LGBMRegressor(n_estimators=1000)\n",
    "\n",
    "# 트리 기반의 회귀 모델을 반복하면서 평가 수행\n",
    "models = [dt_reg, rf_reg, gb_reg, xgb_reg, lgb_reg]\n",
    "for model in models:\n",
    "  get_model_cv_prediction(model, X_data, y_target)"
   ]
  },
  {
   "cell_type": "markdown",
   "metadata": {
    "id": "PxvnnPsLzTfd"
   },
   "source": [
    "## **6-3. 피처 중요도를 시각화 해보겠습니다.**"
   ]
  },
  {
   "cell_type": "code",
   "execution_count": 44,
   "metadata": {
    "id": "Ox4QdRDczTfe"
   },
   "outputs": [
    {
     "data": {
      "text/plain": [
       "<AxesSubplot:>"
      ]
     },
     "execution_count": 44,
     "metadata": {},
     "output_type": "execute_result"
    },
    {
     "data": {
      "image/png": "[encoded data removed]",
      "text/plain": [
       "<Figure size 432x288 with 1 Axes>"
      ]
     },
     "metadata": {
      "needs_background": "light"
     },
     "output_type": "display_data"
    }
   ],
   "source": [
    "import seaborn as sns\n",
    "%matplotlib inline\n",
    "\n",
    "rf_reg = RandomForestRegressor(n_estimators=1000)\n",
    "\n",
    "#앞 예제에서 만들어진 X_data, y_target 데이터 세트를 적용해 학습합니다.\n",
    "rf_reg.fit(X_data, y_target)\n",
    "\n",
    "feature_series = pd.Series(data=rf_reg.feature_importances_, index=X_data.columns)\n",
    "feature_series = feature_series.sort_values(ascending=False)\n",
    "sns.barplot(x=feature_series, y=feature_series.index)"
   ]
  },
  {
   "cell_type": "markdown",
   "metadata": {
    "id": "cXoKfBCazTfe"
   },
   "source": [
    "### **step 1. 선형 회귀와 회귀 트리 비교해 시각화**"
   ]
  },
  {
   "cell_type": "markdown",
   "metadata": {
    "id": "EWOccYvAzTfe"
   },
   "source": [
    "- 캘리포니아 데이터 개수 100개만 샘플링\n",
    "- 2차원 평면상으로 가장 중요한 변수 1개만 추출 (피처 중요도 시각화 참고)\n",
    "- 회귀 트리 1은 max_depth=2\n",
    "- 회귀 트리 2는 max_depth=7\n",
    "- 테스트용 데이터 세트를 4.5~8.5까지의 100개 데이터 세트로 생성"
   ]
  },
  {
   "cell_type": "code",
   "execution_count": 46,
   "metadata": {
    "id": "X2zcdoZkzTff"
   },
   "outputs": [],
   "source": [
    "# 아래 코드를 완성해 주세요.\n",
    "\n",
    "import numpy as np\n",
    "from sklearn.linear_model import LinearRegression\n",
    "\n",
    "housingDF_sample = housingDF[['MedInc', 'PRICE']]\n",
    "housingDF_sample = housingDF_sample.sample(n=100, random_state=0)\n",
    "\n",
    "lr_reg = LinearRegression()\n",
    "rf_reg2 = DecisionTreeRegressor(max_depth=2)\n",
    "rf_reg7 = DecisionTreeRegressor(max_depth=7)\n",
    "\n",
    "\n",
    "X_test = np.arange(4.5, 8.5, 0.04).reshape(-1, 1)\n",
    "\n",
    "\n",
    "X_feature = housingDF_sample['MedInc'].values.reshape(-1,1)\n",
    "y_target = housingDF_sample['PRICE'].values.reshape(-1,1)\n",
    "\n",
    "\n",
    "lr_reg.fit(X_feature, y_target)\n",
    "rf_reg2.fit(X_feature, y_target)\n",
    "rf_reg7.fit(X_feature, y_target)\n",
    "\n",
    "pred_lr = lr_reg.predict(X_test)\n",
    "pred_rf2 = rf_reg2.predict(X_test)\n",
    "pred_rf7 = rf_reg7.predict(X_test)"
   ]
  },
  {
   "cell_type": "markdown",
   "metadata": {
    "id": "IGvns88YzTff"
   },
   "source": [
    "### **step 2. 각각의 학습된 Regression에서 예측된 PRICE 회귀선 그리기**"
   ]
  },
  {
   "cell_type": "code",
   "execution_count": 47,
   "metadata": {
    "id": "4zY8g7y4zTff"
   },
   "outputs": [
    {
     "data": {
      "text/plain": [
       "[<matplotlib.lines.Line2D at 0x1857ffe3970>]"
      ]
     },
     "execution_count": 47,
     "metadata": {},
     "output_type": "execute_result"
    },
    {
     "data": {
      "image/png": "[encoded data removed]",
      "text/plain": [
       "<Figure size 1008x288 with 3 Axes>"
      ]
     },
     "metadata": {
      "needs_background": "light"
     },
     "output_type": "display_data"
    }
   ],
   "source": [
    "### 아래 코드를 완성해 주세요.\n",
    "\n",
    "fig , (ax1, ax2, ax3) = plt.subplots(figsize=(14,4), ncols=3)\n",
    "\n",
    "## X축 값을 4.5 ~ 8.5로 변환하며 입력했을 때, 선형 회귀와 결정 트리 회귀 예측 선 시각화\n",
    "# 선형 회귀로 학습된 모델 회귀 예측선\n",
    "ax1.set_title('Linear Regression')\n",
    "ax1.scatter(housingDF_sample.MedInc, housingDF_sample.PRICE, c=\"fuchsia\")\n",
    "ax1.plot(X_test, pred_lr,label=\"linear\", linewidth=2 )\n",
    "\n",
    "## DecisionTreeRegressor의 max_depth를 2로 했을 때 회귀 예측선\n",
    "ax2.set_title('Decision Tree Regression: \\n max_depth=2')\n",
    "ax2.scatter(housingDF_sample.MedInc, housingDF_sample.PRICE, c=\"fuchsia\")\n",
    "ax2.plot(X_test, pred_rf2, label=\"max_depth:3\", linewidth=2 )\n",
    "\n",
    "## DecisionTreeRegressor의 max_depth를 7로 했을 때 회귀 예측선\n",
    "ax3.set_title('Decision Tree Regression: \\n max_depth=7')\n",
    "ax3.scatter(housingDF_sample.MedInc, housingDF_sample.PRICE, c=\"fuchsia\")\n",
    "ax3.plot(X_test, pred_rf7, label=\"max_depth:7\", linewidth=2)"
   ]
  },
  {
   "cell_type": "markdown",
   "metadata": {
    "id": "Hg-IFc7zzTfe"
   },
   "source": [
    "**문제**  \n",
    "시각화를 한 후 가장 중요한 피처가 어느 것이고 종속 변수인 PRICE와 무슨 관계를 나타내는지 짧게 서술하시오."
   ]
  },
  {
   "cell_type": "markdown",
   "metadata": {
    "id": "RyeZKnDLzTfe"
   },
   "source": [
    "**답안**  \n",
    ": 가장 중요한 피처는 MedInc이고, 이는 PRICE와 양의 증가 관계를 나타낸다. MedInc가 커질수록 PRICE도 대체로 커지는 경향을 보인다. 선형 회귀는 직선으로 예측 회귀선을 표현하는 데 반해, 회귀 트리의 경우 분할되는 데이터 지점에 따라 브랜치를 만들면서 계단 형태로 회귀선을 만든다."
   ]
  }
 ],
 "metadata": {
  "colab": {
   "provenance": []
  },
  "kernelspec": {
   "display_name": "Python 3",
   "language": "python",
   "name": "python3"
  },
  "language_info": {
   "codemirror_mode": {
    "name": "ipython",
    "version": 3
   },
   "file_extension": ".py",
   "mimetype": "text/x-python",
   "name": "python",
   "nbconvert_exporter": "python",
   "pygments_lexer": "ipython3",
   "version": "3.8.8"
  }
 },
 "nbformat": 4,
 "nbformat_minor": 1
}
