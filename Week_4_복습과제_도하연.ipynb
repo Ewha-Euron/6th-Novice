{
  "cells": [
    {
      "cell_type": "code",
      "execution_count": 2,
      "id": "zZHm04v7nx8E",
      "metadata": {
        "id": "zZHm04v7nx8E",
        "colab": {
          "base_uri": "https://localhost:8080/"
        },
        "outputId": "8445b755-0388-4387-c9b2-274f87d149b5"
      },
      "outputs": [
        {
          "output_type": "stream",
          "name": "stdout",
          "text": [
            "Mounted at /content/drive\n"
          ]
        }
      ],
      "source": [
        "### 구글 드라이브 마운트\n",
        "## Colab으로 문제 풀이를 하시는 분들만 실행해 주시면 됩니다.\n",
        "\n",
        "from google.colab import drive\n",
        "drive.mount('/content/drive')"
      ]
    },
    {
      "cell_type": "markdown",
      "id": "0da49ea2",
      "metadata": {
        "id": "0da49ea2"
      },
      "source": [
        "# **1. GBM**\n",
        "- 물 가용성 데이터를 활용합니다\n",
        "- `water_potability.csv` 데이터셋을 다운로드 후 실습을 진행해 주세요.\n"
      ]
    },
    {
      "cell_type": "markdown",
      "id": "f15dcdcc",
      "metadata": {
        "id": "f15dcdcc"
      },
      "source": [
        "## **1-1. 빈칸을 채워주세요. (5개)**"
      ]
    },
    {
      "cell_type": "markdown",
      "id": "51146965",
      "metadata": {
        "id": "51146965"
      },
      "source": [
        "- 아래의 셀을 실행시킨 후에 실습을 진행해주세요\n",
        "- 데이터 파일 경로 확인해주세요"
      ]
    },
    {
      "cell_type": "code",
      "execution_count": 3,
      "id": "XO6K0thoWjWL",
      "metadata": {
        "id": "XO6K0thoWjWL"
      },
      "outputs": [],
      "source": [
        "import pandas as pd\n",
        "from sklearn.model_selection import train_test_split\n",
        "import time\n",
        "import warnings\n",
        "warnings.filterwarnings('ignore')"
      ]
    },
    {
      "cell_type": "code",
      "execution_count": 4,
      "id": "mvEyLumVYTlZ",
      "metadata": {
        "id": "mvEyLumVYTlZ",
        "colab": {
          "base_uri": "https://localhost:8080/"
        },
        "outputId": "948eff22-c065-4864-c72d-252884c85445"
      },
      "outputs": [
        {
          "output_type": "stream",
          "name": "stdout",
          "text": [
            "<class 'pandas.core.frame.DataFrame'>\n",
            "RangeIndex: 2293 entries, 0 to 2292\n",
            "Data columns (total 10 columns):\n",
            " #   Column           Non-Null Count  Dtype  \n",
            "---  ------           --------------  -----  \n",
            " 0   ph               2293 non-null   float64\n",
            " 1   Hardness         2293 non-null   float64\n",
            " 2   Solids           2293 non-null   float64\n",
            " 3   Chloramines      2293 non-null   float64\n",
            " 4   Sulfate          2293 non-null   float64\n",
            " 5   Conductivity     2293 non-null   float64\n",
            " 6   Organic_carbon   2293 non-null   float64\n",
            " 7   Trihalomethanes  2293 non-null   float64\n",
            " 8   Turbidity        2293 non-null   float64\n",
            " 9   Potability       2293 non-null   int64  \n",
            "dtypes: float64(9), int64(1)\n",
            "memory usage: 179.3 KB\n"
          ]
        }
      ],
      "source": [
        "### 데이터 준비\n",
        "\n",
        "# 데이터 불러오기\n",
        "water = pd.read_csv('/content/drive/MyDrive/Week4/water_potability.csv') # 파일 경로 확인\n",
        "water.info()"
      ]
    },
    {
      "cell_type": "code",
      "execution_count": 5,
      "id": "bZn5d-T4YxMc",
      "metadata": {
        "id": "bZn5d-T4YxMc",
        "colab": {
          "base_uri": "https://localhost:8080/"
        },
        "outputId": "0823859a-1257-4390-b502-b14312053b84"
      },
      "outputs": [
        {
          "output_type": "stream",
          "name": "stdout",
          "text": [
            "(1719, 9) (574, 9)\n"
          ]
        }
      ],
      "source": [
        "# Feature, Target 분리\n",
        "X = water.drop('Potability', axis = 1)\n",
        "y = water['Potability']\n",
        "\n",
        "# Train/Test Split\n",
        "X_train, X_test, y_train, y_test = train_test_split(X, y)\n",
        "\n",
        "print(X_train.shape, X_test.shape)"
      ]
    },
    {
      "cell_type": "markdown",
      "id": "661b896a",
      "metadata": {
        "id": "661b896a"
      },
      "source": [
        "- GradientBoostingClassifier 클래스를 이용하여 `물 가용성 데이터 세트` 예측/분류\n",
        "- GBM 학습 시간 측정\n"
      ]
    },
    {
      "cell_type": "code",
      "execution_count": 6,
      "id": "b41ddfae",
      "metadata": {
        "id": "b41ddfae",
        "colab": {
          "base_uri": "https://localhost:8080/"
        },
        "outputId": "acd4ea1c-123f-4a03-de33-415a5ca7744b"
      },
      "outputs": [
        {
          "output_type": "stream",
          "name": "stdout",
          "text": [
            "GBM 정확도: 0.6655\n",
            "GBM 수행 시간: 0.7 초 \n"
          ]
        }
      ],
      "source": [
        "from sklearn.ensemble import GradientBoostingClassifier\n",
        "from sklearn.metrics import accuracy_score\n",
        "\n",
        "# GBM 수행 시간 측정을 위함. 시작 시간 설정.\n",
        "start_time = time.time()\n",
        "\n",
        "gb_clf = GradientBoostingClassifier(random_state=0)\n",
        "gb_clf.fit(X_train, y_train)\n",
        "gb_pred = gb_clf.predict(X_test)\n",
        "gb_accuracy = accuracy_score(y_test, gb_pred)\n",
        "\n",
        "print('GBM 정확도: {0:.4f}'.format(gb_accuracy))\n",
        "print(\"GBM 수행 시간: {0:.1f} 초 \".format(time.time()-start_time ))"
      ]
    },
    {
      "cell_type": "markdown",
      "id": "201648da",
      "metadata": {
        "id": "201648da"
      },
      "source": [
        "### **GridSearchCV를 이용한 하이퍼 파라미터 최적화**\n",
        "\n",
        "📍GBM 하이퍼 파라미터\n",
        "  - `loss`: 경사 하강법에서 사용할 비용 함수 지정\n",
        "  - `learning_rate`: GBM이 학습을 진행할 때마다 적용하는 학습률\n",
        "  - `n_estimators`: weak learner의 개수\n",
        "  - `subsample`: weak learner가 학습에 사용하는 데이터의 샘플링 비율"
      ]
    },
    {
      "cell_type": "markdown",
      "id": "b47239ef",
      "metadata": {
        "id": "b47239ef"
      },
      "source": [
        "## **1.2 아래의 파라미터가 의미하는 것을 각각 서술하세요.**\n"
      ]
    },
    {
      "cell_type": "code",
      "execution_count": 7,
      "id": "fecd8f7e",
      "metadata": {
        "id": "fecd8f7e",
        "colab": {
          "base_uri": "https://localhost:8080/"
        },
        "outputId": "ec8b9050-77b5-4d8d-e232-8b380deb34dd"
      },
      "outputs": [
        {
          "output_type": "stream",
          "name": "stdout",
          "text": [
            "Fitting 2 folds for each of 4 candidates, totalling 8 fits\n",
            "최적 하이퍼 파라미터:\n",
            " {'learning_rate': 0.05, 'n_estimators': 100}\n",
            "최고 예측 정확도: 0.6329\n"
          ]
        }
      ],
      "source": [
        "from sklearn.model_selection import GridSearchCV\n",
        "\n",
        "params = {\n",
        "    'n_estimators':[100, 500],\n",
        "    'learning_rate' : [ 0.05, 0.1],\n",
        "}\n",
        "grid_cv = GridSearchCV(gb_clf , param_grid=params , cv=2 ,verbose=1)\n",
        "grid_cv.fit(X_train , y_train)\n",
        "print('최적 하이퍼 파라미터:\\n', grid_cv.best_params_)\n",
        "print('최고 예측 정확도: {0:.4f}'.format(grid_cv.best_score_))"
      ]
    },
    {
      "cell_type": "markdown",
      "id": "abd41f28",
      "metadata": {
        "id": "abd41f28"
      },
      "source": [
        "### 답안\n",
        "- 마크다운을 풀어서 답안을 작성 해주세요.\n"
      ]
    },
    {
      "cell_type": "markdown",
      "id": "ywp8JBA2czq_",
      "metadata": {
        "id": "ywp8JBA2czq_"
      },
      "source": [
        "1) 'n_estimators':[100, 500]\n",
        "\n",
        ": weak learner의 개수이다. 순차적으로 오류를 보정하므로 개수가 많을수록 예측 성능이 일정 수준까지는 좋아질 수 있다. 하지만 개수가 많을수록 수행 시간이 오래 걸린다. 여기서는 100개와 500개를 사용한다.\n",
        "\n",
        "2)'learning_rate' : [ 0.05, 0.1]\n",
        "\n",
        ": GBM 이 학습을 진행할 때마다 적용하는 학습률이다. Weak learner 가 순차적으로 오류 값을 보정해 나가는 데 적용하는 계수이다. 너무 작은 값을 적용하면 업데이트 되는 값이 작아져서 최소 오류 값을 찾아 예측 성능이 높아질 가능성이 높다. 0~1 사이의 값을 지정할 수 있으며 기본값은 0.1이다. 여기서는 0.05와 0.1의 두 가지 학습률을 사용한다."
      ]
    },
    {
      "cell_type": "markdown",
      "id": "dc540c37-f373-4dd7-a90d-33b9a625fbb9",
      "metadata": {
        "id": "dc540c37-f373-4dd7-a90d-33b9a625fbb9"
      },
      "source": [
        "# **2. XGBoost**"
      ]
    },
    {
      "cell_type": "markdown",
      "id": "TF8rATfQalN8",
      "metadata": {
        "id": "TF8rATfQalN8"
      },
      "source": [
        "- 타이타닉 데이터를 활용합니다\n",
        "- `titanic.csv` 데이터셋을 다운로드 후 실습을 진행해 주세요."
      ]
    },
    {
      "cell_type": "markdown",
      "id": "8nwjweXNQb_A",
      "metadata": {
        "id": "8nwjweXNQb_A"
      },
      "source": [
        "**데이터 준비**"
      ]
    },
    {
      "cell_type": "code",
      "execution_count": 8,
      "id": "20b28a5e-033b-4b74-af9a-617acbadcafa",
      "metadata": {
        "id": "20b28a5e-033b-4b74-af9a-617acbadcafa"
      },
      "outputs": [],
      "source": [
        "import xgboost as xgb\n",
        "from xgboost import plot_importance\n",
        "import pandas as pd\n",
        "import numpy as np\n",
        "import matplotlib.pyplot as plt\n",
        "from sklearn.model_selection import train_test_split\n",
        "from sklearn.preprocessing import LabelEncoder\n",
        "import warnings\n",
        "warnings.filterwarnings('ignore')"
      ]
    },
    {
      "cell_type": "code",
      "execution_count": 9,
      "id": "nYfF7sLTRTzs",
      "metadata": {
        "id": "nYfF7sLTRTzs"
      },
      "outputs": [],
      "source": [
        "# Titanic 데이터셋\n",
        "titanic_df = pd.read_csv('/content/drive/MyDrive/Week4/titanic.csv') # 파일 경로 확인\n",
        "\n",
        "# 관련 없는 열 또는 고유한 값이 너무 많은 열 제거\n",
        "titanic_df.drop(['Name', 'Ticket', 'Cabin'], axis=1, inplace=True)\n",
        "\n",
        "# 결측값 채우기\n",
        "titanic_df.fillna(method='ffill', inplace=True)  # Filling NaN values with forward fill method\n",
        "\n",
        "# 범주형 열을 숫자로 변환(Label Encoding)\n",
        "label_encoders = {}\n",
        "for col in ['Sex', 'Embarked']:\n",
        "    label_encoders[col] = LabelEncoder()\n",
        "    titanic_df[col] = label_encoders[col].fit_transform(titanic_df[col])"
      ]
    },
    {
      "cell_type": "code",
      "execution_count": 10,
      "id": "f8a7c4d1-62d8-4dfd-9ab5-2a1b2e0f74a7",
      "metadata": {
        "id": "f8a7c4d1-62d8-4dfd-9ab5-2a1b2e0f74a7",
        "colab": {
          "base_uri": "https://localhost:8080/"
        },
        "outputId": "ed88e132-57ad-45f6-f541-51e910863fe1"
      },
      "outputs": [
        {
          "output_type": "stream",
          "name": "stdout",
          "text": [
            "(712, 8) (179, 8)\n"
          ]
        }
      ],
      "source": [
        "# features과 target variable 분리\n",
        "X_features = titanic_df.drop(columns=['Survived'])\n",
        "y_label = titanic_df['Survived']\n",
        "\n",
        "# 학습용 데이터, 테스트용 데이터 추출\n",
        "X_train, X_test, y_train, y_test = train_test_split(X_features, y_label,\n",
        "                                                    test_size=0.2, random_state=156)\n",
        "print(X_train.shape, X_test.shape)\n",
        "\n",
        "# 데이터를 DMatrix 형식으로 변환\n",
        "dtrain = xgb.DMatrix(data=X_train, label=y_train)\n",
        "dtest = xgb.DMatrix(data=X_test, label=y_test)"
      ]
    },
    {
      "cell_type": "markdown",
      "id": "3fedff99-0ddf-460f-afc0-19a2fba8c81e",
      "metadata": {
        "id": "3fedff99-0ddf-460f-afc0-19a2fba8c81e"
      },
      "source": [
        "## **2-1. XGBoost의 하이퍼 파라미터 설정에 따라 파라미터 목록을 완성해 주세요.**\n",
        "\n",
        "- 트리의 최대 깊이: 5  \n",
        "- 학습률(eta): 0.05  \n",
        "- 이진 분류 문제  \n",
        "  - 오류 함수의 평가 성능 지표는 `error`\n",
        "- 부스팅 반복 횟수: 500회  "
      ]
    },
    {
      "cell_type": "code",
      "execution_count": 11,
      "id": "021713f0-8d89-44ed-acef-672a54f54934",
      "metadata": {
        "id": "021713f0-8d89-44ed-acef-672a54f54934"
      },
      "outputs": [],
      "source": [
        "# Parameters for XGBoost model\n",
        "params = {\n",
        "    ###빈칸###\n",
        "    'max_depth' :5,\n",
        "    'eta':0.05,\n",
        "    'objective':'binary:logistic',\n",
        "    'eval_metric':'error',\n",
        "    'early_stoppings':100\n",
        "         }\n",
        "\n",
        "# 부스팅 반복 횟수 지정\n",
        "### 빈칸 ###\n",
        "num_rounds=500\n"
      ]
    },
    {
      "cell_type": "markdown",
      "id": "EDA_HDKJTR2f",
      "metadata": {
        "id": "EDA_HDKJTR2f"
      },
      "source": [
        "- 아래 코드들을 실행하여 결과를 확인해 보세요!"
      ]
    },
    {
      "cell_type": "code",
      "execution_count": 12,
      "id": "NrhHFYN3dqGN",
      "metadata": {
        "id": "NrhHFYN3dqGN",
        "colab": {
          "base_uri": "https://localhost:8080/"
        },
        "outputId": "4b0d934b-2218-4b14-cee9-4369fff28335"
      },
      "outputs": [
        {
          "output_type": "stream",
          "name": "stdout",
          "text": [
            "Predicted probabilities (first 10):\n",
            "[0.331 0.011 0.054 0.288 0.987 0.03  0.825 0.622 0.005 0.023]\n",
            "Predicted labels (first 10): [0, 0, 0, 0, 1, 0, 1, 1, 0, 0]\n"
          ]
        }
      ],
      "source": [
        "# XGBoost 모델 학습\n",
        "wlist = [(dtrain, 'train'), (dtest, 'eval')]\n",
        "xgb_model = xgb.train(params=params, dtrain=dtrain, num_boost_round=num_rounds,\n",
        "                      evals=wlist,  verbose_eval = 0)\n",
        "\n",
        "# 확률 예측\n",
        "pred_probs = xgb_model.predict(dtest)\n",
        "print('Predicted probabilities (first 10):')\n",
        "print(np.round(pred_probs[:10],3))\n",
        "\n",
        "# 확률을 예측값으로 변환\n",
        "preds = [1 if x > 0.5 else 0 for x in pred_probs]\n",
        "print('Predicted labels (first 10):', preds[:10])"
      ]
    },
    {
      "cell_type": "code",
      "execution_count": 13,
      "id": "xptLLevZSjlp",
      "metadata": {
        "id": "xptLLevZSjlp",
        "colab": {
          "base_uri": "https://localhost:8080/",
          "height": 472
        },
        "outputId": "54771a67-b5b4-4c7e-cd36-e1f5dde732b4"
      },
      "outputs": [
        {
          "output_type": "display_data",
          "data": {
            "text/plain": [
              "<Figure size 640x480 with 1 Axes>"
            ],
            "image/png": "[encoded data removed]"
          },
          "metadata": {}
        }
      ],
      "source": [
        "# Feature Importance 그리기\n",
        "\n",
        "plot_importance(xgb_model)\n",
        "plt.show()"
      ]
    },
    {
      "cell_type": "markdown",
      "id": "8b3d9574",
      "metadata": {
        "id": "8b3d9574"
      },
      "source": [
        "## **2.2 파이썬 래퍼를 사용하여 XGBoost 모델을 학습할 때 입력 데이터를 특정 형식으로 변환하여 사용합니다.이 변환을 수행하는 함수는 무엇입니까?**"
      ]
    },
    {
      "cell_type": "markdown",
      "id": "ieTCqSCzVKNH",
      "metadata": {
        "id": "ieTCqSCzVKNH"
      },
      "source": [
        "### **답안**  \n",
        "\bDMatrix 는 넘파이 외에 libvsm txt 포맷 파일, xgboost 이진 버퍼 파일을 파라미터로 입력받아 변환할 수 있다."
      ]
    },
    {
      "cell_type": "markdown",
      "id": "a40156bc-c094-4ff5-a84e-49c7a0dbe832",
      "metadata": {
        "id": "a40156bc-c094-4ff5-a84e-49c7a0dbe832"
      },
      "source": [
        "## **2.3. 사이킷런 래퍼 XGBoost 클래스인 XGBClassifier를 사용하여 XGBoost 분류기를 학습하는 코드를 완성하세요.**\n",
        "- 추정기 개수: 200\n",
        "- 학습률: 0.1\n",
        "- 트리의 최대 깊이: 4"
      ]
    },
    {
      "cell_type": "code",
      "execution_count": 14,
      "id": "691d463b-e978-4940-aafe-80db3c1005e0",
      "metadata": {
        "id": "691d463b-e978-4940-aafe-80db3c1005e0"
      },
      "outputs": [],
      "source": [
        "from xgboost import XGBClassifier\n",
        "from sklearn.model_selection import train_test_split\n",
        "from sklearn.metrics import confusion_matrix, accuracy_score, precision_score, recall_score, f1_score, roc_auc_score\n",
        "import matplotlib.pyplot as plt"
      ]
    },
    {
      "cell_type": "code",
      "execution_count": 15,
      "id": "6058f5be-745a-4de0-ac99-4919ec202847",
      "metadata": {
        "id": "6058f5be-745a-4de0-ac99-4919ec202847"
      },
      "outputs": [],
      "source": [
        "# XGBoost 모델 학습\n",
        "xgb_wrapper = XGBClassifier(n_estimators=200, learning_rate=0.1, max_depth=4)\n",
        "xgb_wrapper.fit(X_train, y_train)\n",
        "\n",
        "w_preds = xgb_wrapper.predict(X_test)\n",
        "w_pred_proba = xgb_wrapper.predict_proba(X_test)[:, 1]"
      ]
    },
    {
      "cell_type": "markdown",
      "id": "Xgi8pXAgUCas",
      "metadata": {
        "id": "Xgi8pXAgUCas"
      },
      "source": [
        "- 아래 코드를 실행하여 결과를 확인해 보세요!"
      ]
    },
    {
      "cell_type": "code",
      "execution_count": 16,
      "id": "ACmj0TTJgZRE",
      "metadata": {
        "id": "ACmj0TTJgZRE"
      },
      "outputs": [],
      "source": [
        "# 분류 모델 평가 함수 정의 및 호출\n",
        "\n",
        "def get_clf_eval(y_test, pred=None, pred_proba=None):\n",
        "    confusion = confusion_matrix(y_test, pred)\n",
        "    accuracy = accuracy_score(y_test, pred)\n",
        "    precision = precision_score(y_test, pred)\n",
        "    recall = recall_score(y_test, pred)\n",
        "    f1 = f1_score(y_test, pred)\n",
        "\n",
        "    # ROC-AUC 추가\n",
        "    roc_auc = roc_auc_score(y_test, pred_proba)\n",
        "    print('오차 행렬')\n",
        "    print(confusion)\n",
        "\n",
        "    # ROC-AUC print 추가\n",
        "    print('정확도: {0:.4f}, 정밀도: {1:.4f}, 재현율: {2:.4f},\\\n",
        "    F1: {3:.4f}, AUC:{4:.4f}'.format(accuracy, precision, recall, f1, roc_auc))"
      ]
    },
    {
      "cell_type": "code",
      "execution_count": 17,
      "id": "B-nijPT6Uta9",
      "metadata": {
        "id": "B-nijPT6Uta9",
        "colab": {
          "base_uri": "https://localhost:8080/"
        },
        "outputId": "068ca0ef-04e6-4691-837c-42978e8e657b"
      },
      "outputs": [
        {
          "output_type": "stream",
          "name": "stdout",
          "text": [
            "오차 행렬\n",
            "[[96 11]\n",
            " [23 49]]\n",
            "정확도: 0.8101, 정밀도: 0.8167, 재현율: 0.6806,    F1: 0.7424, AUC:0.8374\n"
          ]
        }
      ],
      "source": [
        "# 모델 평가 수행\n",
        "\n",
        "get_clf_eval(y_test, w_preds, w_pred_proba)"
      ]
    },
    {
      "cell_type": "markdown",
      "id": "ee568a6a-84f5-48aa-8d03-1ddedef065ae",
      "metadata": {
        "id": "ee568a6a-84f5-48aa-8d03-1ddedef065ae"
      },
      "source": [
        "## **2-4. 아래 코드에서 조기 중단 설정이 어떻게 변경되며, 이러한 변화가 예측 성능에 미칠 수 있는 영향에 대해 서술하세요.**\n",
        "\n"
      ]
    },
    {
      "cell_type": "code",
      "execution_count": 18,
      "id": "Thk-uxBwUf4A",
      "metadata": {
        "id": "Thk-uxBwUf4A"
      },
      "outputs": [],
      "source": [
        "xgb_wrapper = XGBClassifier(n_estimators=300, learning_rate=0.1, max_depth=6)\n",
        "evals = [(X_test, y_test)]"
      ]
    },
    {
      "cell_type": "code",
      "execution_count": 19,
      "id": "AyjFxPIMg4aC",
      "metadata": {
        "id": "AyjFxPIMg4aC",
        "colab": {
          "base_uri": "https://localhost:8080/"
        },
        "outputId": "123c7520-4c55-434b-ee96-b63e2c31d2c8"
      },
      "outputs": [
        {
          "output_type": "stream",
          "name": "stdout",
          "text": [
            "[0]\tvalidation_0-logloss:0.63356\n",
            "[1]\tvalidation_0-logloss:0.60037\n",
            "[2]\tvalidation_0-logloss:0.57423\n",
            "[3]\tvalidation_0-logloss:0.55243\n",
            "[4]\tvalidation_0-logloss:0.53491\n",
            "[5]\tvalidation_0-logloss:0.52240\n",
            "[6]\tvalidation_0-logloss:0.51087\n",
            "[7]\tvalidation_0-logloss:0.50389\n",
            "[8]\tvalidation_0-logloss:0.49613\n",
            "[9]\tvalidation_0-logloss:0.48904\n",
            "[10]\tvalidation_0-logloss:0.48345\n",
            "[11]\tvalidation_0-logloss:0.47826\n",
            "[12]\tvalidation_0-logloss:0.47273\n",
            "[13]\tvalidation_0-logloss:0.46838\n",
            "[14]\tvalidation_0-logloss:0.46477\n",
            "[15]\tvalidation_0-logloss:0.46139\n",
            "[16]\tvalidation_0-logloss:0.45919\n",
            "[17]\tvalidation_0-logloss:0.45758\n",
            "[18]\tvalidation_0-logloss:0.45632\n",
            "[19]\tvalidation_0-logloss:0.45515\n",
            "[20]\tvalidation_0-logloss:0.45369\n",
            "[21]\tvalidation_0-logloss:0.45133\n",
            "[22]\tvalidation_0-logloss:0.44978\n",
            "[23]\tvalidation_0-logloss:0.44714\n",
            "[24]\tvalidation_0-logloss:0.44553\n",
            "[25]\tvalidation_0-logloss:0.44383\n",
            "[26]\tvalidation_0-logloss:0.44302\n",
            "[27]\tvalidation_0-logloss:0.44236\n",
            "[28]\tvalidation_0-logloss:0.44304\n",
            "[29]\tvalidation_0-logloss:0.44262\n",
            "[30]\tvalidation_0-logloss:0.44225\n",
            "[31]\tvalidation_0-logloss:0.44350\n",
            "[32]\tvalidation_0-logloss:0.44387\n",
            "[33]\tvalidation_0-logloss:0.44371\n",
            "[34]\tvalidation_0-logloss:0.44315\n",
            "[35]\tvalidation_0-logloss:0.44255\n",
            "[36]\tvalidation_0-logloss:0.44094\n",
            "[37]\tvalidation_0-logloss:0.44145\n",
            "[38]\tvalidation_0-logloss:0.44100\n",
            "[39]\tvalidation_0-logloss:0.44120\n",
            "[40]\tvalidation_0-logloss:0.44466\n",
            "[41]\tvalidation_0-logloss:0.44482\n",
            "[42]\tvalidation_0-logloss:0.44462\n",
            "[43]\tvalidation_0-logloss:0.44749\n",
            "[44]\tvalidation_0-logloss:0.44902\n",
            "[45]\tvalidation_0-logloss:0.44880\n",
            "[46]\tvalidation_0-logloss:0.44948\n",
            "[47]\tvalidation_0-logloss:0.45086\n",
            "[48]\tvalidation_0-logloss:0.45096\n",
            "[49]\tvalidation_0-logloss:0.45098\n",
            "[50]\tvalidation_0-logloss:0.45009\n",
            "[51]\tvalidation_0-logloss:0.45025\n",
            "[52]\tvalidation_0-logloss:0.45070\n",
            "[53]\tvalidation_0-logloss:0.45014\n",
            "[54]\tvalidation_0-logloss:0.45152\n",
            "[55]\tvalidation_0-logloss:0.45109\n",
            "[56]\tvalidation_0-logloss:0.45140\n",
            "[57]\tvalidation_0-logloss:0.45242\n",
            "[58]\tvalidation_0-logloss:0.45300\n",
            "[59]\tvalidation_0-logloss:0.45464\n",
            "[60]\tvalidation_0-logloss:0.45430\n",
            "[61]\tvalidation_0-logloss:0.45448\n",
            "[62]\tvalidation_0-logloss:0.45458\n",
            "[63]\tvalidation_0-logloss:0.45499\n",
            "[64]\tvalidation_0-logloss:0.45548\n",
            "[65]\tvalidation_0-logloss:0.45613\n",
            "[66]\tvalidation_0-logloss:0.45789\n",
            "[67]\tvalidation_0-logloss:0.45932\n",
            "[68]\tvalidation_0-logloss:0.46078\n",
            "[69]\tvalidation_0-logloss:0.46171\n",
            "[70]\tvalidation_0-logloss:0.46158\n",
            "[71]\tvalidation_0-logloss:0.46181\n",
            "[72]\tvalidation_0-logloss:0.46181\n",
            "[73]\tvalidation_0-logloss:0.46268\n",
            "[74]\tvalidation_0-logloss:0.46294\n",
            "[75]\tvalidation_0-logloss:0.46403\n",
            "[76]\tvalidation_0-logloss:0.46383\n",
            "[77]\tvalidation_0-logloss:0.46325\n",
            "[78]\tvalidation_0-logloss:0.46389\n",
            "[79]\tvalidation_0-logloss:0.46401\n",
            "[80]\tvalidation_0-logloss:0.46388\n",
            "[81]\tvalidation_0-logloss:0.46375\n",
            "[82]\tvalidation_0-logloss:0.46366\n",
            "[83]\tvalidation_0-logloss:0.46509\n",
            "[84]\tvalidation_0-logloss:0.46513\n",
            "[85]\tvalidation_0-logloss:0.46597\n",
            "[86]\tvalidation_0-logloss:0.46640\n",
            "[87]\tvalidation_0-logloss:0.46833\n",
            "[88]\tvalidation_0-logloss:0.46926\n",
            "[89]\tvalidation_0-logloss:0.46932\n",
            "[90]\tvalidation_0-logloss:0.47071\n",
            "[91]\tvalidation_0-logloss:0.47218\n",
            "[92]\tvalidation_0-logloss:0.47181\n",
            "[93]\tvalidation_0-logloss:0.47351\n",
            "[94]\tvalidation_0-logloss:0.47487\n",
            "[95]\tvalidation_0-logloss:0.47485\n",
            "[96]\tvalidation_0-logloss:0.47536\n",
            "[97]\tvalidation_0-logloss:0.47577\n",
            "[98]\tvalidation_0-logloss:0.47673\n",
            "[99]\tvalidation_0-logloss:0.47784\n",
            "[100]\tvalidation_0-logloss:0.47737\n",
            "[101]\tvalidation_0-logloss:0.47753\n",
            "[102]\tvalidation_0-logloss:0.47841\n",
            "[103]\tvalidation_0-logloss:0.47932\n",
            "[104]\tvalidation_0-logloss:0.48032\n",
            "[105]\tvalidation_0-logloss:0.48151\n",
            "[106]\tvalidation_0-logloss:0.48206\n",
            "[107]\tvalidation_0-logloss:0.48389\n",
            "[108]\tvalidation_0-logloss:0.48393\n",
            "[109]\tvalidation_0-logloss:0.48322\n",
            "[110]\tvalidation_0-logloss:0.48341\n",
            "[111]\tvalidation_0-logloss:0.48380\n",
            "[112]\tvalidation_0-logloss:0.48385\n",
            "[113]\tvalidation_0-logloss:0.48420\n",
            "[114]\tvalidation_0-logloss:0.48565\n",
            "[115]\tvalidation_0-logloss:0.48767\n",
            "[116]\tvalidation_0-logloss:0.48848\n",
            "[117]\tvalidation_0-logloss:0.48858\n",
            "[118]\tvalidation_0-logloss:0.48894\n",
            "[119]\tvalidation_0-logloss:0.48998\n",
            "[120]\tvalidation_0-logloss:0.49095\n",
            "[121]\tvalidation_0-logloss:0.49153\n",
            "[122]\tvalidation_0-logloss:0.49164\n",
            "[123]\tvalidation_0-logloss:0.49289\n",
            "[124]\tvalidation_0-logloss:0.49406\n",
            "[125]\tvalidation_0-logloss:0.49402\n",
            "[126]\tvalidation_0-logloss:0.49438\n",
            "[127]\tvalidation_0-logloss:0.49513\n",
            "[128]\tvalidation_0-logloss:0.49607\n",
            "[129]\tvalidation_0-logloss:0.49608\n",
            "[130]\tvalidation_0-logloss:0.49625\n",
            "[131]\tvalidation_0-logloss:0.49683\n",
            "[132]\tvalidation_0-logloss:0.49853\n",
            "[133]\tvalidation_0-logloss:0.49857\n",
            "[134]\tvalidation_0-logloss:0.49789\n",
            "[135]\tvalidation_0-logloss:0.49821\n",
            "[136]\tvalidation_0-logloss:0.49813\n",
            "오차 행렬\n",
            "[[95 12]\n",
            " [27 45]]\n",
            "정확도: 0.7821, 정밀도: 0.7895, 재현율: 0.6250,    F1: 0.6977, AUC:0.8542\n"
          ]
        }
      ],
      "source": [
        "### 첫 번째 학습\n",
        "\n",
        "# XGBClassifier 모델 학습 (조기 중단 설정)\n",
        "xgb_wrapper.fit(X_train, y_train, early_stopping_rounds=100, eval_metric=\"logloss\", eval_set=evals, verbose=True)\n",
        "\n",
        "ws100_preds = xgb_wrapper.predict(X_test)\n",
        "ws100_pred_proba = xgb_wrapper.predict_proba(X_test)[:, 1]\n",
        "\n",
        "get_clf_eval(y_test , ws100_preds, ws100_pred_proba)"
      ]
    },
    {
      "cell_type": "code",
      "execution_count": 20,
      "id": "5a84e4fc-61fd-4367-8acc-b930696fde92",
      "metadata": {
        "id": "5a84e4fc-61fd-4367-8acc-b930696fde92",
        "colab": {
          "base_uri": "https://localhost:8080/"
        },
        "outputId": "323822c5-3e2a-4716-e040-fd12b65be03c"
      },
      "outputs": [
        {
          "output_type": "stream",
          "name": "stdout",
          "text": [
            "[0]\tvalidation_0-logloss:0.63356\n",
            "[1]\tvalidation_0-logloss:0.60037\n",
            "[2]\tvalidation_0-logloss:0.57423\n",
            "[3]\tvalidation_0-logloss:0.55243\n",
            "[4]\tvalidation_0-logloss:0.53491\n",
            "[5]\tvalidation_0-logloss:0.52240\n",
            "[6]\tvalidation_0-logloss:0.51087\n",
            "[7]\tvalidation_0-logloss:0.50389\n",
            "[8]\tvalidation_0-logloss:0.49613\n",
            "[9]\tvalidation_0-logloss:0.48904\n",
            "[10]\tvalidation_0-logloss:0.48345\n",
            "[11]\tvalidation_0-logloss:0.47826\n",
            "[12]\tvalidation_0-logloss:0.47273\n",
            "[13]\tvalidation_0-logloss:0.46838\n",
            "[14]\tvalidation_0-logloss:0.46477\n",
            "[15]\tvalidation_0-logloss:0.46139\n",
            "[16]\tvalidation_0-logloss:0.45919\n",
            "[17]\tvalidation_0-logloss:0.45758\n",
            "[18]\tvalidation_0-logloss:0.45632\n",
            "[19]\tvalidation_0-logloss:0.45515\n",
            "[20]\tvalidation_0-logloss:0.45369\n",
            "[21]\tvalidation_0-logloss:0.45133\n",
            "[22]\tvalidation_0-logloss:0.44978\n",
            "[23]\tvalidation_0-logloss:0.44714\n",
            "[24]\tvalidation_0-logloss:0.44553\n",
            "[25]\tvalidation_0-logloss:0.44383\n",
            "[26]\tvalidation_0-logloss:0.44302\n",
            "[27]\tvalidation_0-logloss:0.44236\n",
            "[28]\tvalidation_0-logloss:0.44304\n",
            "[29]\tvalidation_0-logloss:0.44262\n",
            "[30]\tvalidation_0-logloss:0.44225\n",
            "[31]\tvalidation_0-logloss:0.44350\n",
            "[32]\tvalidation_0-logloss:0.44387\n",
            "[33]\tvalidation_0-logloss:0.44371\n",
            "[34]\tvalidation_0-logloss:0.44315\n",
            "[35]\tvalidation_0-logloss:0.44255\n",
            "[36]\tvalidation_0-logloss:0.44094\n",
            "[37]\tvalidation_0-logloss:0.44145\n",
            "[38]\tvalidation_0-logloss:0.44100\n",
            "[39]\tvalidation_0-logloss:0.44120\n",
            "[40]\tvalidation_0-logloss:0.44466\n",
            "[41]\tvalidation_0-logloss:0.44482\n",
            "[42]\tvalidation_0-logloss:0.44462\n",
            "[43]\tvalidation_0-logloss:0.44749\n",
            "[44]\tvalidation_0-logloss:0.44902\n",
            "[45]\tvalidation_0-logloss:0.44880\n",
            "오차 행렬\n",
            "[[95 12]\n",
            " [27 45]]\n",
            "정확도: 0.7821, 정밀도: 0.7895, 재현율: 0.6250,    F1: 0.6977, AUC:0.8542\n"
          ]
        }
      ],
      "source": [
        "### 두 번째 학습\n",
        "\n",
        "# 조기 중단 설정 변경\n",
        "xgb_wrapper.fit(X_train, y_train, early_stopping_rounds=10, eval_metric=\"logloss\", eval_set=evals,verbose=True)\n",
        "\n",
        "ws10_preds = xgb_wrapper.predict(X_test)\n",
        "ws10_pred_proba = xgb_wrapper.predict_proba(X_test)[:, 1]\n",
        "\n",
        "get_clf_eval(y_test , ws10_preds, ws10_pred_proba)"
      ]
    },
    {
      "cell_type": "markdown",
      "id": "dDwHAcClUzjz",
      "metadata": {
        "id": "dDwHAcClUzjz"
      },
      "source": [
        "### **답안**  \n",
        "첫 번째는 조기 중단 값이 100 이고 두 번쨰는 10이다. 조기 중단값을 급격하게 줄이면 예측 성능이 저하될 우려가 크다. 가령 값응ㄹ 10으로 하면 아직 성능이 향상될 여지가 있음에도 불구하고 10번 반복하는 동안 성틍 평가 지표가 향상되지 않으면 반복이 멈춰 버려서 충분한 학습이 되지 않아 예측 성능이 나빠질 수 있다."
      ]
    },
    {
      "cell_type": "markdown",
      "id": "4c26ec2e",
      "metadata": {
        "id": "4c26ec2e"
      },
      "source": [
        "# **3. LightGBM**"
      ]
    },
    {
      "cell_type": "markdown",
      "id": "a52b97dd",
      "metadata": {
        "id": "a52b97dd"
      },
      "source": [
        "## **3-1.**\n",
        "- 해당 실습에서는 `피마 당뇨병` 데이터를 활용합니다."
      ]
    },
    {
      "cell_type": "code",
      "execution_count": 21,
      "id": "e182a9ff",
      "metadata": {
        "id": "e182a9ff",
        "colab": {
          "base_uri": "https://localhost:8080/"
        },
        "outputId": "df4a48be-d08b-40d2-8acb-4ef3d7922119"
      },
      "outputs": [
        {
          "output_type": "stream",
          "name": "stdout",
          "text": [
            "Collecting lightgbm==3.3.2\n",
            "  Downloading lightgbm-3.3.2-py3-none-manylinux1_x86_64.whl (2.0 MB)\n",
            "\u001b[2K     \u001b[90m━━━━━━━━━━━━━━━━━━━━━━━━━━━━━━━━━━━━━━━━\u001b[0m \u001b[32m2.0/2.0 MB\u001b[0m \u001b[31m9.9 MB/s\u001b[0m eta \u001b[36m0:00:00\u001b[0m\n",
            "\u001b[?25hRequirement already satisfied: wheel in /usr/local/lib/python3.10/dist-packages (from lightgbm==3.3.2) (0.43.0)\n",
            "Requirement already satisfied: numpy in /usr/local/lib/python3.10/dist-packages (from lightgbm==3.3.2) (1.25.2)\n",
            "Requirement already satisfied: scipy in /usr/local/lib/python3.10/dist-packages (from lightgbm==3.3.2) (1.11.4)\n",
            "Requirement already satisfied: scikit-learn!=0.22.0 in /usr/local/lib/python3.10/dist-packages (from lightgbm==3.3.2) (1.2.2)\n",
            "Requirement already satisfied: joblib>=1.1.1 in /usr/local/lib/python3.10/dist-packages (from scikit-learn!=0.22.0->lightgbm==3.3.2) (1.3.2)\n",
            "Requirement already satisfied: threadpoolctl>=2.0.0 in /usr/local/lib/python3.10/dist-packages (from scikit-learn!=0.22.0->lightgbm==3.3.2) (3.4.0)\n",
            "Installing collected packages: lightgbm\n",
            "  Attempting uninstall: lightgbm\n",
            "    Found existing installation: lightgbm 4.1.0\n",
            "    Uninstalling lightgbm-4.1.0:\n",
            "      Successfully uninstalled lightgbm-4.1.0\n",
            "Successfully installed lightgbm-3.3.2\n"
          ]
        }
      ],
      "source": [
        "### 실습을 위한 lgbm 다운그레이드\n",
        "# 아래 코드를 실행시켜 주세요.\n",
        "\n",
        "!pip install lightgbm==3.3.2"
      ]
    },
    {
      "cell_type": "code",
      "execution_count": 22,
      "id": "8ltfxNPtWIPQ",
      "metadata": {
        "id": "8ltfxNPtWIPQ",
        "colab": {
          "base_uri": "https://localhost:8080/"
        },
        "outputId": "177a8cb0-f711-4a3b-bcee-264a40d09f59"
      },
      "outputs": [
        {
          "output_type": "stream",
          "name": "stdout",
          "text": [
            "3.3.2\n"
          ]
        }
      ],
      "source": [
        "# 제대로 다운그레이드 되었는지 확인\n",
        "\n",
        "import lightgbm\n",
        "print(lightgbm.__version__)"
      ]
    },
    {
      "cell_type": "markdown",
      "id": "6503b7c6",
      "metadata": {
        "id": "6503b7c6"
      },
      "source": [
        "### **Step1) 데이터 로드**\n"
      ]
    },
    {
      "cell_type": "code",
      "execution_count": 23,
      "id": "6e7826bb",
      "metadata": {
        "id": "6e7826bb"
      },
      "outputs": [],
      "source": [
        "from lightgbm import LGBMClassifier\n",
        "import pandas as pd\n",
        "from sklearn.model_selection import train_test_split\n",
        "from sklearn.metrics import accuracy_score\n",
        "from lightgbm import early_stopping"
      ]
    },
    {
      "cell_type": "code",
      "execution_count": 24,
      "id": "3dXi45MRWYMm",
      "metadata": {
        "id": "3dXi45MRWYMm",
        "colab": {
          "base_uri": "https://localhost:8080/"
        },
        "outputId": "69028736-a58b-4523-f9d6-6830485e8d36"
      },
      "outputs": [
        {
          "output_type": "stream",
          "name": "stdout",
          "text": [
            "Outcome\n",
            "0    500\n",
            "1    268\n",
            "Name: count, dtype: int64\n"
          ]
        }
      ],
      "source": [
        "### 아래 코드를 실행시켜 주세요.\n",
        "## csv 파일 경로를 알맞게 수정해 주세요.\n",
        "\n",
        "# data load: 피마 당뇨병 데이터 셋\n",
        "diabetes = pd.read_csv('/content/drive/MyDrive/Week4/diabetes.csv') # 경로 설정\n",
        "print(diabetes['Outcome'].value_counts())"
      ]
    },
    {
      "cell_type": "markdown",
      "id": "fa2fb8fd",
      "metadata": {
        "id": "fa2fb8fd"
      },
      "source": [
        "### **Step 2) 데이터 Split**\n",
        "- 아래 코드를 실행시켜 주세요."
      ]
    },
    {
      "cell_type": "code",
      "execution_count": 25,
      "id": "dd48ddfd",
      "metadata": {
        "id": "dd48ddfd"
      },
      "outputs": [],
      "source": [
        "y = diabetes['Outcome']\n",
        "X = diabetes.drop('Outcome', axis=1, inplace=False)\n",
        "\n",
        "X_train, X_test, y_train, y_test = train_test_split(X, y, test_size=0.2, random_state=156)"
      ]
    },
    {
      "cell_type": "markdown",
      "id": "dd940b5b",
      "metadata": {
        "id": "dd940b5b"
      },
      "source": [
        "### **Step 3) 모델 학습**\n",
        "- 아래 코드의 빈칸을 채워주세요.  \n",
        "(힌트 : 교재 p.251)\n",
        "\n"
      ]
    },
    {
      "cell_type": "code",
      "execution_count": 26,
      "id": "8994defd",
      "metadata": {
        "id": "8994defd",
        "colab": {
          "base_uri": "https://localhost:8080/",
          "height": 1000
        },
        "outputId": "80ccf6f3-91d8-4609-c01d-26526ed37164"
      },
      "outputs": [
        {
          "output_type": "stream",
          "name": "stdout",
          "text": [
            "[1]\tvalid_0's binary_logloss: 0.630031\n",
            "[2]\tvalid_0's binary_logloss: 0.607335\n",
            "[3]\tvalid_0's binary_logloss: 0.585795\n",
            "[4]\tvalid_0's binary_logloss: 0.566393\n",
            "[5]\tvalid_0's binary_logloss: 0.551676\n",
            "[6]\tvalid_0's binary_logloss: 0.541892\n",
            "[7]\tvalid_0's binary_logloss: 0.535487\n",
            "[8]\tvalid_0's binary_logloss: 0.526912\n",
            "[9]\tvalid_0's binary_logloss: 0.518037\n",
            "[10]\tvalid_0's binary_logloss: 0.512287\n",
            "[11]\tvalid_0's binary_logloss: 0.511588\n",
            "[12]\tvalid_0's binary_logloss: 0.504413\n",
            "[13]\tvalid_0's binary_logloss: 0.49867\n",
            "[14]\tvalid_0's binary_logloss: 0.496196\n",
            "[15]\tvalid_0's binary_logloss: 0.492987\n",
            "[16]\tvalid_0's binary_logloss: 0.489374\n",
            "[17]\tvalid_0's binary_logloss: 0.491211\n",
            "[18]\tvalid_0's binary_logloss: 0.491578\n",
            "[19]\tvalid_0's binary_logloss: 0.489177\n",
            "[20]\tvalid_0's binary_logloss: 0.488728\n",
            "[21]\tvalid_0's binary_logloss: 0.486497\n",
            "[22]\tvalid_0's binary_logloss: 0.48802\n",
            "[23]\tvalid_0's binary_logloss: 0.487214\n",
            "[24]\tvalid_0's binary_logloss: 0.488736\n",
            "[25]\tvalid_0's binary_logloss: 0.490997\n",
            "[26]\tvalid_0's binary_logloss: 0.496599\n",
            "[27]\tvalid_0's binary_logloss: 0.495966\n",
            "[28]\tvalid_0's binary_logloss: 0.501857\n",
            "[29]\tvalid_0's binary_logloss: 0.508221\n",
            "[30]\tvalid_0's binary_logloss: 0.51397\n",
            "[31]\tvalid_0's binary_logloss: 0.513942\n",
            "[32]\tvalid_0's binary_logloss: 0.51529\n",
            "[33]\tvalid_0's binary_logloss: 0.521391\n",
            "[34]\tvalid_0's binary_logloss: 0.523951\n",
            "[35]\tvalid_0's binary_logloss: 0.524666\n",
            "[36]\tvalid_0's binary_logloss: 0.527212\n",
            "[37]\tvalid_0's binary_logloss: 0.526908\n",
            "[38]\tvalid_0's binary_logloss: 0.527988\n",
            "[39]\tvalid_0's binary_logloss: 0.529194\n",
            "[40]\tvalid_0's binary_logloss: 0.528385\n",
            "[41]\tvalid_0's binary_logloss: 0.532464\n",
            "[42]\tvalid_0's binary_logloss: 0.534292\n",
            "[43]\tvalid_0's binary_logloss: 0.531969\n",
            "[44]\tvalid_0's binary_logloss: 0.536784\n",
            "[45]\tvalid_0's binary_logloss: 0.539515\n",
            "[46]\tvalid_0's binary_logloss: 0.542404\n",
            "[47]\tvalid_0's binary_logloss: 0.545273\n",
            "[48]\tvalid_0's binary_logloss: 0.545253\n",
            "[49]\tvalid_0's binary_logloss: 0.550342\n",
            "[50]\tvalid_0's binary_logloss: 0.554814\n",
            "[51]\tvalid_0's binary_logloss: 0.559975\n",
            "[52]\tvalid_0's binary_logloss: 0.562116\n",
            "[53]\tvalid_0's binary_logloss: 0.563142\n",
            "[54]\tvalid_0's binary_logloss: 0.563045\n",
            "[55]\tvalid_0's binary_logloss: 0.569118\n",
            "[56]\tvalid_0's binary_logloss: 0.574433\n",
            "[57]\tvalid_0's binary_logloss: 0.574219\n",
            "[58]\tvalid_0's binary_logloss: 0.57698\n",
            "[59]\tvalid_0's binary_logloss: 0.577963\n",
            "[60]\tvalid_0's binary_logloss: 0.583815\n",
            "[61]\tvalid_0's binary_logloss: 0.586495\n",
            "[62]\tvalid_0's binary_logloss: 0.585464\n",
            "[63]\tvalid_0's binary_logloss: 0.586762\n",
            "[64]\tvalid_0's binary_logloss: 0.590166\n",
            "[65]\tvalid_0's binary_logloss: 0.590517\n",
            "[66]\tvalid_0's binary_logloss: 0.593578\n",
            "[67]\tvalid_0's binary_logloss: 0.59491\n",
            "[68]\tvalid_0's binary_logloss: 0.599632\n",
            "[69]\tvalid_0's binary_logloss: 0.603081\n",
            "[70]\tvalid_0's binary_logloss: 0.608406\n",
            "[71]\tvalid_0's binary_logloss: 0.606121\n",
            "[72]\tvalid_0's binary_logloss: 0.609054\n",
            "[73]\tvalid_0's binary_logloss: 0.611754\n",
            "[74]\tvalid_0's binary_logloss: 0.614497\n",
            "[75]\tvalid_0's binary_logloss: 0.618739\n",
            "[76]\tvalid_0's binary_logloss: 0.621283\n",
            "[77]\tvalid_0's binary_logloss: 0.623477\n",
            "[78]\tvalid_0's binary_logloss: 0.624964\n",
            "[79]\tvalid_0's binary_logloss: 0.630906\n",
            "[80]\tvalid_0's binary_logloss: 0.634476\n",
            "[81]\tvalid_0's binary_logloss: 0.636419\n",
            "[82]\tvalid_0's binary_logloss: 0.640642\n",
            "[83]\tvalid_0's binary_logloss: 0.640494\n",
            "[84]\tvalid_0's binary_logloss: 0.642756\n",
            "[85]\tvalid_0's binary_logloss: 0.644921\n",
            "[86]\tvalid_0's binary_logloss: 0.648415\n",
            "[87]\tvalid_0's binary_logloss: 0.648527\n",
            "[88]\tvalid_0's binary_logloss: 0.651573\n",
            "[89]\tvalid_0's binary_logloss: 0.655352\n",
            "[90]\tvalid_0's binary_logloss: 0.658453\n",
            "[91]\tvalid_0's binary_logloss: 0.666531\n",
            "[92]\tvalid_0's binary_logloss: 0.671027\n",
            "[93]\tvalid_0's binary_logloss: 0.671836\n",
            "[94]\tvalid_0's binary_logloss: 0.676639\n",
            "[95]\tvalid_0's binary_logloss: 0.677099\n",
            "[96]\tvalid_0's binary_logloss: 0.681586\n",
            "[97]\tvalid_0's binary_logloss: 0.685278\n",
            "[98]\tvalid_0's binary_logloss: 0.687407\n",
            "[99]\tvalid_0's binary_logloss: 0.689259\n",
            "[100]\tvalid_0's binary_logloss: 0.691833\n",
            "[101]\tvalid_0's binary_logloss: 0.69846\n",
            "[102]\tvalid_0's binary_logloss: 0.703156\n",
            "[103]\tvalid_0's binary_logloss: 0.708851\n",
            "[104]\tvalid_0's binary_logloss: 0.713383\n",
            "[105]\tvalid_0's binary_logloss: 0.716449\n",
            "[106]\tvalid_0's binary_logloss: 0.720746\n",
            "[107]\tvalid_0's binary_logloss: 0.725801\n",
            "[108]\tvalid_0's binary_logloss: 0.726695\n",
            "[109]\tvalid_0's binary_logloss: 0.727732\n",
            "[110]\tvalid_0's binary_logloss: 0.731897\n",
            "[111]\tvalid_0's binary_logloss: 0.732543\n",
            "[112]\tvalid_0's binary_logloss: 0.734637\n",
            "[113]\tvalid_0's binary_logloss: 0.738139\n",
            "[114]\tvalid_0's binary_logloss: 0.740514\n",
            "[115]\tvalid_0's binary_logloss: 0.74586\n",
            "[116]\tvalid_0's binary_logloss: 0.752503\n",
            "[117]\tvalid_0's binary_logloss: 0.755639\n",
            "[118]\tvalid_0's binary_logloss: 0.757901\n",
            "[119]\tvalid_0's binary_logloss: 0.761029\n",
            "[120]\tvalid_0's binary_logloss: 0.763844\n",
            "[121]\tvalid_0's binary_logloss: 0.76852\n"
          ]
        },
        {
          "output_type": "execute_result",
          "data": {
            "text/plain": [
              "LGBMClassifier(n_estimators=400)"
            ],
            "text/html": [
              "<style>#sk-container-id-1 {color: black;background-color: white;}#sk-container-id-1 pre{padding: 0;}#sk-container-id-1 div.sk-toggleable {background-color: white;}#sk-container-id-1 label.sk-toggleable__label {cursor: pointer;display: block;width: 100%;margin-bottom: 0;padding: 0.3em;box-sizing: border-box;text-align: center;}#sk-container-id-1 label.sk-toggleable__label-arrow:before {content: \"▸\";float: left;margin-right: 0.25em;color: #696969;}#sk-container-id-1 label.sk-toggleable__label-arrow:hover:before {color: black;}#sk-container-id-1 div.sk-estimator:hover label.sk-toggleable__label-arrow:before {color: black;}#sk-container-id-1 div.sk-toggleable__content {max-height: 0;max-width: 0;overflow: hidden;text-align: left;background-color: #f0f8ff;}#sk-container-id-1 div.sk-toggleable__content pre {margin: 0.2em;color: black;border-radius: 0.25em;background-color: #f0f8ff;}#sk-container-id-1 input.sk-toggleable__control:checked~div.sk-toggleable__content {max-height: 200px;max-width: 100%;overflow: auto;}#sk-container-id-1 input.sk-toggleable__control:checked~label.sk-toggleable__label-arrow:before {content: \"▾\";}#sk-container-id-1 div.sk-estimator input.sk-toggleable__control:checked~label.sk-toggleable__label {background-color: #d4ebff;}#sk-container-id-1 div.sk-label input.sk-toggleable__control:checked~label.sk-toggleable__label {background-color: #d4ebff;}#sk-container-id-1 input.sk-hidden--visually {border: 0;clip: rect(1px 1px 1px 1px);clip: rect(1px, 1px, 1px, 1px);height: 1px;margin: -1px;overflow: hidden;padding: 0;position: absolute;width: 1px;}#sk-container-id-1 div.sk-estimator {font-family: monospace;background-color: #f0f8ff;border: 1px dotted black;border-radius: 0.25em;box-sizing: border-box;margin-bottom: 0.5em;}#sk-container-id-1 div.sk-estimator:hover {background-color: #d4ebff;}#sk-container-id-1 div.sk-parallel-item::after {content: \"\";width: 100%;border-bottom: 1px solid gray;flex-grow: 1;}#sk-container-id-1 div.sk-label:hover label.sk-toggleable__label {background-color: #d4ebff;}#sk-container-id-1 div.sk-serial::before {content: \"\";position: absolute;border-left: 1px solid gray;box-sizing: border-box;top: 0;bottom: 0;left: 50%;z-index: 0;}#sk-container-id-1 div.sk-serial {display: flex;flex-direction: column;align-items: center;background-color: white;padding-right: 0.2em;padding-left: 0.2em;position: relative;}#sk-container-id-1 div.sk-item {position: relative;z-index: 1;}#sk-container-id-1 div.sk-parallel {display: flex;align-items: stretch;justify-content: center;background-color: white;position: relative;}#sk-container-id-1 div.sk-item::before, #sk-container-id-1 div.sk-parallel-item::before {content: \"\";position: absolute;border-left: 1px solid gray;box-sizing: border-box;top: 0;bottom: 0;left: 50%;z-index: -1;}#sk-container-id-1 div.sk-parallel-item {display: flex;flex-direction: column;z-index: 1;position: relative;background-color: white;}#sk-container-id-1 div.sk-parallel-item:first-child::after {align-self: flex-end;width: 50%;}#sk-container-id-1 div.sk-parallel-item:last-child::after {align-self: flex-start;width: 50%;}#sk-container-id-1 div.sk-parallel-item:only-child::after {width: 0;}#sk-container-id-1 div.sk-dashed-wrapped {border: 1px dashed gray;margin: 0 0.4em 0.5em 0.4em;box-sizing: border-box;padding-bottom: 0.4em;background-color: white;}#sk-container-id-1 div.sk-label label {font-family: monospace;font-weight: bold;display: inline-block;line-height: 1.2em;}#sk-container-id-1 div.sk-label-container {text-align: center;}#sk-container-id-1 div.sk-container {/* jupyter's `normalize.less` sets `[hidden] { display: none; }` but bootstrap.min.css set `[hidden] { display: none !important; }` so we also need the `!important` here to be able to override the default hidden behavior on the sphinx rendered scikit-learn.org. See: https://github.com/scikit-learn/scikit-learn/issues/21755 */display: inline-block !important;position: relative;}#sk-container-id-1 div.sk-text-repr-fallback {display: none;}</style><div id=\"sk-container-id-1\" class=\"sk-top-container\"><div class=\"sk-text-repr-fallback\"><pre>LGBMClassifier(n_estimators=400)</pre><b>In a Jupyter environment, please rerun this cell to show the HTML representation or trust the notebook. <br />On GitHub, the HTML representation is unable to render, please try loading this page with nbviewer.org.</b></div><div class=\"sk-container\" hidden><div class=\"sk-item\"><div class=\"sk-estimator sk-toggleable\"><input class=\"sk-toggleable__control sk-hidden--visually\" id=\"sk-estimator-id-1\" type=\"checkbox\" checked><label for=\"sk-estimator-id-1\" class=\"sk-toggleable__label sk-toggleable__label-arrow\">LGBMClassifier</label><div class=\"sk-toggleable__content\"><pre>LGBMClassifier(n_estimators=400)</pre></div></div></div></div></div>"
            ]
          },
          "metadata": {},
          "execution_count": 26
        }
      ],
      "source": [
        "lgbm_wrapper = LGBMClassifier(n_estimators = 400)\n",
        "\n",
        "evals = [(X_test, y_test)]\n",
        "lgbm_wrapper.fit(X_train, y_train, early_stopping_rounds=100,\n",
        "                 eval_metric='logloss', eval_set=evals, verbose=True)"
      ]
    },
    {
      "cell_type": "markdown",
      "id": "697c7832",
      "metadata": {
        "id": "697c7832"
      },
      "source": [
        "### **Step 4) 예측**\n",
        "- 아래 코드를 실행시켜 주세요."
      ]
    },
    {
      "cell_type": "code",
      "execution_count": 27,
      "id": "8ea032fd",
      "metadata": {
        "id": "8ea032fd",
        "colab": {
          "base_uri": "https://localhost:8080/"
        },
        "outputId": "e45c0b1a-e26e-4837-8339-5dbe2ea984b9"
      },
      "outputs": [
        {
          "output_type": "stream",
          "name": "stdout",
          "text": [
            "accuracy: 0.747\n"
          ]
        }
      ],
      "source": [
        "# 예측\n",
        "y_pred = lgbm_wrapper.predict(X_test)\n",
        "\n",
        "# 정확도 확인\n",
        "accuracy = accuracy_score(y_test, y_pred)\n",
        "print(f'accuracy: {accuracy:.3f}')"
      ]
    },
    {
      "cell_type": "markdown",
      "id": "660ce21d",
      "metadata": {
        "id": "660ce21d"
      },
      "source": [
        "## **3-2. 예측 시각화**\n"
      ]
    },
    {
      "cell_type": "markdown",
      "id": "e117056e",
      "metadata": {
        "id": "e117056e"
      },
      "source": [
        "# **4. 스태킹**"
      ]
    },
    {
      "cell_type": "markdown",
      "id": "ab1eee2d",
      "metadata": {
        "id": "ab1eee2d"
      },
      "source": [
        "### **문제**\n",
        "- 다음과 같은 코드 오류가 발생했습니다.\n",
        "  - 오류를 해결할 수 있는 코드를 한 줄 추가해 주세요.\n",
        "\n",
        "```\n",
        "NameError                                 Traceback (most recent call last)\n",
        "Cell In[2], line 5\n",
        "      2 get_ipython().run_line_magic('matplotlib', 'inline')\n",
        "      4 fig, ax = plt.subplots(figsize=(10, 12))\n",
        "----> 5 plot_importance(lgbm_wrapper, ax=ax)\n",
        "      6 plt.show()\n",
        "\n",
        "NameError: name 'plot_importance' is not defined\n",
        "```\n",
        "\n",
        "(힌트 : 교재 p.259)\n"
      ]
    },
    {
      "cell_type": "markdown",
      "id": "LsORXvYQamsB",
      "metadata": {
        "id": "LsORXvYQamsB"
      },
      "source": [
        "## **4-1. 기본 스태킹 모델**"
      ]
    },
    {
      "cell_type": "markdown",
      "id": "4E9nHNoBZn0I",
      "metadata": {
        "id": "4E9nHNoBZn0I"
      },
      "source": [
        "- 아래 코드를 실행시켜 주세요."
      ]
    },
    {
      "cell_type": "code",
      "execution_count": 36,
      "id": "1a3884f9",
      "metadata": {
        "id": "1a3884f9"
      },
      "outputs": [],
      "source": [
        "import numpy as np\n",
        "\n",
        "from sklearn.neighbors import KNeighborsClassifier\n",
        "from sklearn.ensemble import RandomForestClassifier\n",
        "from sklearn.ensemble import AdaBoostClassifier\n",
        "from sklearn.tree import DecisionTreeClassifier\n",
        "from sklearn.linear_model import LogisticRegression"
      ]
    },
    {
      "cell_type": "code",
      "execution_count": 37,
      "id": "cd45307b",
      "metadata": {
        "id": "cd45307b"
      },
      "outputs": [],
      "source": [
        "# 개별 ML 모델을 위한 Classifier 생성.\n",
        "knn_clf  = KNeighborsClassifier(n_neighbors=4)\n",
        "rf_clf = RandomForestClassifier(n_estimators=100, random_state=0)\n",
        "dt_clf = DecisionTreeClassifier()\n",
        "ada_clf = AdaBoostClassifier(n_estimators=100)\n",
        "\n",
        "# 최종 Stacking 모델을 위한 Classifier 생성\n",
        "lr_final = LogisticRegression(C=10)"
      ]
    },
    {
      "cell_type": "markdown",
      "id": "H_TBqs72Zg7U",
      "metadata": {
        "id": "H_TBqs72Zg7U"
      },
      "source": [
        "### **Step 1) 스태킹에 활용할 개별 모델을 학습시켜 주세요.**"
      ]
    },
    {
      "cell_type": "code",
      "execution_count": 38,
      "id": "4825342e",
      "metadata": {
        "id": "4825342e",
        "colab": {
          "base_uri": "https://localhost:8080/",
          "height": 74
        },
        "outputId": "6068a1f2-0064-42a7-9815-0bf7a8ada936"
      },
      "outputs": [
        {
          "output_type": "execute_result",
          "data": {
            "text/plain": [
              "AdaBoostClassifier(n_estimators=100)"
            ],
            "text/html": [
              "<style>#sk-container-id-2 {color: black;background-color: white;}#sk-container-id-2 pre{padding: 0;}#sk-container-id-2 div.sk-toggleable {background-color: white;}#sk-container-id-2 label.sk-toggleable__label {cursor: pointer;display: block;width: 100%;margin-bottom: 0;padding: 0.3em;box-sizing: border-box;text-align: center;}#sk-container-id-2 label.sk-toggleable__label-arrow:before {content: \"▸\";float: left;margin-right: 0.25em;color: #696969;}#sk-container-id-2 label.sk-toggleable__label-arrow:hover:before {color: black;}#sk-container-id-2 div.sk-estimator:hover label.sk-toggleable__label-arrow:before {color: black;}#sk-container-id-2 div.sk-toggleable__content {max-height: 0;max-width: 0;overflow: hidden;text-align: left;background-color: #f0f8ff;}#sk-container-id-2 div.sk-toggleable__content pre {margin: 0.2em;color: black;border-radius: 0.25em;background-color: #f0f8ff;}#sk-container-id-2 input.sk-toggleable__control:checked~div.sk-toggleable__content {max-height: 200px;max-width: 100%;overflow: auto;}#sk-container-id-2 input.sk-toggleable__control:checked~label.sk-toggleable__label-arrow:before {content: \"▾\";}#sk-container-id-2 div.sk-estimator input.sk-toggleable__control:checked~label.sk-toggleable__label {background-color: #d4ebff;}#sk-container-id-2 div.sk-label input.sk-toggleable__control:checked~label.sk-toggleable__label {background-color: #d4ebff;}#sk-container-id-2 input.sk-hidden--visually {border: 0;clip: rect(1px 1px 1px 1px);clip: rect(1px, 1px, 1px, 1px);height: 1px;margin: -1px;overflow: hidden;padding: 0;position: absolute;width: 1px;}#sk-container-id-2 div.sk-estimator {font-family: monospace;background-color: #f0f8ff;border: 1px dotted black;border-radius: 0.25em;box-sizing: border-box;margin-bottom: 0.5em;}#sk-container-id-2 div.sk-estimator:hover {background-color: #d4ebff;}#sk-container-id-2 div.sk-parallel-item::after {content: \"\";width: 100%;border-bottom: 1px solid gray;flex-grow: 1;}#sk-container-id-2 div.sk-label:hover label.sk-toggleable__label {background-color: #d4ebff;}#sk-container-id-2 div.sk-serial::before {content: \"\";position: absolute;border-left: 1px solid gray;box-sizing: border-box;top: 0;bottom: 0;left: 50%;z-index: 0;}#sk-container-id-2 div.sk-serial {display: flex;flex-direction: column;align-items: center;background-color: white;padding-right: 0.2em;padding-left: 0.2em;position: relative;}#sk-container-id-2 div.sk-item {position: relative;z-index: 1;}#sk-container-id-2 div.sk-parallel {display: flex;align-items: stretch;justify-content: center;background-color: white;position: relative;}#sk-container-id-2 div.sk-item::before, #sk-container-id-2 div.sk-parallel-item::before {content: \"\";position: absolute;border-left: 1px solid gray;box-sizing: border-box;top: 0;bottom: 0;left: 50%;z-index: -1;}#sk-container-id-2 div.sk-parallel-item {display: flex;flex-direction: column;z-index: 1;position: relative;background-color: white;}#sk-container-id-2 div.sk-parallel-item:first-child::after {align-self: flex-end;width: 50%;}#sk-container-id-2 div.sk-parallel-item:last-child::after {align-self: flex-start;width: 50%;}#sk-container-id-2 div.sk-parallel-item:only-child::after {width: 0;}#sk-container-id-2 div.sk-dashed-wrapped {border: 1px dashed gray;margin: 0 0.4em 0.5em 0.4em;box-sizing: border-box;padding-bottom: 0.4em;background-color: white;}#sk-container-id-2 div.sk-label label {font-family: monospace;font-weight: bold;display: inline-block;line-height: 1.2em;}#sk-container-id-2 div.sk-label-container {text-align: center;}#sk-container-id-2 div.sk-container {/* jupyter's `normalize.less` sets `[hidden] { display: none; }` but bootstrap.min.css set `[hidden] { display: none !important; }` so we also need the `!important` here to be able to override the default hidden behavior on the sphinx rendered scikit-learn.org. See: https://github.com/scikit-learn/scikit-learn/issues/21755 */display: inline-block !important;position: relative;}#sk-container-id-2 div.sk-text-repr-fallback {display: none;}</style><div id=\"sk-container-id-2\" class=\"sk-top-container\"><div class=\"sk-text-repr-fallback\"><pre>AdaBoostClassifier(n_estimators=100)</pre><b>In a Jupyter environment, please rerun this cell to show the HTML representation or trust the notebook. <br />On GitHub, the HTML representation is unable to render, please try loading this page with nbviewer.org.</b></div><div class=\"sk-container\" hidden><div class=\"sk-item\"><div class=\"sk-estimator sk-toggleable\"><input class=\"sk-toggleable__control sk-hidden--visually\" id=\"sk-estimator-id-2\" type=\"checkbox\" checked><label for=\"sk-estimator-id-2\" class=\"sk-toggleable__label sk-toggleable__label-arrow\">AdaBoostClassifier</label><div class=\"sk-toggleable__content\"><pre>AdaBoostClassifier(n_estimators=100)</pre></div></div></div></div></div>"
            ]
          },
          "metadata": {},
          "execution_count": 38
        }
      ],
      "source": [
        "knn_clf.fit(X_train, y_train)\n",
        "rf_clf.fit(X_train, y_train)\n",
        "dt_clf.fit(X_train, y_train)\n",
        "ada_clf.fit(X_train, y_train)"
      ]
    },
    {
      "cell_type": "markdown",
      "id": "JKIsO3DbaR3H",
      "metadata": {
        "id": "JKIsO3DbaR3H"
      },
      "source": [
        "- 아래 코드를 실행시켜 주세요."
      ]
    },
    {
      "cell_type": "code",
      "execution_count": 39,
      "id": "f157eda7",
      "metadata": {
        "id": "f157eda7",
        "colab": {
          "base_uri": "https://localhost:8080/"
        },
        "outputId": "c387774c-13a2-4bfb-80b6-90254cb2f530"
      },
      "outputs": [
        {
          "output_type": "stream",
          "name": "stdout",
          "text": [
            "KNN 정확도: 0.6688\n",
            "랜덤 포레스트 정확도: 0.7468\n",
            "결정 트리 정확도: 0.6753\n",
            "에이다부스트 정확도: 0.7273\n"
          ]
        }
      ],
      "source": [
        "# 개별 모델의 정확도 측정\n",
        "knn_pred = knn_clf.predict(X_test)\n",
        "rf_pred = rf_clf.predict(X_test)\n",
        "dt_pred = dt_clf.predict(X_test)\n",
        "ada_pred = ada_clf.predict(X_test)\n",
        "\n",
        "print('KNN 정확도: {0:.4f}'.format(accuracy_score(y_test, knn_pred)))\n",
        "print('랜덤 포레스트 정확도: {0:.4f}'.format(accuracy_score(y_test, rf_pred)))\n",
        "print('결정 트리 정확도: {0:.4f}'.format(accuracy_score(y_test, dt_pred)))\n",
        "print('에이다부스트 정확도: {0:.4f}'.format(accuracy_score(y_test, ada_pred)))"
      ]
    },
    {
      "cell_type": "markdown",
      "id": "7c319164",
      "metadata": {
        "id": "7c319164"
      },
      "source": [
        "### **Step 2) 다음과 같이 출력되도록 `transpose`를 이용해 행과 열의 위치를 교환하는 코드를 작성해 주세요.**\n",
        "   \n",
        "```\n",
        "(4, 154)\n",
        "(154, 4)\n",
        "```\n",
        "\n",
        "(힌트 : 교재 p.281)"
      ]
    },
    {
      "cell_type": "code",
      "execution_count": 40,
      "id": "d37486fc",
      "metadata": {
        "id": "d37486fc",
        "colab": {
          "base_uri": "https://localhost:8080/"
        },
        "outputId": "2b3b9e15-3f60-49d8-9818-620d832c0afb"
      },
      "outputs": [
        {
          "output_type": "stream",
          "name": "stdout",
          "text": [
            "(4, 154)\n",
            "(154, 4)\n"
          ]
        }
      ],
      "source": [
        "pred = np.array([knn_pred, rf_pred, dt_pred, ada_pred])\n",
        "print(pred.shape)\n",
        "\n",
        "# transpose를 이용해 행과 열의 위치 교환하는 코드를 작성해 주세요.\n",
        "# 컬럼 레벨로 각 알고리즘의 예측 결과를 피처로 만듭니다.\n",
        "\n",
        "pred = np.transpose(pred)\n",
        "print(pred.shape)"
      ]
    },
    {
      "cell_type": "markdown",
      "id": "VURhLnJ_adZR",
      "metadata": {
        "id": "VURhLnJ_adZR"
      },
      "source": [
        "- 아래의 코드를 실행시켜 주세요."
      ]
    },
    {
      "cell_type": "code",
      "execution_count": 41,
      "id": "678f1083",
      "metadata": {
        "id": "678f1083",
        "colab": {
          "base_uri": "https://localhost:8080/"
        },
        "outputId": "c194b04f-906b-449a-fb51-61ce41a1d699"
      },
      "outputs": [
        {
          "output_type": "stream",
          "name": "stdout",
          "text": [
            "최종 메타 모델의 예측 정확도: 0.7468\n"
          ]
        }
      ],
      "source": [
        "# 최종 메타 모델 학습/예측\n",
        "\n",
        "lr_final.fit(pred, y_test)\n",
        "final = lr_final.predict(pred)\n",
        "\n",
        "print('최종 메타 모델의 예측 정확도: {0:.4f}'.format(accuracy_score(y_test , final)))"
      ]
    },
    {
      "cell_type": "markdown",
      "id": "9fb311ec",
      "metadata": {
        "id": "9fb311ec"
      },
      "source": [
        "## **4-2. CV 기반 스태킹**\n",
        "\n"
      ]
    },
    {
      "cell_type": "markdown",
      "id": "c900c5b9",
      "metadata": {
        "id": "c900c5b9"
      },
      "source": [
        "- CV 세트 기반의 스태킹은 최종 메타 모델을 위한 데이터 세트를 만들 때, 교차 검증 기반으로 예측된 결과 데이터 세트를 이용합니다.\n",
        "- 또한 CV 세트 기반의 스태킹 과정은 크게 Step1과 Step2, 두가지로 나눌 수 있습니다.\n",
        "\n",
        "### **Step1)**\n",
        "\n",
        "**개별 모델**\n",
        "- 교차검증으로 메타모델을 위한 학습용  데이터, 테스트용 데이터 생성\n",
        "\n",
        "### **Step 2)**\n",
        "- 학습용 데이터: 스태킹 형태로 합치기 → 최종 학습용 데이터 세트 생성\n",
        "- 테스트용 데이터 : 스태킹 형태로 합치기 → 최종 테스트 데이터 세트 생성\n",
        "\n",
        "**최종 모델**\n",
        "- 최종 학습용 데이터 세트 + 원본 학습 데이터의 레이블 데이터를 기반으로 학습\n",
        "→ 최종 테스트 데이터 세트로 예측 + 원본 테스트 데이터의 레이블 데이터와 비교해 평가   \n",
        "<br/>\n"
      ]
    },
    {
      "cell_type": "markdown",
      "id": "jSDbA64fkKqz",
      "metadata": {
        "id": "jSDbA64fkKqz"
      },
      "source": [
        "---"
      ]
    },
    {
      "cell_type": "markdown",
      "id": "qLEqXgqaj0Vi",
      "metadata": {
        "id": "qLEqXgqaj0Vi"
      },
      "source": [
        "### **문제**\n",
        "그렇다면,\n",
        "<br/>\n",
        "> **“학습용 데이터를 N개의 폴드로 나눈다”**\n",
        "는 Step1과 Step2중 어느 단계에 속할까요?   \n",
        "\n",
        "힌트 : 교재 p.283"
      ]
    },
    {
      "cell_type": "markdown",
      "id": "31e2c4ff",
      "metadata": {
        "id": "31e2c4ff"
      },
      "source": [
        "### **👇정답을 적어주세요!**\n",
        "\n",
        "정답 : step1\n",
        "n=3 이라 가정하면 3번의 유사한 반복 작업을 수행하고 마지막 3번쨰 반복에서는 개별 모델의 예측값으로 학습 데이터와 테스트 데이터를 생성한다."
      ]
    },
    {
      "cell_type": "markdown",
      "id": "f272ecf1",
      "metadata": {
        "id": "f272ecf1"
      },
      "source": [
        "# 5. **HyperOpt**\n"
      ]
    },
    {
      "cell_type": "markdown",
      "id": "b4f45c27",
      "metadata": {
        "id": "b4f45c27"
      },
      "source": [
        "- 사이킷런의 `boston 주택 가격 데이터`를 사용합니다.\n",
        "- 아래의 셀을 실행시킨 후 실습을 진행해 주세요."
      ]
    },
    {
      "cell_type": "code",
      "execution_count": 42,
      "id": "36cef79f",
      "metadata": {
        "id": "36cef79f"
      },
      "outputs": [],
      "source": [
        "import pandas as pd\n",
        "import numpy as np\n",
        "# from sklearn.datasets import load_boston\n",
        "from sklearn.model_selection import train_test_split\n",
        "import warnings\n",
        "warnings.filterwarnings('ignore')"
      ]
    },
    {
      "cell_type": "code",
      "execution_count": 43,
      "id": "mCYt4n4ckfXj",
      "metadata": {
        "id": "mCYt4n4ckfXj"
      },
      "outputs": [],
      "source": [
        "# load dataset\n",
        "\n",
        "data_url = \"http://lib.stat.cmu.edu/datasets/boston\"\n",
        "raw_df = pd.read_csv(data_url, sep=\"\\s+\", skiprows=22, header=None)\n",
        "data = np.hstack([raw_df.values[::2, :], raw_df.values[1::2, :2]])\n",
        "target = raw_df.values[1::2, 2]"
      ]
    },
    {
      "cell_type": "markdown",
      "id": "a937b3b2",
      "metadata": {
        "id": "a937b3b2"
      },
      "source": [
        "## **5.1. `train_test_split()`를 사용하여 훈련 세트와 테스트 세트로 나누어 주세요.**\n",
        "\n",
        "- random_state = 207\n",
        "- train: test = 8:2"
      ]
    },
    {
      "cell_type": "code",
      "execution_count": 45,
      "id": "346c374e",
      "metadata": {
        "id": "346c374e"
      },
      "outputs": [],
      "source": [
        "x_train, x_test, y_train, y_test = train_test_split(data, target, test_size=0.2, random_state=207)"
      ]
    },
    {
      "cell_type": "markdown",
      "id": "hyFR30RUk01e",
      "metadata": {
        "id": "hyFR30RUk01e"
      },
      "source": [
        "---"
      ]
    },
    {
      "cell_type": "markdown",
      "id": "df91ba8b",
      "metadata": {
        "id": "df91ba8b"
      },
      "source": [
        "- 이제 평가 함수를 정의하겠습니다.  \n",
        "- 교재와 다르게 Regression 예측을 진행할 예정이기 때문에,` RMSE` 평가 지표를 함수로 만들어 정의합니다."
      ]
    },
    {
      "cell_type": "code",
      "execution_count": 46,
      "id": "1e67925e",
      "metadata": {
        "id": "1e67925e"
      },
      "outputs": [],
      "source": [
        "from sklearn.metrics import mean_squared_error\n",
        "\n",
        "def RMSE(y_true, y_pred):\n",
        "    return np.sqrt(mean_squared_error(y_true, y_pred))"
      ]
    },
    {
      "cell_type": "markdown",
      "id": "702c18d2",
      "metadata": {
        "id": "702c18d2"
      },
      "source": [
        "## **5.2. search_space의 빈칸을 채워주세요.**\n",
        "\n",
        "- `max_depth`: 5에서 20까지 1간격으로\n",
        "- `min_child_weight`: 1에서 10까지 1간격으로  \n",
        "- `learning_rate`: 0.01에서 0.2 사이 정규 분포 값\n",
        "- `colsample_bytree`: 0.5에서 1 사이 정규 분포 값"
      ]
    },
    {
      "cell_type": "code",
      "execution_count": 47,
      "id": "252ada86",
      "metadata": {
        "id": "252ada86"
      },
      "outputs": [],
      "source": [
        "from hyperopt import hp\n",
        "\n",
        "# space 정의, Hyperparameter의 이름을 key 값으로 입력\n",
        "search_space = {\n",
        "    'max_depth': hp.quniform('max_depth', 5, 20, 1),\n",
        "    'min_child_weight' : hp.quniform('min_child_weight', 1, 10, 1),\n",
        "    'learning_rate': hp.uniform('learning_rate', 0.01, 0.2),\n",
        "    'colsample_bytree' : hp.uniform('colsample_bytree', 0.5, 1)\n",
        "    }"
      ]
    },
    {
      "cell_type": "markdown",
      "id": "918a29e8",
      "metadata": {
        "id": "918a29e8"
      },
      "source": [
        "## **5.3. objective_func의 빈칸을 채워주세요.**  \n",
        "- `int` 타입을 가져야 하는 hyperparameter에 주의해 주세요."
      ]
    },
    {
      "cell_type": "code",
      "execution_count": 48,
      "id": "FjYbgGDvhAxi",
      "metadata": {
        "id": "FjYbgGDvhAxi"
      },
      "outputs": [],
      "source": [
        "from xgboost import XGBRegressor\n",
        "from hyperopt import STATUS_OK"
      ]
    },
    {
      "cell_type": "code",
      "execution_count": 49,
      "id": "aeb9f22f",
      "metadata": {
        "id": "aeb9f22f"
      },
      "outputs": [],
      "source": [
        "# 목적 함수 정의\n",
        "def objective_func(search_space):\n",
        "    model=XGBRegressor(n_estimators=100,\n",
        "                      max_depth=int(search_space['max_depth']),\n",
        "                       min_child_weight = int(search_space['min_child_weight']),\n",
        "                       learning_rate = search_space['learning_rate'],\n",
        "                       colsample_bytree = search_space['colsample_bytree']\n",
        "                      )\n",
        "\n",
        "    evaluation = [(x_train, y_train), (x_test, y_test)]\n",
        "\n",
        "    model.fit(x_train, y_train,\n",
        "          eval_set=evaluation,\n",
        "          eval_metric=\"rmse\",\n",
        "          early_stopping_rounds=20,\n",
        "          verbose=0)\n",
        "\n",
        "    pred = model.predict(x_test)\n",
        "    rmse= RMSE(y_test, pred)\n",
        "\n",
        "    # 평가 방식 선정\n",
        "    return {'loss':rmse, 'status': STATUS_OK, 'model': model}"
      ]
    },
    {
      "cell_type": "markdown",
      "id": "ed24ab8d",
      "metadata": {
        "id": "ed24ab8d"
      },
      "source": [
        "## **5.4. 성능 지표에 -1을 곱하지 않는 이유가 무엇일까요?**\n",
        "(hint. 추가 교재 pdf p264)  \n",
        "(hint2. RMSE는 작을수록 좋은 성능 지표이다.)"
      ]
    },
    {
      "cell_type": "markdown",
      "id": "gWjnbHYLltcf",
      "metadata": {
        "id": "gWjnbHYLltcf"
      },
      "source": [
        "### **답안**  \n",
        "HyperOpt 의 목적 함수는 최솟값을 반환할 수 있도록 최적화해야 하기 때문에 정확도와 같이 값이 클수록 좋은 성능 지표일 경우 -1을 곱한 뒤 반환하여 더 큰 성능 지표가 더 작은 반환값이 되도록 만들어 줘야 한다. 하지만 RMSE는 작을수록 좋은 성능 지표이기 때문에 -1을 곱할 필요가 없다."
      ]
    },
    {
      "cell_type": "markdown",
      "id": "471f74b1",
      "metadata": {
        "id": "471f74b1"
      },
      "source": [
        "## **5.5. `fmin()`을 이용해 최적 하이퍼 파라미터를 도출하는 과정입니다.**"
      ]
    },
    {
      "cell_type": "markdown",
      "id": "cuzOT6v3mACF",
      "metadata": {
        "id": "cuzOT6v3mACF"
      },
      "source": [
        "**빈칸을 채워주세요**"
      ]
    },
    {
      "cell_type": "code",
      "execution_count": 53,
      "id": "975dc627",
      "metadata": {
        "id": "975dc627",
        "colab": {
          "base_uri": "https://localhost:8080/"
        },
        "outputId": "ff2f53c2-41da-4252-c6ff-ebfd404e541b"
      },
      "outputs": [
        {
          "output_type": "stream",
          "name": "stdout",
          "text": [
            "100%|██████████| 50/50 [00:24<00:00,  2.01trial/s, best loss: 2.7259480921699786]\n"
          ]
        }
      ],
      "source": [
        "from hyperopt import fmin, tpe, Trials\n",
        "\n",
        "trials = Trials()\n",
        "\n",
        "# best에 최적의 하이퍼 파라미터를 return 받습니다.\n",
        "best = fmin(fn=objective_func,\n",
        "            space = search_space ,\n",
        "            algo = tpe.suggest,\n",
        "            max_evals = 50,\n",
        "            trials = trials,\n",
        "            rstate=np.random.default_rng(seed=9))"
      ]
    },
    {
      "cell_type": "markdown",
      "id": "bac22056",
      "metadata": {
        "id": "bac22056"
      },
      "source": [
        "## **5.6. 최적의 하이퍼 파라미터를 출력해주세요.**  \n",
        "- 정수형 파라미터는 정수형으로 형변환하고, 실수형 파라미터는 소수점 5자리까지만 변환해주세요"
      ]
    },
    {
      "cell_type": "code",
      "execution_count": 54,
      "id": "33b2af2c",
      "metadata": {
        "id": "33b2af2c",
        "colab": {
          "base_uri": "https://localhost:8080/"
        },
        "outputId": "4c97d86a-f443-4fd9-cccf-499cb5374dd7"
      },
      "outputs": [
        {
          "output_type": "stream",
          "name": "stdout",
          "text": [
            "colsample_bytree:0.75943, learning_rate:0.16619, max_depth:14, min_child_weight:5\n"
          ]
        }
      ],
      "source": [
        "## 답안\n",
        "\n",
        "print('colsample_bytree:{0}, learning_rate:{1}, max_depth:{2}, min_child_weight:{3}'.format(\n",
        "  round(best['colsample_bytree'], 5), round(best['learning_rate'], 5),\n",
        "  int(best['max_depth']), int(best['min_child_weight'])))"
      ]
    },
    {
      "cell_type": "markdown",
      "source": [],
      "metadata": {
        "id": "Odsa4-btp0Fg"
      },
      "id": "Odsa4-btp0Fg"
    },
    {
      "cell_type": "markdown",
      "source": [],
      "metadata": {
        "id": "hxhBvUpvp0D8"
      },
      "id": "hxhBvUpvp0D8"
    }
  ],
  "metadata": {
    "colab": {
      "provenance": []
    },
    "kernelspec": {
      "display_name": "Python 3 (ipykernel)",
      "language": "python",
      "name": "python3"
    },
    "language_info": {
      "codemirror_mode": {
        "name": "ipython",
        "version": 3
      },
      "file_extension": ".py",
      "mimetype": "text/x-python",
      "name": "python",
      "nbconvert_exporter": "python",
      "pygments_lexer": "ipython3",
      "version": "3.11.8"
    }
  },
  "nbformat": 4,
  "nbformat_minor": 5
}